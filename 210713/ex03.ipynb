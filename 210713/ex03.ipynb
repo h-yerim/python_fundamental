{
 "cells": [
  {
   "cell_type": "code",
   "execution_count": 9,
   "id": "9f207e81",
   "metadata": {},
   "outputs": [
    {
     "name": "stdout",
     "output_type": "stream",
     "text": [
      "    국어점수  영어점수\n",
      "0     90    80\n",
      "1     90    75\n",
      "2     90    90\n",
      "3     80    20\n",
      "4     80    30\n",
      "5     80    30\n",
      "6     77    40\n",
      "7     77    60\n",
      "8     40    60\n",
      "9     20    50\n",
      "10    30    80\n",
      "11    30    80\n",
      "12    40    77\n",
      "13    60    77\n",
      "14    20    40\n",
      "15    75    75\n",
      "16    80    90\n",
      "17    75    90\n",
      "18    90    90\n",
      "19    20    80\n",
      "20    30    80\n",
      "21    30    80\n",
      "22    40    77\n",
      "23    60    77\n",
      "24    80    40\n",
      "25    75    20\n",
      "26    90    30\n",
      "27    20    30\n",
      "28    30    40\n",
      "29    30    60\n",
      "30    40    20\n",
      "31    60    75\n",
      "클러스터 레이블  [2 2 2 0 0 0 0 2 1 1 1 1 1 2 1 2 2 2 2 1 1 1 1 2 0 0 0 1 1 1 0 2]\n"
     ]
    },
    {
     "data": {
      "image/png": "[encoded data removed]",
      "text/plain": [
       "<Figure size 432x288 with 1 Axes>"
      ]
     },
     "metadata": {
      "needs_background": "light"
     },
     "output_type": "display_data"
    },
    {
     "data": {
      "text/plain": [
       "array([2])"
      ]
     },
     "execution_count": 9,
     "metadata": {},
     "output_type": "execute_result"
    }
   ],
   "source": [
    "import mglearn\n",
    "import pandas as pd \n",
    "from sklearn.cluster import KMeans\n",
    "import matplotlib.pyplot as plt\n",
    "import matplotlib\n",
    "from matplotlib import font_manager, rc\n",
    "\n",
    "font_location = \"c:/Windows/fonts/malgun.ttf\"\n",
    "font_name = font_manager.FontProperties(fname=font_location).get_name()\n",
    "matplotlib.rc('font', family=font_name)\n",
    "\n",
    "data =pd.read_csv(\"ex03_academy1.csv\" )\n",
    "print( data.iloc[:,1:] )\n",
    " \n",
    "# 군집 모델을 만듭니다\n",
    "kmeans=KMeans(n_clusters=3)\n",
    "kmeans.fit(data.iloc[:,1:])\n",
    "\n",
    "print(\"클러스터 레이블 \", kmeans.labels_) \n",
    "\n",
    "mglearn.discrete_scatter(data.iloc[:,1], data.iloc[:,2], kmeans.labels_)\n",
    "plt.legend([\"클러스터 0\", \"클러스터 1\", \"클러스터 2\"], loc='best')\n",
    "plt.xlabel(\"국어점수 \")\n",
    "plt.ylabel(\"영어점수 \")\n",
    "plt.show()\n",
    "\n",
    "# 국어점수 100, 영어점수 80 인 새로운 학생이 입학하였습니다.\n",
    "# 이 학생은 몇번 클러스터에 포함되어야 합니까?  \n",
    "\n",
    "kmeans.predict([ [100,80] ])"
   ]
  },
  {
   "cell_type": "code",
   "execution_count": 11,
   "id": "d4d43b12",
   "metadata": {},
   "outputs": [
    {
     "name": "stdout",
     "output_type": "stream",
     "text": [
      "학생번호: 0 : 2\n",
      "학생번호: 1 : 2\n",
      "학생번호: 2 : 0\n",
      "학생번호: 3 : 2\n",
      "학생번호: 4 : 2\n",
      "학생번호: 5 : 0\n",
      "학생번호: 6 : 2\n",
      "학생번호: 7 : 2\n",
      "학생번호: 8 : 0\n",
      "학생번호: 9 : 1\n",
      "학생번호: 10 : 2\n",
      "학생번호: 11 : 0\n",
      "학생번호: 12 : 1\n",
      "학생번호: 13 : 2\n",
      "학생번호: 14 : 0\n",
      "학생번호: 15 : 1\n",
      "학생번호: 16 : 2\n",
      "학생번호: 17 : 0\n"
     ]
    },
    {
     "data": {
      "text/plain": [
       "array([2])"
      ]
     },
     "execution_count": 11,
     "metadata": {},
     "output_type": "execute_result"
    }
   ],
   "source": [
    "#n차원이라 시각화는 조금어렵다. (국어,영어,수학,과학,...이라)\n",
    "import pandas as pd \n",
    "from sklearn.cluster import KMeans\n",
    "\n",
    "data =pd.read_csv(\"ex04_academy2.csv\")\n",
    "#print( data.iloc[:,1:] )  \n",
    " \n",
    "# 군집 모델을 만듭니다\n",
    "kmeans=KMeans(n_clusters=3)\n",
    "kmeans.fit(data.iloc[:,1:])  #학생번호 컬럼은 제외하고 학습\n",
    " \n",
    "for no, cla in enumerate(kmeans.labels_):\n",
    "    print(\"학생번호: {} : {}\".format(no, cla))\n",
    "\n",
    "# 국어점수 100, 영어점수 80,\n",
    "# 수학점수 70,  과학점수 70, 학업성취도 70\n",
    "# 인 새로운 학생이 입학하였습니다. \n",
    "# 이 학생은 몇번 클러스터에 포함되어야 합니까?  \n",
    "\n",
    "kmeans.predict([[100,80,70,70,70]])\n"
   ]
  },
  {
   "cell_type": "code",
   "execution_count": null,
   "id": "daf3f1f3",
   "metadata": {},
   "outputs": [],
   "source": []
  }
 ],
 "metadata": {
  "kernelspec": {
   "display_name": "Python 3",
   "language": "python",
   "name": "python3"
  },
  "language_info": {
   "codemirror_mode": {
    "name": "ipython",
    "version": 3
   },
   "file_extension": ".py",
   "mimetype": "text/x-python",
   "name": "python",
   "nbconvert_exporter": "python",
   "pygments_lexer": "ipython3",
   "version": "3.7.7"
  }
 },
 "nbformat": 4,
 "nbformat_minor": 5
}
