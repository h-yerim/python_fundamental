{
 "cells": [
  {
   "cell_type": "code",
   "execution_count": 14,
   "id": "510366b8",
   "metadata": {},
   "outputs": [],
   "source": [
    "### 파일입력 - txt\n",
    "fp = open(\"c://hrim/fruit.txt\",\"wt\") #w: writing, t: text mode\n",
    "#open하고 shift + tab 하면 open함수의 기능 알수있음, tab은 내장된 함수확인가능\n",
    "#r,w,x,a 는 파일을 어떻게 열지 정함\n",
    "#b, t는 binary, text mode"
   ]
  },
  {
   "cell_type": "code",
   "execution_count": 15,
   "id": "5036c4cf",
   "metadata": {},
   "outputs": [],
   "source": [
    "fruit={\"ap\":3500,\"pe\":2500,\"ch\":5000}\n",
    "for item in fruit.items():\n",
    "    print(item,file=fp)\n",
    "fp.close()"
   ]
  },
  {
   "cell_type": "code",
   "execution_count": 19,
   "id": "26f47a77",
   "metadata": {},
   "outputs": [],
   "source": [
    "fp1 = open(\"c://hrim/fruit2.txt\",\"wt\")\n",
    "fp1.write('apple 3500\\n') #open의 메소드인 write를 이용해서 작성도 가능, \\n으로 개행\n",
    "fp1.write('peer 2500\\n')\n",
    "fp1.write('cherry 5000\\n')\n",
    "fp1.close()"
   ]
  },
  {
   "cell_type": "code",
   "execution_count": 22,
   "id": "9b733c18",
   "metadata": {},
   "outputs": [],
   "source": [
    "#csv 파일\n",
    "import csv\n",
    "with open(\"c://hrim/fruit3.csv\",\"w\",newline=\"\") as fp: #newline=> 자동줄바꿈 취소시킴\n",
    "    writer=csv.writer(fp,delimiter=',')\n",
    "    writer.writerow(['apple'])\n",
    "    writer.writerow(['peer'])\n",
    "    writer.writerow(['cherry'])\n",
    "#with는 자동으로 close되기 때문에 close안해줘도 됨"
   ]
  },
  {
   "cell_type": "code",
   "execution_count": 24,
   "id": "867457c8",
   "metadata": {},
   "outputs": [
    {
     "data": {
      "text/plain": [
       "[\"('ap', 3500)\\n\", \"('pe', 2500)\\n\", \"('ch', 5000)\\n\"]"
      ]
     },
     "execution_count": 24,
     "metadata": {},
     "output_type": "execute_result"
    }
   ],
   "source": [
    "#txt 파일출력\n",
    "fp = open(\"c://hrim/fruit.txt\",\"rt\")\n",
    "fp #파일의 정보\n",
    "f=fp.readlines() # 리스트형태로 전체가 반환되며 안에 튜플과 \\n붙은 상태로 보여줌.\n",
    "print(f)"
   ]
  },
  {
   "cell_type": "code",
   "execution_count": 26,
   "id": "77802bd8",
   "metadata": {},
   "outputs": [
    {
     "name": "stdout",
     "output_type": "stream",
     "text": [
      "('ap', 3500)\n",
      "\n"
     ]
    }
   ],
   "source": [
    "#readlines은 한번읽고 끝이기떄문에 다시 한번 읽어줘야함\n",
    "fp = open(\"c://hrim/fruit.txt\",\"rt\")\n",
    "fp \n",
    "f=fp.readlines() \n",
    "print(f[0])"
   ]
  },
  {
   "cell_type": "code",
   "execution_count": 29,
   "id": "57ee342c",
   "metadata": {},
   "outputs": [
    {
     "data": {
      "text/plain": [
       "<_csv.reader at 0x1591f39e340>"
      ]
     },
     "execution_count": 29,
     "metadata": {},
     "output_type": "execute_result"
    }
   ],
   "source": [
    "# csv\n",
    "import csv\n",
    "f = open(\"c://hrim/fruit3.csv\",\"rt\")\n",
    "csv.reader(f) #객체 형태로 return해줌"
   ]
  },
  {
   "cell_type": "code",
   "execution_count": 30,
   "id": "96190c68",
   "metadata": {},
   "outputs": [
    {
     "data": {
      "text/plain": [
       "[['apple'], ['peer'], ['cherry']]"
      ]
     },
     "execution_count": 30,
     "metadata": {},
     "output_type": "execute_result"
    }
   ],
   "source": [
    "import csv\n",
    "f = open(\"c://hrim/fruit3.csv\",\"rt\")\n",
    "list(csv.reader(f)) #list구조로 데이터를 감싸서 반환해줌"
   ]
  },
  {
   "cell_type": "code",
   "execution_count": 32,
   "id": "1ec93227",
   "metadata": {},
   "outputs": [
    {
     "name": "stdout",
     "output_type": "stream",
     "text": [
      "['apple']\n",
      "['peer']\n",
      "['cherry']\n"
     ]
    }
   ],
   "source": [
    "#위와 동일한 결과를 for문으로도 출력가능\n",
    "import csv\n",
    "f = open(\"c://hrim/fruit3.csv\",\"rt\")\n",
    "for i in csv.reader(f):\n",
    "    print(i)"
   ]
  },
  {
   "cell_type": "code",
   "execution_count": 33,
   "id": "e5e6b2fc",
   "metadata": {},
   "outputs": [
    {
     "name": "stdout",
     "output_type": "stream",
     "text": [
      "[['apple'], ['peer'], ['cherry']]\n"
     ]
    }
   ],
   "source": [
    "import csv\n",
    "f = open(\"c://hrim/fruit3.csv\",\"rt\")\n",
    "fruit=[]\n",
    "for i in csv.reader(f):\n",
    "    fruit.append(i) #값들을 리스트에 넣어줌\n",
    "print(fruit)"
   ]
  }
 ],
 "metadata": {
  "kernelspec": {
   "display_name": "Python 3",
   "language": "python",
   "name": "python3"
  },
  "language_info": {
   "codemirror_mode": {
    "name": "ipython",
    "version": 3
   },
   "file_extension": ".py",
   "mimetype": "text/x-python",
   "name": "python",
   "nbconvert_exporter": "python",
   "pygments_lexer": "ipython3",
   "version": "3.8.8"
  }
 },
 "nbformat": 4,
 "nbformat_minor": 5
}
