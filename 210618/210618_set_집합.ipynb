{
 "cells": [
  {
   "cell_type": "markdown",
   "id": "cf18e6c2",
   "metadata": {},
   "source": [
    "#set 생성\n",
    "1. 변수명={요소1,요소2,요소3...}\n",
    "2. 순서가 없다.\n",
    "3. 변경도 할 수 없다. (=튜플)\n",
    "4. 중복을 허용하지 않는다."
   ]
  },
  {
   "cell_type": "code",
   "execution_count": 8,
   "id": "ec7124cc",
   "metadata": {},
   "outputs": [
    {
     "data": {
      "text/plain": [
       "set"
      ]
     },
     "execution_count": 8,
     "metadata": {},
     "output_type": "execute_result"
    }
   ],
   "source": [
    "a={1,2,3,4,5,3,4}\n",
    "a;\n",
    "type(a)#중복값은 버린걸 확인가능"
   ]
  },
  {
   "cell_type": "code",
   "execution_count": 2,
   "id": "f6802267",
   "metadata": {},
   "outputs": [],
   "source": [
    "a1=[1,1,2,2,3,3,4,5,6,7,8]"
   ]
  },
  {
   "cell_type": "code",
   "execution_count": 3,
   "id": "665fe9e1",
   "metadata": {},
   "outputs": [
    {
     "data": {
      "text/plain": [
       "{1, 2, 3, 4, 5, 6, 7, 8}"
      ]
     },
     "execution_count": 3,
     "metadata": {},
     "output_type": "execute_result"
    }
   ],
   "source": [
    "set(a1) #set이 자동으로 중복없애줌"
   ]
  },
  {
   "cell_type": "code",
   "execution_count": 4,
   "id": "56c47cab",
   "metadata": {},
   "outputs": [
    {
     "data": {
      "text/plain": [
       "[1, 2, 3, 4, 5, 6, 7, 8]"
      ]
     },
     "execution_count": 4,
     "metadata": {},
     "output_type": "execute_result"
    }
   ],
   "source": [
    "list(set(a1)) #데이터 정제후 다시 list에 넣기도 가능"
   ]
  },
  {
   "cell_type": "code",
   "execution_count": 9,
   "id": "f95e92a9",
   "metadata": {},
   "outputs": [
    {
     "ename": "TypeError",
     "evalue": "'set' object is not subscriptable",
     "output_type": "error",
     "traceback": [
      "\u001b[1;31m---------------------------------------------------------------------------\u001b[0m",
      "\u001b[1;31mTypeError\u001b[0m                                 Traceback (most recent call last)",
      "\u001b[1;32m<ipython-input-9-3f8de923f2ba>\u001b[0m in \u001b[0;36m<module>\u001b[1;34m\u001b[0m\n\u001b[0;32m      1\u001b[0m \u001b[1;31m#set함수는 index 접근이 불가 (subscriptable)\u001b[0m\u001b[1;33m\u001b[0m\u001b[1;33m\u001b[0m\u001b[1;33m\u001b[0m\u001b[0m\n\u001b[1;32m----> 2\u001b[1;33m \u001b[0ma\u001b[0m\u001b[1;33m[\u001b[0m\u001b[1;36m1\u001b[0m\u001b[1;33m]\u001b[0m\u001b[1;33m\u001b[0m\u001b[1;33m\u001b[0m\u001b[0m\n\u001b[0m",
      "\u001b[1;31mTypeError\u001b[0m: 'set' object is not subscriptable"
     ]
    }
   ],
   "source": [
    "#set함수는 index 접근이 불가 (subscriptable)\n",
    "a[1]"
   ]
  },
  {
   "cell_type": "code",
   "execution_count": 10,
   "id": "f0bb2cf5",
   "metadata": {},
   "outputs": [
    {
     "name": "stdout",
     "output_type": "stream",
     "text": [
      "{'c', 'b', 'a', 'd'}\n",
      "{1, 2, 3, 4}\n",
      "{False, True}\n"
     ]
    }
   ],
   "source": [
    "#set에 여러 자료형을 넣을 수 있고, 혼용도 가능(중복은 x)\n",
    "set1 = {\"a\",\"b\",\"c\",\"d\",\"a\"}\n",
    "set2 = {1,2,3,4,2}\n",
    "set3 ={False,True,True}\n",
    "print(set1)\n",
    "print(set2)\n",
    "print(set3)"
   ]
  },
  {
   "cell_type": "code",
   "execution_count": 11,
   "id": "11364365",
   "metadata": {},
   "outputs": [
    {
     "data": {
      "text/plain": [
       "{0, 1}"
      ]
     },
     "execution_count": 11,
     "metadata": {},
     "output_type": "execute_result"
    }
   ],
   "source": [
    "set4={1,0,True,False}\n",
    "set4 #1이랑 true, 0이랑 false 중복처리하는듯."
   ]
  },
  {
   "cell_type": "code",
   "execution_count": 12,
   "id": "6d2d5e29",
   "metadata": {},
   "outputs": [
    {
     "data": {
      "text/plain": [
       "{0, 1, 'f'}"
      ]
     },
     "execution_count": 12,
     "metadata": {},
     "output_type": "execute_result"
    }
   ],
   "source": [
    "set4.add(\"f\") #추가\n",
    "set4"
   ]
  },
  {
   "cell_type": "code",
   "execution_count": 13,
   "id": "4d9ed238",
   "metadata": {},
   "outputs": [
    {
     "data": {
      "text/plain": [
       "set()"
      ]
     },
     "execution_count": 13,
     "metadata": {},
     "output_type": "execute_result"
    }
   ],
   "source": [
    "set4.clear() #요소 다 비움\n",
    "set4"
   ]
  },
  {
   "cell_type": "code",
   "execution_count": 14,
   "id": "7f6906e1",
   "metadata": {},
   "outputs": [
    {
     "data": {
      "text/plain": [
       "{'a', 'b', 'c', 'd'}"
      ]
     },
     "execution_count": 14,
     "metadata": {},
     "output_type": "execute_result"
    }
   ],
   "source": [
    "x= set1.copy() #복사도 가능\n",
    "x"
   ]
  },
  {
   "cell_type": "code",
   "execution_count": 15,
   "id": "92a8009c",
   "metadata": {},
   "outputs": [
    {
     "data": {
      "text/plain": [
       "{1}"
      ]
     },
     "execution_count": 15,
     "metadata": {},
     "output_type": "execute_result"
    }
   ],
   "source": [
    "x= {1,2,3}\n",
    "y={2,3,4}\n",
    "x.difference(y) #x에는 있고 y와는 중복되지 않는 요소를 찾아줌"
   ]
  },
  {
   "cell_type": "code",
   "execution_count": 16,
   "id": "71d9b5fb",
   "metadata": {},
   "outputs": [
    {
     "data": {
      "text/plain": [
       "{4}"
      ]
     },
     "execution_count": 16,
     "metadata": {},
     "output_type": "execute_result"
    }
   ],
   "source": [
    "y.difference(x)"
   ]
  },
  {
   "cell_type": "code",
   "execution_count": 17,
   "id": "94816ba4",
   "metadata": {},
   "outputs": [],
   "source": [
    "x.difference_update(y) # y와 다른 값만 x에넣어버림"
   ]
  },
  {
   "cell_type": "code",
   "execution_count": 18,
   "id": "69263ab3",
   "metadata": {},
   "outputs": [
    {
     "data": {
      "text/plain": [
       "{1}"
      ]
     },
     "execution_count": 18,
     "metadata": {},
     "output_type": "execute_result"
    }
   ],
   "source": [
    "x"
   ]
  },
  {
   "cell_type": "code",
   "execution_count": 30,
   "id": "866341b8",
   "metadata": {},
   "outputs": [
    {
     "data": {
      "text/plain": [
       "{2, 3}"
      ]
     },
     "execution_count": 30,
     "metadata": {},
     "output_type": "execute_result"
    }
   ],
   "source": [
    "x= {1,2,3}\n",
    "y={2,3,4}\n",
    "x.intersection(y) #공통으로 있는 값출력"
   ]
  },
  {
   "cell_type": "code",
   "execution_count": 31,
   "id": "6f005e3c",
   "metadata": {},
   "outputs": [
    {
     "name": "stdout",
     "output_type": "stream",
     "text": [
      "[2, 3]\n"
     ]
    }
   ],
   "source": [
    "#set이 아닌 list일 경우 같은 값 찾으려면 아래와 같이\n",
    "x1=[1,2,3]\n",
    "y1=[2,3,4]\n",
    "dup=[]\n",
    "for i in x1:\n",
    "    for j in y1:\n",
    "        if i==j:\n",
    "            dup.append(i)\n",
    "print(dup)"
   ]
  },
  {
   "cell_type": "code",
   "execution_count": 32,
   "id": "d24f8c6f",
   "metadata": {},
   "outputs": [
    {
     "name": "stdout",
     "output_type": "stream",
     "text": [
      "[2, 3]\n"
     ]
    }
   ],
   "source": [
    "#위와 같은 결과 똑같이 얻는 다른방법\n",
    "x1=[1,2,3]\n",
    "y1=[2,3,4]\n",
    "dup=[]\n",
    "for i in x1:\n",
    "    if i in y1:\n",
    "            dup.append(i)\n",
    "print(dup)"
   ]
  },
  {
   "cell_type": "code",
   "execution_count": 33,
   "id": "97e30644",
   "metadata": {},
   "outputs": [
    {
     "data": {
      "text/plain": [
       "{2, 3}"
      ]
     },
     "execution_count": 33,
     "metadata": {},
     "output_type": "execute_result"
    }
   ],
   "source": [
    "#이렇게 set으로 구하는게 for문 보다 훨씬 빠름\n",
    "z=set(x1).intersection(set(y1))\n",
    "z"
   ]
  },
  {
   "cell_type": "code",
   "execution_count": 36,
   "id": "784a2d27",
   "metadata": {},
   "outputs": [
    {
     "data": {
      "text/plain": [
       "True"
      ]
     },
     "execution_count": 36,
     "metadata": {},
     "output_type": "execute_result"
    }
   ],
   "source": [
    "x={1,2,3}\n",
    "y={4,5,6}\n",
    "x.isdisjoint(y) #중복이 되지 않으면 true로 반환 (하나라도 있으면 false)"
   ]
  },
  {
   "cell_type": "code",
   "execution_count": 37,
   "id": "979c80cf",
   "metadata": {},
   "outputs": [
    {
     "data": {
      "text/plain": [
       "False"
      ]
     },
     "execution_count": 37,
     "metadata": {},
     "output_type": "execute_result"
    }
   ],
   "source": [
    "x={1,2,3}\n",
    "y={4,5,3}\n",
    "x.isdisjoint(y)"
   ]
  },
  {
   "cell_type": "code",
   "execution_count": 38,
   "id": "39609f92",
   "metadata": {},
   "outputs": [
    {
     "data": {
      "text/plain": [
       "True"
      ]
     },
     "execution_count": 38,
     "metadata": {},
     "output_type": "execute_result"
    }
   ],
   "source": [
    "x={1,2,3}\n",
    "y={1,2,3,4,5}\n",
    "x.issubset(y) #앞의 값을 확실하게 뒤가 가지고 있으면 true가 나옴"
   ]
  },
  {
   "cell_type": "code",
   "execution_count": 39,
   "id": "2e227f85",
   "metadata": {},
   "outputs": [
    {
     "data": {
      "text/plain": [
       "True"
      ]
     },
     "execution_count": 39,
     "metadata": {},
     "output_type": "execute_result"
    }
   ],
   "source": [
    "x={1,2,3}\n",
    "y={1,2,3,4,5}\n",
    "y.issuperset(x) #y가 x를 포함하는지 ? 맞으면 true"
   ]
  },
  {
   "cell_type": "code",
   "execution_count": 40,
   "id": "4dbdbac2",
   "metadata": {},
   "outputs": [
    {
     "data": {
      "text/plain": [
       "{1, 2, 3, 4, 5}"
      ]
     },
     "execution_count": 40,
     "metadata": {},
     "output_type": "execute_result"
    }
   ],
   "source": [
    "x={1,2,3}\n",
    "y={1,2,3,4,5}\n",
    "x.union(y) #합집합"
   ]
  }
 ],
 "metadata": {
  "kernelspec": {
   "display_name": "Python 3",
   "language": "python",
   "name": "python3"
  },
  "language_info": {
   "codemirror_mode": {
    "name": "ipython",
    "version": 3
   },
   "file_extension": ".py",
   "mimetype": "text/x-python",
   "name": "python",
   "nbconvert_exporter": "python",
   "pygments_lexer": "ipython3",
   "version": "3.8.8"
  }
 },
 "nbformat": 4,
 "nbformat_minor": 5
}
