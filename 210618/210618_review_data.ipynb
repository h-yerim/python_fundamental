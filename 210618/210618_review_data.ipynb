{
 "cells": [
  {
   "cell_type": "markdown",
   "id": "2e6f61cd",
   "metadata": {},
   "source": [
    "변수 a에 1, b에 2 넣고\n",
    "두 변수의 합을 구하시오"
   ]
  },
  {
   "cell_type": "code",
   "execution_count": 3,
   "id": "8f57c16d",
   "metadata": {},
   "outputs": [
    {
     "name": "stdout",
     "output_type": "stream",
     "text": [
      "a+b=  3\n"
     ]
    }
   ],
   "source": [
    "a=1\n",
    "b=2\n",
    "print(\"a+b= \",a+b)"
   ]
  },
  {
   "cell_type": "markdown",
   "id": "64364be8",
   "metadata": {},
   "source": [
    "(슬라이싱으로 문자열 나누기)\n",
    "주민등록번호에서 생년월일을 추출하시오"
   ]
  },
  {
   "cell_type": "code",
   "execution_count": 10,
   "id": "1780cd60",
   "metadata": {},
   "outputs": [
    {
     "data": {
      "text/plain": [
       "'951111'"
      ]
     },
     "execution_count": 10,
     "metadata": {},
     "output_type": "execute_result"
    }
   ],
   "source": [
    "#문자열은 slice 함수는 없고 index 통해 [:]로 바로 slice 기능을 제공한다.\n",
    "num = '951111-2000000'\n",
    "num[0:6]\n",
    "#num[:6], num[0:-8]과도 같다. -하면 뒤에서 부터 인덱스 계산한다."
   ]
  },
  {
   "cell_type": "markdown",
   "id": "34635cc3",
   "metadata": {},
   "source": [
    "변수에는 '20010331Rainy'가 있다. 날짜는 date변수에, 기온은 weather에 나누어 넣으시오"
   ]
  },
  {
   "cell_type": "code",
   "execution_count": 16,
   "id": "76887f8e",
   "metadata": {},
   "outputs": [
    {
     "name": "stdout",
     "output_type": "stream",
     "text": [
      "20010331\n",
      "Rainy\n"
     ]
    }
   ],
   "source": [
    "a='20010331Rainy'\n",
    "date=a[:8]\n",
    "weather=a[8:]\n",
    "print(date); print(weather)"
   ]
  },
  {
   "cell_type": "markdown",
   "id": "6461ba98",
   "metadata": {},
   "source": [
    "변수 a에는 20010331Rainy가 있다. year = 2001 day=0331로 나누시오"
   ]
  },
  {
   "cell_type": "code",
   "execution_count": 17,
   "id": "f25ccaa1",
   "metadata": {},
   "outputs": [
    {
     "name": "stdout",
     "output_type": "stream",
     "text": [
      "2001\n",
      "0331\n"
     ]
    }
   ],
   "source": [
    "a='20010331Rainy'\n",
    "year=a[:4]\n",
    "day=a[4:8]\n",
    "print(year); print(day)"
   ]
  },
  {
   "cell_type": "markdown",
   "id": "df1aac92",
   "metadata": {},
   "source": [
    "변수 a에는 Pithon이 있다. Python으로 바꾸시오"
   ]
  },
  {
   "cell_type": "code",
   "execution_count": 21,
   "id": "b0f756cd",
   "metadata": {},
   "outputs": [
    {
     "data": {
      "text/plain": [
       "'Python'"
      ]
     },
     "execution_count": 21,
     "metadata": {},
     "output_type": "execute_result"
    }
   ],
   "source": [
    "a='Pithon'\n",
    "#문자열의 경우 변경할수 없기때문에 a[1] = 'y' 이런식으로 변경할수없다.\n",
    "a= a[0]+'y'+a[2:]\n",
    "a"
   ]
  },
  {
   "cell_type": "markdown",
   "id": "ebda5296",
   "metadata": {},
   "source": [
    "[1,2,['a','b',['Life','is']]] 값을 갖는 리스트 a를 생성하시오\n",
    "a에서 'Life' 값을 추출하시오"
   ]
  },
  {
   "cell_type": "code",
   "execution_count": 25,
   "id": "846398f3",
   "metadata": {},
   "outputs": [
    {
     "data": {
      "text/plain": [
       "3"
      ]
     },
     "execution_count": 25,
     "metadata": {},
     "output_type": "execute_result"
    }
   ],
   "source": [
    "a=[1,2,['a','b',['Life','is']]] \n",
    "len(a)"
   ]
  },
  {
   "cell_type": "code",
   "execution_count": 27,
   "id": "a7f6df81",
   "metadata": {},
   "outputs": [
    {
     "data": {
      "text/plain": [
       "1"
      ]
     },
     "execution_count": 27,
     "metadata": {},
     "output_type": "execute_result"
    }
   ],
   "source": [
    "a[0]"
   ]
  },
  {
   "cell_type": "code",
   "execution_count": 28,
   "id": "012a248e",
   "metadata": {},
   "outputs": [
    {
     "data": {
      "text/plain": [
       "2"
      ]
     },
     "execution_count": 28,
     "metadata": {},
     "output_type": "execute_result"
    }
   ],
   "source": [
    "a[1]"
   ]
  },
  {
   "cell_type": "code",
   "execution_count": 29,
   "id": "ad60dd94",
   "metadata": {},
   "outputs": [
    {
     "data": {
      "text/plain": [
       "['a', 'b', ['Life', 'is']]"
      ]
     },
     "execution_count": 29,
     "metadata": {},
     "output_type": "execute_result"
    }
   ],
   "source": [
    "a[2]"
   ]
  },
  {
   "cell_type": "code",
   "execution_count": 30,
   "id": "63958751",
   "metadata": {},
   "outputs": [
    {
     "data": {
      "text/plain": [
       "'a'"
      ]
     },
     "execution_count": 30,
     "metadata": {},
     "output_type": "execute_result"
    }
   ],
   "source": [
    "a[2][0]"
   ]
  },
  {
   "cell_type": "code",
   "execution_count": 31,
   "id": "66f61d02",
   "metadata": {},
   "outputs": [
    {
     "data": {
      "text/plain": [
       "['Life', 'is']"
      ]
     },
     "execution_count": 31,
     "metadata": {},
     "output_type": "execute_result"
    }
   ],
   "source": [
    "a[2][2]"
   ]
  },
  {
   "cell_type": "code",
   "execution_count": 32,
   "id": "389b3b52",
   "metadata": {},
   "outputs": [
    {
     "data": {
      "text/plain": [
       "'Life'"
      ]
     },
     "execution_count": 32,
     "metadata": {},
     "output_type": "execute_result"
    }
   ],
   "source": [
    "a[2][2][0]"
   ]
  }
 ],
 "metadata": {
  "kernelspec": {
   "display_name": "Python 3",
   "language": "python",
   "name": "python3"
  },
  "language_info": {
   "codemirror_mode": {
    "name": "ipython",
    "version": 3
   },
   "file_extension": ".py",
   "mimetype": "text/x-python",
   "name": "python",
   "nbconvert_exporter": "python",
   "pygments_lexer": "ipython3",
   "version": "3.8.8"
  }
 },
 "nbformat": 4,
 "nbformat_minor": 5
}
