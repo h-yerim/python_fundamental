{
 "cells": [
  {
   "cell_type": "code",
   "execution_count": 1,
   "id": "cff6d315",
   "metadata": {},
   "outputs": [
    {
     "data": {
      "text/plain": [
       "'       banana       '"
      ]
     },
     "execution_count": 1,
     "metadata": {},
     "output_type": "execute_result"
    }
   ],
   "source": [
    "txt=\"banana\"\n",
    "txt.center(20) #총 20자 ,가운데 정렬"
   ]
  },
  {
   "cell_type": "code",
   "execution_count": 2,
   "id": "9f93e8ef",
   "metadata": {},
   "outputs": [
    {
     "data": {
      "text/plain": [
       "'       banana       '"
      ]
     },
     "execution_count": 2,
     "metadata": {},
     "output_type": "execute_result"
    }
   ],
   "source": [
    "\"banana\".center(20) #위의 결과와 같은결과"
   ]
  },
  {
   "cell_type": "code",
   "execution_count": 3,
   "id": "10709e15",
   "metadata": {},
   "outputs": [
    {
     "data": {
      "text/plain": [
       "'_______banana_______'"
      ]
     },
     "execution_count": 3,
     "metadata": {},
     "output_type": "execute_result"
    }
   ],
   "source": [
    "\"banana\".center(20,\"_\") #빈 곳을 _로 채워줌"
   ]
  },
  {
   "cell_type": "code",
   "execution_count": 4,
   "id": "86c8e528",
   "metadata": {},
   "outputs": [
    {
     "data": {
      "text/plain": [
       "2"
      ]
     },
     "execution_count": 4,
     "metadata": {},
     "output_type": "execute_result"
    }
   ],
   "source": [
    "txt=\"I love apples, apple are my favorite fruit.\"\n",
    "txt.count(\"apple\") #apple의 개수 반환"
   ]
  },
  {
   "cell_type": "code",
   "execution_count": 5,
   "id": "87d005cf",
   "metadata": {},
   "outputs": [],
   "source": [
    "txt=\"I love apples, apple are my favorite fruit.\"\n",
    "x=txt.count(\"apple\",10,24) #10부터 24사이의 apple을 찾아 반환"
   ]
  },
  {
   "cell_type": "code",
   "execution_count": 6,
   "id": "015cce39",
   "metadata": {},
   "outputs": [
    {
     "data": {
      "text/plain": [
       "b'My name is St\\xc3\\xa5le'"
      ]
     },
     "execution_count": 6,
     "metadata": {},
     "output_type": "execute_result"
    }
   ],
   "source": [
    "txt = \"My name is Ståle\"\n",
    "txt.encode() #2byte로 encoding"
   ]
  },
  {
   "cell_type": "code",
   "execution_count": 11,
   "id": "c30f1107",
   "metadata": {},
   "outputs": [
    {
     "data": {
      "text/plain": [
       "'안녕하세여'"
      ]
     },
     "execution_count": 11,
     "metadata": {},
     "output_type": "execute_result"
    }
   ],
   "source": [
    "txt=\"안녕하세여\"\n",
    "txt.encode().decode() #2byte로 encoding 됐다가 다시 decoding"
   ]
  },
  {
   "cell_type": "code",
   "execution_count": 14,
   "id": "b55410c6",
   "metadata": {},
   "outputs": [
    {
     "data": {
      "text/plain": [
       "True"
      ]
     },
     "execution_count": 14,
     "metadata": {},
     "output_type": "execute_result"
    }
   ],
   "source": [
    "txt=\"Hello, welcome to my world.\"\n",
    "txt.endswith(\".\") #문장이 .로 끝나는지 확인 -> t/f로 반환"
   ]
  },
  {
   "cell_type": "code",
   "execution_count": 15,
   "id": "830e9f6b",
   "metadata": {},
   "outputs": [
    {
     "data": {
      "text/plain": [
       "True"
      ]
     },
     "execution_count": 15,
     "metadata": {},
     "output_type": "execute_result"
    }
   ],
   "source": [
    "txt=\"Hello, welcome to my world.\"\n",
    "txt.endswith(\"my world.\")"
   ]
  },
  {
   "cell_type": "code",
   "execution_count": 18,
   "id": "f4224d07",
   "metadata": {},
   "outputs": [
    {
     "data": {
      "text/plain": [
       "7"
      ]
     },
     "execution_count": 18,
     "metadata": {},
     "output_type": "execute_result"
    }
   ],
   "source": [
    "txt=\"Hello, welcome to my world.\"\n",
    "txt.find(\"welcome\") #해당 문자열이 있는 index 알려줌"
   ]
  },
  {
   "cell_type": "code",
   "execution_count": 19,
   "id": "e1b1ae8b",
   "metadata": {},
   "outputs": [
    {
     "data": {
      "text/plain": [
       "-1"
      ]
     },
     "execution_count": 19,
     "metadata": {},
     "output_type": "execute_result"
    }
   ],
   "source": [
    "txt.find(\"q\") #error -> -1로 반환\n",
    "#cf. txt.index(\"q\") ->없을경우 error로 아무값도 반환해주지않음"
   ]
  },
  {
   "cell_type": "code",
   "execution_count": 21,
   "id": "8a3297df",
   "metadata": {},
   "outputs": [
    {
     "name": "stdout",
     "output_type": "stream",
     "text": [
      "해당문자열이 없습니다.\n"
     ]
    }
   ],
   "source": [
    "if(txt.find(\"q\")==-1):\n",
    "    print(\"해당 문자열이 없습니다.\")\n",
    "else:\n",
    "    print(\"해당 문자열을 찾았습니다.\")"
   ]
  },
  {
   "cell_type": "code",
   "execution_count": 23,
   "id": "81f57d6a",
   "metadata": {},
   "outputs": [
    {
     "data": {
      "text/plain": [
       "\"My name is John, I'm 36\""
      ]
     },
     "execution_count": 23,
     "metadata": {},
     "output_type": "execute_result"
    }
   ],
   "source": [
    "txt1 = \"My name is {fname}, I'm {age}\".format(fname = \"John\", age = 36)\n",
    "txt1"
   ]
  },
  {
   "cell_type": "code",
   "execution_count": 24,
   "id": "05ceb9ae",
   "metadata": {},
   "outputs": [
    {
     "data": {
      "text/plain": [
       "\"My name isJohn, I'm 36\""
      ]
     },
     "execution_count": 24,
     "metadata": {},
     "output_type": "execute_result"
    }
   ],
   "source": [
    "\"My name is {}, I'm {}\".format(\"John\",36) #도 가능"
   ]
  },
  {
   "cell_type": "code",
   "execution_count": 26,
   "id": "9d2f66c5",
   "metadata": {},
   "outputs": [
    {
     "data": {
      "text/plain": [
       "\"My name is 36, I'm John\""
      ]
     },
     "execution_count": 26,
     "metadata": {},
     "output_type": "execute_result"
    }
   ],
   "source": [
    "\"My name is {1}, I'm {0}\".format(\"John\",36) #순서를 줄수도있음 (0,1...)"
   ]
  },
  {
   "cell_type": "code",
   "execution_count": 27,
   "id": "ca2f9d4e",
   "metadata": {},
   "outputs": [
    {
     "data": {
      "text/plain": [
       "\"My name is John, I'm 36\""
      ]
     },
     "execution_count": 27,
     "metadata": {},
     "output_type": "execute_result"
    }
   ],
   "source": [
    "\"My name is {fname}, I'm {age}\".format(age = 36,fname = \"John\") #로 해도 변수명을 찾아 들어감"
   ]
  },
  {
   "cell_type": "code",
   "execution_count": 28,
   "id": "70e7f2b4",
   "metadata": {},
   "outputs": [
    {
     "name": "stdout",
     "output_type": "stream",
     "text": [
      "For only 49.00 dollars!\n"
     ]
    }
   ],
   "source": [
    "txt = \"For only {price:.2f} dollars!\" #2f 자리에 d를 주면 정수형으로 표현됨\n",
    "print(txt.format(price = 49))"
   ]
  },
  {
   "cell_type": "code",
   "execution_count": 29,
   "id": "d7335fee",
   "metadata": {},
   "outputs": [
    {
     "data": {
      "text/plain": [
       "'a,b,c'"
      ]
     },
     "execution_count": 29,
     "metadata": {},
     "output_type": "execute_result"
    }
   ],
   "source": [
    "a=[\"a\",\"b\",\"c\"]\n",
    "\",\".join(a) #하나의 문자열로 만든다."
   ]
  },
  {
   "cell_type": "code",
   "execution_count": 31,
   "id": "77af0bd6",
   "metadata": {},
   "outputs": [
    {
     "data": {
      "text/plain": [
       "'fruit3.csv'"
      ]
     },
     "execution_count": 31,
     "metadata": {},
     "output_type": "execute_result"
    }
   ],
   "source": [
    "a=\"c:/hrim/fruit3.csv\"\n",
    "a.split(\"/\")[-1]  #파일명만 알고 싶을때 (split의 반환형은 리스트)"
   ]
  },
  {
   "cell_type": "code",
   "execution_count": 33,
   "id": "a4bc420e",
   "metadata": {},
   "outputs": [
    {
     "data": {
      "text/plain": [
       "['정부 10년간 초소형 공공위성 100기 이상 구축 ', ' 2021.06.18. 오전 10:34']"
      ]
     },
     "execution_count": 33,
     "metadata": {},
     "output_type": "execute_result"
    }
   ],
   "source": [
    "a=\"정부 10년간 초소형 공공위성 100기 이상 구축 기사입력 2021.06.18. 오전 10:34\"\n",
    "a.split(\"기사입력\") #기사입력을 기준으로 앞뒤를 잘라줌"
   ]
  },
  {
   "cell_type": "code",
   "execution_count": 34,
   "id": "bced8ce1",
   "metadata": {},
   "outputs": [
    {
     "data": {
      "text/plain": [
       "'정부 10년간 초소형 공공위성 100기 이상 구축 '"
      ]
     },
     "execution_count": 34,
     "metadata": {},
     "output_type": "execute_result"
    }
   ],
   "source": [
    "a.split(\"기사입력\")[0]"
   ]
  },
  {
   "cell_type": "code",
   "execution_count": 36,
   "id": "ef1eec91",
   "metadata": {},
   "outputs": [
    {
     "data": {
      "text/plain": [
       "['정부', '10년간', '초소형', '공공위성', '100기', '이상', '구축', '']"
      ]
     },
     "execution_count": 36,
     "metadata": {},
     "output_type": "execute_result"
    }
   ],
   "source": [
    "a.split(\"기사입력\")[0].split(\" \") # 스페이스바를 기준으로 split도 가능"
   ]
  },
  {
   "cell_type": "code",
   "execution_count": 40,
   "id": "59f79d6a",
   "metadata": {},
   "outputs": [
    {
     "data": {
      "text/plain": [
       "['', '년간']"
      ]
     },
     "execution_count": 40,
     "metadata": {},
     "output_type": "execute_result"
    }
   ],
   "source": [
    "a.split(\"기사입력\")[0].split(\" \")[1].split(\"10\") \n",
    "#split한 반환결과가 뭔지 항상 확인\n",
    "#split은 문자열에서만 가능하다는 것을 기억."
   ]
  },
  {
   "cell_type": "code",
   "execution_count": 41,
   "id": "d3bf2f16",
   "metadata": {},
   "outputs": [
    {
     "data": {
      "text/plain": [
       "'\\n정부 10년간 초소형 공공위성 100기 이상\\n구축 기사입력 2021.06.18. 오전 10:34\\n'"
      ]
     },
     "execution_count": 41,
     "metadata": {},
     "output_type": "execute_result"
    }
   ],
   "source": [
    "a= \"\"\"\n",
    "정부 10년간 초소형 공공위성 100기 이상\n",
    "구축 기사입력 2021.06.18. 오전 10:34\n",
    "\"\"\" # \"\"\"\"\"\"를 쓰면여러줄로 입력가능\n",
    "a"
   ]
  },
  {
   "cell_type": "code",
   "execution_count": 42,
   "id": "384dc17d",
   "metadata": {},
   "outputs": [
    {
     "data": {
      "text/plain": [
       "'python is easy'"
      ]
     },
     "execution_count": 42,
     "metadata": {},
     "output_type": "execute_result"
    }
   ],
   "source": [
    "a='     python is easy   '\n",
    "a.strip() #공백문자 없앰(문자열의 양쪽끝을 잘라냄)"
   ]
  },
  {
   "cell_type": "code",
   "execution_count": 43,
   "id": "8e56ee09",
   "metadata": {},
   "outputs": [
    {
     "data": {
      "text/plain": [
       "'java is easy'"
      ]
     },
     "execution_count": 43,
     "metadata": {},
     "output_type": "execute_result"
    }
   ],
   "source": [
    "a='python is easy'\n",
    "a.replace('python','java') #앞의 문자열을 뒤의 문자열로 바꾼다."
   ]
  },
  {
   "cell_type": "code",
   "execution_count": 46,
   "id": "cf99fa6e",
   "metadata": {},
   "outputs": [
    {
     "name": "stdout",
     "output_type": "stream",
     "text": [
      "jathon\n"
     ]
    }
   ],
   "source": [
    "a=\"python\"\n",
    "str1 = \"py\"\n",
    "str2 = \"ja\"\n",
    "string = a.maketrans(str1,str2) #바꿔야할 mapping table을 가짐 => string에 넣어 변환규칙 기억\n",
    "print(a.translate(string))  #translate할건데 변환룰은 string이다는 뜻\n",
    "#replace와 기능 거의 비슷하나 바꾸기 전/후의 문자열 길이가 같아야함."
   ]
  },
  {
   "cell_type": "code",
   "execution_count": null,
   "id": "610c2f73",
   "metadata": {},
   "outputs": [],
   "source": [
    "#partition의 경우 split과 비슷하나 결과가 튜플로 나옴"
   ]
  }
 ],
 "metadata": {
  "kernelspec": {
   "display_name": "Python 3",
   "language": "python",
   "name": "python3"
  },
  "language_info": {
   "codemirror_mode": {
    "name": "ipython",
    "version": 3
   },
   "file_extension": ".py",
   "mimetype": "text/x-python",
   "name": "python",
   "nbconvert_exporter": "python",
   "pygments_lexer": "ipython3",
   "version": "3.8.8"
  }
 },
 "nbformat": 4,
 "nbformat_minor": 5
}
