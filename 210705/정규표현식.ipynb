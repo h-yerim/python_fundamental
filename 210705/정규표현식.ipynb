{
 "cells": [
  {
   "cell_type": "markdown",
   "id": "f020dc88",
   "metadata": {},
   "source": [
    "##### import re\n",
    "r = re.compile('[ab]') # a또는 b문자 패턴 객체\n",
    "\n",
    "r.search('pizza')"
   ]
  },
  {
   "cell_type": "code",
   "execution_count": 3,
   "id": "e34dec4c",
   "metadata": {},
   "outputs": [],
   "source": [
    "r.match('pizza') #무조건 문자열 처음부터 패턴에 매칭되는지 확인 -> a또는 b로 시작하는지 찾음"
   ]
  },
  {
   "cell_type": "code",
   "execution_count": 4,
   "id": "23ae3dcc",
   "metadata": {},
   "outputs": [
    {
     "data": {
      "text/plain": [
       "<re.Match object; span=(0, 1), match='a'>"
      ]
     },
     "execution_count": 4,
     "metadata": {},
     "output_type": "execute_result"
    }
   ],
   "source": [
    "r.match('aizza')"
   ]
  },
  {
   "cell_type": "code",
   "execution_count": 5,
   "id": "9853e227",
   "metadata": {},
   "outputs": [
    {
     "data": {
      "text/plain": [
       "<re.Match object; span=(1, 2), match='p'>"
      ]
     },
     "execution_count": 5,
     "metadata": {},
     "output_type": "execute_result"
    }
   ],
   "source": [
    "re.search('[pP]','apPie') # (문자패턴:p또는P를 찾음, 비교할문자열)"
   ]
  },
  {
   "cell_type": "code",
   "execution_count": 26,
   "id": "4f3b2525",
   "metadata": {},
   "outputs": [
    {
     "data": {
      "text/plain": [
       "<re.Match object; span=(1, 3), match='ab'>"
      ]
     },
     "execution_count": 26,
     "metadata": {},
     "output_type": "execute_result"
    }
   ],
   "source": [
    "r=re.compile('ab') #ab 둘다 찾는거임\n",
    "r.search('aabbbb')"
   ]
  },
  {
   "cell_type": "code",
   "execution_count": 43,
   "id": "e5bb092d",
   "metadata": {},
   "outputs": [
    {
     "data": {
      "text/plain": [
       "<re.Match object; span=(2, 3), match='n'>"
      ]
     },
     "execution_count": 43,
     "metadata": {},
     "output_type": "execute_result"
    }
   ],
   "source": [
    "r=re.compile('[^ab]') #ab빼고 다른글자가있는지\n",
    "r.search('abnnn')"
   ]
  },
  {
   "cell_type": "code",
   "execution_count": 44,
   "id": "d7a3bc23",
   "metadata": {},
   "outputs": [],
   "source": [
    "r=re.compile('[^ab]')\n",
    "r.search('ab') #매핑안됨"
   ]
  },
  {
   "cell_type": "markdown",
   "id": "e5138244",
   "metadata": {},
   "source": [
    "### 정규표현식 메타 문자"
   ]
  },
  {
   "cell_type": "markdown",
   "id": "db299229",
   "metadata": {},
   "source": [
    "#### . \n",
    "한글자를 의미, 임의의(모든)"
   ]
  },
  {
   "cell_type": "code",
   "execution_count": 6,
   "id": "294df484",
   "metadata": {},
   "outputs": [],
   "source": [
    "r = re.compile('a.c') # . 자리에는 한글자가 오되, 어떤 글자든 상관없음 (a와 c는 앞뒤로 꼭있어야)"
   ]
  },
  {
   "cell_type": "code",
   "execution_count": 7,
   "id": "2f4d1156",
   "metadata": {},
   "outputs": [
    {
     "data": {
      "text/plain": [
       "<re.Match object; span=(0, 3), match='azc'>"
      ]
     },
     "execution_count": 7,
     "metadata": {},
     "output_type": "execute_result"
    }
   ],
   "source": [
    "r.search('azc')"
   ]
  },
  {
   "cell_type": "code",
   "execution_count": 8,
   "id": "8345eb23",
   "metadata": {},
   "outputs": [],
   "source": [
    "r.search('azzc') #.자리에 두글자기때문에 찾지않음"
   ]
  },
  {
   "cell_type": "code",
   "execution_count": 9,
   "id": "d77c6ab9",
   "metadata": {},
   "outputs": [],
   "source": [
    "r.search('ac') #얘도 마찬가지로 못찾음"
   ]
  },
  {
   "cell_type": "markdown",
   "id": "d9b5de45",
   "metadata": {},
   "source": [
    "#### ?\n",
    "ex) a? 바로 앞 문자가 하나 또는 0개 존재 => a가 없거나 있으려면 a가 1개만 있어야한다는뜻"
   ]
  },
  {
   "cell_type": "code",
   "execution_count": 12,
   "id": "ef60b903",
   "metadata": {},
   "outputs": [],
   "source": [
    "r=re.compile('ck?w') #c와 w는 꼭있어야 하는데 k는 있어도되고 없어도됨"
   ]
  },
  {
   "cell_type": "code",
   "execution_count": 14,
   "id": "3a619685",
   "metadata": {},
   "outputs": [
    {
     "data": {
      "text/plain": [
       "<re.Match object; span=(0, 2), match='cw'>"
      ]
     },
     "execution_count": 14,
     "metadata": {},
     "output_type": "execute_result"
    }
   ],
   "source": [
    "r.search('cw')"
   ]
  },
  {
   "cell_type": "code",
   "execution_count": 15,
   "id": "f374f47f",
   "metadata": {},
   "outputs": [
    {
     "data": {
      "text/plain": [
       "<re.Match object; span=(0, 3), match='ckw'>"
      ]
     },
     "execution_count": 15,
     "metadata": {},
     "output_type": "execute_result"
    }
   ],
   "source": [
    "r.search('ckw')"
   ]
  },
  {
   "cell_type": "code",
   "execution_count": 16,
   "id": "c8ebb336",
   "metadata": {},
   "outputs": [],
   "source": [
    "r.search('cmw') #다른 글자가 와도 안되나봄"
   ]
  },
  {
   "cell_type": "code",
   "execution_count": 17,
   "id": "f009c475",
   "metadata": {},
   "outputs": [],
   "source": [
    "r.search('ckkw') #두개는 안됨"
   ]
  },
  {
   "cell_type": "markdown",
   "id": "b010c682",
   "metadata": {},
   "source": [
    "#### *\n",
    "ex) k* => 바로 앞의 글자가 0개이상이면 됨 (k가 없거나 k가 여러개여도됨)"
   ]
  },
  {
   "cell_type": "code",
   "execution_count": 18,
   "id": "1ec1ded2",
   "metadata": {},
   "outputs": [
    {
     "data": {
      "text/plain": [
       "<re.Match object; span=(0, 3), match='kkk'>"
      ]
     },
     "execution_count": 18,
     "metadata": {},
     "output_type": "execute_result"
    }
   ],
   "source": [
    "r=re.compile('k*')\n",
    "r.search('kkke')"
   ]
  },
  {
   "cell_type": "code",
   "execution_count": 19,
   "id": "02758cce",
   "metadata": {},
   "outputs": [
    {
     "data": {
      "text/plain": [
       "<re.Match object; span=(0, 0), match=''>"
      ]
     },
     "execution_count": 19,
     "metadata": {},
     "output_type": "execute_result"
    }
   ],
   "source": [
    "r.search('e')"
   ]
  },
  {
   "cell_type": "code",
   "execution_count": 20,
   "id": "bca0dd57",
   "metadata": {},
   "outputs": [
    {
     "data": {
      "text/plain": [
       "<re.Match object; span=(0, 0), match=''>"
      ]
     },
     "execution_count": 20,
     "metadata": {},
     "output_type": "execute_result"
    }
   ],
   "source": [
    "r.search('me')"
   ]
  },
  {
   "cell_type": "code",
   "execution_count": 21,
   "id": "00d7efb6",
   "metadata": {},
   "outputs": [
    {
     "data": {
      "text/plain": [
       "<re.Match object; span=(0, 2), match='cw'>"
      ]
     },
     "execution_count": 21,
     "metadata": {},
     "output_type": "execute_result"
    }
   ],
   "source": [
    "r1=re.compile('ck*w') #c랑 w는 꼭있어야하고 k는 0개이상\n",
    "r1.search('cw')"
   ]
  },
  {
   "cell_type": "code",
   "execution_count": 22,
   "id": "c18f9ca4",
   "metadata": {},
   "outputs": [
    {
     "data": {
      "text/plain": [
       "<re.Match object; span=(0, 11), match='ckkkkkkkkkw'>"
      ]
     },
     "execution_count": 22,
     "metadata": {},
     "output_type": "execute_result"
    }
   ],
   "source": [
    "r1.search('ckkkkkkkkkw')"
   ]
  },
  {
   "cell_type": "code",
   "execution_count": 23,
   "id": "d5a83809",
   "metadata": {},
   "outputs": [],
   "source": [
    "r1.search('cmw') # 다른글자는 패턴에 매핑안됨"
   ]
  },
  {
   "cell_type": "markdown",
   "id": "b6efd657",
   "metadata": {},
   "source": [
    "#### + \n",
    "ex) k+ => 바로 앞의 글자가 1개 이상 존재해야함"
   ]
  },
  {
   "cell_type": "code",
   "execution_count": 29,
   "id": "834f21ed",
   "metadata": {},
   "outputs": [],
   "source": [
    "r=re.compile('ck+w')\n",
    "r.search('cw') #1개도 없으니 매핑안됨"
   ]
  },
  {
   "cell_type": "code",
   "execution_count": 30,
   "id": "1c289ee7",
   "metadata": {},
   "outputs": [
    {
     "data": {
      "text/plain": [
       "<re.Match object; span=(0, 8), match='ckkkkkkw'>"
      ]
     },
     "execution_count": 30,
     "metadata": {},
     "output_type": "execute_result"
    }
   ],
   "source": [
    "r.search('ckkkkkkw')"
   ]
  },
  {
   "cell_type": "markdown",
   "id": "4ec9a59d",
   "metadata": {},
   "source": [
    "#### 중간정리\n",
    "a? a가 없거나 한개(0 또는 1개)\n",
    "\n",
    "a* a가 없거나 여러개(0이상)\n",
    "\n",
    "a+ a가 한개이상 있어야 (1개이상)\n",
    "\n",
    "a. a는 존재하고 그 뒤에 무조건 한글자는 있어야 (1개)"
   ]
  },
  {
   "cell_type": "code",
   "execution_count": 31,
   "id": "0cebe703",
   "metadata": {},
   "outputs": [
    {
     "data": {
      "text/plain": [
       "<re.Match object; span=(0, 2), match='an'>"
      ]
     },
     "execution_count": 31,
     "metadata": {},
     "output_type": "execute_result"
    }
   ],
   "source": [
    "r = re.compile('a.')\n",
    "r.search('an')"
   ]
  },
  {
   "cell_type": "markdown",
   "id": "b5ccb031",
   "metadata": {},
   "source": [
    "#### ^ => 다음에 오는 문자로 시작되는지\n",
    "ex)^c : 첫글자가 c인지"
   ]
  },
  {
   "cell_type": "code",
   "execution_count": 34,
   "id": "110a58e5",
   "metadata": {},
   "outputs": [
    {
     "data": {
      "text/plain": [
       "<re.Match object; span=(0, 1), match='c'>"
      ]
     },
     "execution_count": 34,
     "metadata": {},
     "output_type": "execute_result"
    }
   ],
   "source": [
    "r=re.compile('^c')\n",
    "r.search('caaa')"
   ]
  },
  {
   "cell_type": "code",
   "execution_count": 35,
   "id": "b78411c0",
   "metadata": {},
   "outputs": [],
   "source": [
    "r.search('acaa')"
   ]
  },
  {
   "cell_type": "code",
   "execution_count": 36,
   "id": "bf952075",
   "metadata": {},
   "outputs": [],
   "source": [
    "r=re.compile('^c.c') #첫글자가 c, 세번째글자도 c"
   ]
  },
  {
   "cell_type": "code",
   "execution_count": 37,
   "id": "8bba3af0",
   "metadata": {},
   "outputs": [
    {
     "data": {
      "text/plain": [
       "<re.Match object; span=(0, 3), match='cac'>"
      ]
     },
     "execution_count": 37,
     "metadata": {},
     "output_type": "execute_result"
    }
   ],
   "source": [
    "r.search('cacbbbbb')"
   ]
  },
  {
   "cell_type": "code",
   "execution_count": 38,
   "id": "f1622a3e",
   "metadata": {},
   "outputs": [],
   "source": [
    "r.search('aaccaaa')"
   ]
  },
  {
   "cell_type": "code",
   "execution_count": 40,
   "id": "3f64c7e8",
   "metadata": {},
   "outputs": [
    {
     "data": {
      "text/plain": [
       "<re.Match object; span=(2, 5), match='cac'>"
      ]
     },
     "execution_count": 40,
     "metadata": {},
     "output_type": "execute_result"
    }
   ],
   "source": [
    "#cf\n",
    "r=re.compile('c.c')\n",
    "r.search('aacacaa') #cac 부분과 매핑"
   ]
  },
  {
   "cell_type": "markdown",
   "id": "87900d9f",
   "metadata": {},
   "source": [
    "#### $ 이전에 오는 글자로 끝나는지\n",
    "\n",
    "ex) e$: e라는 글자로 끝는지"
   ]
  },
  {
   "cell_type": "code",
   "execution_count": 42,
   "id": "aaa712bf",
   "metadata": {},
   "outputs": [
    {
     "data": {
      "text/plain": [
       "<re.Match object; span=(4, 5), match='e'>"
      ]
     },
     "execution_count": 42,
     "metadata": {},
     "output_type": "execute_result"
    }
   ],
   "source": [
    "r=re.compile('e$')\n",
    "r.search('apple')"
   ]
  },
  {
   "cell_type": "code",
   "execution_count": 45,
   "id": "8c6b660d",
   "metadata": {},
   "outputs": [
    {
     "data": {
      "text/plain": [
       "<re.Match object; span=(0, 1), match='a'>"
      ]
     },
     "execution_count": 45,
     "metadata": {},
     "output_type": "execute_result"
    }
   ],
   "source": [
    "r=re.compile('[a-f]') #[abcdef] 와 [a-f]동일\n",
    "r.search('a')"
   ]
  },
  {
   "cell_type": "code",
   "execution_count": 52,
   "id": "eae50eaf",
   "metadata": {},
   "outputs": [
    {
     "data": {
      "text/plain": [
       "<re.Match object; span=(0, 1), match='a'>"
      ]
     },
     "execution_count": 52,
     "metadata": {},
     "output_type": "execute_result"
    }
   ],
   "source": [
    "r=re.compile('[a-z]') #a부터 z까지 글자중 하나찾음\n",
    "r.search('aaaaaaaaa00000dfffffff')"
   ]
  },
  {
   "cell_type": "code",
   "execution_count": 53,
   "id": "b7cae26f",
   "metadata": {},
   "outputs": [],
   "source": [
    "r=re.compile('[A-Za-z]') # 대문자 A-Z 까지 or a부터 z까지 글자중 하나찾음"
   ]
  },
  {
   "cell_type": "markdown",
   "id": "25c4ca3c",
   "metadata": {},
   "source": [
    "#### 정규표현식 축약표시\n",
    "\\d :[0-9] 와 동일"
   ]
  },
  {
   "cell_type": "code",
   "execution_count": 56,
   "id": "1df1bb45",
   "metadata": {},
   "outputs": [
    {
     "data": {
      "text/plain": [
       "<re.Match object; span=(15, 18), match='500'>"
      ]
     },
     "execution_count": 56,
     "metadata": {},
     "output_type": "execute_result"
    }
   ],
   "source": [
    "r=re.compile('\\d+')\n",
    "r.search('adfasdf 가상 어쩌구 500원 \"대장주\"')"
   ]
  },
  {
   "cell_type": "markdown",
   "id": "9e3a1b16",
   "metadata": {},
   "source": [
    "\\w : [a-zA-z0-9] 문자+숫자"
   ]
  },
  {
   "cell_type": "code",
   "execution_count": 59,
   "id": "1a0abc51",
   "metadata": {},
   "outputs": [
    {
     "data": {
      "text/plain": [
       "<re.Match object; span=(6, 7), match='1'>"
      ]
     },
     "execution_count": 59,
     "metadata": {},
     "output_type": "execute_result"
    }
   ],
   "source": [
    "r=re.compile('\\w')\n",
    "r.search('@#$%%%11aaaaa000fdf')"
   ]
  },
  {
   "cell_type": "code",
   "execution_count": 60,
   "id": "e76cc65d",
   "metadata": {},
   "outputs": [
    {
     "data": {
      "text/plain": [
       "<re.Match object; span=(15, 18), match='500'>"
      ]
     },
     "execution_count": 60,
     "metadata": {},
     "output_type": "execute_result"
    }
   ],
   "source": [
    "r=re.compile('\\d+')\n",
    "res= r.search('adfasdf 가상 어쩌구 500원 \"대장주\"') #객체를 반환\n",
    "res #객체임을 알수있음"
   ]
  },
  {
   "cell_type": "code",
   "execution_count": 61,
   "id": "822a36b4",
   "metadata": {},
   "outputs": [
    {
     "data": {
      "text/plain": [
       "15"
      ]
     },
     "execution_count": 61,
     "metadata": {},
     "output_type": "execute_result"
    }
   ],
   "source": [
    "res.start() #따라서 함수를 가지고있고, start의 경우 시작되는 위치를 반환"
   ]
  },
  {
   "cell_type": "code",
   "execution_count": 62,
   "id": "31959f43",
   "metadata": {},
   "outputs": [
    {
     "data": {
      "text/plain": [
       "18"
      ]
     },
     "execution_count": 62,
     "metadata": {},
     "output_type": "execute_result"
    }
   ],
   "source": [
    "res.end()"
   ]
  },
  {
   "cell_type": "code",
   "execution_count": 63,
   "id": "83d23647",
   "metadata": {},
   "outputs": [
    {
     "data": {
      "text/plain": [
       "(15, 18)"
      ]
     },
     "execution_count": 63,
     "metadata": {},
     "output_type": "execute_result"
    }
   ],
   "source": [
    "res.span() #자체를 return 받을수도"
   ]
  },
  {
   "cell_type": "code",
   "execution_count": 64,
   "id": "9bfb685a",
   "metadata": {},
   "outputs": [
    {
     "data": {
      "text/plain": [
       "'500'"
      ]
     },
     "execution_count": 64,
     "metadata": {},
     "output_type": "execute_result"
    }
   ],
   "source": [
    "res.group()"
   ]
  },
  {
   "cell_type": "markdown",
   "id": "efc70971",
   "metadata": {},
   "source": [
    "#### search() 와 match()의 차이"
   ]
  },
  {
   "cell_type": "code",
   "execution_count": 66,
   "id": "a313023f",
   "metadata": {},
   "outputs": [
    {
     "data": {
      "text/plain": [
       "<re.Match object; span=(5, 9), match='1980'>"
      ]
     },
     "execution_count": 66,
     "metadata": {},
     "output_type": "execute_result"
    }
   ],
   "source": [
    "re.search('\\d+','홍길동은 1980년에 태어났습니다.')"
   ]
  },
  {
   "cell_type": "code",
   "execution_count": 67,
   "id": "dc95c2ef",
   "metadata": {},
   "outputs": [],
   "source": [
    "re.match('\\d+','홍길동은 1980년에 태어났습니다.') #못찾음 왜냐하면\n",
    "# = re.search('^\\d+','홍길동은 1980년에 태어났습니다.') #얘랑 같음"
   ]
  },
  {
   "cell_type": "code",
   "execution_count": 68,
   "id": "139bc4fe",
   "metadata": {},
   "outputs": [
    {
     "data": {
      "text/plain": [
       "<re.Match object; span=(0, 3), match='222'>"
      ]
     },
     "execution_count": 68,
     "metadata": {},
     "output_type": "execute_result"
    }
   ],
   "source": [
    "re.match('\\d+','222홍길동은 1980년에 태어났습니다.')"
   ]
  },
  {
   "cell_type": "markdown",
   "id": "ef1c5c89",
   "metadata": {},
   "source": [
    "#### findall\n",
    "정규식 패턴에 일치하는 모든 문자열을 찾아줌\n",
    "\n",
    "cf. search나 match 는 패턴에 일치하는 하나만 찾아줌"
   ]
  },
  {
   "cell_type": "code",
   "execution_count": 69,
   "id": "f9353756",
   "metadata": {},
   "outputs": [
    {
     "data": {
      "text/plain": [
       "['222', '1980']"
      ]
     },
     "execution_count": 69,
     "metadata": {},
     "output_type": "execute_result"
    }
   ],
   "source": [
    "re.findall('\\d+','222홍길동은 1980년에 태어났습니다.') #결과 값이 리스트인걸 확인가능"
   ]
  },
  {
   "cell_type": "code",
   "execution_count": 70,
   "id": "90ba3650",
   "metadata": {},
   "outputs": [
    {
     "name": "stdout",
     "output_type": "stream",
     "text": [
      "222\n",
      "1980\n"
     ]
    }
   ],
   "source": [
    "res=re.findall('\\d+','222홍길동은 1980년에 태어났습니다.')\n",
    "for i in res:\n",
    "    print(i)"
   ]
  },
  {
   "cell_type": "markdown",
   "id": "640bf58c",
   "metadata": {},
   "source": [
    "#### finditer\n",
    "주어진 패턴과 일치하는 모든문자를 매치 객체들의 리스트로 가져옴"
   ]
  },
  {
   "cell_type": "code",
   "execution_count": 72,
   "id": "b708cb81",
   "metadata": {},
   "outputs": [
    {
     "name": "stdout",
     "output_type": "stream",
     "text": [
      "M\n",
      "------------------------------\n",
      "(0, 1)\n",
      "------------------------------\n",
      "y\n",
      "------------------------------\n",
      "(1, 2)\n",
      "------------------------------\n",
      "b\n",
      "------------------------------\n",
      "(3, 4)\n",
      "------------------------------\n",
      "i\n",
      "------------------------------\n",
      "(4, 5)\n",
      "------------------------------\n",
      "r\n",
      "------------------------------\n",
      "(5, 6)\n",
      "------------------------------\n",
      "t\n",
      "------------------------------\n",
      "(6, 7)\n",
      "------------------------------\n",
      "h\n",
      "------------------------------\n",
      "(7, 8)\n",
      "------------------------------\n",
      "d\n",
      "------------------------------\n",
      "(8, 9)\n",
      "------------------------------\n",
      "a\n",
      "------------------------------\n",
      "(9, 10)\n",
      "------------------------------\n",
      "y\n",
      "------------------------------\n",
      "(10, 11)\n",
      "------------------------------\n",
      "i\n",
      "------------------------------\n",
      "(12, 13)\n",
      "------------------------------\n",
      "s\n",
      "------------------------------\n",
      "(13, 14)\n",
      "------------------------------\n",
      "O\n",
      "------------------------------\n",
      "(15, 16)\n",
      "------------------------------\n",
      "c\n",
      "------------------------------\n",
      "(16, 17)\n",
      "------------------------------\n",
      "t\n",
      "------------------------------\n",
      "(17, 18)\n",
      "------------------------------\n",
      "o\n",
      "------------------------------\n",
      "(18, 19)\n",
      "------------------------------\n",
      "b\n",
      "------------------------------\n",
      "(19, 20)\n",
      "------------------------------\n",
      "e\n",
      "------------------------------\n",
      "(20, 21)\n",
      "------------------------------\n",
      "r\n",
      "------------------------------\n",
      "(21, 22)\n",
      "------------------------------\n",
      "2\n",
      "------------------------------\n",
      "(23, 24)\n",
      "------------------------------\n",
      "3\n",
      "------------------------------\n",
      "(24, 25)\n",
      "------------------------------\n",
      "t\n",
      "------------------------------\n",
      "(25, 26)\n",
      "------------------------------\n",
      "h\n",
      "------------------------------\n",
      "(26, 27)\n",
      "------------------------------\n"
     ]
    }
   ],
   "source": [
    "r=re.compile('\\w')\n",
    "res=r.finditer('My birthday is October 23th')\n",
    "for i in res:\n",
    "    print(i.group())\n",
    "    print('-'*30)\n",
    "    print(i.span())\n",
    "    print('-'*30)"
   ]
  },
  {
   "cell_type": "markdown",
   "id": "df16e72e",
   "metadata": {},
   "source": [
    "#### 정규식 수량한정자"
   ]
  },
  {
   "cell_type": "code",
   "execution_count": 74,
   "id": "36e64304",
   "metadata": {},
   "outputs": [
    {
     "name": "stdout",
     "output_type": "stream",
     "text": [
      "<re.Match object; span=(0, 3), match='222'>\n",
      "0\n",
      "<re.Match object; span=(8, 12), match='1980'>\n",
      "8\n"
     ]
    }
   ],
   "source": [
    "res=re.finditer('\\d+','222홍길동은 1980년에 태어났습니다.')\n",
    "for i in res:\n",
    "    print(i) #매치된 객체를 보여줌\n",
    "    print(i.start()) #매치된 객체의 start만 보여줌"
   ]
  },
  {
   "cell_type": "code",
   "execution_count": 76,
   "id": "503e86b2",
   "metadata": {},
   "outputs": [
    {
     "name": "stdout",
     "output_type": "stream",
     "text": [
      "<re.Match object; span=(0, 3), match='100'>\n",
      "<re.Match object; span=(0, 3), match='100'>\n"
     ]
    }
   ],
   "source": [
    "##숫자 3자리 \n",
    "print(re.search(\"^\\d\\d\\d$\",\"100\"))  \t# 아래와 동일  \n",
    "print(re.search(\"^\\d{3}$\", \"100\"))"
   ]
  },
  {
   "cell_type": "code",
   "execution_count": 77,
   "id": "9c4f1903",
   "metadata": {},
   "outputs": [
    {
     "name": "stdout",
     "output_type": "stream",
     "text": [
      "<re.Match object; span=(0, 3), match='abc'>\n",
      "<re.Match object; span=(0, 3), match='abc'>\n"
     ]
    }
   ],
   "source": [
    "print(re.search(\"^\\w\\w\\w$\",\"abc\"))  \t#아래와 동일 \n",
    "print(re.search(\"^\\w{3}$\" , \"abc\"))  \t"
   ]
  },
  {
   "cell_type": "code",
   "execution_count": 78,
   "id": "439e96ba",
   "metadata": {},
   "outputs": [
    {
     "name": "stdout",
     "output_type": "stream",
     "text": [
      "<re.Match object; span=(0, 3), match='100'>\n"
     ]
    }
   ],
   "source": [
    "##숫자 1~3자리 \n",
    "print(re.search(\"^\\d{1,3}$\",\"100\"))"
   ]
  },
  {
   "cell_type": "code",
   "execution_count": 79,
   "id": "74f6a970",
   "metadata": {},
   "outputs": [
    {
     "name": "stdout",
     "output_type": "stream",
     "text": [
      "<re.Match object; span=(0, 1), match='a'>\n",
      "<re.Match object; span=(0, 1), match='b'>\n"
     ]
    }
   ],
   "source": [
    "##a 또는 b  \n",
    "print(re.search(\"^(a|b)$\",\"a\"))   # a또는 b로 시작하는가?  \n",
    "print(re.search(\"^(a|b)$\",\"b\"))   # a또는 b로 시작하는가?  "
   ]
  },
  {
   "cell_type": "markdown",
   "id": "737b5122",
   "metadata": {},
   "source": [
    "#### 정규식 split"
   ]
  },
  {
   "cell_type": "code",
   "execution_count": 86,
   "id": "a85c24da",
   "metadata": {},
   "outputs": [
    {
     "data": {
      "text/plain": [
       "['Apple Orange', ' Grape Cherry']"
      ]
     },
     "execution_count": 86,
     "metadata": {},
     "output_type": "execute_result"
    }
   ],
   "source": [
    "re.split('[:]+','Apple Orange: Grape Cherry') # :이 1개이상있는게구분자가 된다."
   ]
  },
  {
   "cell_type": "code",
   "execution_count": 92,
   "id": "c5d21df0",
   "metadata": {},
   "outputs": [
    {
     "data": {
      "text/plain": [
       "['Apple Orange', 'Grape Cherry']"
      ]
     },
     "execution_count": 92,
     "metadata": {},
     "output_type": "execute_result"
    }
   ],
   "source": [
    "re.split(': +','Apple Orange: Grape Cherry')"
   ]
  },
  {
   "cell_type": "code",
   "execution_count": 87,
   "id": "9ccb0b4d",
   "metadata": {},
   "outputs": [
    {
     "data": {
      "text/plain": [
       "['Apple', 'Orange', 'Grape', 'Cherry']"
      ]
     },
     "execution_count": 87,
     "metadata": {},
     "output_type": "execute_result"
    }
   ],
   "source": [
    "re.split('[: ]+','Apple Orange : Grape Cherry') # :이나 공백이 구분자가 된다"
   ]
  },
  {
   "cell_type": "markdown",
   "id": "8a882da7",
   "metadata": {},
   "source": [
    "#### 문자열을 replace 시키는 정규식 sub() => 즉 주어진패턴과 일치하는 문쟈를 변경"
   ]
  },
  {
   "cell_type": "code",
   "execution_count": 90,
   "id": "d09df553",
   "metadata": {},
   "outputs": [
    {
     "data": {
      "text/plain": [
       "'111111*1010100'"
      ]
     },
     "execution_count": 90,
     "metadata": {},
     "output_type": "execute_result"
    }
   ],
   "source": [
    "re.sub('-','*','111111-1010100') # -를 *로"
   ]
  },
  {
   "cell_type": "code",
   "execution_count": null,
   "id": "8fb4a690",
   "metadata": {},
   "outputs": [],
   "source": []
  }
 ],
 "metadata": {
  "kernelspec": {
   "display_name": "Python 3",
   "language": "python",
   "name": "python3"
  },
  "language_info": {
   "codemirror_mode": {
    "name": "ipython",
    "version": 3
   },
   "file_extension": ".py",
   "mimetype": "text/x-python",
   "name": "python",
   "nbconvert_exporter": "python",
   "pygments_lexer": "ipython3",
   "version": "3.7.7"
  }
 },
 "nbformat": 4,
 "nbformat_minor": 5
}
