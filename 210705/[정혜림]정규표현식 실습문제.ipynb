{
 "cells": [
  {
   "cell_type": "code",
   "execution_count": 93,
   "id": "27d9d4e7",
   "metadata": {},
   "outputs": [
    {
     "name": "stdout",
     "output_type": "stream",
     "text": [
      "핸드폰번호를 입력하세요: (단 -는 반드시 포함해야합니다)010-\n",
      "중간자리와 뒷자리를 입력하세요\n"
     ]
    }
   ],
   "source": [
    "#핸드폰 번호 형식에 맞는지 확인\n",
    "import re\n",
    "num=input(\"핸드폰번호를 입력하세요: (단 -는 반드시 포함해야합니다)\")\n",
    "res=re.search('\\d+',num)\n",
    "res=re.split('-',num)\n",
    "if len(res[0])==3:\n",
    "    if len(res[1])==4:\n",
    "        if len(res[2])==4:\n",
    "            print(\"올바른 형식입니다.\")\n",
    "        else:\n",
    "            print(\"뒷자리를 입력하세요\")\n",
    "    else:\n",
    "        print(\"중간자리와 뒷자리를 입력하세요\")\n",
    "else:\n",
    "    print(\"형식대로 입력하세요\")"
   ]
  },
  {
   "cell_type": "code",
   "execution_count": 82,
   "id": "bd8c924e",
   "metadata": {},
   "outputs": [
    {
     "name": "stdout",
     "output_type": "stream",
     "text": [
      "생년월일을 입력하세요:9511\n",
      "다시 입력하세요\n"
     ]
    }
   ],
   "source": [
    "# 생년월일 형식에 맞는지 확인\n",
    "birth=input(\"생년월일을 입력하세요:\")\n",
    "res=re.search(\"^\\d{6}$\",birth)\n",
    "if res == None:\n",
    "    print(\"다시 입력하세요\")\n",
    "else:\n",
    "    print(res.group())"
   ]
  },
  {
   "cell_type": "code",
   "execution_count": 94,
   "id": "bbbfe3b6",
   "metadata": {},
   "outputs": [
    {
     "name": "stdout",
     "output_type": "stream",
     "text": [
      "주민등록번호를 입력하세요: (단 -는 생략합니다)9500001050600\n",
      "남자\n"
     ]
    }
   ],
   "source": [
    "#주민등록번호를 확인 ('- 없는 버전')\n",
    "import re\n",
    "x=input(\"주민등록번호를 입력하세요: (단, -는 생략합니다.)\")\n",
    "res=re.search('\\d+',x)\n",
    "if res==None:\n",
    "    print(\"숫자로 입력하세요\")\n",
    "elif res.end()!=13:\n",
    "    print(\"13자리로 입력하세요\")\n",
    "\n",
    "a=[]\n",
    "for i in res.group():\n",
    "    a.append(i)\n",
    "\n",
    "if a[6]=='1':\n",
    "    print(\"남자\")\n",
    "elif a[6]=='2':\n",
    "    print('여자')\n",
    "else:\n",
    "    print(\"잘못된 주민번호 입니다.\")"
   ]
  },
  {
   "cell_type": "code",
   "execution_count": 136,
   "id": "832f3704",
   "metadata": {},
   "outputs": [
    {
     "name": "stdout",
     "output_type": "stream",
     "text": [
      "주민등록번호를 입력하세요:951111-1050600\n",
      "9\n",
      "5\n",
      "1\n",
      "1\n",
      "1\n",
      "1\n",
      "1\n",
      "0\n",
      "5\n",
      "0\n",
      "6\n",
      "0\n",
      "0\n",
      "남자\n"
     ]
    }
   ],
   "source": [
    "#주민등록번호를 확인('- 있는버전')\n",
    "import re\n",
    "x=input(\"주민등록번호를 입력하세요:\")\n",
    "res=re.findall('\\w',x)\n",
    "if re.search('\\d+',x)==None:\n",
    "    print(\"숫자로 입력하세요\")\n",
    "elif len(res)!=13:\n",
    "    print(\"13자리로 입력하세요\")\n",
    "else:    \n",
    "    a=[]\n",
    "    for i in res:\n",
    "#         print(i)\n",
    "        a.append(i)\n",
    "\n",
    "    if a[6]=='1':\n",
    "        print(\"남자\")\n",
    "    elif a[6]=='2':\n",
    "        print('여자')\n",
    "    else:\n",
    "        print(\"잘못된 주민번호 입니다.\")"
   ]
  },
  {
   "cell_type": "code",
   "execution_count": null,
   "id": "ac02353d",
   "metadata": {},
   "outputs": [],
   "source": []
  }
 ],
 "metadata": {
  "kernelspec": {
   "display_name": "Python 3",
   "language": "python",
   "name": "python3"
  },
  "language_info": {
   "codemirror_mode": {
    "name": "ipython",
    "version": 3
   },
   "file_extension": ".py",
   "mimetype": "text/x-python",
   "name": "python",
   "nbconvert_exporter": "python",
   "pygments_lexer": "ipython3",
   "version": "3.7.7"
  }
 },
 "nbformat": 4,
 "nbformat_minor": 5
}
