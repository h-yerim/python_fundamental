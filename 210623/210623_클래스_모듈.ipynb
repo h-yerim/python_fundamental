{
 "cells": [
  {
   "cell_type": "markdown",
   "id": "7486c1a2",
   "metadata": {},
   "source": [
    "### 클래스 & 모듈\n",
    "1. 클래스(class) -> 같은것을 계속 만들어내는 설계, 틀 (ex.Series도 하나의 클래스인셈)\n",
    " - 객체(object)는 클래스에 의해 만들어진 것\n",
    " - 각각의 객체는 독립적이다\n",
    " - 클래스는 변수와 함수로 구성되어 있다\n",
    "2. 인스턴스(instance) -> 클래스에 의해 만들어진 객체\n",
    " - 메모리에 할당\n",
    " - 객체이름 = 클래스이름(파라미터..)\n",
    " - 객체이름.변수 or 객체이름.메소드() 형식으로 사용\n",
    "3. 속성\n",
    " - 클래스의 속성(attribute)\n",
    "4. 메소드(method)\n",
    " - 객체가 할 수 있는 기능, 동작\n",
    "5. 객체지향, 캡슐화 -> 속성과 메서드를 하나로 묶어서 처리"
   ]
  },
  {
   "cell_type": "code",
   "execution_count": 4,
   "id": "2fd6e707",
   "metadata": {},
   "outputs": [],
   "source": [
    "result = 0\n",
    "def add(num):\n",
    "    global result #외부변수 사용시\n",
    "    result += num\n",
    "    return result"
   ]
  },
  {
   "cell_type": "code",
   "execution_count": 5,
   "id": "80c5b610",
   "metadata": {},
   "outputs": [
    {
     "data": {
      "text/plain": [
       "3"
      ]
     },
     "execution_count": 5,
     "metadata": {},
     "output_type": "execute_result"
    }
   ],
   "source": [
    "add(3)"
   ]
  },
  {
   "cell_type": "code",
   "execution_count": 6,
   "id": "4167a3d4",
   "metadata": {},
   "outputs": [
    {
     "data": {
      "text/plain": [
       "8"
      ]
     },
     "execution_count": 6,
     "metadata": {},
     "output_type": "execute_result"
    }
   ],
   "source": [
    "add(5)"
   ]
  },
  {
   "cell_type": "code",
   "execution_count": 7,
   "id": "eec7434c",
   "metadata": {},
   "outputs": [],
   "source": [
    "result1 = 0\n",
    "result2 = 0\n",
    "def add1(num):\n",
    "    global result1\n",
    "    result1 += num\n",
    "    return result1\n",
    "\n",
    "def add2(num):\n",
    "    global result2\n",
    "    result2+= num\n",
    "    return result2"
   ]
  },
  {
   "cell_type": "code",
   "execution_count": 8,
   "id": "7ffb0105",
   "metadata": {},
   "outputs": [
    {
     "data": {
      "text/plain": [
       "8"
      ]
     },
     "execution_count": 8,
     "metadata": {},
     "output_type": "execute_result"
    }
   ],
   "source": [
    "add1(5)\n",
    "add1(3)"
   ]
  },
  {
   "cell_type": "code",
   "execution_count": 9,
   "id": "6213035d",
   "metadata": {},
   "outputs": [
    {
     "data": {
      "text/plain": [
       "9"
      ]
     },
     "execution_count": 9,
     "metadata": {},
     "output_type": "execute_result"
    }
   ],
   "source": [
    "add2(2)\n",
    "add2(7)"
   ]
  },
  {
   "cell_type": "markdown",
   "id": "a165a559",
   "metadata": {},
   "source": [
    "### class 만들기\n",
    "class 클래스명:\n",
    "\n",
    "    클래스 변수 선언\n",
    "\n",
    "    def 함수\n",
    "\n",
    "    def 함수"
   ]
  },
  {
   "cell_type": "code",
   "execution_count": 10,
   "id": "59dcb1fb",
   "metadata": {},
   "outputs": [],
   "source": [
    "#클래스명의 첫글자는 대문자로(두글자가 합쳐지면 합쳐진 글자의 첫글자도 대문자로)\n",
    "class Calculator: \n",
    "    txt = \"문자\"\n",
    "    def sum(self,a,b): #self쓰는것은 문법임\n",
    "        c = a+b\n",
    "        return c"
   ]
  },
  {
   "cell_type": "code",
   "execution_count": 16,
   "id": "030e9f20",
   "metadata": {},
   "outputs": [
    {
     "data": {
      "text/plain": [
       "<__main__.Calculator at 0x1a1813dda30>"
      ]
     },
     "execution_count": 16,
     "metadata": {},
     "output_type": "execute_result"
    }
   ],
   "source": [
    "Calculator() # 객체가 0x~ 여기에 있다는 뜻"
   ]
  },
  {
   "cell_type": "code",
   "execution_count": 13,
   "id": "41461f37",
   "metadata": {},
   "outputs": [],
   "source": [
    "x= Calculator() #클래스 복제. 기능부여 ex) s1=pd.Series() 랑 같은개념"
   ]
  },
  {
   "cell_type": "code",
   "execution_count": 14,
   "id": "4e1e26a7",
   "metadata": {},
   "outputs": [
    {
     "data": {
      "text/plain": [
       "7"
      ]
     },
     "execution_count": 14,
     "metadata": {},
     "output_type": "execute_result"
    }
   ],
   "source": [
    "x.sum(2,5)"
   ]
  },
  {
   "cell_type": "code",
   "execution_count": 15,
   "id": "117efe11",
   "metadata": {},
   "outputs": [
    {
     "data": {
      "text/plain": [
       "'문자'"
      ]
     },
     "execution_count": 15,
     "metadata": {},
     "output_type": "execute_result"
    }
   ],
   "source": [
    "x.txt"
   ]
  },
  {
   "cell_type": "code",
   "execution_count": 17,
   "id": "a828c5d2",
   "metadata": {},
   "outputs": [],
   "source": [
    "class Employee:\n",
    "    def __init__(self,name,salary): #생성자함수, 클래스가 시작되면 바로 얘도 시작됨\n",
    "        print(\"시작\")\n",
    "        self.name = name #외부에서 받은변수 다시 할당\n",
    "        self.salary = salary\n",
    "    def display(self):\n",
    "        print(\"hello~\",self.name)"
   ]
  },
  {
   "cell_type": "code",
   "execution_count": 19,
   "id": "dcce8158",
   "metadata": {},
   "outputs": [
    {
     "data": {
      "text/plain": [
       "__main__.Employee"
      ]
     },
     "execution_count": 19,
     "metadata": {},
     "output_type": "execute_result"
    }
   ],
   "source": [
    "Employee"
   ]
  },
  {
   "cell_type": "code",
   "execution_count": 20,
   "id": "aa425b25",
   "metadata": {},
   "outputs": [
    {
     "name": "stdout",
     "output_type": "stream",
     "text": [
      "시작\n"
     ]
    }
   ],
   "source": [
    "x=Employee(\"길동스\",100) #()비워두고 쓸수없당 위에 argument 2개 있기 때문"
   ]
  },
  {
   "cell_type": "code",
   "execution_count": 21,
   "id": "5d38d51a",
   "metadata": {},
   "outputs": [
    {
     "data": {
      "text/plain": [
       "<bound method Employee.display of <__main__.Employee object at 0x000001A1813DD100>>"
      ]
     },
     "execution_count": 21,
     "metadata": {},
     "output_type": "execute_result"
    }
   ],
   "source": [
    "x.display"
   ]
  },
  {
   "cell_type": "code",
   "execution_count": 22,
   "id": "258eadb9",
   "metadata": {},
   "outputs": [
    {
     "name": "stdout",
     "output_type": "stream",
     "text": [
      "hello~ 길동스\n"
     ]
    }
   ],
   "source": [
    "x.display()"
   ]
  },
  {
   "cell_type": "code",
   "execution_count": 23,
   "id": "51e4a864",
   "metadata": {},
   "outputs": [
    {
     "data": {
      "text/plain": [
       "'길동스'"
      ]
     },
     "execution_count": 23,
     "metadata": {},
     "output_type": "execute_result"
    }
   ],
   "source": [
    "x.name"
   ]
  },
  {
   "cell_type": "markdown",
   "id": "b78b6fea",
   "metadata": {},
   "source": [
    "### 모듈\n",
    "1. 모듈 사용하기 위해 import 하기"
   ]
  },
  {
   "cell_type": "code",
   "execution_count": 24,
   "id": "5b2d57df",
   "metadata": {},
   "outputs": [],
   "source": [
    "import pandas as pd"
   ]
  },
  {
   "cell_type": "code",
   "execution_count": 25,
   "id": "d75a9817",
   "metadata": {},
   "outputs": [],
   "source": [
    "from pandas import Series, DataFrame #pandas 중에 요 2개만쓰게땅"
   ]
  },
  {
   "cell_type": "code",
   "execution_count": 26,
   "id": "6162d704",
   "metadata": {},
   "outputs": [],
   "source": [
    "import matplotlib.pyplot as plt #matplotlib 모듈 안의 pyplot 클래스를 쓸거임"
   ]
  },
  {
   "cell_type": "markdown",
   "id": "fb44cc18",
   "metadata": {},
   "source": [
    "2. 모듈 설치하기\n",
    "- conda prompt -> install 실행\n",
    "  + conda install 라이브러리명\n",
    "  + pip install 라이브러리명\n",
    "-https://www.lfd.uci.edu/~gohlke/pythonlibs\n",
    "  + 필요한 라이브러리 *.whl 다운받음\n",
    "  + pip install *.whl"
   ]
  },
  {
   "cell_type": "code",
   "execution_count": 27,
   "id": "e9b7b4eb",
   "metadata": {},
   "outputs": [],
   "source": [
    "import selenium "
   ]
  }
 ],
 "metadata": {
  "kernelspec": {
   "display_name": "Python 3",
   "language": "python",
   "name": "python3"
  },
  "language_info": {
   "codemirror_mode": {
    "name": "ipython",
    "version": 3
   },
   "file_extension": ".py",
   "mimetype": "text/x-python",
   "name": "python",
   "nbconvert_exporter": "python",
   "pygments_lexer": "ipython3",
   "version": "3.8.8"
  }
 },
 "nbformat": 4,
 "nbformat_minor": 5
}
