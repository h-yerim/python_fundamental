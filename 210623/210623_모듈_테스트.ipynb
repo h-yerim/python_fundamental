{
 "cells": [
  {
   "cell_type": "code",
   "execution_count": 1,
   "id": "c08df4e6",
   "metadata": {},
   "outputs": [],
   "source": [
    "import mod1 #py파일 만들었기 때문에 가능"
   ]
  },
  {
   "cell_type": "code",
   "execution_count": 2,
   "id": "b31c620e",
   "metadata": {},
   "outputs": [
    {
     "name": "stdout",
     "output_type": "stream",
     "text": [
      "MyClass 초기화\n"
     ]
    }
   ],
   "source": [
    "a = mod1.MyClass()"
   ]
  },
  {
   "cell_type": "code",
   "execution_count": 3,
   "id": "76fabeb8",
   "metadata": {},
   "outputs": [
    {
     "name": "stdout",
     "output_type": "stream",
     "text": [
      "['__class__', '__delattr__', '__dict__', '__dir__', '__doc__', '__eq__', '__format__', '__ge__', '__getattribute__', '__gt__', '__hash__', '__init__', '__init_subclass__', '__le__', '__lt__', '__module__', '__ne__', '__new__', '__reduce__', '__reduce_ex__', '__repr__', '__setattr__', '__sizeof__', '__str__', '__subclasshook__', '__weakref__', 'size']\n"
     ]
    }
   ],
   "source": [
    "print(dir(a)) #size만 우리가 만든 내부변수"
   ]
  },
  {
   "cell_type": "code",
   "execution_count": 4,
   "id": "3368fd9a",
   "metadata": {},
   "outputs": [
    {
     "data": {
      "text/plain": [
       "mod1.MyClass"
      ]
     },
     "execution_count": 4,
     "metadata": {},
     "output_type": "execute_result"
    }
   ],
   "source": [
    "a.__class__"
   ]
  },
  {
   "cell_type": "code",
   "execution_count": 5,
   "id": "ad305f6e",
   "metadata": {},
   "outputs": [
    {
     "data": {
      "text/plain": [
       "5"
      ]
     },
     "execution_count": 5,
     "metadata": {},
     "output_type": "execute_result"
    }
   ],
   "source": [
    "a.size #size 말고는 쓸수있는게 없다"
   ]
  },
  {
   "cell_type": "code",
   "execution_count": 6,
   "id": "03c0acdf",
   "metadata": {},
   "outputs": [],
   "source": [
    "import mod2"
   ]
  },
  {
   "cell_type": "code",
   "execution_count": 7,
   "id": "edd0d2ce",
   "metadata": {},
   "outputs": [
    {
     "name": "stdout",
     "output_type": "stream",
     "text": [
      "MyClass 초기화\n"
     ]
    }
   ],
   "source": [
    "b=mod2.MyClass2()"
   ]
  },
  {
   "cell_type": "code",
   "execution_count": 8,
   "id": "04a68596",
   "metadata": {},
   "outputs": [
    {
     "data": {
      "text/plain": [
       "10"
      ]
     },
     "execution_count": 8,
     "metadata": {},
     "output_type": "execute_result"
    }
   ],
   "source": [
    "b.length"
   ]
  },
  {
   "cell_type": "code",
   "execution_count": 9,
   "id": "7f017a6c",
   "metadata": {},
   "outputs": [
    {
     "data": {
      "text/plain": [
       "5"
      ]
     },
     "execution_count": 9,
     "metadata": {},
     "output_type": "execute_result"
    }
   ],
   "source": [
    "b.size"
   ]
  },
  {
   "cell_type": "code",
   "execution_count": 10,
   "id": "ba16e519",
   "metadata": {},
   "outputs": [
    {
     "data": {
      "text/plain": [
       "15"
      ]
     },
     "execution_count": 10,
     "metadata": {},
     "output_type": "execute_result"
    }
   ],
   "source": [
    "b.sub(3,5)"
   ]
  },
  {
   "cell_type": "code",
   "execution_count": 11,
   "id": "14a5c65a",
   "metadata": {},
   "outputs": [
    {
     "data": {
      "text/plain": [
       "6"
      ]
     },
     "execution_count": 11,
     "metadata": {},
     "output_type": "execute_result"
    }
   ],
   "source": [
    "b.add(2,4)"
   ]
  }
 ],
 "metadata": {
  "kernelspec": {
   "display_name": "Python 3",
   "language": "python",
   "name": "python3"
  },
  "language_info": {
   "codemirror_mode": {
    "name": "ipython",
    "version": 3
   },
   "file_extension": ".py",
   "mimetype": "text/x-python",
   "name": "python",
   "nbconvert_exporter": "python",
   "pygments_lexer": "ipython3",
   "version": "3.8.8"
  }
 },
 "nbformat": 4,
 "nbformat_minor": 5
}
