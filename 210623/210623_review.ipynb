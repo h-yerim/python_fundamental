{
 "cells": [
  {
   "cell_type": "markdown",
   "id": "2d0dc284",
   "metadata": {},
   "source": [
    "### 섭씨 온도를 화씨로 계산하는 함수 만들기\n",
    "1. 섭씨(celcius), 화씨(fahr),함수(conv_fahr)\n",
    "2. 화씨=((9/5)*섭씨)+32\n",
    "- 섭씨 25도는 화씨 77도\n",
    "3. 화씨를 변환하여 결과를 돌려주는 함수 만들기\n",
    "4. 화면에서 섭씨 온도를 입력받아 함수를 이용해 결과 받아서\n",
    "5. 화면에 출력\n",
    "- 섭씨 00은 화씨 00 입니다."
   ]
  },
  {
   "cell_type": "code",
   "execution_count": 6,
   "id": "845e3c7d",
   "metadata": {},
   "outputs": [
    {
     "name": "stdout",
     "output_type": "stream",
     "text": [
      "섭씨 온도를 입력하세요: 25\n",
      "섭씨 25 은 화씨 77.0 입니다.\n"
     ]
    }
   ],
   "source": [
    "celcius = int(input(\"섭씨 온도를 입력하세요: \"))\n",
    "def conv_fahr(celcius):\n",
    "    fahr = (9/5)*celcius+32\n",
    "    return fahr\n",
    "fahr= conv_fahr(celcius)\n",
    "#print(\"섭씨 %d는 화씨 %3.2f 입니다\"%(celcius,fahr))\n",
    "print(\"섭씨\",celcius,\"은\",\"화씨\",conv_fahr(celcius),\"입니다.\")"
   ]
  },
  {
   "cell_type": "markdown",
   "id": "416e2293",
   "metadata": {},
   "source": [
    "### 다음 데이터를 화씨로 변환하기\n",
    "1. 함수 이용\n",
    "2. x=[25,20,32,35]\n",
    "3. 화씨 y 만들기"
   ]
  },
  {
   "cell_type": "code",
   "execution_count": 14,
   "id": "6667d97e",
   "metadata": {},
   "outputs": [
    {
     "name": "stdout",
     "output_type": "stream",
     "text": [
      "섭씨 25 은 화씨 77.0 입니다.\n",
      "섭씨 20 은 화씨 68.0 입니다.\n",
      "섭씨 32 은 화씨 89.6 입니다.\n",
      "섭씨 35 은 화씨 95.0 입니다.\n",
      "[77.0, 68.0, 89.6, 95.0]\n"
     ]
    }
   ],
   "source": [
    "x=[25,20,32,35]\n",
    "y=[]\n",
    "for i in x:\n",
    "    j = conv_fahr(i)\n",
    "    print(\"섭씨\",i,\"은\",\"화씨\",j,\"입니다.\")\n",
    "    y.append(conv_fahr(i))\n",
    "    \n",
    "print(y)"
   ]
  },
  {
   "cell_type": "code",
   "execution_count": 16,
   "id": "a5e8f3ae",
   "metadata": {},
   "outputs": [
    {
     "name": "stdout",
     "output_type": "stream",
     "text": [
      "[77.0, 68.0, 89.6, 95.0]\n"
     ]
    }
   ],
   "source": [
    "#더 간단히\n",
    "y=[]\n",
    "for i in x:\n",
    "    y.append(conv_fahr(i))\n",
    "print(y)"
   ]
  },
  {
   "cell_type": "code",
   "execution_count": 17,
   "id": "f364d877",
   "metadata": {},
   "outputs": [
    {
     "data": {
      "text/plain": [
       "[77.0, 68.0, 89.6, 95.0]"
      ]
     },
     "execution_count": 17,
     "metadata": {},
     "output_type": "execute_result"
    }
   ],
   "source": [
    "# list comprehension\n",
    "[conv_fahr(i) for i in x] #for문돌릴때 실행문 conv_fahr(i) =>결과값을 [] 리스트로 받는다."
   ]
  },
  {
   "cell_type": "code",
   "execution_count": 18,
   "id": "6c9beda3",
   "metadata": {},
   "outputs": [
    {
     "data": {
      "text/plain": [
       "[77.0, 68.0, 89.6, 95.0]"
      ]
     },
     "execution_count": 18,
     "metadata": {},
     "output_type": "execute_result"
    }
   ],
   "source": [
    "y= [conv_fahr(i) for i in x]\n",
    "y"
   ]
  },
  {
   "cell_type": "code",
   "execution_count": 23,
   "id": "0f7557b6",
   "metadata": {},
   "outputs": [
    {
     "data": {
      "text/plain": [
       "<map at 0x205aaf55df0>"
      ]
     },
     "execution_count": 23,
     "metadata": {},
     "output_type": "execute_result"
    }
   ],
   "source": [
    "#map()은 iterable한 것에 함수를 하나씩 적용시켜줌 => 객체로 반환\n",
    "map(conv_fahr,x)"
   ]
  },
  {
   "cell_type": "code",
   "execution_count": 24,
   "id": "9c97415b",
   "metadata": {},
   "outputs": [
    {
     "data": {
      "text/plain": [
       "[77.0, 68.0, 89.6, 95.0]"
      ]
     },
     "execution_count": 24,
     "metadata": {},
     "output_type": "execute_result"
    }
   ],
   "source": [
    "list(map(conv_fahr,x))"
   ]
  },
  {
   "cell_type": "markdown",
   "id": "6ec56661",
   "metadata": {},
   "source": [
    "섭씨온도를 입력받아 온도가 0이거나 5번을 반복하면 종료하는 while문 만들기"
   ]
  },
  {
   "cell_type": "code",
   "execution_count": 7,
   "id": "13eaac41",
   "metadata": {},
   "outputs": [
    {
     "name": "stdout",
     "output_type": "stream",
     "text": [
      "섭씨온도는? 25\n",
      "화씨:  77.0\n",
      "섭씨온도는? 0\n",
      "화씨:  32.0\n"
     ]
    }
   ],
   "source": [
    "num = 0\n",
    "while True:\n",
    "    x=int(input(\"섭씨온도는? \"))\n",
    "    y= conv_fahr(x)\n",
    "    print(\"화씨: \",y)\n",
    "    num+=1\n",
    "    if (x==0) or (num>4):\n",
    "        break"
   ]
  }
 ],
 "metadata": {
  "kernelspec": {
   "display_name": "Python 3",
   "language": "python",
   "name": "python3"
  },
  "language_info": {
   "codemirror_mode": {
    "name": "ipython",
    "version": 3
   },
   "file_extension": ".py",
   "mimetype": "text/x-python",
   "name": "python",
   "nbconvert_exporter": "python",
   "pygments_lexer": "ipython3",
   "version": "3.8.8"
  }
 },
 "nbformat": 4,
 "nbformat_minor": 5
}
