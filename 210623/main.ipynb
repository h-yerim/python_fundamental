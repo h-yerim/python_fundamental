{
 "cells": [
  {
   "cell_type": "code",
   "execution_count": 2,
   "id": "f981de58",
   "metadata": {},
   "outputs": [
    {
     "name": "stdout",
     "output_type": "stream",
     "text": [
      "Writing main.py\n"
     ]
    }
   ],
   "source": [
    "%%writefile main.py\n",
    "if __name__ == \"__main__\":\n",
    "    print(\"hello 모듈 시작\")\n",
    "    print(\"모듈명=\",__name__)\n",
    "    print(\"hello 모듈 끝\")\n",
    "else:\n",
    "    print(\"다른 모듈에서 import 하여 사용됨\")"
   ]
  },
  {
   "cell_type": "code",
   "execution_count": 3,
   "id": "6db6dd03",
   "metadata": {},
   "outputs": [
    {
     "name": "stdout",
     "output_type": "stream",
     "text": [
      "hello 모듈 시작\n",
      "모듈명= __main__\n",
      "hello 모듈 끝\n"
     ]
    }
   ],
   "source": [
    "%run main.py #jupyter의 기능"
   ]
  },
  {
   "cell_type": "code",
   "execution_count": 4,
   "id": "2567e06f",
   "metadata": {},
   "outputs": [
    {
     "name": "stdout",
     "output_type": "stream",
     "text": [
      "hello 모듈 시작\n",
      "모듈명= __main__\n",
      "hello 모듈 끝\n"
     ]
    }
   ],
   "source": [
    "!python main.py"
   ]
  },
  {
   "cell_type": "code",
   "execution_count": 5,
   "id": "6e9902cc",
   "metadata": {},
   "outputs": [
    {
     "name": "stdout",
     "output_type": "stream",
     "text": [
      "다른 모듈에서 import 하여 사용됨\n"
     ]
    }
   ],
   "source": [
    "import main"
   ]
  }
 ],
 "metadata": {
  "kernelspec": {
   "display_name": "Python 3",
   "language": "python",
   "name": "python3"
  },
  "language_info": {
   "codemirror_mode": {
    "name": "ipython",
    "version": 3
   },
   "file_extension": ".py",
   "mimetype": "text/x-python",
   "name": "python",
   "nbconvert_exporter": "python",
   "pygments_lexer": "ipython3",
   "version": "3.8.8"
  }
 },
 "nbformat": 4,
 "nbformat_minor": 5
}
