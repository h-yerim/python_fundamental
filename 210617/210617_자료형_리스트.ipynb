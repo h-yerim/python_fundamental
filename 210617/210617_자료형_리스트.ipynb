{
 "cells": [
  {
   "cell_type": "markdown",
   "id": "ac7f414e",
   "metadata": {},
   "source": [
    "데이터구조 - 리스트"
   ]
  },
  {
   "cell_type": "code",
   "execution_count": 1,
   "id": "b9840d7a",
   "metadata": {},
   "outputs": [],
   "source": [
    "num=[\"one\",\"two\",\"three\",\"four\"]"
   ]
  },
  {
   "cell_type": "code",
   "execution_count": 2,
   "id": "2201adb1",
   "metadata": {},
   "outputs": [
    {
     "data": {
      "text/plain": [
       "list"
      ]
     },
     "execution_count": 2,
     "metadata": {},
     "output_type": "execute_result"
    }
   ],
   "source": [
    "num1=[1,2,3,4,5]; type(num1)"
   ]
  },
  {
   "cell_type": "code",
   "execution_count": 3,
   "id": "3caeab22",
   "metadata": {},
   "outputs": [],
   "source": [
    "num2=[\"a\",1,\"b\",2]"
   ]
  },
  {
   "cell_type": "code",
   "execution_count": 4,
   "id": "016c243a",
   "metadata": {},
   "outputs": [
    {
     "data": {
      "text/plain": [
       "'two'"
      ]
     },
     "execution_count": 4,
     "metadata": {},
     "output_type": "execute_result"
    }
   ],
   "source": [
    "num[1]"
   ]
  },
  {
   "cell_type": "code",
   "execution_count": 5,
   "id": "c29c32f0",
   "metadata": {},
   "outputs": [
    {
     "data": {
      "text/plain": [
       "['three', 'four']"
      ]
     },
     "execution_count": 5,
     "metadata": {},
     "output_type": "execute_result"
    }
   ],
   "source": [
    "num[2:4]"
   ]
  },
  {
   "cell_type": "code",
   "execution_count": 6,
   "id": "9b489a0e",
   "metadata": {},
   "outputs": [
    {
     "data": {
      "text/plain": [
       "['one', 'three']"
      ]
     },
     "execution_count": 6,
     "metadata": {},
     "output_type": "execute_result"
    }
   ],
   "source": [
    "num[::2]"
   ]
  },
  {
   "cell_type": "code",
   "execution_count": 7,
   "id": "57ea84d7",
   "metadata": {},
   "outputs": [
    {
     "data": {
      "text/plain": [
       "['first', 'two', 'three', 'four']"
      ]
     },
     "execution_count": 7,
     "metadata": {},
     "output_type": "execute_result"
    }
   ],
   "source": [
    "num[0]=\"first\"\n",
    "num"
   ]
  },
  {
   "cell_type": "code",
   "execution_count": 8,
   "id": "d9fbcc75",
   "metadata": {},
   "outputs": [
    {
     "data": {
      "text/plain": [
       "['first', 'two', 'three', 'four', 'five']"
      ]
     },
     "execution_count": 8,
     "metadata": {},
     "output_type": "execute_result"
    }
   ],
   "source": [
    "num.append(\"five\")\n",
    "num"
   ]
  },
  {
   "cell_type": "code",
   "execution_count": 9,
   "id": "226bd967",
   "metadata": {},
   "outputs": [],
   "source": [
    "del num[4]"
   ]
  },
  {
   "cell_type": "code",
   "execution_count": 10,
   "id": "32a7bbc7",
   "metadata": {},
   "outputs": [
    {
     "data": {
      "text/plain": [
       "['first', 'two', 'three', 'four']"
      ]
     },
     "execution_count": 10,
     "metadata": {},
     "output_type": "execute_result"
    }
   ],
   "source": [
    "num"
   ]
  },
  {
   "cell_type": "code",
   "execution_count": 11,
   "id": "41f29f1f",
   "metadata": {},
   "outputs": [],
   "source": [
    "num3=[\"five\",\"six\",\"seven\"]\n",
    "num.extend(num3)"
   ]
  },
  {
   "cell_type": "code",
   "execution_count": 12,
   "id": "8cfa47a9",
   "metadata": {},
   "outputs": [
    {
     "data": {
      "text/plain": [
       "['first', 'two', 'three', 'four', 'five', 'six', 'seven']"
      ]
     },
     "execution_count": 12,
     "metadata": {},
     "output_type": "execute_result"
    }
   ],
   "source": [
    "num"
   ]
  },
  {
   "cell_type": "code",
   "execution_count": 13,
   "id": "626ba6b0",
   "metadata": {},
   "outputs": [
    {
     "name": "stdout",
     "output_type": "stream",
     "text": [
      "['first', 'five', 'four', 'seven', 'six', 'three', 'two']\n"
     ]
    }
   ],
   "source": [
    "newnum=sorted(num)\n",
    "print(newnum)"
   ]
  },
  {
   "cell_type": "code",
   "execution_count": 14,
   "id": "92acffcf",
   "metadata": {},
   "outputs": [],
   "source": [
    "num.sort()"
   ]
  },
  {
   "cell_type": "code",
   "execution_count": 15,
   "id": "efb367fc",
   "metadata": {},
   "outputs": [
    {
     "data": {
      "text/plain": [
       "['first', 'five', 'four', 'seven', 'six', 'three', 'two']"
      ]
     },
     "execution_count": 15,
     "metadata": {},
     "output_type": "execute_result"
    }
   ],
   "source": [
    "num"
   ]
  },
  {
   "cell_type": "markdown",
   "id": "cf84d202",
   "metadata": {},
   "source": [
    "튜플"
   ]
  },
  {
   "cell_type": "code",
   "execution_count": 16,
   "id": "278d99c3",
   "metadata": {},
   "outputs": [
    {
     "data": {
      "text/plain": [
       "tuple"
      ]
     },
     "execution_count": 16,
     "metadata": {},
     "output_type": "execute_result"
    }
   ],
   "source": [
    "num_t=(1,2,3,4);type(num_t)"
   ]
  },
  {
   "cell_type": "markdown",
   "id": "19699863",
   "metadata": {},
   "source": [
    "딕셔너리"
   ]
  },
  {
   "cell_type": "code",
   "execution_count": 19,
   "id": "9869afd6",
   "metadata": {},
   "outputs": [
    {
     "data": {
      "text/plain": [
       "{'apple': [3500, 5], 'peer': [2500, 10], 'cherry': [5000, 3]}"
      ]
     },
     "execution_count": 19,
     "metadata": {},
     "output_type": "execute_result"
    }
   ],
   "source": [
    "num_dict={\"apple\":[3500,5], \"peer\":[2500,10], \"cherry\":[5000,3]}\n",
    "num_dict"
   ]
  },
  {
   "cell_type": "code",
   "execution_count": 23,
   "id": "ff73f5a9",
   "metadata": {},
   "outputs": [
    {
     "data": {
      "text/plain": [
       "[['apple', 3500], ['peer', 2500], ['cherry', 5000]]"
      ]
     },
     "execution_count": 23,
     "metadata": {},
     "output_type": "execute_result"
    }
   ],
   "source": [
    "fruit=[['apple',3500],['peer',2500],['cherry',5000]]\n",
    "fruit"
   ]
  },
  {
   "cell_type": "code",
   "execution_count": 25,
   "id": "0c7c7ad4",
   "metadata": {},
   "outputs": [],
   "source": [
    "fruit_dict=dict(fruit)"
   ]
  },
  {
   "cell_type": "code",
   "execution_count": 26,
   "id": "62715e2c",
   "metadata": {},
   "outputs": [
    {
     "data": {
      "text/plain": [
       "dict_keys(['apple', 'peer', 'cherry'])"
      ]
     },
     "execution_count": 26,
     "metadata": {},
     "output_type": "execute_result"
    }
   ],
   "source": [
    "fruit_dict.keys()"
   ]
  },
  {
   "cell_type": "code",
   "execution_count": 27,
   "id": "bfc2258e",
   "metadata": {},
   "outputs": [
    {
     "data": {
      "text/plain": [
       "dict_values([3500, 2500, 5000])"
      ]
     },
     "execution_count": 27,
     "metadata": {},
     "output_type": "execute_result"
    }
   ],
   "source": [
    "fruit_dict.values()"
   ]
  },
  {
   "cell_type": "code",
   "execution_count": 28,
   "id": "baba46f0",
   "metadata": {},
   "outputs": [
    {
     "data": {
      "text/plain": [
       "dict_items([('apple', 3500), ('peer', 2500), ('cherry', 5000)])"
      ]
     },
     "execution_count": 28,
     "metadata": {},
     "output_type": "execute_result"
    }
   ],
   "source": [
    "fruit_dict.items()"
   ]
  },
  {
   "cell_type": "code",
   "execution_count": 29,
   "id": "dbc89125",
   "metadata": {},
   "outputs": [
    {
     "data": {
      "text/plain": [
       "3"
      ]
     },
     "execution_count": 29,
     "metadata": {},
     "output_type": "execute_result"
    }
   ],
   "source": [
    "len(fruit_dict.items())"
   ]
  },
  {
   "cell_type": "code",
   "execution_count": 30,
   "id": "3bbe86bb",
   "metadata": {},
   "outputs": [
    {
     "data": {
      "text/plain": [
       "3500"
      ]
     },
     "execution_count": 30,
     "metadata": {},
     "output_type": "execute_result"
    }
   ],
   "source": [
    "fruit_dict['apple']"
   ]
  },
  {
   "cell_type": "code",
   "execution_count": null,
   "id": "f45d8004",
   "metadata": {},
   "outputs": [],
   "source": []
  }
 ],
 "metadata": {
  "kernelspec": {
   "display_name": "Python 3",
   "language": "python",
   "name": "python3"
  },
  "language_info": {
   "codemirror_mode": {
    "name": "ipython",
    "version": 3
   },
   "file_extension": ".py",
   "mimetype": "text/x-python",
   "name": "python",
   "nbconvert_exporter": "python",
   "pygments_lexer": "ipython3",
   "version": "3.7.7"
  }
 },
 "nbformat": 4,
 "nbformat_minor": 5
}
