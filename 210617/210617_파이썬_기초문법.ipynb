{
 "cells": [
  {
   "cell_type": "markdown",
   "id": "34ac8005",
   "metadata": {},
   "source": [
    "### (변수이름규칙)\n",
    "1. A-Z, a-z, _, 숫자로 조합\n",
    "2. 단, 맨앞에 숫자로 시작되면 안됨"
   ]
  },
  {
   "cell_type": "code",
   "execution_count": 1,
   "id": "f7b3a520",
   "metadata": {},
   "outputs": [
    {
     "name": "stdout",
     "output_type": "stream",
     "text": [
      "2\n"
     ]
    }
   ],
   "source": [
    "temp = 2\n",
    "print(temp)"
   ]
  },
  {
   "cell_type": "code",
   "execution_count": 2,
   "id": "5b9bf887",
   "metadata": {},
   "outputs": [
    {
     "name": "stdout",
     "output_type": "stream",
     "text": [
      "python\n"
     ]
    }
   ],
   "source": [
    "temp = \"python\"\n",
    "print(temp)"
   ]
  },
  {
   "cell_type": "code",
   "execution_count": 3,
   "id": "0f1a5c3e",
   "metadata": {},
   "outputs": [
    {
     "data": {
      "text/plain": [
       "int"
      ]
     },
     "execution_count": 3,
     "metadata": {},
     "output_type": "execute_result"
    }
   ],
   "source": [
    "a=10\n",
    "type(a)"
   ]
  },
  {
   "cell_type": "code",
   "execution_count": 4,
   "id": "791da682",
   "metadata": {},
   "outputs": [
    {
     "data": {
      "text/plain": [
       "str"
      ]
     },
     "execution_count": 4,
     "metadata": {},
     "output_type": "execute_result"
    }
   ],
   "source": [
    "c=\"abc\"; type(c)"
   ]
  },
  {
   "cell_type": "code",
   "execution_count": 22,
   "id": "29126860",
   "metadata": {},
   "outputs": [
    {
     "name": "stdout",
     "output_type": "stream",
     "text": [
      "a+b= 10\n",
      "a-b=4\n",
      "a*b=7*3=21\n",
      "a/b= 7/3=2.333333\n"
     ]
    }
   ],
   "source": [
    "a= 7;b= 3\n",
    "print(\"a+b=\",a+b)\n",
    "print(\"a-b={}\".format(a-b))\n",
    "print(\"a*b={}*{}={}\".format(a,b,a*b))\n",
    "print(\"a/b= %d/%d=%f\"%(a,b,a/b))"
   ]
  },
  {
   "cell_type": "code",
   "execution_count": 20,
   "id": "a49318e7",
   "metadata": {},
   "outputs": [
    {
     "name": "stdout",
     "output_type": "stream",
     "text": [
      "몫=  2\n",
      "나머지=  1\n"
     ]
    }
   ],
   "source": [
    "a=7; b=3\n",
    "print(\"몫= \",a//b)\n",
    "print(\"나머지= \",a%b)"
   ]
  },
  {
   "cell_type": "code",
   "execution_count": 21,
   "id": "4a0adb7b",
   "metadata": {},
   "outputs": [
    {
     "name": "stdout",
     "output_type": "stream",
     "text": [
      "['False', 'None', 'True', 'and', 'as', 'assert', 'async', 'await', 'break', 'class', 'continue', 'def', 'del', 'elif', 'else', 'except', 'finally', 'for', 'from', 'global', 'if', 'import', 'in', 'is', 'lambda', 'nonlocal', 'not', 'or', 'pass', 'raise', 'return', 'try', 'while', 'with', 'yield']\n"
     ]
    }
   ],
   "source": [
    "###(예약어)\n",
    "import keyword\n",
    "print(keyword.kwlist)"
   ]
  },
  {
   "cell_type": "code",
   "execution_count": 25,
   "id": "e7abd5bf",
   "metadata": {},
   "outputs": [],
   "source": [
    "temp = \"python\""
   ]
  },
  {
   "cell_type": "code",
   "execution_count": 35,
   "id": "eba53a1f",
   "metadata": {},
   "outputs": [
    {
     "data": {
      "text/plain": [
       "str"
      ]
     },
     "execution_count": 35,
     "metadata": {},
     "output_type": "execute_result"
    }
   ],
   "source": [
    "type(temp)"
   ]
  },
  {
   "cell_type": "code",
   "execution_count": 34,
   "id": "1bdfb2ce",
   "metadata": {},
   "outputs": [
    {
     "data": {
      "text/plain": [
       "'python'"
      ]
     },
     "execution_count": 34,
     "metadata": {},
     "output_type": "execute_result"
    }
   ],
   "source": [
    "temp"
   ]
  },
  {
   "cell_type": "code",
   "execution_count": 36,
   "id": "fcde63ab",
   "metadata": {},
   "outputs": [
    {
     "data": {
      "text/plain": [
       "6"
      ]
     },
     "execution_count": 36,
     "metadata": {},
     "output_type": "execute_result"
    }
   ],
   "source": [
    "len(temp)"
   ]
  },
  {
   "cell_type": "code",
   "execution_count": 37,
   "id": "203a48b0",
   "metadata": {},
   "outputs": [
    {
     "data": {
      "text/plain": [
       "'pythonis easy'"
      ]
     },
     "execution_count": 37,
     "metadata": {},
     "output_type": "execute_result"
    }
   ],
   "source": [
    "\"python\"+\"is easy\""
   ]
  },
  {
   "cell_type": "code",
   "execution_count": 38,
   "id": "f23d69a8",
   "metadata": {},
   "outputs": [
    {
     "data": {
      "text/plain": [
       "'pythonis easy'"
      ]
     },
     "execution_count": 38,
     "metadata": {},
     "output_type": "execute_result"
    }
   ],
   "source": [
    "a1=\"python\"\n",
    "b1=\"is easy\"\n",
    "a1+b1"
   ]
  },
  {
   "cell_type": "code",
   "execution_count": 39,
   "id": "818129ff",
   "metadata": {},
   "outputs": [
    {
     "data": {
      "text/plain": [
       "'h'"
      ]
     },
     "execution_count": 39,
     "metadata": {},
     "output_type": "execute_result"
    }
   ],
   "source": [
    "temp[3]"
   ]
  },
  {
   "cell_type": "code",
   "execution_count": 40,
   "id": "68ecfa2d",
   "metadata": {},
   "outputs": [
    {
     "data": {
      "text/plain": [
       "'pytho'"
      ]
     },
     "execution_count": 40,
     "metadata": {},
     "output_type": "execute_result"
    }
   ],
   "source": [
    "temp[0:5]"
   ]
  },
  {
   "cell_type": "markdown",
   "id": "e7b64b91",
   "metadata": {},
   "source": [
    "### 1.각각의 자료구조에는 method라는 기능을 제공한다."
   ]
  },
  {
   "cell_type": "code",
   "execution_count": 41,
   "id": "54f2a60f",
   "metadata": {},
   "outputs": [
    {
     "data": {
      "text/plain": [
       "['__abs__',\n",
       " '__add__',\n",
       " '__and__',\n",
       " '__bool__',\n",
       " '__ceil__',\n",
       " '__class__',\n",
       " '__delattr__',\n",
       " '__dir__',\n",
       " '__divmod__',\n",
       " '__doc__',\n",
       " '__eq__',\n",
       " '__float__',\n",
       " '__floor__',\n",
       " '__floordiv__',\n",
       " '__format__',\n",
       " '__ge__',\n",
       " '__getattribute__',\n",
       " '__getnewargs__',\n",
       " '__gt__',\n",
       " '__hash__',\n",
       " '__index__',\n",
       " '__init__',\n",
       " '__init_subclass__',\n",
       " '__int__',\n",
       " '__invert__',\n",
       " '__le__',\n",
       " '__lshift__',\n",
       " '__lt__',\n",
       " '__mod__',\n",
       " '__mul__',\n",
       " '__ne__',\n",
       " '__neg__',\n",
       " '__new__',\n",
       " '__or__',\n",
       " '__pos__',\n",
       " '__pow__',\n",
       " '__radd__',\n",
       " '__rand__',\n",
       " '__rdivmod__',\n",
       " '__reduce__',\n",
       " '__reduce_ex__',\n",
       " '__repr__',\n",
       " '__rfloordiv__',\n",
       " '__rlshift__',\n",
       " '__rmod__',\n",
       " '__rmul__',\n",
       " '__ror__',\n",
       " '__round__',\n",
       " '__rpow__',\n",
       " '__rrshift__',\n",
       " '__rshift__',\n",
       " '__rsub__',\n",
       " '__rtruediv__',\n",
       " '__rxor__',\n",
       " '__setattr__',\n",
       " '__sizeof__',\n",
       " '__str__',\n",
       " '__sub__',\n",
       " '__subclasshook__',\n",
       " '__truediv__',\n",
       " '__trunc__',\n",
       " '__xor__',\n",
       " 'as_integer_ratio',\n",
       " 'bit_length',\n",
       " 'conjugate',\n",
       " 'denominator',\n",
       " 'from_bytes',\n",
       " 'imag',\n",
       " 'numerator',\n",
       " 'real',\n",
       " 'to_bytes']"
      ]
     },
     "execution_count": 41,
     "metadata": {},
     "output_type": "execute_result"
    }
   ],
   "source": [
    "a=10; a1=\"abc\";\n",
    "dir(a)"
   ]
  },
  {
   "cell_type": "code",
   "execution_count": 42,
   "id": "21f5fd07",
   "metadata": {},
   "outputs": [
    {
     "data": {
      "text/plain": [
       "['abc']"
      ]
     },
     "execution_count": 42,
     "metadata": {},
     "output_type": "execute_result"
    }
   ],
   "source": [
    "a1.split()"
   ]
  },
  {
   "cell_type": "code",
   "execution_count": 43,
   "id": "d43cdf39",
   "metadata": {},
   "outputs": [
    {
     "data": {
      "text/plain": [
       "['python']"
      ]
     },
     "execution_count": 43,
     "metadata": {},
     "output_type": "execute_result"
    }
   ],
   "source": [
    "temp.split()"
   ]
  },
  {
   "cell_type": "code",
   "execution_count": 44,
   "id": "8185fa9a",
   "metadata": {},
   "outputs": [
    {
     "data": {
      "text/plain": [
       "'python'"
      ]
     },
     "execution_count": 44,
     "metadata": {},
     "output_type": "execute_result"
    }
   ],
   "source": [
    "temp"
   ]
  },
  {
   "cell_type": "code",
   "execution_count": 45,
   "id": "2d2184a5",
   "metadata": {},
   "outputs": [
    {
     "data": {
      "text/plain": [
       "['python', 'is', 'easy']"
      ]
     },
     "execution_count": 45,
     "metadata": {},
     "output_type": "execute_result"
    }
   ],
   "source": [
    "temp=\"python is easy\"\n",
    "temp.split()"
   ]
  },
  {
   "cell_type": "code",
   "execution_count": 46,
   "id": "7e35c422",
   "metadata": {},
   "outputs": [
    {
     "data": {
      "text/plain": [
       "['python', 'is', 'easy']"
      ]
     },
     "execution_count": 46,
     "metadata": {},
     "output_type": "execute_result"
    }
   ],
   "source": [
    "temp.split(maxsplit=2)"
   ]
  },
  {
   "cell_type": "code",
   "execution_count": 47,
   "id": "a42def67",
   "metadata": {},
   "outputs": [
    {
     "data": {
      "text/plain": [
       "['python', 'is easy']"
      ]
     },
     "execution_count": 47,
     "metadata": {},
     "output_type": "execute_result"
    }
   ],
   "source": [
    "temp.split(maxsplit=1)"
   ]
  },
  {
   "cell_type": "code",
   "execution_count": 48,
   "id": "4372f737",
   "metadata": {},
   "outputs": [
    {
     "data": {
      "text/plain": [
       "['python i', ' ea', 'y']"
      ]
     },
     "execution_count": 48,
     "metadata": {},
     "output_type": "execute_result"
    }
   ],
   "source": [
    "temp.split(sep=\"s\")"
   ]
  },
  {
   "cell_type": "code",
   "execution_count": 49,
   "id": "179753ef",
   "metadata": {},
   "outputs": [
    {
     "data": {
      "text/plain": [
       "['python', 'java', 'R', 'SAS']"
      ]
     },
     "execution_count": 49,
     "metadata": {},
     "output_type": "execute_result"
    }
   ],
   "source": [
    "temp2=\"python,java,R,SAS\"\n",
    "temp2.split(sep=\",\")"
   ]
  },
  {
   "cell_type": "code",
   "execution_count": 50,
   "id": "1a08e276",
   "metadata": {},
   "outputs": [
    {
     "data": {
      "text/plain": [
       "'p,y,t,h,o,n,,,j,a,v,a,,,R,,,S,A,S'"
      ]
     },
     "execution_count": 50,
     "metadata": {},
     "output_type": "execute_result"
    }
   ],
   "source": [
    "','.join(temp2)"
   ]
  },
  {
   "cell_type": "code",
   "execution_count": 56,
   "id": "1fb2703e",
   "metadata": {},
   "outputs": [
    {
     "data": {
      "text/plain": [
       "'python,java,R,SAS'"
      ]
     },
     "execution_count": 56,
     "metadata": {},
     "output_type": "execute_result"
    }
   ],
   "source": [
    "temp2"
   ]
  },
  {
   "cell_type": "code",
   "execution_count": 57,
   "id": "c116066e",
   "metadata": {},
   "outputs": [],
   "source": [
    "temp3=temp2"
   ]
  },
  {
   "cell_type": "code",
   "execution_count": 58,
   "id": "27a94ca0",
   "metadata": {},
   "outputs": [
    {
     "data": {
      "text/plain": [
       "'p,y,t,h,o,n,,,j,a,v,a,,,R,,,S,A,S'"
      ]
     },
     "execution_count": 58,
     "metadata": {},
     "output_type": "execute_result"
    }
   ],
   "source": [
    "\",\".join(temp3)"
   ]
  },
  {
   "cell_type": "code",
   "execution_count": 59,
   "id": "9fc6f1b7",
   "metadata": {},
   "outputs": [
    {
     "data": {
      "text/plain": [
       "'python,java,R,SAS'"
      ]
     },
     "execution_count": 59,
     "metadata": {},
     "output_type": "execute_result"
    }
   ],
   "source": [
    "temp3"
   ]
  },
  {
   "cell_type": "code",
   "execution_count": null,
   "id": "edd3ee35",
   "metadata": {},
   "outputs": [],
   "source": []
  }
 ],
 "metadata": {
  "kernelspec": {
   "display_name": "Python 3",
   "language": "python",
   "name": "python3"
  },
  "language_info": {
   "codemirror_mode": {
    "name": "ipython",
    "version": 3
   },
   "file_extension": ".py",
   "mimetype": "text/x-python",
   "name": "python",
   "nbconvert_exporter": "python",
   "pygments_lexer": "ipython3",
   "version": "3.8.8"
  }
 },
 "nbformat": 4,
 "nbformat_minor": 5
}
