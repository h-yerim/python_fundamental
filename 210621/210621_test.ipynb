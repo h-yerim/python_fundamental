{
 "cells": [
  {
   "cell_type": "markdown",
   "id": "37e322ff",
   "metadata": {},
   "source": [
    "화면으로 국어 영어 수학 점수를 입력받아 총점과 평균을 구하시오."
   ]
  },
  {
   "cell_type": "code",
   "execution_count": 24,
   "id": "f3ef2201",
   "metadata": {},
   "outputs": [
    {
     "name": "stdout",
     "output_type": "stream",
     "text": [
      "점수를 입력하세요: 10 20 30\n",
      "총점: 60  평균: 20.0\n"
     ]
    }
   ],
   "source": [
    "#input함수는 결과를 문자열로 돌려준다.\n",
    "x=(input(\"점수를 입력하세요: \"))\n",
    "x=x.split(\" \") #split()의 기본값이 스페이스기때문에 값을 안줘도됨.\n",
    "a=x[0]\n",
    "b=x[1]\n",
    "c=x[2]\n",
    "sum = int(a)+int(b)+int(c)\n",
    "avg = sum/3 #몇개일지 모를떄는 len(x)로 나누어야 한다.\n",
    "print(\"총점: {}  평균: {}\".format(sum,avg))"
   ]
  },
  {
   "cell_type": "markdown",
   "id": "f59dca51",
   "metadata": {},
   "source": [
    "점수가 여러개 들어올 경우(몇개가 들어올지 모름)"
   ]
  },
  {
   "cell_type": "code",
   "execution_count": 32,
   "id": "85abdc7a",
   "metadata": {},
   "outputs": [
    {
     "name": "stdout",
     "output_type": "stream",
     "text": [
      "점수를 입력하세요: 10 20 35\n",
      "총점: 65  평균: 21.67\n"
     ]
    }
   ],
   "source": [
    "x=(input(\"점수를 입력하세요: \"))\n",
    "x=x.split()\n",
    "sum = 0\n",
    "\n",
    "for i in x: #x에 있는 값 하나씩 꺼내줌\n",
    "    sum += int(i)\n",
    "\n",
    "avg = sum/len(x)\n",
    "print(\"총점: {}  평균: {:.2f}\".format(sum,avg)) #또는 avg 부분에 round(avg,2)로 할수도있음"
   ]
  },
  {
   "cell_type": "markdown",
   "id": "8b4e853e",
   "metadata": {},
   "source": [
    "합격 유무 판정\n",
    "1. 3개 점수를 받아서 평균이 60점 이상이면 합격\n",
    "2. \"총점: 점 평균:점 , 합격입니다.\" 이렇게 출력하게 만드시오"
   ]
  },
  {
   "cell_type": "code",
   "execution_count": 34,
   "id": "5b5aa270",
   "metadata": {},
   "outputs": [
    {
     "name": "stdout",
     "output_type": "stream",
     "text": [
      "점수를 입력하세요: 50 55 80\n",
      "총점: 185  평균: 61.666666666666664 ,합격입니다.\n"
     ]
    }
   ],
   "source": [
    "x=(input(\"점수를 입력하세요: \"))\n",
    "x=x.split()\n",
    "sum = 0\n",
    "\n",
    "for i in x: \n",
    "    sum += int(i)\n",
    "    \n",
    "avg = sum/len(x)\n",
    "\n",
    "if(avg>=60):\n",
    "    print(\"총점: {}  평균: {} ,합격입니다.\".format(sum,avg))\n",
    "else:\n",
    "    print(\"총점: {}  평균: {} ,불합격입니다.\".format(sum,avg))\n",
    "#check변수에 합격,불합격 넣어서 {} 하고 format뒤에 변수 하나 추가할수도있음"
   ]
  },
  {
   "cell_type": "markdown",
   "id": "1f249db9",
   "metadata": {},
   "source": [
    "합격 유무를 판정\n",
    "1. 과목당 40점 이하면 과락\n",
    "2. 평균 60점 이하면 평균미달\n",
    "3. 총점 평균 합격입니다\n",
    "   총점 평균 (과락 or 평균미달) 불합격입니다"
   ]
  },
  {
   "cell_type": "code",
   "execution_count": 49,
   "id": "dd73e1a0",
   "metadata": {},
   "outputs": [
    {
     "name": "stdout",
     "output_type": "stream",
     "text": [
      "점수를 입력하세요: 41 41 41\n",
      "총점: 123  평균: 41.0 ,(평균미달)불합격입니다.\n"
     ]
    }
   ],
   "source": [
    "x=(input(\"점수를 입력하세요: \"))\n",
    "x=x.split()\n",
    "sum = 0\n",
    "check = True\n",
    "\n",
    "for i in x: \n",
    "    if(int(i)<=40):\n",
    "        check = False\n",
    "    sum += int(i)\n",
    "    \n",
    "avg = sum/len(x)\n",
    "\n",
    "if(avg>=60 & check==True):\n",
    "    print(\"총점: {}  평균: {} ,합격입니다.\".format(sum,avg))\n",
    "    \n",
    "elif(check==False):\n",
    "     print(\"총점: {}  평균: {} ,(과락)불합격입니다.\".format(sum,avg))\n",
    "        \n",
    "else:\n",
    "    print(\"총점: {}  평균: {} ,(평균미달)불합격입니다.\".format(sum,avg))"
   ]
  },
  {
   "cell_type": "code",
   "execution_count": 55,
   "id": "86069cfc",
   "metadata": {},
   "outputs": [
    {
     "name": "stdout",
     "output_type": "stream",
     "text": [
      "점수를 입력하세요: 41 41 41\n",
      "총점: 123  평균: 41.0 , 평균미달 불합격입니다.\n"
     ]
    }
   ],
   "source": [
    "#위의 문제 선생님 방식\n",
    "x=(input(\"점수를 입력하세요: \"))\n",
    "x=x.split()\n",
    "sum = 0\n",
    "check1 =\"\"\n",
    "for i in x: \n",
    "    if int(i)<=40:\n",
    "        check1=\"과락\"\n",
    "    sum += int(i)\n",
    "\n",
    "avg = sum/len(x)\n",
    "check2=\"\"\n",
    "if avg< 60:\n",
    "    check2=\"평균미달\"\n",
    "    \n",
    "if(len(check1)==0) & (len(check2)==0): #길이가 0 이면 \"\"아무것도 안들어간것.\n",
    "    print(\"총점: {}  평균: {} ,합격입니다.\".format(sum,avg))\n",
    "else:\n",
    "    print(\"총점: {}  평균: {} , {} 불합격입니다.\".format(sum,avg,check1+check2))"
   ]
  }
 ],
 "metadata": {
  "kernelspec": {
   "display_name": "Python 3",
   "language": "python",
   "name": "python3"
  },
  "language_info": {
   "codemirror_mode": {
    "name": "ipython",
    "version": 3
   },
   "file_extension": ".py",
   "mimetype": "text/x-python",
   "name": "python",
   "nbconvert_exporter": "python",
   "pygments_lexer": "ipython3",
   "version": "3.8.8"
  }
 },
 "nbformat": 4,
 "nbformat_minor": 5
}
