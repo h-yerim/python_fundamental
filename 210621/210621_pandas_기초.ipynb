{
 "cells": [
  {
   "cell_type": "markdown",
   "id": "2c452f65",
   "metadata": {},
   "source": [
    "하나의 열: series(행에) 여러개의 열: dataframe(행에)\n",
    "\n",
    "함수 -> 여러개가 모이면 모듈 -> 모듈이 모이면 라이브러리(패키지)"
   ]
  },
  {
   "cell_type": "markdown",
   "id": "db5bed4e",
   "metadata": {},
   "source": [
    "#모듈 사용하는법\n",
    "1. import 라이브러리명(pandas)\n",
    "- 사용)pandas.모듈\n",
    "\n",
    "2. import 라이브러리명(pandas) as pd\n",
    "- 사용) pd.모듈\n",
    "\n",
    "3. from 라이브러리명 import 모듈(클래스명) (as 도 가능)"
   ]
  },
  {
   "cell_type": "code",
   "execution_count": 3,
   "id": "57c8e59e",
   "metadata": {},
   "outputs": [],
   "source": [
    "import pandas as pd #전체 모듈 사용\n",
    "from pandas import Series,DataFrame #pandas중 2개사용"
   ]
  },
  {
   "cell_type": "code",
   "execution_count": 6,
   "id": "453c28f2",
   "metadata": {},
   "outputs": [
    {
     "data": {
      "text/plain": [
       "apple     2500\n",
       "banana    3800\n",
       "peer      1200\n",
       "cherry    6000\n",
       "dtype: int64"
      ]
     },
     "execution_count": 6,
     "metadata": {},
     "output_type": "execute_result"
    }
   ],
   "source": [
    "fruit= Series(data=[2500,3800,1200,6000],index=[\"apple\",\"banana\",\"peer\",\"cherry\"])\n",
    "#pd.Series로 쓸수도있다.\n",
    "#만약 index값을 주지않으면 default값으로 0부터 부여한다.\n",
    "fruit"
   ]
  },
  {
   "cell_type": "code",
   "execution_count": 7,
   "id": "3657b1aa",
   "metadata": {},
   "outputs": [
    {
     "name": "stdout",
     "output_type": "stream",
     "text": [
      "[2500 3800 1200 6000]\n",
      "Index(['apple', 'banana', 'peer', 'cherry'], dtype='object')\n"
     ]
    }
   ],
   "source": [
    "print(fruit.values) #array type으로 저장되어있음을 확인가능 =>index로 접근가능, dtype(데이터 타입=int)\n",
    "print(fruit.index) #문자열이기때문에 dtype=object."
   ]
  },
  {
   "cell_type": "code",
   "execution_count": 11,
   "id": "5e9b483d",
   "metadata": {},
   "outputs": [
    {
     "data": {
      "text/plain": [
       "dict"
      ]
     },
     "execution_count": 11,
     "metadata": {},
     "output_type": "execute_result"
    }
   ],
   "source": [
    "fruitData = {\"a\":2500,\"b\":3800,\"c\":1200,\"d\":6000}\n",
    "fruit=Series(fruitData) #Series data로 만들기\n",
    "type(fruitData)"
   ]
  },
  {
   "cell_type": "code",
   "execution_count": 13,
   "id": "71425f44",
   "metadata": {},
   "outputs": [
    {
     "data": {
      "text/plain": [
       "pandas.core.series.Series"
      ]
     },
     "execution_count": 13,
     "metadata": {},
     "output_type": "execute_result"
    }
   ],
   "source": [
    "type(fruit)"
   ]
  },
  {
   "cell_type": "code",
   "execution_count": 16,
   "id": "c4afd7b0",
   "metadata": {},
   "outputs": [
    {
     "data": {
      "text/plain": [
       "fruitName\n",
       "a    2500\n",
       "b    3800\n",
       "c    1200\n",
       "d    6000\n",
       "Name: fruitPrice, dtype: int64"
      ]
     },
     "execution_count": 16,
     "metadata": {},
     "output_type": "execute_result"
    }
   ],
   "source": [
    "fruit.name = \"fruitPrice\" #이름을 줄 수 있음\n",
    "fruit.index.name=\"fruitName\" #index의 이름을 줄 수있음\n",
    "fruit"
   ]
  },
  {
   "cell_type": "markdown",
   "id": "42e70dad",
   "metadata": {},
   "source": [
    "dataframe 생성"
   ]
  },
  {
   "cell_type": "code",
   "execution_count": 21,
   "id": "e5fd8ac4",
   "metadata": {},
   "outputs": [
    {
     "data": {
      "text/plain": [
       "{'fruitName': ['apple', 'banana', 'cherry', 'peer'],\n",
       " 'fruitPrice': [2500, 3800, 6000, 1200],\n",
       " 'num': [10, 5, 3, 8]}"
      ]
     },
     "execution_count": 21,
     "metadata": {},
     "output_type": "execute_result"
    }
   ],
   "source": [
    "fruitData={\"fruitName\":['apple','banana','cherry','peer'],\"fruitPrice\":[2500,3800,6000,1200],\"num\":[10,5,3,8]}\n",
    "fruitData #여기까진 dictionary타입"
   ]
  },
  {
   "cell_type": "code",
   "execution_count": 23,
   "id": "4e64d4b5",
   "metadata": {},
   "outputs": [
    {
     "data": {
      "text/html": [
       "<div>\n",
       "<style scoped>\n",
       "    .dataframe tbody tr th:only-of-type {\n",
       "        vertical-align: middle;\n",
       "    }\n",
       "\n",
       "    .dataframe tbody tr th {\n",
       "        vertical-align: top;\n",
       "    }\n",
       "\n",
       "    .dataframe thead th {\n",
       "        text-align: right;\n",
       "    }\n",
       "</style>\n",
       "<table border=\"1\" class=\"dataframe\">\n",
       "  <thead>\n",
       "    <tr style=\"text-align: right;\">\n",
       "      <th></th>\n",
       "      <th>fruitName</th>\n",
       "      <th>fruitPrice</th>\n",
       "      <th>num</th>\n",
       "    </tr>\n",
       "  </thead>\n",
       "  <tbody>\n",
       "    <tr>\n",
       "      <th>0</th>\n",
       "      <td>apple</td>\n",
       "      <td>2500</td>\n",
       "      <td>10</td>\n",
       "    </tr>\n",
       "    <tr>\n",
       "      <th>1</th>\n",
       "      <td>banana</td>\n",
       "      <td>3800</td>\n",
       "      <td>5</td>\n",
       "    </tr>\n",
       "    <tr>\n",
       "      <th>2</th>\n",
       "      <td>cherry</td>\n",
       "      <td>6000</td>\n",
       "      <td>3</td>\n",
       "    </tr>\n",
       "    <tr>\n",
       "      <th>3</th>\n",
       "      <td>peer</td>\n",
       "      <td>1200</td>\n",
       "      <td>8</td>\n",
       "    </tr>\n",
       "  </tbody>\n",
       "</table>\n",
       "</div>"
      ],
      "text/plain": [
       "  fruitName  fruitPrice  num\n",
       "0     apple        2500   10\n",
       "1    banana        3800    5\n",
       "2    cherry        6000    3\n",
       "3      peer        1200    8"
      ]
     },
     "execution_count": 23,
     "metadata": {},
     "output_type": "execute_result"
    }
   ],
   "source": [
    "pd.DataFrame(fruitData) #DataFrame type으로 변경. key가 column으로 가고 value가 column 밑으로 들어감\n",
    "#dictonary는 행과열이 달라도 되나, dataframe은 행과열이 모두같아야 즉, value 개수가 다 같아야.."
   ]
  },
  {
   "cell_type": "code",
   "execution_count": 24,
   "id": "65f003b8",
   "metadata": {},
   "outputs": [],
   "source": [
    "fruitFrame=pd.DataFrame(fruitData)"
   ]
  },
  {
   "cell_type": "code",
   "execution_count": 25,
   "id": "254b1ea6",
   "metadata": {},
   "outputs": [
    {
     "data": {
      "text/html": [
       "<div>\n",
       "<style scoped>\n",
       "    .dataframe tbody tr th:only-of-type {\n",
       "        vertical-align: middle;\n",
       "    }\n",
       "\n",
       "    .dataframe tbody tr th {\n",
       "        vertical-align: top;\n",
       "    }\n",
       "\n",
       "    .dataframe thead th {\n",
       "        text-align: right;\n",
       "    }\n",
       "</style>\n",
       "<table border=\"1\" class=\"dataframe\">\n",
       "  <thead>\n",
       "    <tr style=\"text-align: right;\">\n",
       "      <th></th>\n",
       "      <th>fruitPrice</th>\n",
       "      <th>num</th>\n",
       "      <th>fruitName</th>\n",
       "    </tr>\n",
       "  </thead>\n",
       "  <tbody>\n",
       "    <tr>\n",
       "      <th>0</th>\n",
       "      <td>2500</td>\n",
       "      <td>10</td>\n",
       "      <td>apple</td>\n",
       "    </tr>\n",
       "    <tr>\n",
       "      <th>1</th>\n",
       "      <td>3800</td>\n",
       "      <td>5</td>\n",
       "      <td>banana</td>\n",
       "    </tr>\n",
       "    <tr>\n",
       "      <th>2</th>\n",
       "      <td>6000</td>\n",
       "      <td>3</td>\n",
       "      <td>cherry</td>\n",
       "    </tr>\n",
       "    <tr>\n",
       "      <th>3</th>\n",
       "      <td>1200</td>\n",
       "      <td>8</td>\n",
       "      <td>peer</td>\n",
       "    </tr>\n",
       "  </tbody>\n",
       "</table>\n",
       "</div>"
      ],
      "text/plain": [
       "   fruitPrice  num fruitName\n",
       "0        2500   10     apple\n",
       "1        3800    5    banana\n",
       "2        6000    3    cherry\n",
       "3        1200    8      peer"
      ]
     },
     "execution_count": 25,
     "metadata": {},
     "output_type": "execute_result"
    }
   ],
   "source": [
    "fruitData={\"fruitName\":['apple','banana','cherry','peer'],\"fruitPrice\":[2500,3800,6000,1200],\"num\":[10,5,3,8]}\n",
    "#컬럼 순서를 내가 지정해줄수도 있다.\n",
    "pd.DataFrame(fruitData,columns = [\"fruitPrice\",\"num\",\"fruitName\"])\n",
    "#컬럼명을 없는값으로 줄 경우 해당 key가 없으므로 NaN 값이 들어온다.\n",
    "# ex) pd.DataFrame(fruitData,columns = [\"fruitPrice\",\"num12\",\"fruitName\"])"
   ]
  },
  {
   "cell_type": "code",
   "execution_count": 26,
   "id": "68d6c5b8",
   "metadata": {},
   "outputs": [
    {
     "data": {
      "text/plain": [
       "0     apple\n",
       "1    banana\n",
       "2    cherry\n",
       "3      peer\n",
       "Name: fruitName, dtype: object"
      ]
     },
     "execution_count": 26,
     "metadata": {},
     "output_type": "execute_result"
    }
   ],
   "source": [
    "# column 이름을 가지고 해당 column 추출가능 => 결과: Series 형태다. (Series가 여러개 모여서 dataframe이 되기때문)\n",
    "fruitFrame['fruitName']"
   ]
  },
  {
   "cell_type": "code",
   "execution_count": 27,
   "id": "fac4c5a2",
   "metadata": {},
   "outputs": [
    {
     "data": {
      "text/plain": [
       "0     apple\n",
       "1    banana\n",
       "2    cherry\n",
       "3      peer\n",
       "Name: fruitName, dtype: object"
      ]
     },
     "execution_count": 27,
     "metadata": {},
     "output_type": "execute_result"
    }
   ],
   "source": [
    "#위와 같이 접근하는 다른방법 (결과는같다)\n",
    "fruitFrame.fruitName"
   ]
  },
  {
   "cell_type": "code",
   "execution_count": 29,
   "id": "8320cc12",
   "metadata": {},
   "outputs": [
    {
     "name": "stdout",
     "output_type": "stream",
     "text": [
      "  fruitName  fruitPrice  num  year\n",
      "0     apple        2500   10  2016\n",
      "1    banana        3800    5  2016\n",
      "2    cherry        6000    3  2016\n",
      "3      peer        1200    8  2016\n"
     ]
    }
   ],
   "source": [
    "#컬럼추가하기 => dataframe[\"new컬럼명\"] = 값\n",
    "\n",
    "fruitFrame['year'] =2016\n",
    "print(fruitFrame)"
   ]
  },
  {
   "cell_type": "code",
   "execution_count": 31,
   "id": "ffa18cb5",
   "metadata": {},
   "outputs": [
    {
     "data": {
      "text/plain": [
       "0    4\n",
       "2    2\n",
       "3    1\n",
       "dtype: int64"
      ]
     },
     "execution_count": 31,
     "metadata": {},
     "output_type": "execute_result"
    }
   ],
   "source": [
    "#df(dataframe) 컬럼추가, 다른데이터값으로 => Series 데이터를 만들어서 추가하기\n",
    "variable = pd.Series([4,2,1],index=[0,2,3])\n",
    "variable"
   ]
  },
  {
   "cell_type": "code",
   "execution_count": 32,
   "id": "c809cbc3",
   "metadata": {},
   "outputs": [
    {
     "data": {
      "text/html": [
       "<div>\n",
       "<style scoped>\n",
       "    .dataframe tbody tr th:only-of-type {\n",
       "        vertical-align: middle;\n",
       "    }\n",
       "\n",
       "    .dataframe tbody tr th {\n",
       "        vertical-align: top;\n",
       "    }\n",
       "\n",
       "    .dataframe thead th {\n",
       "        text-align: right;\n",
       "    }\n",
       "</style>\n",
       "<table border=\"1\" class=\"dataframe\">\n",
       "  <thead>\n",
       "    <tr style=\"text-align: right;\">\n",
       "      <th></th>\n",
       "      <th>fruitName</th>\n",
       "      <th>fruitPrice</th>\n",
       "      <th>num</th>\n",
       "      <th>year</th>\n",
       "      <th>stock</th>\n",
       "    </tr>\n",
       "  </thead>\n",
       "  <tbody>\n",
       "    <tr>\n",
       "      <th>0</th>\n",
       "      <td>apple</td>\n",
       "      <td>2500</td>\n",
       "      <td>10</td>\n",
       "      <td>2016</td>\n",
       "      <td>4.0</td>\n",
       "    </tr>\n",
       "    <tr>\n",
       "      <th>1</th>\n",
       "      <td>banana</td>\n",
       "      <td>3800</td>\n",
       "      <td>5</td>\n",
       "      <td>2016</td>\n",
       "      <td>NaN</td>\n",
       "    </tr>\n",
       "    <tr>\n",
       "      <th>2</th>\n",
       "      <td>cherry</td>\n",
       "      <td>6000</td>\n",
       "      <td>3</td>\n",
       "      <td>2016</td>\n",
       "      <td>2.0</td>\n",
       "    </tr>\n",
       "    <tr>\n",
       "      <th>3</th>\n",
       "      <td>peer</td>\n",
       "      <td>1200</td>\n",
       "      <td>8</td>\n",
       "      <td>2016</td>\n",
       "      <td>1.0</td>\n",
       "    </tr>\n",
       "  </tbody>\n",
       "</table>\n",
       "</div>"
      ],
      "text/plain": [
       "  fruitName  fruitPrice  num  year  stock\n",
       "0     apple        2500   10  2016    4.0\n",
       "1    banana        3800    5  2016    NaN\n",
       "2    cherry        6000    3  2016    2.0\n",
       "3      peer        1200    8  2016    1.0"
      ]
     },
     "execution_count": 32,
     "metadata": {},
     "output_type": "execute_result"
    }
   ],
   "source": [
    "variable = pd.Series([4,2,1],index=[0,2,3]) #값이 없는거는 NaN이 뜬다.\n",
    "fruitFrame[\"stock\"] = variable #새로운 칼럼명을 주고 series를 할당함. (index 기준으로 할당됨을 알 수 있다.)\n",
    "fruitFrame"
   ]
  },
  {
   "cell_type": "code",
   "execution_count": 42,
   "id": "cd0c75d8",
   "metadata": {},
   "outputs": [
    {
     "data": {
      "text/plain": [
       "apple     2500\n",
       "banana    3800\n",
       "peer      1200\n",
       "cherry    6000\n",
       "dtype: int64"
      ]
     },
     "execution_count": 42,
     "metadata": {},
     "output_type": "execute_result"
    }
   ],
   "source": [
    "fruit= Series(data=[2500,3800,1200,6000],index=[\"apple\",\"banana\",\"peer\",\"cherry\"])\n",
    "fruit"
   ]
  },
  {
   "cell_type": "code",
   "execution_count": 35,
   "id": "710aca22",
   "metadata": {},
   "outputs": [
    {
     "data": {
      "text/plain": [
       "apple     2500\n",
       "peer      1200\n",
       "cherry    6000\n",
       "dtype: int64"
      ]
     },
     "execution_count": 35,
     "metadata": {},
     "output_type": "execute_result"
    }
   ],
   "source": [
    "fruit.drop(\"banana\") #drop할 key값을 넣어줌, 얘를 또 새로운 변수에 저장해서 쓸수는 있음."
   ]
  },
  {
   "cell_type": "code",
   "execution_count": 43,
   "id": "c125540f",
   "metadata": {},
   "outputs": [
    {
     "data": {
      "text/plain": [
       "apple     2500\n",
       "banana    3800\n",
       "peer      1200\n",
       "cherry    6000\n",
       "dtype: int64"
      ]
     },
     "execution_count": 43,
     "metadata": {},
     "output_type": "execute_result"
    }
   ],
   "source": [
    "fruit #drop만 썼을때는 결과는 보여주되, fruit값 자체(데이터)를 바꿔주진않음."
   ]
  },
  {
   "cell_type": "code",
   "execution_count": 44,
   "id": "fb615939",
   "metadata": {},
   "outputs": [],
   "source": [
    "fruit.drop(\"banana\",inplace=True) #결과값을 데이터에도 반영"
   ]
  },
  {
   "cell_type": "code",
   "execution_count": 45,
   "id": "88c8c023",
   "metadata": {},
   "outputs": [
    {
     "data": {
      "text/plain": [
       "apple     2500\n",
       "peer      1200\n",
       "cherry    6000\n",
       "dtype: int64"
      ]
     },
     "execution_count": 45,
     "metadata": {},
     "output_type": "execute_result"
    }
   ],
   "source": [
    "fruit"
   ]
  },
  {
   "cell_type": "code",
   "execution_count": 49,
   "id": "a7ee4795",
   "metadata": {},
   "outputs": [
    {
     "data": {
      "text/html": [
       "<div>\n",
       "<style scoped>\n",
       "    .dataframe tbody tr th:only-of-type {\n",
       "        vertical-align: middle;\n",
       "    }\n",
       "\n",
       "    .dataframe tbody tr th {\n",
       "        vertical-align: top;\n",
       "    }\n",
       "\n",
       "    .dataframe thead th {\n",
       "        text-align: right;\n",
       "    }\n",
       "</style>\n",
       "<table border=\"1\" class=\"dataframe\">\n",
       "  <thead>\n",
       "    <tr style=\"text-align: right;\">\n",
       "      <th></th>\n",
       "      <th>fruitPrice</th>\n",
       "      <th>num</th>\n",
       "    </tr>\n",
       "  </thead>\n",
       "  <tbody>\n",
       "    <tr>\n",
       "      <th>banana</th>\n",
       "      <td>3800</td>\n",
       "      <td>5</td>\n",
       "    </tr>\n",
       "    <tr>\n",
       "      <th>peer</th>\n",
       "      <td>1200</td>\n",
       "      <td>8</td>\n",
       "    </tr>\n",
       "  </tbody>\n",
       "</table>\n",
       "</div>"
      ],
      "text/plain": [
       "        fruitPrice  num\n",
       "banana        3800    5\n",
       "peer          1200    8"
      ]
     },
     "execution_count": 49,
     "metadata": {},
     "output_type": "execute_result"
    }
   ],
   "source": [
    "#dataframe row 삭제하기 (index로)\n",
    "\n",
    "fruitData={\"fruitName\":['apple','banana','cherry','peer'],\"fruitPrice\":[2500,3800,6000,1200],\"num\":[10,5,3,8]}\n",
    "#dictionary에서 키값으로 데이터 추출\n",
    "fruitName=fruitData[\"fruitName\"]\n",
    "\n",
    "#index는 data에서 가져올수없고 객체가 있어야 따로 지정해서 줄수있음.\n",
    "fruitFrame=DataFrame(fruitData, index=fruitName, columns=[\"fruitPrice\",\"num\"]) #index에 fruitName을 줌.\n",
    "# cf) DataFrame(fruitData,columns=[\"fruitName\",fruitsPrice\",\"num\"])\n",
    "fruitFrame\n",
    "\n",
    "#apple,cherry 행을 삭제 <=이처럼 삭제하려는 값 여러개일경우 []리스트 구조로 값을 줘야함!\n",
    "#cf. 한개만 지울경우 \"\"요렇게 주면됨\n",
    "fruitFrame2 = fruitFrame.drop([\"apple\",\"cherry\"])\n",
    "fruitFrame2"
   ]
  },
  {
   "cell_type": "code",
   "execution_count": 50,
   "id": "b9112ed3",
   "metadata": {},
   "outputs": [
    {
     "data": {
      "text/html": [
       "<div>\n",
       "<style scoped>\n",
       "    .dataframe tbody tr th:only-of-type {\n",
       "        vertical-align: middle;\n",
       "    }\n",
       "\n",
       "    .dataframe tbody tr th {\n",
       "        vertical-align: top;\n",
       "    }\n",
       "\n",
       "    .dataframe thead th {\n",
       "        text-align: right;\n",
       "    }\n",
       "</style>\n",
       "<table border=\"1\" class=\"dataframe\">\n",
       "  <thead>\n",
       "    <tr style=\"text-align: right;\">\n",
       "      <th></th>\n",
       "      <th>fruitPrice</th>\n",
       "    </tr>\n",
       "  </thead>\n",
       "  <tbody>\n",
       "    <tr>\n",
       "      <th>apple</th>\n",
       "      <td>2500</td>\n",
       "    </tr>\n",
       "    <tr>\n",
       "      <th>banana</th>\n",
       "      <td>3800</td>\n",
       "    </tr>\n",
       "    <tr>\n",
       "      <th>cherry</th>\n",
       "      <td>6000</td>\n",
       "    </tr>\n",
       "    <tr>\n",
       "      <th>peer</th>\n",
       "      <td>1200</td>\n",
       "    </tr>\n",
       "  </tbody>\n",
       "</table>\n",
       "</div>"
      ],
      "text/plain": [
       "        fruitPrice\n",
       "apple         2500\n",
       "banana        3800\n",
       "cherry        6000\n",
       "peer          1200"
      ]
     },
     "execution_count": 50,
     "metadata": {},
     "output_type": "execute_result"
    }
   ],
   "source": [
    "#dataframe colum 삭제하기\n",
    "fruitFrame3 = fruitFrame.drop(\"num\",axis=1) #axis 값이 없으면 index를 기준(row단위)으로 가고 axis값을 주면 column 기준으로 값을찾아감\n",
    "fruitFrame3"
   ]
  },
  {
   "cell_type": "code",
   "execution_count": 51,
   "id": "f3bc7553",
   "metadata": {},
   "outputs": [
    {
     "data": {
      "text/html": [
       "<div>\n",
       "<style scoped>\n",
       "    .dataframe tbody tr th:only-of-type {\n",
       "        vertical-align: middle;\n",
       "    }\n",
       "\n",
       "    .dataframe tbody tr th {\n",
       "        vertical-align: top;\n",
       "    }\n",
       "\n",
       "    .dataframe thead th {\n",
       "        text-align: right;\n",
       "    }\n",
       "</style>\n",
       "<table border=\"1\" class=\"dataframe\">\n",
       "  <thead>\n",
       "    <tr style=\"text-align: right;\">\n",
       "      <th></th>\n",
       "    </tr>\n",
       "  </thead>\n",
       "  <tbody>\n",
       "    <tr>\n",
       "      <th>apple</th>\n",
       "    </tr>\n",
       "    <tr>\n",
       "      <th>banana</th>\n",
       "    </tr>\n",
       "    <tr>\n",
       "      <th>cherry</th>\n",
       "    </tr>\n",
       "    <tr>\n",
       "      <th>peer</th>\n",
       "    </tr>\n",
       "  </tbody>\n",
       "</table>\n",
       "</div>"
      ],
      "text/plain": [
       "Empty DataFrame\n",
       "Columns: []\n",
       "Index: [apple, banana, cherry, peer]"
      ]
     },
     "execution_count": 51,
     "metadata": {},
     "output_type": "execute_result"
    }
   ],
   "source": [
    "#얘도 마찬가지로 여러값을 지울경우 [] 리스트형태로 줘야한다.\n",
    "fruitFrame.drop([\"num\",\"fruitPrice\"],axis=1)"
   ]
  },
  {
   "cell_type": "code",
   "execution_count": 52,
   "id": "d1ff8483",
   "metadata": {},
   "outputs": [
    {
     "data": {
      "text/plain": [
       "apple     2500\n",
       "banana    3800\n",
       "peer      1200\n",
       "dtype: int64"
      ]
     },
     "execution_count": 52,
     "metadata": {},
     "output_type": "execute_result"
    }
   ],
   "source": [
    "fruit= Series(data=[2500,3800,1200,6000],index=[\"apple\",\"banana\",\"peer\",\"cherry\"])\n",
    "#Series 항목 추출하기 => slice (index를 통해 범위 정해 추출)\n",
    "fruit['apple':'peer']"
   ]
  },
  {
   "cell_type": "code",
   "execution_count": 53,
   "id": "afcf63f9",
   "metadata": {},
   "outputs": [
    {
     "data": {
      "text/html": [
       "<div>\n",
       "<style scoped>\n",
       "    .dataframe tbody tr th:only-of-type {\n",
       "        vertical-align: middle;\n",
       "    }\n",
       "\n",
       "    .dataframe tbody tr th {\n",
       "        vertical-align: top;\n",
       "    }\n",
       "\n",
       "    .dataframe thead th {\n",
       "        text-align: right;\n",
       "    }\n",
       "</style>\n",
       "<table border=\"1\" class=\"dataframe\">\n",
       "  <thead>\n",
       "    <tr style=\"text-align: right;\">\n",
       "      <th></th>\n",
       "      <th>fruitPrice</th>\n",
       "      <th>num</th>\n",
       "    </tr>\n",
       "  </thead>\n",
       "  <tbody>\n",
       "    <tr>\n",
       "      <th>apple</th>\n",
       "      <td>2500</td>\n",
       "      <td>10</td>\n",
       "    </tr>\n",
       "    <tr>\n",
       "      <th>banana</th>\n",
       "      <td>3800</td>\n",
       "      <td>5</td>\n",
       "    </tr>\n",
       "  </tbody>\n",
       "</table>\n",
       "</div>"
      ],
      "text/plain": [
       "        fruitPrice  num\n",
       "apple         2500   10\n",
       "banana        3800    5"
      ]
     },
     "execution_count": 53,
     "metadata": {},
     "output_type": "execute_result"
    }
   ],
   "source": [
    "# dataframe 항목 추출하기\n",
    "fruitFrame['apple':'banana']"
   ]
  },
  {
   "cell_type": "code",
   "execution_count": 54,
   "id": "0c2deff3",
   "metadata": {},
   "outputs": [
    {
     "data": {
      "text/plain": [
       "apple     2500\n",
       "banana    3800\n",
       "cherry    6000\n",
       "peer      1200\n",
       "Name: fruitPrice, dtype: int64"
      ]
     },
     "execution_count": 54,
     "metadata": {},
     "output_type": "execute_result"
    }
   ],
   "source": [
    "#컬럼을 slice => series 가 만들어짐\n",
    "fruitFrame[\"fruitPrice\"]"
   ]
  },
  {
   "cell_type": "code",
   "execution_count": 55,
   "id": "05ff8436",
   "metadata": {},
   "outputs": [
    {
     "data": {
      "text/html": [
       "<div>\n",
       "<style scoped>\n",
       "    .dataframe tbody tr th:only-of-type {\n",
       "        vertical-align: middle;\n",
       "    }\n",
       "\n",
       "    .dataframe tbody tr th {\n",
       "        vertical-align: top;\n",
       "    }\n",
       "\n",
       "    .dataframe thead th {\n",
       "        text-align: right;\n",
       "    }\n",
       "</style>\n",
       "<table border=\"1\" class=\"dataframe\">\n",
       "  <thead>\n",
       "    <tr style=\"text-align: right;\">\n",
       "      <th></th>\n",
       "      <th>fruitPrice</th>\n",
       "      <th>num</th>\n",
       "    </tr>\n",
       "  </thead>\n",
       "  <tbody>\n",
       "    <tr>\n",
       "      <th>apple</th>\n",
       "      <td>2500</td>\n",
       "      <td>10</td>\n",
       "    </tr>\n",
       "    <tr>\n",
       "      <th>banana</th>\n",
       "      <td>3800</td>\n",
       "      <td>5</td>\n",
       "    </tr>\n",
       "    <tr>\n",
       "      <th>cherry</th>\n",
       "      <td>6000</td>\n",
       "      <td>3</td>\n",
       "    </tr>\n",
       "    <tr>\n",
       "      <th>peer</th>\n",
       "      <td>1200</td>\n",
       "      <td>8</td>\n",
       "    </tr>\n",
       "  </tbody>\n",
       "</table>\n",
       "</div>"
      ],
      "text/plain": [
       "        fruitPrice  num\n",
       "apple         2500   10\n",
       "banana        3800    5\n",
       "cherry        6000    3\n",
       "peer          1200    8"
      ]
     },
     "execution_count": 55,
     "metadata": {},
     "output_type": "execute_result"
    }
   ],
   "source": [
    "#컬럼을 여러개 slice => 리스트형태\n",
    "fruitFrame[[\"fruitPrice\",\"num\"]]"
   ]
  },
  {
   "cell_type": "code",
   "execution_count": 59,
   "id": "652ad512",
   "metadata": {},
   "outputs": [
    {
     "data": {
      "text/plain": [
       "ap     8.0\n",
       "ba    18.0\n",
       "ch    15.0\n",
       "ma     NaN\n",
       "or     NaN\n",
       "pe     NaN\n",
       "dtype: float64"
      ]
     },
     "execution_count": 59,
     "metadata": {},
     "output_type": "execute_result"
    }
   ],
   "source": [
    "#Series 연산\n",
    "fruit1 = pd.Series([5,9,10,3],index=['ap','ba','ch','pe'])\n",
    "fruit2 = pd.Series([3,2,9,5,10],index=['ap','or','ba','ch','ma'])\n",
    "fruit1 + fruit2\n",
    "#index로 연산을 해서 같은 index끼리 더하고 두개의 같은 index가 없으면 NaN를 반환."
   ]
  },
  {
   "cell_type": "code",
   "execution_count": 62,
   "id": "697bb9a4",
   "metadata": {},
   "outputs": [
    {
     "data": {
      "text/html": [
       "<div>\n",
       "<style scoped>\n",
       "    .dataframe tbody tr th:only-of-type {\n",
       "        vertical-align: middle;\n",
       "    }\n",
       "\n",
       "    .dataframe tbody tr th {\n",
       "        vertical-align: top;\n",
       "    }\n",
       "\n",
       "    .dataframe thead th {\n",
       "        text-align: right;\n",
       "    }\n",
       "</style>\n",
       "<table border=\"1\" class=\"dataframe\">\n",
       "  <thead>\n",
       "    <tr style=\"text-align: right;\">\n",
       "      <th></th>\n",
       "      <th>Co</th>\n",
       "      <th>Oh</th>\n",
       "      <th>Te</th>\n",
       "    </tr>\n",
       "  </thead>\n",
       "  <tbody>\n",
       "    <tr>\n",
       "      <th>ap</th>\n",
       "      <td>NaN</td>\n",
       "      <td>7.0</td>\n",
       "      <td>NaN</td>\n",
       "    </tr>\n",
       "    <tr>\n",
       "      <th>ba</th>\n",
       "      <td>NaN</td>\n",
       "      <td>10.0</td>\n",
       "      <td>NaN</td>\n",
       "    </tr>\n",
       "    <tr>\n",
       "      <th>ch</th>\n",
       "      <td>NaN</td>\n",
       "      <td>4.0</td>\n",
       "      <td>NaN</td>\n",
       "    </tr>\n",
       "    <tr>\n",
       "      <th>ma</th>\n",
       "      <td>NaN</td>\n",
       "      <td>NaN</td>\n",
       "      <td>NaN</td>\n",
       "    </tr>\n",
       "    <tr>\n",
       "      <th>or</th>\n",
       "      <td>NaN</td>\n",
       "      <td>NaN</td>\n",
       "      <td>NaN</td>\n",
       "    </tr>\n",
       "    <tr>\n",
       "      <th>pe</th>\n",
       "      <td>NaN</td>\n",
       "      <td>NaN</td>\n",
       "      <td>NaN</td>\n",
       "    </tr>\n",
       "  </tbody>\n",
       "</table>\n",
       "</div>"
      ],
      "text/plain": [
       "    Co    Oh  Te\n",
       "ap NaN   7.0 NaN\n",
       "ba NaN  10.0 NaN\n",
       "ch NaN   4.0 NaN\n",
       "ma NaN   NaN NaN\n",
       "or NaN   NaN NaN\n",
       "pe NaN   NaN NaN"
      ]
     },
     "execution_count": 62,
     "metadata": {},
     "output_type": "execute_result"
    }
   ],
   "source": [
    "#DataFrame 연산(dataframe내 index와 데이터값의 개수는 같아야한다.)\n",
    "fruitData1={\"Oh\":[4,8,3,5],\"Te\":[0,1,2,3]}\n",
    "fruitFrame1 = pd.DataFrame(fruitData1,columns=['Oh','Te'],index=['ap','ba','ch','pe'])\n",
    "\n",
    "fruitData2={\"Oh\":[3,0,2,1,7],\"Co\":[5,4,3,6,0]}\n",
    "fruitFrame2 = pd.DataFrame(fruitData2,columns=['Oh','Co'],index=['ap','or','ba','ch','ma'])\n",
    "\n",
    "fruitFrame1+ fruitFrame2\n",
    "#index와 column명이 있으면 더하나 둘중에 하나라도 빠지면 NaN으로 처리."
   ]
  },
  {
   "cell_type": "code",
   "execution_count": 64,
   "id": "3e62e165",
   "metadata": {},
   "outputs": [
    {
     "data": {
      "text/plain": [
       "cherry    6000\n",
       "banana    3800\n",
       "apple     2500\n",
       "peer      1200\n",
       "dtype: int64"
      ]
     },
     "execution_count": 64,
     "metadata": {},
     "output_type": "execute_result"
    }
   ],
   "source": [
    "#Series 정렬\n",
    "fruit.sort_values(ascending=False) #()안에 안주면 값을 기준으로 오름차순정렬함."
   ]
  },
  {
   "cell_type": "code",
   "execution_count": 66,
   "id": "a5f9d3ed",
   "metadata": {},
   "outputs": [
    {
     "data": {
      "text/html": [
       "<div>\n",
       "<style scoped>\n",
       "    .dataframe tbody tr th:only-of-type {\n",
       "        vertical-align: middle;\n",
       "    }\n",
       "\n",
       "    .dataframe tbody tr th {\n",
       "        vertical-align: top;\n",
       "    }\n",
       "\n",
       "    .dataframe thead th {\n",
       "        text-align: right;\n",
       "    }\n",
       "</style>\n",
       "<table border=\"1\" class=\"dataframe\">\n",
       "  <thead>\n",
       "    <tr style=\"text-align: right;\">\n",
       "      <th></th>\n",
       "      <th>fruitPrice</th>\n",
       "      <th>num</th>\n",
       "    </tr>\n",
       "  </thead>\n",
       "  <tbody>\n",
       "    <tr>\n",
       "      <th>apple</th>\n",
       "      <td>2500</td>\n",
       "      <td>10</td>\n",
       "    </tr>\n",
       "    <tr>\n",
       "      <th>banana</th>\n",
       "      <td>3800</td>\n",
       "      <td>5</td>\n",
       "    </tr>\n",
       "    <tr>\n",
       "      <th>cherry</th>\n",
       "      <td>6000</td>\n",
       "      <td>3</td>\n",
       "    </tr>\n",
       "    <tr>\n",
       "      <th>peer</th>\n",
       "      <td>1200</td>\n",
       "      <td>8</td>\n",
       "    </tr>\n",
       "  </tbody>\n",
       "</table>\n",
       "</div>"
      ],
      "text/plain": [
       "        fruitPrice  num\n",
       "apple         2500   10\n",
       "banana        3800    5\n",
       "cherry        6000    3\n",
       "peer          1200    8"
      ]
     },
     "execution_count": 66,
     "metadata": {},
     "output_type": "execute_result"
    }
   ],
   "source": [
    "#Dataframe 정렬\n",
    "fruitFrame.sort_index()"
   ]
  },
  {
   "cell_type": "code",
   "execution_count": 67,
   "id": "503991d6",
   "metadata": {},
   "outputs": [
    {
     "data": {
      "text/html": [
       "<div>\n",
       "<style scoped>\n",
       "    .dataframe tbody tr th:only-of-type {\n",
       "        vertical-align: middle;\n",
       "    }\n",
       "\n",
       "    .dataframe tbody tr th {\n",
       "        vertical-align: top;\n",
       "    }\n",
       "\n",
       "    .dataframe thead th {\n",
       "        text-align: right;\n",
       "    }\n",
       "</style>\n",
       "<table border=\"1\" class=\"dataframe\">\n",
       "  <thead>\n",
       "    <tr style=\"text-align: right;\">\n",
       "      <th></th>\n",
       "      <th>fruitPrice</th>\n",
       "      <th>num</th>\n",
       "    </tr>\n",
       "  </thead>\n",
       "  <tbody>\n",
       "    <tr>\n",
       "      <th>peer</th>\n",
       "      <td>1200</td>\n",
       "      <td>8</td>\n",
       "    </tr>\n",
       "    <tr>\n",
       "      <th>cherry</th>\n",
       "      <td>6000</td>\n",
       "      <td>3</td>\n",
       "    </tr>\n",
       "    <tr>\n",
       "      <th>banana</th>\n",
       "      <td>3800</td>\n",
       "      <td>5</td>\n",
       "    </tr>\n",
       "    <tr>\n",
       "      <th>apple</th>\n",
       "      <td>2500</td>\n",
       "      <td>10</td>\n",
       "    </tr>\n",
       "  </tbody>\n",
       "</table>\n",
       "</div>"
      ],
      "text/plain": [
       "        fruitPrice  num\n",
       "peer          1200    8\n",
       "cherry        6000    3\n",
       "banana        3800    5\n",
       "apple         2500   10"
      ]
     },
     "execution_count": 67,
     "metadata": {},
     "output_type": "execute_result"
    }
   ],
   "source": [
    "#index를 기준으로 정렬함. (내림차순)\n",
    "fruitFrame.sort_index(ascending=False)"
   ]
  },
  {
   "cell_type": "code",
   "execution_count": 71,
   "id": "eb17864e",
   "metadata": {},
   "outputs": [
    {
     "data": {
      "text/html": [
       "<div>\n",
       "<style scoped>\n",
       "    .dataframe tbody tr th:only-of-type {\n",
       "        vertical-align: middle;\n",
       "    }\n",
       "\n",
       "    .dataframe tbody tr th {\n",
       "        vertical-align: top;\n",
       "    }\n",
       "\n",
       "    .dataframe thead th {\n",
       "        text-align: right;\n",
       "    }\n",
       "</style>\n",
       "<table border=\"1\" class=\"dataframe\">\n",
       "  <thead>\n",
       "    <tr style=\"text-align: right;\">\n",
       "      <th></th>\n",
       "      <th>fruitPrice</th>\n",
       "      <th>num</th>\n",
       "    </tr>\n",
       "  </thead>\n",
       "  <tbody>\n",
       "    <tr>\n",
       "      <th>apple</th>\n",
       "      <td>2500</td>\n",
       "      <td>10</td>\n",
       "    </tr>\n",
       "    <tr>\n",
       "      <th>banana</th>\n",
       "      <td>3800</td>\n",
       "      <td>5</td>\n",
       "    </tr>\n",
       "    <tr>\n",
       "      <th>cherry</th>\n",
       "      <td>6000</td>\n",
       "      <td>3</td>\n",
       "    </tr>\n",
       "    <tr>\n",
       "      <th>peer</th>\n",
       "      <td>1200</td>\n",
       "      <td>8</td>\n",
       "    </tr>\n",
       "  </tbody>\n",
       "</table>\n",
       "</div>"
      ],
      "text/plain": [
       "        fruitPrice  num\n",
       "apple         2500   10\n",
       "banana        3800    5\n",
       "cherry        6000    3\n",
       "peer          1200    8"
      ]
     },
     "execution_count": 71,
     "metadata": {},
     "output_type": "execute_result"
    }
   ],
   "source": [
    "#column을 정렬\n",
    "fruitFrame.sort_index(axis=1)"
   ]
  },
  {
   "cell_type": "code",
   "execution_count": 72,
   "id": "04ee94cd",
   "metadata": {},
   "outputs": [
    {
     "data": {
      "text/html": [
       "<div>\n",
       "<style scoped>\n",
       "    .dataframe tbody tr th:only-of-type {\n",
       "        vertical-align: middle;\n",
       "    }\n",
       "\n",
       "    .dataframe tbody tr th {\n",
       "        vertical-align: top;\n",
       "    }\n",
       "\n",
       "    .dataframe thead th {\n",
       "        text-align: right;\n",
       "    }\n",
       "</style>\n",
       "<table border=\"1\" class=\"dataframe\">\n",
       "  <thead>\n",
       "    <tr style=\"text-align: right;\">\n",
       "      <th></th>\n",
       "      <th>num</th>\n",
       "      <th>fruitPrice</th>\n",
       "    </tr>\n",
       "  </thead>\n",
       "  <tbody>\n",
       "    <tr>\n",
       "      <th>apple</th>\n",
       "      <td>10</td>\n",
       "      <td>2500</td>\n",
       "    </tr>\n",
       "    <tr>\n",
       "      <th>banana</th>\n",
       "      <td>5</td>\n",
       "      <td>3800</td>\n",
       "    </tr>\n",
       "    <tr>\n",
       "      <th>cherry</th>\n",
       "      <td>3</td>\n",
       "      <td>6000</td>\n",
       "    </tr>\n",
       "    <tr>\n",
       "      <th>peer</th>\n",
       "      <td>8</td>\n",
       "      <td>1200</td>\n",
       "    </tr>\n",
       "  </tbody>\n",
       "</table>\n",
       "</div>"
      ],
      "text/plain": [
       "        num  fruitPrice\n",
       "apple    10        2500\n",
       "banana    5        3800\n",
       "cherry    3        6000\n",
       "peer      8        1200"
      ]
     },
     "execution_count": 72,
     "metadata": {},
     "output_type": "execute_result"
    }
   ],
   "source": [
    "#flase주면 column 내림차순\n",
    "fruitFrame.sort_index(axis=1, ascending=False)"
   ]
  },
  {
   "cell_type": "code",
   "execution_count": 74,
   "id": "b7b7bc50",
   "metadata": {},
   "outputs": [
    {
     "data": {
      "text/html": [
       "<div>\n",
       "<style scoped>\n",
       "    .dataframe tbody tr th:only-of-type {\n",
       "        vertical-align: middle;\n",
       "    }\n",
       "\n",
       "    .dataframe tbody tr th {\n",
       "        vertical-align: top;\n",
       "    }\n",
       "\n",
       "    .dataframe thead th {\n",
       "        text-align: right;\n",
       "    }\n",
       "</style>\n",
       "<table border=\"1\" class=\"dataframe\">\n",
       "  <thead>\n",
       "    <tr style=\"text-align: right;\">\n",
       "      <th></th>\n",
       "      <th>fruitPrice</th>\n",
       "      <th>num</th>\n",
       "    </tr>\n",
       "  </thead>\n",
       "  <tbody>\n",
       "    <tr>\n",
       "      <th>peer</th>\n",
       "      <td>1200</td>\n",
       "      <td>8</td>\n",
       "    </tr>\n",
       "    <tr>\n",
       "      <th>apple</th>\n",
       "      <td>2500</td>\n",
       "      <td>10</td>\n",
       "    </tr>\n",
       "    <tr>\n",
       "      <th>banana</th>\n",
       "      <td>3800</td>\n",
       "      <td>5</td>\n",
       "    </tr>\n",
       "    <tr>\n",
       "      <th>cherry</th>\n",
       "      <td>6000</td>\n",
       "      <td>3</td>\n",
       "    </tr>\n",
       "  </tbody>\n",
       "</table>\n",
       "</div>"
      ],
      "text/plain": [
       "        fruitPrice  num\n",
       "peer          1200    8\n",
       "apple         2500   10\n",
       "banana        3800    5\n",
       "cherry        6000    3"
      ]
     },
     "execution_count": 74,
     "metadata": {},
     "output_type": "execute_result"
    }
   ],
   "source": [
    "#fruitPrice기준 정렬\n",
    "fruitFrame.sort_values(by=[\"fruitPrice\"])\n",
    "#by=(\"\")로 해도 됨"
   ]
  },
  {
   "cell_type": "code",
   "execution_count": 76,
   "id": "0eadf12d",
   "metadata": {},
   "outputs": [
    {
     "data": {
      "text/html": [
       "<div>\n",
       "<style scoped>\n",
       "    .dataframe tbody tr th:only-of-type {\n",
       "        vertical-align: middle;\n",
       "    }\n",
       "\n",
       "    .dataframe tbody tr th {\n",
       "        vertical-align: top;\n",
       "    }\n",
       "\n",
       "    .dataframe thead th {\n",
       "        text-align: right;\n",
       "    }\n",
       "</style>\n",
       "<table border=\"1\" class=\"dataframe\">\n",
       "  <thead>\n",
       "    <tr style=\"text-align: right;\">\n",
       "      <th></th>\n",
       "      <th>fruitPrice</th>\n",
       "      <th>num</th>\n",
       "    </tr>\n",
       "  </thead>\n",
       "  <tbody>\n",
       "    <tr>\n",
       "      <th>cherry</th>\n",
       "      <td>6000</td>\n",
       "      <td>3</td>\n",
       "    </tr>\n",
       "    <tr>\n",
       "      <th>banana</th>\n",
       "      <td>3800</td>\n",
       "      <td>5</td>\n",
       "    </tr>\n",
       "    <tr>\n",
       "      <th>peer</th>\n",
       "      <td>1200</td>\n",
       "      <td>8</td>\n",
       "    </tr>\n",
       "    <tr>\n",
       "      <th>apple</th>\n",
       "      <td>2500</td>\n",
       "      <td>10</td>\n",
       "    </tr>\n",
       "  </tbody>\n",
       "</table>\n",
       "</div>"
      ],
      "text/plain": [
       "        fruitPrice  num\n",
       "cherry        6000    3\n",
       "banana        3800    5\n",
       "peer          1200    8\n",
       "apple         2500   10"
      ]
     },
     "execution_count": 76,
     "metadata": {},
     "output_type": "execute_result"
    }
   ],
   "source": [
    "#기준을 여러개는 []로 묶어서 줘야\n",
    "fruitFrame.sort_values(by=[\"num\",\"fruitPrice\"])"
   ]
  },
  {
   "cell_type": "code",
   "execution_count": 77,
   "id": "34bb4eb0",
   "metadata": {},
   "outputs": [
    {
     "data": {
      "text/html": [
       "<div>\n",
       "<style scoped>\n",
       "    .dataframe tbody tr th:only-of-type {\n",
       "        vertical-align: middle;\n",
       "    }\n",
       "\n",
       "    .dataframe tbody tr th {\n",
       "        vertical-align: top;\n",
       "    }\n",
       "\n",
       "    .dataframe thead th {\n",
       "        text-align: right;\n",
       "    }\n",
       "</style>\n",
       "<table border=\"1\" class=\"dataframe\">\n",
       "  <thead>\n",
       "    <tr style=\"text-align: right;\">\n",
       "      <th></th>\n",
       "      <th>fruitPrice</th>\n",
       "      <th>num</th>\n",
       "    </tr>\n",
       "  </thead>\n",
       "  <tbody>\n",
       "    <tr>\n",
       "      <th>cherry</th>\n",
       "      <td>6000</td>\n",
       "      <td>3</td>\n",
       "    </tr>\n",
       "    <tr>\n",
       "      <th>banana</th>\n",
       "      <td>3800</td>\n",
       "      <td>5</td>\n",
       "    </tr>\n",
       "    <tr>\n",
       "      <th>peer</th>\n",
       "      <td>1200</td>\n",
       "      <td>8</td>\n",
       "    </tr>\n",
       "    <tr>\n",
       "      <th>apple</th>\n",
       "      <td>2500</td>\n",
       "      <td>10</td>\n",
       "    </tr>\n",
       "  </tbody>\n",
       "</table>\n",
       "</div>"
      ],
      "text/plain": [
       "        fruitPrice  num\n",
       "cherry        6000    3\n",
       "banana        3800    5\n",
       "peer          1200    8\n",
       "apple         2500   10"
      ]
     },
     "execution_count": 77,
     "metadata": {},
     "output_type": "execute_result"
    }
   ],
   "source": [
    "fruitFrame.sort_values(by=[\"num\"])\n",
    "#뭐가다르지.."
   ]
  }
 ],
 "metadata": {
  "kernelspec": {
   "display_name": "Python 3",
   "language": "python",
   "name": "python3"
  },
  "language_info": {
   "codemirror_mode": {
    "name": "ipython",
    "version": 3
   },
   "file_extension": ".py",
   "mimetype": "text/x-python",
   "name": "python",
   "nbconvert_exporter": "python",
   "pygments_lexer": "ipython3",
   "version": "3.7.7"
  }
 },
 "nbformat": 4,
 "nbformat_minor": 5
}
