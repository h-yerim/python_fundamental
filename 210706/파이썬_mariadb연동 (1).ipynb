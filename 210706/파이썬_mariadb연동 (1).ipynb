{
 "cells": [
  {
   "cell_type": "markdown",
   "id": "12cae136",
   "metadata": {},
   "source": [
    "### [ 파이썬과 MariaDB 연동 ] \n",
    "pymysql 설치 \n"
   ]
  },
  {
   "cell_type": "code",
   "execution_count": 1,
   "id": "104248c9",
   "metadata": {},
   "outputs": [
    {
     "name": "stdout",
     "output_type": "stream",
     "text": [
      "Collecting pymysql\n",
      "  Downloading PyMySQL-1.0.2-py3-none-any.whl (43 kB)\n",
      "Installing collected packages: pymysql\n",
      "Successfully installed pymysql-1.0.2\n",
      "Note: you may need to restart the kernel to use updated packages.\n"
     ]
    }
   ],
   "source": [
    "pip install pymysql"
   ]
  },
  {
   "cell_type": "markdown",
   "id": "6285faa0",
   "metadata": {},
   "source": [
    "#### DB 연결"
   ]
  },
  {
   "cell_type": "code",
   "execution_count": 3,
   "id": "2df6fc47",
   "metadata": {},
   "outputs": [],
   "source": [
    "import pymysql \n",
    "\n",
    "# DB 연결 \n",
    "conn = pymysql.connect (host=\"127.0.0.1\", user=\"root\", password=\"kpc1212\" , db=\"kpc\" , charset=\"utf8\")\n",
    "cur =conn.cursor() "
   ]
  },
  {
   "cell_type": "markdown",
   "id": "b24be52e",
   "metadata": {},
   "source": [
    "###### SQL 실행"
   ]
  },
  {
   "cell_type": "code",
   "execution_count": 4,
   "id": "3947c5d6",
   "metadata": {},
   "outputs": [],
   "source": [
    "sql1 =\"create table user (id varchar(100) primary key, name varchar(100), password varchar(100) ) DEFAULT CHARSET=utf8 \" "
   ]
  },
  {
   "cell_type": "code",
   "execution_count": 5,
   "id": "47962c7e",
   "metadata": {
    "scrolled": true
   },
   "outputs": [
    {
     "data": {
      "text/plain": [
       "0"
      ]
     },
     "execution_count": 5,
     "metadata": {},
     "output_type": "execute_result"
    }
   ],
   "source": [
    "cur.execute( sql1 ) "
   ]
  },
  {
   "cell_type": "code",
   "execution_count": 6,
   "id": "b67a0577",
   "metadata": {},
   "outputs": [
    {
     "data": {
      "text/plain": [
       "1"
      ]
     },
     "execution_count": 6,
     "metadata": {},
     "output_type": "execute_result"
    }
   ],
   "source": [
    "insert_sql1 = \"insert into user values ('hong','홍길동','1234')\" ;\n",
    "cur.execute( insert_sql1 ) "
   ]
  },
  {
   "cell_type": "code",
   "execution_count": 7,
   "id": "0d5160c1",
   "metadata": {},
   "outputs": [
    {
     "data": {
      "text/plain": [
       "1"
      ]
     },
     "execution_count": 7,
     "metadata": {},
     "output_type": "execute_result"
    }
   ],
   "source": [
    "insert_sql2 = \"insert into user values ('lee','이길동','1234')\" ;\n",
    "cur.execute( insert_sql2 ) "
   ]
  },
  {
   "cell_type": "code",
   "execution_count": 8,
   "id": "afd47f2a",
   "metadata": {},
   "outputs": [
    {
     "data": {
      "text/plain": [
       "1"
      ]
     },
     "execution_count": 8,
     "metadata": {},
     "output_type": "execute_result"
    }
   ],
   "source": [
    "insert_sql3 = \"insert into user values ('kim','김길동','1234')\" ;\n",
    "cur.execute( insert_sql3 ) "
   ]
  },
  {
   "cell_type": "markdown",
   "id": "d3a27c17",
   "metadata": {},
   "source": [
    "##### 커밋\n",
    " "
   ]
  },
  {
   "cell_type": "code",
   "execution_count": 9,
   "id": "dc6b5cbe",
   "metadata": {},
   "outputs": [],
   "source": [
    "conn.commit()"
   ]
  },
  {
   "cell_type": "markdown",
   "id": "2c6ad9bb",
   "metadata": {},
   "source": [
    "#### select "
   ]
  },
  {
   "cell_type": "code",
   "execution_count": 10,
   "id": "fff1ddab",
   "metadata": {},
   "outputs": [
    {
     "data": {
      "text/plain": [
       "3"
      ]
     },
     "execution_count": 10,
     "metadata": {},
     "output_type": "execute_result"
    }
   ],
   "source": [
    "select_sql = \"select * from user \" \n",
    "cur.execute(select_sql )"
   ]
  },
  {
   "cell_type": "code",
   "execution_count": 11,
   "id": "fdd31619",
   "metadata": {},
   "outputs": [
    {
     "name": "stdout",
     "output_type": "stream",
     "text": [
      "hong 홍길동 1234\n",
      "kim 김길동 1234\n",
      "lee 이길동 1234\n"
     ]
    }
   ],
   "source": [
    "while(True) :\n",
    "    row = cur.fetchone()\n",
    "    if row==None :\n",
    "        break; \n",
    "    print(row[0], row[1], row[2]) "
   ]
  },
  {
   "cell_type": "markdown",
   "id": "426fb9d6",
   "metadata": {},
   "source": [
    "#### 회원가입\n",
    "- 이름, 아이디, 패스워드 입력받은 후 DB 저장 실습"
   ]
  },
  {
   "cell_type": "code",
   "execution_count": 19,
   "id": "1946110c",
   "metadata": {},
   "outputs": [
    {
     "name": "stdout",
     "output_type": "stream",
     "text": [
      "이름을 입력하세요: 김영희\n",
      "사용자 id을 입력하세요: kim1234\n",
      "비밀번호를 입력하세요: 1234\n"
     ]
    },
    {
     "data": {
      "text/plain": [
       "1"
      ]
     },
     "execution_count": 19,
     "metadata": {},
     "output_type": "execute_result"
    }
   ],
   "source": [
    "name = input(\"이름을 입력하세요: \")\n",
    "id = input(\"사용자 id을 입력하세요: \")\n",
    "pw = input(\"비밀번호를 입력하세요: \")\n",
    "insert_sql = \"insert into user values ('{0}','{1}','{2}' )\".format(id,name,pw) ;\n",
    "cur.execute( insert_sql ) #몇개나 insert에 성공했는지에 대한 정보 - 1이면 insert 성공"
   ]
  },
  {
   "cell_type": "code",
   "execution_count": 20,
   "id": "d87ceb62",
   "metadata": {},
   "outputs": [],
   "source": [
    "conn.commit()"
   ]
  },
  {
   "cell_type": "code",
   "execution_count": 21,
   "id": "8ba97504",
   "metadata": {},
   "outputs": [
    {
     "name": "stdout",
     "output_type": "stream",
     "text": [
      "검색할 회원 이름을 입력하세요: 김영희\n",
      "select * from user where name='김영희'\n",
      "kim1234 김영희 1234\n"
     ]
    }
   ],
   "source": [
    "#### 회원검색\n",
    "name = input(\"검색할 회원 이름을 입력하세요: \")\n",
    "select_sql=\"select * from user where name='{0}'\".format(name)\n",
    "print(select_sql)\n",
    "result = cur.execute(select_sql) #몇건이나 select 했는지\n",
    "while(True):\n",
    "    row = cur.fetchone()\n",
    "    if row==None :\n",
    "        break; \n",
    "    print(row[0], row[1], row[2])"
   ]
  },
  {
   "cell_type": "code",
   "execution_count": null,
   "id": "b5bc2f51",
   "metadata": {},
   "outputs": [],
   "source": []
  }
 ],
 "metadata": {
  "kernelspec": {
   "display_name": "Python 3",
   "language": "python",
   "name": "python3"
  },
  "language_info": {
   "codemirror_mode": {
    "name": "ipython",
    "version": 3
   },
   "file_extension": ".py",
   "mimetype": "text/x-python",
   "name": "python",
   "nbconvert_exporter": "python",
   "pygments_lexer": "ipython3",
   "version": "3.7.7"
  }
 },
 "nbformat": 4,
 "nbformat_minor": 5
}
