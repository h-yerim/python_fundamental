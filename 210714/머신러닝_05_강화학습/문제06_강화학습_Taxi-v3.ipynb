{
 "cells": [
  {
   "cell_type": "markdown",
   "id": "fa9f6eb9",
   "metadata": {},
   "source": [
    "#### 총상태의 개수:500 (25(택시가있을수있는위치) X 5(승객의위치) X 4 (목적지의 위치)\n",
    "#### action의 개수: 6개 ( 동서남북이동,승객태움,승객내림)"
   ]
  },
  {
   "cell_type": "code",
   "execution_count": 6,
   "id": "c549c48f",
   "metadata": {},
   "outputs": [
    {
     "name": "stdout",
     "output_type": "stream",
     "text": [
      "+---------+\n",
      "|R: | : :\u001b[35mG\u001b[0m|\n",
      "| : | : : |\n",
      "| : : : :\u001b[43m \u001b[0m|\n",
      "| | : | : |\n",
      "|Y| : |\u001b[34;1mB\u001b[0m: |\n",
      "+---------+\n",
      "\n",
      "action 4 reward -10\n",
      "+---------+\n",
      "|R: | : :\u001b[35mG\u001b[0m|\n",
      "| : | : : |\n",
      "| : : : :\u001b[43m \u001b[0m|\n",
      "| | : | : |\n",
      "|Y| : |\u001b[34;1mB\u001b[0m: |\n",
      "+---------+\n",
      "  (Pickup)\n",
      "action 1 reward -1\n",
      "+---------+\n",
      "|R: | : :\u001b[35mG\u001b[0m|\n",
      "| : | : :\u001b[43m \u001b[0m|\n",
      "| : : : : |\n",
      "| | : | : |\n",
      "|Y| : |\u001b[34;1mB\u001b[0m: |\n",
      "+---------+\n",
      "  (North)\n",
      "action 4 reward -10\n",
      "+---------+\n",
      "|R: | : :\u001b[35mG\u001b[0m|\n",
      "| : | : :\u001b[43m \u001b[0m|\n",
      "| : : : : |\n",
      "| | : | : |\n",
      "|Y| : |\u001b[34;1mB\u001b[0m: |\n",
      "+---------+\n",
      "  (Pickup)\n",
      "action 0 reward -1\n",
      "+---------+\n",
      "|R: | : :\u001b[35mG\u001b[0m|\n",
      "| : | : : |\n",
      "| : : : :\u001b[43m \u001b[0m|\n",
      "| | : | : |\n",
      "|Y| : |\u001b[34;1mB\u001b[0m: |\n",
      "+---------+\n",
      "  (South)\n",
      "action 1 reward -1\n",
      "+---------+\n",
      "|R: | : :\u001b[35mG\u001b[0m|\n",
      "| : | : :\u001b[43m \u001b[0m|\n",
      "| : : : : |\n",
      "| | : | : |\n",
      "|Y| : |\u001b[34;1mB\u001b[0m: |\n",
      "+---------+\n",
      "  (North)\n",
      "action 5 reward -10\n",
      "+---------+\n",
      "|R: | : :\u001b[35mG\u001b[0m|\n",
      "| : | : :\u001b[43m \u001b[0m|\n",
      "| : : : : |\n",
      "| | : | : |\n",
      "|Y| : |\u001b[34;1mB\u001b[0m: |\n",
      "+---------+\n",
      "  (Dropoff)\n",
      "action 4 reward -10\n",
      "+---------+\n",
      "|R: | : :\u001b[35mG\u001b[0m|\n",
      "| : | : :\u001b[43m \u001b[0m|\n",
      "| : : : : |\n",
      "| | : | : |\n",
      "|Y| : |\u001b[34;1mB\u001b[0m: |\n",
      "+---------+\n",
      "  (Pickup)\n",
      "action 4 reward -10\n",
      "+---------+\n",
      "|R: | : :\u001b[35mG\u001b[0m|\n",
      "| : | : :\u001b[43m \u001b[0m|\n",
      "| : : : : |\n",
      "| | : | : |\n",
      "|Y| : |\u001b[34;1mB\u001b[0m: |\n",
      "+---------+\n",
      "  (Pickup)\n",
      "action 0 reward -1\n",
      "+---------+\n",
      "|R: | : :\u001b[35mG\u001b[0m|\n",
      "| : | : : |\n",
      "| : : : :\u001b[43m \u001b[0m|\n",
      "| | : | : |\n",
      "|Y| : |\u001b[34;1mB\u001b[0m: |\n",
      "+---------+\n",
      "  (South)\n",
      "action 0 reward -1\n",
      "+---------+\n",
      "|R: | : :\u001b[35mG\u001b[0m|\n",
      "| : | : : |\n",
      "| : : : : |\n",
      "| | : | :\u001b[43m \u001b[0m|\n",
      "|Y| : |\u001b[34;1mB\u001b[0m: |\n",
      "+---------+\n",
      "  (South)\n"
     ]
    }
   ],
   "source": [
    "#아무행동이나 하게끔 test 실행\n",
    "import gym\n",
    "env = gym.make(\"Taxi-v3\")\n",
    "\n",
    "for _ in range(1):\n",
    "    observation = env.reset()\n",
    "    env.render()\n",
    "    for _ in range(10):\n",
    "        action = env.action_space.sample()\n",
    "        observation,reward,done,info = env.step(action)\n",
    "        print(\"action\",action,\"reward\",reward)\n",
    "        env.render()"
   ]
  },
  {
   "cell_type": "markdown",
   "id": "5664bfd1",
   "metadata": {},
   "source": [
    "#### 3번예제"
   ]
  },
  {
   "cell_type": "code",
   "execution_count": 14,
   "id": "4e4cd4f9",
   "metadata": {},
   "outputs": [
    {
     "name": "stdout",
     "output_type": "stream",
     "text": [
      "Success rate: 6.747\n",
      "Final Q-Table Values\n",
      "LEFT DOWN RIGHT UP PICKUP DROPOFF\n",
      "[[ 0.          0.          0.          0.          0.          0.        ]\n",
      " [-6.71184133 -6.39731951 -6.35080704 -6.4        11.         -8.        ]\n",
      " [-4.7627264  -4.8        -5.46888704 -4.8        15.         -8.        ]\n",
      " ...\n",
      " [-2.4        -2.4064     -2.4        -3.0656     -8.         -8.        ]\n",
      " [-6.4        -6.45440881 -6.39488    -6.73679481 -8.         -8.        ]\n",
      " [ 0.         -0.8         0.         -0.8        -8.         -8.        ]]\n"
     ]
    },
    {
     "data": {
      "image/png": "[encoded data removed]",
      "text/plain": [
       "<Figure size 432x288 with 1 Axes>"
      ]
     },
     "metadata": {
      "needs_background": "light"
     },
     "output_type": "display_data"
    }
   ],
   "source": [
    "import gym\n",
    "import numpy as np\n",
    "import matplotlib.pyplot as plt\n",
    "\n",
    "env = gym.make(\"Taxi-v3\")\n",
    "\n",
    "Q= np.zeros([env.observation_space.n,env.action_space.n])\n",
    "\n",
    "dis= 0.8\n",
    "num_episodes=25000\n",
    "\n",
    "rList=[]\n",
    "for i in range(num_episodes):\n",
    "    state = env.reset()\n",
    "    rAll = 0\n",
    "    done = False \n",
    "    \n",
    "    while done != True :\n",
    "        action=np.argmax(Q[state,:]+np.random.randn(1,env.action_space.n)/(i+1))\n",
    "        \n",
    "        new_state,reward,done,info = env.step(action)\n",
    "        \n",
    "        #Q[state,action] = reward + dis*np.max(Q[state,:])\n",
    "        Q[state,action] += dis*((reward+(np.max(Q[new_state]))-Q[state,action]))\n",
    "        \n",
    "        state = new_state\n",
    "        \n",
    "        rAll += reward\n",
    "#         print(\"action\",action,\"reward\",reward)\n",
    "#         env.render()\n",
    "    rList.append(rAll)\n",
    "\n",
    "print(\"Success rate: \" + str(sum(rList) / num_episodes))\n",
    "print(\"Final Q-Table Values\")\n",
    "print(\"LEFT DOWN RIGHT UP PICKUP DROPOFF\")\n",
    "print(Q)\n",
    "plt.bar(range(len(rList)), rList, color='b', alpha=0.4)\n",
    "plt.show()\n"
   ]
  },
  {
   "cell_type": "markdown",
   "id": "7335af9c",
   "metadata": {},
   "source": [
    "#### 4번예제"
   ]
  },
  {
   "cell_type": "code",
   "execution_count": 24,
   "id": "70b761f0",
   "metadata": {},
   "outputs": [
    {
     "name": "stdout",
     "output_type": "stream",
     "text": [
      "Success rate: 2.8084\n",
      "Final Q-Table Values\n",
      "LEFT DOWN RIGHT UP PICKUP DROPOFF\n",
      "[[ 0.          0.          0.          0.          0.          0.        ]\n",
      " [-6.31955708 -6.96690121 -7.23767027 -6.96683048  9.6220697  -9.        ]\n",
      " [-6.03809136 -5.2019039  -5.27206316 -5.2019039  14.11880599 -9.        ]\n",
      " ...\n",
      " [-3.55169094 -2.6936028  -3.55169094 -3.63838363 -9.         -9.        ]\n",
      " [-5.36597044 -6.08356797 -5.27994819 -6.12539604 -9.         -9.        ]\n",
      " [ 0.          0.          0.         -0.9         0.         -9.        ]]\n"
     ]
    },
    {
     "data": {
      "image/png": "[encoded data removed]",
      "text/plain": [
       "<Figure size 432x288 with 1 Axes>"
      ]
     },
     "metadata": {
      "needs_background": "light"
     },
     "output_type": "display_data"
    }
   ],
   "source": [
    "import gym\n",
    "import numpy as np\n",
    "import matplotlib.pyplot as plt\n",
    "\n",
    "env = gym.make(\"Taxi-v3\")\n",
    "\n",
    "Q= np.zeros([env.observation_space.n,env.action_space.n])\n",
    "\n",
    "learning_rate=.90\n",
    "dis= .99\n",
    "num_episodes=5000\n",
    "\n",
    "rList=[]\n",
    "for i in range(num_episodes):\n",
    "    state = env.reset()\n",
    "    rAll = 0\n",
    "    done = False \n",
    "    \n",
    "    while done != True :\n",
    "        action=np.argmax(Q[state,:]+np.random.randn(1,env.action_space.n)/(i+1))\n",
    "        \n",
    "        new_state,reward,done,info = env.step(action)\n",
    "        \n",
    "        #Q[state,action] = reward + dis*np.max(Q[state,:])\n",
    "        Q[state, action] = (1-learning_rate) * Q[state, action] \\\n",
    "            + learning_rate*(reward + dis * np.max(Q[new_state, :]))\n",
    "       \n",
    "        rAll += reward\n",
    "        state = new_state\n",
    "       \n",
    "    \n",
    "#         print(\"action\",action,\"reward\",reward)\n",
    "#         env.render()\n",
    "    rList.append(rAll)\n",
    "\n",
    "print(\"Success rate: \" + str(sum(rList) / num_episodes))\n",
    "print(\"Final Q-Table Values\")\n",
    "print(\"LEFT DOWN RIGHT UP PICKUP DROPOFF\")\n",
    "print(Q)\n",
    "plt.bar(range(len(rList)), rList, color='b', alpha=0.4)\n",
    "plt.show()"
   ]
  },
  {
   "cell_type": "code",
   "execution_count": null,
   "id": "802a2988",
   "metadata": {},
   "outputs": [],
   "source": []
  },
  {
   "cell_type": "code",
   "execution_count": 7,
   "id": "7361a3d0",
   "metadata": {},
   "outputs": [
    {
     "name": "stdout",
     "output_type": "stream",
     "text": [
      "Initial State = 443\n",
      "475\n"
     ]
    }
   ],
   "source": [
    "import numpy as np\n",
    "env = gym.make(\"Taxi-v3\")\n",
    "Q= np.zeros([env.observation_space.n,env.action_space.n])\n",
    "episodes = 1\n",
    "G = 0\n",
    "alpha = 0.618\n",
    "for epsiode in range(1,episodes+1):\n",
    "    done = False\n",
    "    G, reward = 0,0\n",
    "    state = env.reset()\n",
    "    firstState=state\n",
    "    print(\"Initial State = {}\".format(state))\n",
    "    while reward != 20:\n",
    "        action = np.argmax(Q[state])\n",
    "        state2,reward,done,info=env.step(action)\n",
    "        Q[state,action] += alpha*(reward+np.max(Q[state2]-Q[state,action]))\n",
    "        G+=reward\n",
    "        state = state2\n",
    "        \n",
    "    finalState = state\n",
    "    print(finalState)"
   ]
  },
  {
   "cell_type": "code",
   "execution_count": 8,
   "id": "701776e5",
   "metadata": {},
   "outputs": [
    {
     "data": {
      "text/plain": [
       "array([[ 0.   ,  0.   ,  0.   ,  0.   ,  0.   ,  0.   ],\n",
       "       [ 0.   ,  0.   ,  0.   ,  0.   ,  0.   ,  0.   ],\n",
       "       [ 0.   ,  0.   ,  0.   ,  0.   ,  0.   ,  0.   ],\n",
       "       ...,\n",
       "       [ 0.   ,  0.   ,  0.   ,  0.   ,  0.   ,  0.   ],\n",
       "       [ 0.   ,  0.   ,  0.   ,  0.   ,  0.   ,  0.   ],\n",
       "       [-0.618, -0.618, -0.618, -0.618,  0.   ,  0.   ]])"
      ]
     },
     "execution_count": 8,
     "metadata": {},
     "output_type": "execute_result"
    }
   ],
   "source": [
    "Q"
   ]
  },
  {
   "cell_type": "markdown",
   "id": "e8e2b787",
   "metadata": {},
   "source": [
    "#### 인터넷에서본 알수없는 예제"
   ]
  },
  {
   "cell_type": "code",
   "execution_count": 19,
   "id": "36f53ef9",
   "metadata": {},
   "outputs": [
    {
     "name": "stdout",
     "output_type": "stream",
     "text": [
      "Episode 100 Total Reward 3\n",
      "Episode 200 Total Reward 8\n",
      "Episode 300 Total Reward 5\n",
      "Episode 400 Total Reward 10\n",
      "Episode 500 Total Reward 5\n",
      "Episode 600 Total Reward 5\n",
      "Episode 700 Total Reward 5\n",
      "Episode 800 Total Reward 7\n",
      "Episode 900 Total Reward 8\n",
      "Episode 1000 Total Reward 9\n",
      "Episode 1100 Total Reward 3\n",
      "Episode 1200 Total Reward 11\n",
      "Episode 1300 Total Reward 10\n",
      "Episode 1400 Total Reward 9\n",
      "Episode 1500 Total Reward 10\n",
      "Episode 1600 Total Reward 11\n",
      "Episode 1700 Total Reward 10\n",
      "Episode 1800 Total Reward 5\n",
      "Episode 1900 Total Reward 7\n",
      "Episode 2000 Total Reward 12\n",
      "Episode 2100 Total Reward 12\n",
      "Episode 2200 Total Reward 10\n",
      "Episode 2300 Total Reward 6\n",
      "Episode 2400 Total Reward 6\n",
      "Episode 2500 Total Reward 5\n",
      "Episode 2600 Total Reward 4\n",
      "Episode 2700 Total Reward 8\n",
      "Episode 2800 Total Reward 6\n",
      "Episode 2900 Total Reward 10\n",
      "Episode 3000 Total Reward 7\n",
      "Success rate: 7.884666666666667\n"
     ]
    }
   ],
   "source": [
    "episodes=3000\n",
    "G=0\n",
    "alpha=0.9\n",
    "rewardTracker=[]\n",
    "env = gym.make(\"Taxi-v3\")\n",
    "\n",
    "for episode in range(1,episodes+1):\n",
    "    done = False\n",
    "    G, reward = 0,0\n",
    "    state = env.reset()\n",
    "\n",
    "    while done != True:\n",
    "        action = np.argmax(Q[state])\n",
    "        state2,reward,done,info=env.step(action)\n",
    "        Q[state,action] += alpha*((reward+(np.max(Q[state2]))-Q[state,action]))\n",
    "        G+=reward\n",
    "        state = state2\n",
    "        \n",
    "    rewardTracker.append(G)    \n",
    "        \n",
    "    if episode%100==0:\n",
    "        print('Episode {} Total Reward {}'.format(episode,G))\n",
    "print(\"Success rate: \" + str(sum(rewardTracker) / episodes))"
   ]
  },
  {
   "cell_type": "code",
   "execution_count": 12,
   "id": "6fc51660",
   "metadata": {},
   "outputs": [
    {
     "name": "stdout",
     "output_type": "stream",
     "text": [
      "+---------+\n",
      "|\u001b[34;1mR\u001b[0m: | : :\u001b[35mG\u001b[0m|\n",
      "| : | : : |\n",
      "| : : : : |\n",
      "| |\u001b[43m \u001b[0m: | : |\n",
      "|Y| : |B: |\n",
      "+---------+\n",
      "  (West)\n",
      "+---------+\n",
      "|\u001b[34;1mR\u001b[0m: | : :\u001b[35mG\u001b[0m|\n",
      "| : | : : |\n",
      "| :\u001b[43m \u001b[0m: : : |\n",
      "| | : | : |\n",
      "|Y| : |B: |\n",
      "+---------+\n",
      "  (North)\n",
      "+---------+\n",
      "|\u001b[34;1mR\u001b[0m: | : :\u001b[35mG\u001b[0m|\n",
      "| : | : : |\n",
      "|\u001b[43m \u001b[0m: : : : |\n",
      "| | : | : |\n",
      "|Y| : |B: |\n",
      "+---------+\n",
      "  (West)\n",
      "+---------+\n",
      "|\u001b[34;1mR\u001b[0m: | : :\u001b[35mG\u001b[0m|\n",
      "|\u001b[43m \u001b[0m: | : : |\n",
      "| : : : : |\n",
      "| | : | : |\n",
      "|Y| : |B: |\n",
      "+---------+\n",
      "  (North)\n",
      "+---------+\n",
      "|\u001b[34;1m\u001b[43mR\u001b[0m\u001b[0m: | : :\u001b[35mG\u001b[0m|\n",
      "| : | : : |\n",
      "| : : : : |\n",
      "| | : | : |\n",
      "|Y| : |B: |\n",
      "+---------+\n",
      "  (North)\n",
      "+---------+\n",
      "|\u001b[42mR\u001b[0m: | : :\u001b[35mG\u001b[0m|\n",
      "| : | : : |\n",
      "| : : : : |\n",
      "| | : | : |\n",
      "|Y| : |B: |\n",
      "+---------+\n",
      "  (Pickup)\n",
      "+---------+\n",
      "|R:\u001b[42m_\u001b[0m| : :\u001b[35mG\u001b[0m|\n",
      "| : | : : |\n",
      "| : : : : |\n",
      "| | : | : |\n",
      "|Y| : |B: |\n",
      "+---------+\n",
      "  (East)\n",
      "+---------+\n",
      "|R: | : :\u001b[35mG\u001b[0m|\n",
      "| :\u001b[42m_\u001b[0m| : : |\n",
      "| : : : : |\n",
      "| | : | : |\n",
      "|Y| : |B: |\n",
      "+---------+\n",
      "  (South)\n",
      "+---------+\n",
      "|R: | : :\u001b[35mG\u001b[0m|\n",
      "| : | : : |\n",
      "| :\u001b[42m_\u001b[0m: : : |\n",
      "| | : | : |\n",
      "|Y| : |B: |\n",
      "+---------+\n",
      "  (South)\n",
      "+---------+\n",
      "|R: | : :\u001b[35mG\u001b[0m|\n",
      "| : | : : |\n",
      "| : :\u001b[42m_\u001b[0m: : |\n",
      "| | : | : |\n",
      "|Y| : |B: |\n",
      "+---------+\n",
      "  (East)\n",
      "+---------+\n",
      "|R: | : :\u001b[35mG\u001b[0m|\n",
      "| : |\u001b[42m_\u001b[0m: : |\n",
      "| : : : : |\n",
      "| | : | : |\n",
      "|Y| : |B: |\n",
      "+---------+\n",
      "  (North)\n",
      "+---------+\n",
      "|R: |\u001b[42m_\u001b[0m: :\u001b[35mG\u001b[0m|\n",
      "| : | : : |\n",
      "| : : : : |\n",
      "| | : | : |\n",
      "|Y| : |B: |\n",
      "+---------+\n",
      "  (North)\n",
      "+---------+\n",
      "|R: | :\u001b[42m_\u001b[0m:\u001b[35mG\u001b[0m|\n",
      "| : | : : |\n",
      "| : : : : |\n",
      "| | : | : |\n",
      "|Y| : |B: |\n",
      "+---------+\n",
      "  (East)\n",
      "+---------+\n",
      "|R: | : :\u001b[35m\u001b[42mG\u001b[0m\u001b[0m|\n",
      "| : | : : |\n",
      "| : : : : |\n",
      "| | : | : |\n",
      "|Y| : |B: |\n",
      "+---------+\n",
      "  (East)\n",
      "+---------+\n",
      "|R: | : :\u001b[35m\u001b[34;1m\u001b[43mG\u001b[0m\u001b[0m\u001b[0m|\n",
      "| : | : : |\n",
      "| : : : : |\n",
      "| | : | : |\n",
      "|Y| : |B: |\n",
      "+---------+\n",
      "  (Dropoff)\n"
     ]
    }
   ],
   "source": [
    "state = env.reset()\n",
    "done =None\n",
    "\n",
    "while done != True:\n",
    "    action = np.argmax(Q[state])\n",
    "    state,reward,done,info=env.step(action)\n",
    "    env.render()"
   ]
  },
  {
   "cell_type": "markdown",
   "id": "1f66d737",
   "metadata": {},
   "source": [
    "#### 선생님답"
   ]
  },
  {
   "cell_type": "code",
   "execution_count": 28,
   "id": "577a125a",
   "metadata": {},
   "outputs": [],
   "source": [
    "import gym\n",
    "env = gym.make(\"Taxi-v3\")"
   ]
  },
  {
   "cell_type": "code",
   "execution_count": 30,
   "id": "18e82007",
   "metadata": {},
   "outputs": [],
   "source": [
    "Q=np.zeros([env.observation_space.n,env.action_space.n])"
   ]
  },
  {
   "cell_type": "code",
   "execution_count": 41,
   "id": "fe16823e",
   "metadata": {},
   "outputs": [],
   "source": [
    "rList=[]\n",
    "cnt=0"
   ]
  },
  {
   "cell_type": "code",
   "execution_count": 45,
   "id": "9e491be3",
   "metadata": {},
   "outputs": [
    {
     "data": {
      "image/png": "[encoded data removed]",
      "text/plain": [
       "<Figure size 432x288 with 1 Axes>"
      ]
     },
     "metadata": {
      "needs_background": "light"
     },
     "output_type": "display_data"
    },
    {
     "name": "stdout",
     "output_type": "stream",
     "text": [
      "2.5\n"
     ]
    }
   ],
   "source": [
    "for episode in range(2000):\n",
    "    state = env.reset()\n",
    "    done=False\n",
    "    G=0\n",
    "    \n",
    "    while done!=True:\n",
    "        action = np.argmax(Q[state]) #최대값 인덱스를 리턴( 0~5)\n",
    "        new_state,reward,done,_=env.step(action) #4개를 return하기때문에 변수명 4개를 준건데 뒤에쓸일이 없어서 _라 한거임\n",
    "        Q[state,action]=reward + np.max(Q[new_state ])\n",
    "        G+=reward\n",
    "        state=new_state #움직인 상태 계쏙 알기 위해\n",
    "    \n",
    "    rList.append(G)\n",
    "    \n",
    "    if G > 0: #점수가 0보다 크면 성공이라고 했을때\n",
    "        cnt+=1 #성공횟수 \n",
    "        \n",
    "import matplotlib.pyplot as plt\n",
    "plt.bar(range(len(rList)),rList,color=\"b\",alpha=0.5)\n",
    "plt.show()\n",
    "\n",
    "print(cnt/2000)\n",
    "#학습초반에는 음수가 나오다가 점점 소수가된다."
   ]
  },
  {
   "cell_type": "code",
   "execution_count": null,
   "id": "d9777466",
   "metadata": {},
   "outputs": [],
   "source": []
  }
 ],
 "metadata": {
  "kernelspec": {
   "display_name": "Python 3",
   "language": "python",
   "name": "python3"
  },
  "language_info": {
   "codemirror_mode": {
    "name": "ipython",
    "version": 3
   },
   "file_extension": ".py",
   "mimetype": "text/x-python",
   "name": "python",
   "nbconvert_exporter": "python",
   "pygments_lexer": "ipython3",
   "version": "3.7.7"
  }
 },
 "nbformat": 4,
 "nbformat_minor": 5
}
