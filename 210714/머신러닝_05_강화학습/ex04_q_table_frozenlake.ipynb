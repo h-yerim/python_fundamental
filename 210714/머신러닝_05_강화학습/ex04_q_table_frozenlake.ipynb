{
 "cells": [
  {
   "cell_type": "markdown",
   "metadata": {},
   "source": [
    "#### 만약 미끄러진다면? 그걸 어떻게 잡을수있을까"
   ]
  },
  {
   "cell_type": "code",
   "execution_count": 13,
   "metadata": {},
   "outputs": [
    {
     "name": "stdout",
     "output_type": "stream",
     "text": [
      "Success rate: 0.5495\n",
      "Final Q-Table Values\n",
      "LEFT DOWN RIGHT UP\n",
      "[[6.20182307e-01 4.97693712e-03 4.74447469e-03 1.46058019e-02]\n",
      " [2.59406979e-05 9.51916163e-03 2.03677270e-03 7.54031387e-01]\n",
      " [4.59358478e-01 7.50340083e-03 4.95128177e-04 3.16924551e-03]\n",
      " [1.34183223e-02 2.62550928e-03 2.46798522e-04 2.96760440e-03]\n",
      " [7.75979633e-01 1.95428492e-04 1.08293314e-02 8.02069383e-04]\n",
      " [0.00000000e+00 0.00000000e+00 0.00000000e+00 0.00000000e+00]\n",
      " [3.02861072e-06 1.61495650e-05 8.87278311e-03 2.94254620e-05]\n",
      " [0.00000000e+00 0.00000000e+00 0.00000000e+00 0.00000000e+00]\n",
      " [7.57374949e-04 4.79163242e-03 5.07382368e-03 9.12122190e-01]\n",
      " [9.16184150e-04 9.15904012e-01 0.00000000e+00 4.93595357e-04]\n",
      " [1.97714085e-01 0.00000000e+00 3.99700458e-04 0.00000000e+00]\n",
      " [0.00000000e+00 0.00000000e+00 0.00000000e+00 0.00000000e+00]\n",
      " [0.00000000e+00 0.00000000e+00 0.00000000e+00 0.00000000e+00]\n",
      " [0.00000000e+00 0.00000000e+00 9.61897921e-01 0.00000000e+00]\n",
      " [0.00000000e+00 0.00000000e+00 9.91866369e-01 0.00000000e+00]\n",
      " [0.00000000e+00 0.00000000e+00 0.00000000e+00 0.00000000e+00]]\n"
     ]
    },
    {
     "data": {
      "image/png": "[encoded data removed]",
      "text/plain": [
       "<Figure size 432x288 with 1 Axes>"
      ]
     },
     "metadata": {
      "needs_background": "light"
     },
     "output_type": "display_data"
    }
   ],
   "source": [
    "import gym\n",
    "import numpy as np\n",
    "import matplotlib.pyplot as plt\n",
    "\n",
    "env = gym.make('FrozenLake-v0')\n",
    " \n",
    "# Initialize table with all zeros\n",
    "Q = np.zeros([env.observation_space.n, env.action_space.n])\n",
    "\n",
    "# Set learning parameters\n",
    "learning_rate = .85 # 이 비율을 바꿔가면 정답률도 바뀜 \n",
    "dis = .99\n",
    "num_episodes = 2000\n",
    "\n",
    "# create lists to contain total rewards and steps per episode\n",
    "rList = []\n",
    "for i in range(num_episodes):\n",
    "    # Reset environment and get first new observation\n",
    "    state = env.reset()\n",
    "    rAll = 0\n",
    "    done = False\n",
    "\n",
    "    # The Q-Table learning algorithm\n",
    "    while not done:\n",
    "        action = np.argmax(Q[state, :] + np.random.randn(1, env.action_space.n) / (i + 1))\n",
    "\n",
    "        # Get new state and reward from environment\n",
    "        new_state, reward, done, _ = env.step(action)\n",
    "\n",
    "        # Update Q-Table with new knowledge using learning rate\n",
    "        #내가 원래 알던지식은 0.15 새로알게되는 지식은 0.85를 적용시킨느것임\n",
    "        Q[state, action] = (1-learning_rate) * Q[state, action] \\\n",
    "            + learning_rate*(reward + dis * np.max(Q[new_state, :]))\n",
    "        # Q[state, action] = (reward + dis * np.max(Q[new_state, :])) #원래식\n",
    "        rAll += reward\n",
    "        state = new_state\n",
    "\n",
    "    rList.append(rAll)\n",
    "print(\"Success rate: \" + str(sum(rList) / num_episodes))\n",
    "print(\"Final Q-Table Values\")\n",
    "print(\"LEFT DOWN RIGHT UP\")\n",
    "print(Q)\n",
    "plt.bar(range(len(rList)), rList, color='b', alpha=0.4)\n",
    "plt.show()\n",
    "\n",
    "\n",
    "\n"
   ]
  }
 ],
 "metadata": {
  "kernelspec": {
   "display_name": "Python 3",
   "language": "python",
   "name": "python3"
  },
  "language_info": {
   "codemirror_mode": {
    "name": "ipython",
    "version": 3
   },
   "file_extension": ".py",
   "mimetype": "text/x-python",
   "name": "python",
   "nbconvert_exporter": "python",
   "pygments_lexer": "ipython3",
   "version": "3.7.7"
  }
 },
 "nbformat": 4,
 "nbformat_minor": 2
}
