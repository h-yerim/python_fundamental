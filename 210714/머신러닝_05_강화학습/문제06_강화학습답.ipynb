{
 "cells": [
  {
   "cell_type": "code",
   "execution_count": 32,
   "id": "1ff4fef7",
   "metadata": {},
   "outputs": [],
   "source": [
    "import gym \n",
    "env = gym.make(\"Taxi-v3\")"
   ]
  },
  {
   "cell_type": "code",
   "execution_count": 33,
   "id": "6da95400",
   "metadata": {},
   "outputs": [],
   "source": [
    "import numpy as np\n",
    "Q = np.zeros( [env.observation_space.n, env.action_space.n] )"
   ]
  },
  {
   "cell_type": "code",
   "execution_count": 34,
   "id": "c0cf1154",
   "metadata": {},
   "outputs": [],
   "source": [
    "rList =[]\n",
    "cnt = 0 "
   ]
  },
  {
   "cell_type": "code",
   "execution_count": 35,
   "id": "0f77c05d",
   "metadata": {},
   "outputs": [
    {
     "data": {
      "image/png": "[encoded data removed]",
      "text/plain": [
       "<Figure size 432x288 with 1 Axes>"
      ]
     },
     "metadata": {
      "needs_background": "light"
     },
     "output_type": "display_data"
    },
    {
     "name": "stdout",
     "output_type": "stream",
     "text": [
      "0.8985\n"
     ]
    }
   ],
   "source": [
    "for episode in range(2000) :\n",
    "    state = env.reset() \n",
    "    done = False \n",
    "    G = 0 \n",
    "    while done != True  :\n",
    "#         env.render() \n",
    "        action = np.argmax( Q[state])  #  최대값 인덱스를 리턴 \n",
    "        #   0: move south\n",
    "        #   1: move north\n",
    "        #   2: move east\n",
    "        #   3: move west\n",
    "        #   4: pickup passenger\n",
    "        #   5: dropoff passenger\n",
    "        new_state , reward, done, aa = env.step(action )  # 0~5   \n",
    "        Q[state, action] = reward + np.max(Q[new_state ])\n",
    "        G += reward \n",
    "        state = new_state   \n",
    "    \n",
    "    rList.append(G) \n",
    "    if G > 0 : # 점수가 0보다 크면 성공이라고 했을 때 \n",
    "        cnt+=1 # 성공횟수 \n",
    "\n",
    "import matplotlib.pyplot as plt \n",
    "plt.bar( range(len(rList)),rList, color=\"b\", alpha=0.5) \n",
    "plt.show() \n",
    "\n",
    "print( cnt/2000 )"
   ]
  }
 ],
 "metadata": {
  "kernelspec": {
   "display_name": "Python 3",
   "language": "python",
   "name": "python3"
  },
  "language_info": {
   "codemirror_mode": {
    "name": "ipython",
    "version": 3
   },
   "file_extension": ".py",
   "mimetype": "text/x-python",
   "name": "python",
   "nbconvert_exporter": "python",
   "pygments_lexer": "ipython3",
   "version": "3.8.8"
  }
 },
 "nbformat": 4,
 "nbformat_minor": 5
}
