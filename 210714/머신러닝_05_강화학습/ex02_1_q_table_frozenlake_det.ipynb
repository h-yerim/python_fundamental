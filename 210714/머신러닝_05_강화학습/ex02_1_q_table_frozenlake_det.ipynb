{
 "cells": [
  {
   "cell_type": "markdown",
   "metadata": {},
   "source": [
    "#### FrozenLake 게임 환경 생성"
   ]
  },
  {
   "cell_type": "code",
   "execution_count": 1,
   "metadata": {},
   "outputs": [],
   "source": [
    "import gym\n",
    "import numpy as np\n",
    "import matplotlib.pyplot as plt\n",
    "from gym.envs.registration import register\n",
    "import random\n",
    "\n",
    "#최대값이 모두 같을 때 random하게 return하도록 작성한 코드.\n",
    "def rargmax(vector):\n",
    "    m = np.max(vector)\n",
    "    indices = np.nonzero(vector == m)[0]\n",
    "    return random.choice(indices)\n",
    "\n",
    "register(\n",
    "    id='FrozenLake-v3',\n",
    "    entry_point='gym.envs.toy_text:FrozenLakeEnv',\n",
    "    kwargs={'map_name' : '4x4', 'is_slippery': False}\n",
    ")\n",
    "\n",
    "env = gym.make('FrozenLake-v3')"
   ]
  },
  {
   "cell_type": "markdown",
   "metadata": {},
   "source": [
    "#### Q table 초기화"
   ]
  },
  {
   "cell_type": "code",
   "execution_count": 2,
   "metadata": {},
   "outputs": [],
   "source": [
    "# Q를 모두 0으로 초기화.  Q[16,4]\n",
    "Q = np.zeros([env.observation_space.n, env.action_space.n])"
   ]
  },
  {
   "cell_type": "markdown",
   "metadata": {},
   "source": [
    "#### 강화 학습 (Q learning을 통한) \n",
    "학습을 하면서 게임을 하므로 게임 초반에는 실패가 많으나 후반으로 갈수록 성공 확률이 높아진다."
   ]
  },
  {
   "cell_type": "markdown",
   "metadata": {},
   "source": [
    "#### 얘도 decaying e-greedy"
   ]
  },
  {
   "cell_type": "code",
   "execution_count": 12,
   "metadata": {},
   "outputs": [],
   "source": [
    "# Set learning parameters\n",
    "num_episodes = 2000\n",
    "\n",
    "# create lists to contain total rewards and steps per episode\n",
    "rList = []\n",
    "for i in range(num_episodes):  # 여러번 반복 학습\n",
    "    state = env.reset()    # 환경 reset 후, 첫번째 상태 얻음 \n",
    "    rAll = 0\n",
    "    done = False\n",
    " \n",
    "    e = 0.1 / ((i//100)+1)\n",
    "    \n",
    "    # The Q-Table learning algorithm\n",
    "    while not done:\n",
    "        # Choose an action by decaying e-greedy \n",
    "        # 현재 state의 Q중 최대 reward를 얻을 수 있는 action을 구함. \n",
    "        # 단, 알려진 길로만 가지 않기 위해서 random 값이 e보다 적은 경우는 아무렇게나 action \n",
    "        # 학습 후반부로 갈 수록 e의 값은 작아져, 정해질 길로 가게 됩니다.  \n",
    "        # (굳이 뒤로가서까지 모험할필요는 없기때문)\n",
    "        if np.random.rand(1) < e:\n",
    "            action = env.action_space.sample()\n",
    "        else:\n",
    "            action = rargmax(Q[state,:])\n",
    "\n",
    "        # Get new state and reward from environment\n",
    "        new_state, reward, done, _ = env.step(action)\n",
    "\n",
    "        # Update Q-Table with new knowledge using decay rate\n",
    "        Q[state, action] = reward + np.max(Q[new_state, :])\n",
    "\n",
    "        rAll += reward\n",
    "        state = new_state\n",
    "    rList.append(rAll)\n",
    "\n"
   ]
  },
  {
   "cell_type": "markdown",
   "metadata": {},
   "source": [
    "#### 게임 결과 출력\n",
    "(학습을 하면서 게임을 하므로 게임 초반에는 실패가 많으나 후반으로 갈수록 성공 확률이 높아진다.)"
   ]
  },
  {
   "cell_type": "code",
   "execution_count": 13,
   "metadata": {},
   "outputs": [
    {
     "name": "stdout",
     "output_type": "stream",
     "text": [
      "Success rate: 0.832\n",
      "Final Q-Table Values\n",
      "LEFT DOWN RIGHT UP\n",
      "[[1. 1. 1. 1.]\n",
      " [1. 0. 1. 1.]\n",
      " [1. 1. 1. 1.]\n",
      " [1. 0. 1. 1.]\n",
      " [1. 1. 0. 1.]\n",
      " [0. 0. 0. 0.]\n",
      " [0. 1. 0. 1.]\n",
      " [0. 0. 0. 0.]\n",
      " [1. 0. 1. 1.]\n",
      " [1. 1. 1. 0.]\n",
      " [1. 1. 0. 1.]\n",
      " [0. 0. 0. 0.]\n",
      " [0. 0. 0. 0.]\n",
      " [0. 1. 1. 1.]\n",
      " [1. 1. 1. 1.]\n",
      " [0. 0. 0. 0.]]\n"
     ]
    },
    {
     "data": {
      "image/png": "[encoded data removed]",
      "text/plain": [
       "<Figure size 432x288 with 1 Axes>"
      ]
     },
     "metadata": {
      "needs_background": "light"
     },
     "output_type": "display_data"
    }
   ],
   "source": [
    "#모험을하기때문에 성공률은 떨어지나 빠른길로 갈수있다\n",
    "\n",
    "print(\"Success rate: \" + str(sum(rList) / num_episodes))\n",
    "print(\"Final Q-Table Values\")\n",
    "print(\"LEFT DOWN RIGHT UP\")\n",
    "print(Q)\n",
    "plt.bar(range(len(rList)), rList, color='b', alpha=0.4)\n",
    "plt.show()\n"
   ]
  },
  {
   "cell_type": "code",
   "execution_count": null,
   "metadata": {},
   "outputs": [],
   "source": []
  }
 ],
 "metadata": {
  "kernelspec": {
   "display_name": "Python 3",
   "language": "python",
   "name": "python3"
  },
  "language_info": {
   "codemirror_mode": {
    "name": "ipython",
    "version": 3
   },
   "file_extension": ".py",
   "mimetype": "text/x-python",
   "name": "python",
   "nbconvert_exporter": "python",
   "pygments_lexer": "ipython3",
   "version": "3.7.7"
  }
 },
 "nbformat": 4,
 "nbformat_minor": 2
}
