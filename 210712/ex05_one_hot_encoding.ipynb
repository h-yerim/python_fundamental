{
 "cells": [
  {
   "cell_type": "code",
   "execution_count": 2,
   "id": "0a992b88",
   "metadata": {},
   "outputs": [],
   "source": [
    "from sklearn.preprocessing import OneHotEncoder\n",
    "import numpy as np"
   ]
  },
  {
   "cell_type": "code",
   "execution_count": 3,
   "id": "d69c0850",
   "metadata": {},
   "outputs": [],
   "source": [
    "def main():\n",
    "    enc = OneHotEncoder()\n",
    "    sourcedata= [\n",
    "        ['a'],\n",
    "        ['b'],\n",
    "        ['c']\n",
    "    ]\n",
    "    enc.fit(sourcedata)\n",
    "    \n",
    "    data=[\n",
    "        ['a'],\n",
    "        ['b'],\n",
    "        ['c'],\n",
    "        ['a'],\n",
    "        ['b']\n",
    "    ]\n",
    "    print(enc.transform(data).toarray())"
   ]
  },
  {
   "cell_type": "code",
   "execution_count": 5,
   "id": "b8509909",
   "metadata": {},
   "outputs": [
    {
     "name": "stdout",
     "output_type": "stream",
     "text": [
      "[[1. 0. 0.]\n",
      " [0. 1. 0.]\n",
      " [0. 0. 1.]\n",
      " [1. 0. 0.]\n",
      " [0. 1. 0.]]\n"
     ]
    }
   ],
   "source": [
    "if __name__ == '__main__':\n",
    "    main()"
   ]
  },
  {
   "cell_type": "code",
   "execution_count": null,
   "id": "a8e65ec2",
   "metadata": {},
   "outputs": [],
   "source": []
  }
 ],
 "metadata": {
  "kernelspec": {
   "display_name": "Python 3",
   "language": "python",
   "name": "python3"
  },
  "language_info": {
   "codemirror_mode": {
    "name": "ipython",
    "version": 3
   },
   "file_extension": ".py",
   "mimetype": "text/x-python",
   "name": "python",
   "nbconvert_exporter": "python",
   "pygments_lexer": "ipython3",
   "version": "3.7.7"
  }
 },
 "nbformat": 4,
 "nbformat_minor": 5
}
