{
 "cells": [
  {
   "cell_type": "code",
   "execution_count": 22,
   "id": "92c13974",
   "metadata": {},
   "outputs": [],
   "source": [
    "import pandas as pd\n",
    "import numpy as np\n",
    "import seaborn as sns\n",
    "import matplotlib.pyplot as plt\n",
    "from sklearn.ensemble import RandomForestClassifier\n",
    "from sklearn import metrics, svm\n",
    "from sklearn.model_selection import train_test_split"
   ]
  },
  {
   "cell_type": "code",
   "execution_count": 62,
   "id": "4d2acd92",
   "metadata": {},
   "outputs": [],
   "source": [
    "bmi = pd.read_csv(\"C:/Users/hrim1/0.hrim/bmi.csv\")"
   ]
  },
  {
   "cell_type": "code",
   "execution_count": 118,
   "id": "64e34f89",
   "metadata": {},
   "outputs": [],
   "source": [
    "label=bmi.iloc[:,2]\n",
    "w=bmi['weight'] \n",
    "# w=bmi['weight']/100 #정규화\n",
    "h=bmi['height']\n",
    "# h=bmi['height']/200 #정규화\n",
    "data=pd.concat([w,h],axis=1)"
   ]
  },
  {
   "cell_type": "code",
   "execution_count": 119,
   "id": "d3cf4c5a",
   "metadata": {},
   "outputs": [],
   "source": [
    "data_train,data_test,label_train,label_test=train_test_split(data,label)"
   ]
  },
  {
   "cell_type": "code",
   "execution_count": 120,
   "id": "cebfb978",
   "metadata": {},
   "outputs": [
    {
     "data": {
      "text/plain": [
       "SVC()"
      ]
     },
     "execution_count": 120,
     "metadata": {},
     "output_type": "execute_result"
    }
   ],
   "source": [
    "clf=svm.SVC()\n",
    "clf.fit(data_train,label_train)"
   ]
  },
  {
   "cell_type": "code",
   "execution_count": 121,
   "id": "d2acfa53",
   "metadata": {},
   "outputs": [],
   "source": [
    "pre=clf.predict(data_test)"
   ]
  },
  {
   "cell_type": "code",
   "execution_count": 122,
   "id": "447b36b7",
   "metadata": {},
   "outputs": [],
   "source": [
    "ac_score=metrics.accuracy_score(label_test,pre)\n",
    "cl_report=metrics.classification_report(label_test,pre)"
   ]
  },
  {
   "cell_type": "code",
   "execution_count": 123,
   "id": "4787e402",
   "metadata": {},
   "outputs": [
    {
     "name": "stdout",
     "output_type": "stream",
     "text": [
      "정답률= 0.9924\n",
      "리포트=\n",
      "               precision    recall  f1-score   support\n",
      "\n",
      "         fat       1.00      0.99      0.99      1918\n",
      "      normal       0.98      0.99      0.99      1480\n",
      "        thin       1.00      0.99      0.99      1602\n",
      "\n",
      "    accuracy                           0.99      5000\n",
      "   macro avg       0.99      0.99      0.99      5000\n",
      "weighted avg       0.99      0.99      0.99      5000\n",
      "\n"
     ]
    }
   ],
   "source": [
    "print(\"정답률=\",ac_score)\n",
    "print(\"리포트=\\n\",cl_report)"
   ]
  },
  {
   "cell_type": "code",
   "execution_count": 125,
   "id": "be4eefdf",
   "metadata": {},
   "outputs": [
    {
     "name": "stdout",
     "output_type": "stream",
     "text": [
      "['thin' 'fat' 'normal']\n"
     ]
    }
   ],
   "source": [
    "print( clf.predict([[44,160],[74,170],[64,180]])) \n",
    "#print( clf.predict([[44/100,160/200],[74/100,170/200],[64/100,180/200]])) #정규화 "
   ]
  },
  {
   "cell_type": "markdown",
   "id": "46320189",
   "metadata": {},
   "source": [
    "#### 딥러닝으로 하려면 정규화를 해야함.."
   ]
  },
  {
   "cell_type": "code",
   "execution_count": 126,
   "id": "a524b774",
   "metadata": {},
   "outputs": [
    {
     "name": "stdout",
     "output_type": "stream",
     "text": [
      "['normal' 'normal' 'normal']\n"
     ]
    }
   ],
   "source": [
    "print( clf.predict([[64,160],[64,170],[64,180]])) "
   ]
  },
  {
   "cell_type": "code",
   "execution_count": null,
   "id": "a5ca25e5",
   "metadata": {},
   "outputs": [],
   "source": []
  }
 ],
 "metadata": {
  "kernelspec": {
   "display_name": "Python 3",
   "language": "python",
   "name": "python3"
  },
  "language_info": {
   "codemirror_mode": {
    "name": "ipython",
    "version": 3
   },
   "file_extension": ".py",
   "mimetype": "text/x-python",
   "name": "python",
   "nbconvert_exporter": "python",
   "pygments_lexer": "ipython3",
   "version": "3.7.7"
  }
 },
 "nbformat": 4,
 "nbformat_minor": 5
}
