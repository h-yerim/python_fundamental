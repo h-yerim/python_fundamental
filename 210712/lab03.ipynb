{
 "cells": [
  {
   "cell_type": "code",
   "execution_count": 1,
   "metadata": {
    "executionInfo": {
     "elapsed": 1696,
     "status": "ok",
     "timestamp": 1618397858454,
     "user": {
      "displayName": "Jungin Lee",
      "photoUrl": "https://lh3.googleusercontent.com/a-/AOh14GjP_CFmTa5aBKSliCROOnGkQTW_SxKjoswxuP8QPA=s64",
      "userId": "15449047399293082265"
     },
     "user_tz": -540
    },
    "id": "OUhmpL3XiJ6R"
   },
   "outputs": [],
   "source": [
    "import pandas as pd\n",
    "from sklearn.model_selection import train_test_split\n",
    "from sklearn.linear_model import LinearRegression\n",
    "\n",
    "#  엑셀 파일 읽기 \n",
    "tmp = pd.read_excel(\"지역_위치별(주유소).xls\" )\n",
    " \n",
    "data = tmp.dropna(how='any') # 결측치가 있는 행이 모두 삭제됨. \n",
    "   "
   ]
  },
  {
   "cell_type": "code",
   "execution_count": null,
   "metadata": {
    "id": "T2hlbEqZiJ6V",
    "outputId": "42c39ca6-374b-4529-e923-64b14681bcd8"
   },
   "outputs": [
    {
     "name": "stdout",
     "output_type": "stream",
     "text": [
      "0.9132509657002001\n"
     ]
    }
   ],
   "source": [
    "price_data =data[ [\"휘발유\",\"경유\" ] ]\n",
    "price_label =data[ [\"고급휘발유\"] ]\n",
    "from sklearn import svm, metrics\n",
    "train_data, test_data, train_label,test_label  = \\\n",
    "  train_test_split(price_data, price_label )\n",
    "  \n",
    "model = LinearRegression()\n",
    "\n",
    "model.fit(train_data, train_label )  # 힉습 \n",
    "\n",
    "pre = model.predict(test_data)     # 예측\n",
    "\n",
    "#ac_score = metrics.accuracy_score(test_label, pre) # 분류 성능평가이고... 회귀문제에서는 사용안함.\n",
    "print(model.score( test_data,  test_label  ) )      # 회귀 성능 평가.   "
   ]
  },
  {
   "cell_type": "code",
   "execution_count": null,
   "metadata": {
    "id": "7Oc984sJ_u2t",
    "outputId": "cf3f2e78-7c29-4008-a30a-081ee9a60604"
   },
   "outputs": [
    {
     "name": "stdout",
     "output_type": "stream",
     "text": [
      "    고급휘발유   휘발유    경유\n",
      "0     NaN  1548  1345\n",
      "3     NaN  1568  1365\n",
      "5     NaN  1590  1390\n",
      "6     NaN  1595  1380\n",
      "12    NaN  1608  1397\n"
     ]
    }
   ],
   "source": [
    "import pandas as pd\n",
    "tmp = pd.read_excel(\"지역_위치별(주유소).xls\" )\n",
    "\n",
    "#\"고급휘발유\"열에 결측치가 존재하는 행만 꺼내기\n",
    "data = tmp [ tmp[\"고급휘발유\"].isnull() ]\n",
    "#print(data.head())\n",
    "\n",
    "#\"고급휘발유\"열에 결측치가 존재하는 행만 꺼내기\n",
    "data = tmp.loc[tmp.고급휘발유.isnull()  ] \n",
    "#print(data.head())\n",
    "\n",
    "import pandas as pd\n",
    "tmp = pd.read_excel(\"지역_위치별(주유소).xls\" )\n",
    "\n",
    "#\"고급휘발유\"열에 결측치가 존재하는 행만 꺼내기\n",
    "data = tmp.loc[tmp.고급휘발유.isnull(), (\"고급휘발유\",\"휘발유\",\"경유\") ] \n",
    "print(data.head())"
   ]
  },
  {
   "cell_type": "code",
   "execution_count": null,
   "metadata": {
    "id": "OeGWAsml_u2u",
    "outputId": "0a7df4a5-20fd-43d6-b68f-b769751145ca"
   },
   "outputs": [
    {
     "data": {
      "text/html": [
       "<div>\n",
       "<style scoped>\n",
       "    .dataframe tbody tr th:only-of-type {\n",
       "        vertical-align: middle;\n",
       "    }\n",
       "\n",
       "    .dataframe tbody tr th {\n",
       "        vertical-align: top;\n",
       "    }\n",
       "\n",
       "    .dataframe thead th {\n",
       "        text-align: right;\n",
       "    }\n",
       "</style>\n",
       "<table border=\"1\" class=\"dataframe\">\n",
       "  <thead>\n",
       "    <tr style=\"text-align: right;\">\n",
       "      <th></th>\n",
       "      <th>고급휘발유</th>\n",
       "      <th>휘발유</th>\n",
       "      <th>경유</th>\n",
       "    </tr>\n",
       "  </thead>\n",
       "  <tbody>\n",
       "    <tr>\n",
       "      <th>0</th>\n",
       "      <td>1787.675004</td>\n",
       "      <td>1548</td>\n",
       "      <td>1345</td>\n",
       "    </tr>\n",
       "    <tr>\n",
       "      <th>3</th>\n",
       "      <td>1806.738708</td>\n",
       "      <td>1568</td>\n",
       "      <td>1365</td>\n",
       "    </tr>\n",
       "    <tr>\n",
       "      <th>5</th>\n",
       "      <td>1828.426088</td>\n",
       "      <td>1590</td>\n",
       "      <td>1390</td>\n",
       "    </tr>\n",
       "    <tr>\n",
       "      <th>6</th>\n",
       "      <td>1829.605493</td>\n",
       "      <td>1595</td>\n",
       "      <td>1380</td>\n",
       "    </tr>\n",
       "    <tr>\n",
       "      <th>12</th>\n",
       "      <td>1842.953307</td>\n",
       "      <td>1608</td>\n",
       "      <td>1397</td>\n",
       "    </tr>\n",
       "    <tr>\n",
       "      <th>...</th>\n",
       "      <td>...</td>\n",
       "      <td>...</td>\n",
       "      <td>...</td>\n",
       "    </tr>\n",
       "    <tr>\n",
       "      <th>436</th>\n",
       "      <td>1909.883172</td>\n",
       "      <td>1688</td>\n",
       "      <td>1438</td>\n",
       "    </tr>\n",
       "    <tr>\n",
       "      <th>438</th>\n",
       "      <td>1959.965649</td>\n",
       "      <td>1728</td>\n",
       "      <td>1528</td>\n",
       "    </tr>\n",
       "    <tr>\n",
       "      <th>468</th>\n",
       "      <td>1842.953307</td>\n",
       "      <td>1608</td>\n",
       "      <td>1397</td>\n",
       "    </tr>\n",
       "    <tr>\n",
       "      <th>475</th>\n",
       "      <td>1909.883172</td>\n",
       "      <td>1688</td>\n",
       "      <td>1438</td>\n",
       "    </tr>\n",
       "    <tr>\n",
       "      <th>477</th>\n",
       "      <td>1959.965649</td>\n",
       "      <td>1728</td>\n",
       "      <td>1528</td>\n",
       "    </tr>\n",
       "  </tbody>\n",
       "</table>\n",
       "<p>98 rows × 3 columns</p>\n",
       "</div>"
      ],
      "text/plain": [
       "           고급휘발유   휘발유    경유\n",
       "0    1787.675004  1548  1345\n",
       "3    1806.738708  1568  1365\n",
       "5    1828.426088  1590  1390\n",
       "6    1829.605493  1595  1380\n",
       "12   1842.953307  1608  1397\n",
       "..           ...   ...   ...\n",
       "436  1909.883172  1688  1438\n",
       "438  1959.965649  1728  1528\n",
       "468  1842.953307  1608  1397\n",
       "475  1909.883172  1688  1438\n",
       "477  1959.965649  1728  1528\n",
       "\n",
       "[98 rows x 3 columns]"
      ]
     },
     "execution_count": 58,
     "metadata": {
      "tags": []
     },
     "output_type": "execute_result"
    }
   ],
   "source": [
    "data[\"고급휘발유\"] = model.predict(data.loc[ : ,(\"휘발유\",\"경유\")])\n",
    "data"
   ]
  },
  {
   "cell_type": "code",
   "execution_count": null,
   "metadata": {
    "id": "Gb8xVPjdiJ6X"
   },
   "outputs": [],
   "source": []
  }
 ],
 "metadata": {
  "colab": {
   "collapsed_sections": [],
   "name": "lab07.ipynb",
   "provenance": []
  },
  "kernelspec": {
   "display_name": "Python 3",
   "language": "python",
   "name": "python3"
  },
  "language_info": {
   "codemirror_mode": {
    "name": "ipython",
    "version": 3
   },
   "file_extension": ".py",
   "mimetype": "text/x-python",
   "name": "python",
   "nbconvert_exporter": "python",
   "pygments_lexer": "ipython3",
   "version": "3.7.7"
  },
  "toc": {
   "base_numbering": 1,
   "nav_menu": {},
   "number_sections": true,
   "sideBar": true,
   "skip_h1_title": false,
   "title_cell": "Table of Contents",
   "title_sidebar": "Contents",
   "toc_cell": false,
   "toc_position": {},
   "toc_section_display": true,
   "toc_window_display": false
  }
 },
 "nbformat": 4,
 "nbformat_minor": 1
}
