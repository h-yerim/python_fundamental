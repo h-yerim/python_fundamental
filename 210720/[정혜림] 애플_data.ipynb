{
 "cells": [
  {
   "cell_type": "markdown",
   "id": "d0739266",
   "metadata": {},
   "source": [
    "#### 종가(Close) 5일 단위로 학습하고 4일치 애플주식의 종가(close)데이터가 입력되면 그다음 애플 주식의 종가를 예측하는 프로그램 작성"
   ]
  },
  {
   "cell_type": "markdown",
   "id": "579f40b4",
   "metadata": {},
   "source": [
    "#### 데이터 만들기"
   ]
  },
  {
   "cell_type": "code",
   "execution_count": null,
   "id": "82f68af9",
   "metadata": {},
   "outputs": [],
   "source": [
    "import numpy as np\n",
    "import matplotlib.pyplot as plt\n",
    "from scipy.linalg import toeplitz\n",
    "import pandas as pd\n",
    "\n",
    "apple = pd.read_csv(\"apple_stock.csv\")\n",
    "apple_df=pd.DataFrame(apple)\n",
    "new_apple=apple_df['Close']\n",
    "new_apple"
   ]
  },
  {
   "cell_type": "code",
   "execution_count": null,
   "id": "47bedd95",
   "metadata": {},
   "outputs": [],
   "source": [
    "apple_np=new_apple.to_numpy()\n",
    "apple_np"
   ]
  },
  {
   "cell_type": "code",
   "execution_count": null,
   "id": "00ca0f49",
   "metadata": {},
   "outputs": [],
   "source": [
    "T=np.fliplr(toeplitz(np.r_[apple_np[-1],np.zeros(apple_np.shape[0]-2)],apple_np[::-1]))\n",
    "T"
   ]
  },
  {
   "cell_type": "code",
   "execution_count": null,
   "id": "42c0ce02",
   "metadata": {},
   "outputs": [],
   "source": [
    "X_train=T[:-1,:4][:,:,np.newaxis]\n",
    "Y_train=T[:-1,4]\n",
    "print(\"X_train.shape, Y_train.shape  = \", X_train.shape, Y_train.shape )\n",
    "print(\"X_train[0], Y_train[0]  = \", X_train[0], Y_train[0])"
   ]
  },
  {
   "cell_type": "markdown",
   "id": "200899dc",
   "metadata": {},
   "source": [
    "#### 총정리"
   ]
  },
  {
   "cell_type": "code",
   "execution_count": 1,
   "id": "b0d0c59f",
   "metadata": {},
   "outputs": [
    {
     "name": "stdout",
     "output_type": "stream",
     "text": [
      "X_train.shape, Y_train.shape  =  (2263, 4, 1) (2263,)\n",
      "X_train[0], Y_train[0]  =  [[30.10428619]\n",
      " [30.5728569 ]\n",
      " [30.62571335]\n",
      " [30.13857079]] 30.082857131958008\n"
     ]
    }
   ],
   "source": [
    "import numpy as np\n",
    "import matplotlib.pyplot as plt\n",
    "from scipy.linalg import toeplitz\n",
    "import pandas as pd\n",
    "\n",
    "def make_data():\n",
    "\n",
    "\n",
    "    apple = pd.read_csv(\"apple_stock.csv\")\n",
    "    apple_df=pd.DataFrame(apple)\n",
    "    new_apple=apple_df['Close']\n",
    "    apple_np=new_apple.to_numpy()\n",
    "    Data=np.fliplr(toeplitz(np.r_[apple_np[-1],np.zeros(apple_np.shape[0]-2)],apple_np[::-1]))\n",
    "\n",
    "    X_train=Data[:-1,:4][:,:,np.newaxis]\n",
    "    Y_train=Data[:-1,4]\n",
    "    print(\"X_train.shape, Y_train.shape  = \", X_train.shape, Y_train.shape )\n",
    "    print(\"X_train[0], Y_train[0]  = \", X_train[0], Y_train[0])\n",
    "\n",
    "    return(X_train,Y_train)\n",
    "\n",
    "if __name__=='__main__':\n",
    "    make_data()"
   ]
  },
  {
   "cell_type": "markdown",
   "id": "3f133ab7",
   "metadata": {},
   "source": [
    "#### model"
   ]
  },
  {
   "cell_type": "code",
   "execution_count": 3,
   "id": "467f425d",
   "metadata": {},
   "outputs": [],
   "source": [
    "from tensorflow.keras.models import Sequential\n",
    "from tensorflow.keras.layers import SimpleRNN,Dense\n",
    "\n",
    "def make_model():\n",
    "    model=Sequential()\n",
    "    model.add(SimpleRNN(10,input_shape=(4,1)))\n",
    "    model.add(Dense(1))\n",
    "    model.compile(loss='mse',optimizer='sgd')\n",
    "    model.summary()\n",
    "    return model"
   ]
  },
  {
   "cell_type": "markdown",
   "id": "b1458a55",
   "metadata": {},
   "source": [
    "#### 예측하기"
   ]
  },
  {
   "cell_type": "code",
   "execution_count": 4,
   "id": "88feac01",
   "metadata": {},
   "outputs": [
    {
     "name": "stdout",
     "output_type": "stream",
     "text": [
      "X_train.shape, Y_train.shape  =  (2263, 4, 1) (2263,)\n",
      "X_train[0], Y_train[0]  =  [[30.10428619]\n",
      " [30.5728569 ]\n",
      " [30.62571335]\n",
      " [30.13857079]] 30.082857131958008\n",
      "Model: \"sequential\"\n",
      "_________________________________________________________________\n",
      "Layer (type)                 Output Shape              Param #   \n",
      "=================================================================\n",
      "simple_rnn (SimpleRNN)       (None, 10)                120       \n",
      "_________________________________________________________________\n",
      "dense (Dense)                (None, 1)                 11        \n",
      "=================================================================\n",
      "Total params: 131\n",
      "Trainable params: 131\n",
      "Non-trainable params: 0\n",
      "_________________________________________________________________\n"
     ]
    }
   ],
   "source": [
    "import numpy as np\n",
    "import matplotlib.pyplot as plt\n",
    "\n",
    "(X_train,Y_train) = make_data()    \n",
    "\n",
    "model= make_model()"
   ]
  },
  {
   "cell_type": "code",
   "execution_count": 5,
   "id": "b5d155a4",
   "metadata": {},
   "outputs": [
    {
     "data": {
      "image/png": "[encoded data removed]",
      "text/plain": [
       "<Figure size 432x288 with 1 Axes>"
      ]
     },
     "metadata": {
      "needs_background": "light"
     },
     "output_type": "display_data"
    }
   ],
   "source": [
    "# 학습 전 에측 결과 (예측이 잘 맞지않음을 알 수 있다.)\n",
    "\n",
    "plt.plot(Y_train, 'ro-', label=\"target\") # 원래 값\n",
    "plt.plot(model.predict(X_train[:,:,:]), 'bs-', label=\"output\") #학습전예측\n",
    "plt.xlim(-0.5, 20.5)\n",
    "plt.ylim(-1.1, 1.1)\n",
    "plt.legend()\n",
    "plt.title(\"Before training\")\n",
    "plt.show()"
   ]
  },
  {
   "cell_type": "code",
   "execution_count": 6,
   "id": "fef6e514",
   "metadata": {},
   "outputs": [],
   "source": [
    "# 학습\n",
    "history = model.fit(X_train, Y_train, epochs=100, verbose=0)"
   ]
  },
  {
   "cell_type": "code",
   "execution_count": 7,
   "id": "4d828689",
   "metadata": {},
   "outputs": [
    {
     "data": {
      "image/png": "[encoded data removed]",
      "text/plain": [
       "<Figure size 432x288 with 1 Axes>"
      ]
     },
     "metadata": {
      "needs_background": "light"
     },
     "output_type": "display_data"
    }
   ],
   "source": [
    "# 학습 후 loss\n",
    "plt.plot(history.history[\"loss\"])\n",
    "plt.title(\"Loss\")\n",
    "plt.show()"
   ]
  },
  {
   "cell_type": "code",
   "execution_count": 8,
   "id": "d6e472b4",
   "metadata": {},
   "outputs": [
    {
     "data": {
      "image/png": "[encoded data removed]",
      "text/plain": [
       "<Figure size 432x288 with 1 Axes>"
      ]
     },
     "metadata": {
      "needs_background": "light"
     },
     "output_type": "display_data"
    }
   ],
   "source": [
    "# 학습 후 예측 결과\n",
    "plt.plot(Y_train, 'ro-', label=\"target\")\n",
    "plt.plot(model.predict(X_train[:,:,:]), 'bs-', label=\"output\")\n",
    "plt.xlim(-0.5, 20.5)\n",
    "plt.ylim(-1.1, 1.1)\n",
    "plt.legend()\n",
    "plt.title(\"After training\")\n",
    "plt.show()"
   ]
  },
  {
   "cell_type": "code",
   "execution_count": 10,
   "id": "7944ae2a",
   "metadata": {},
   "outputs": [
    {
     "name": "stdout",
     "output_type": "stream",
     "text": [
      "[[1.0470307e+02]\n",
      " [1.0470307e+02]\n",
      " [1.0470307e+02]\n",
      " ...\n",
      " [1.0470307e+02]\n",
      " [1.0470307e+02]\n",
      " [6.8652153e-02]]\n"
     ]
    }
   ],
   "source": [
    "y_predict = model.predict(X_train[:,:,:])\n",
    "print(y_predict)"
   ]
  },
  {
   "cell_type": "code",
   "execution_count": null,
   "id": "1da236ed",
   "metadata": {},
   "outputs": [],
   "source": []
  }
 ],
 "metadata": {
  "kernelspec": {
   "display_name": "Python 3",
   "language": "python",
   "name": "python3"
  },
  "language_info": {
   "codemirror_mode": {
    "name": "ipython",
    "version": 3
   },
   "file_extension": ".py",
   "mimetype": "text/x-python",
   "name": "python",
   "nbconvert_exporter": "python",
   "pygments_lexer": "ipython3",
   "version": "3.7.7"
  }
 },
 "nbformat": 4,
 "nbformat_minor": 5
}
