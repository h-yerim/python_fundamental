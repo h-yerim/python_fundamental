{
 "cells": [
  {
   "cell_type": "markdown",
   "id": "ca5c24c0",
   "metadata": {},
   "source": [
    "#fuction: 특별한 목적의 작업을 수행하도록 설계된 독립적 블록\n",
    "\n",
    "def 함수명(매개변수1,매개변수2,...): (매개변수는 있어도 되고 없어도 됨)\n",
    "\n",
    "    실행문\n",
    "    \n",
    "    return 변수(있어도 되고 없어도됨)"
   ]
  },
  {
   "cell_type": "code",
   "execution_count": 2,
   "id": "806c1f8a",
   "metadata": {},
   "outputs": [
    {
     "data": {
      "text/plain": [
       "<function __main__.hello()>"
      ]
     },
     "execution_count": 2,
     "metadata": {},
     "output_type": "execute_result"
    }
   ],
   "source": [
    "#매개변수 없는 함수\n",
    "def hello():\n",
    "    print(\"h\")\n",
    "    print(\"e\")\n",
    "    print(\"l\")\n",
    "    print(\"l\")\n",
    "    print(\"o\")\n",
    "\n",
    "hello"
   ]
  },
  {
   "cell_type": "code",
   "execution_count": 3,
   "id": "b42baba6",
   "metadata": {},
   "outputs": [
    {
     "name": "stdout",
     "output_type": "stream",
     "text": [
      "h\n",
      "e\n",
      "l\n",
      "l\n",
      "o\n"
     ]
    }
   ],
   "source": [
    "hello()"
   ]
  },
  {
   "cell_type": "code",
   "execution_count": 4,
   "id": "2877911d",
   "metadata": {},
   "outputs": [
    {
     "data": {
      "text/plain": [
       "<function __main__.sum(a, b)>"
      ]
     },
     "execution_count": 4,
     "metadata": {},
     "output_type": "execute_result"
    }
   ],
   "source": [
    "#매개변수 있는 함수\n",
    "def sum(a,b): #파라미터\n",
    "    c = a+b\n",
    "    print(c)\n",
    "    \n",
    "sum"
   ]
  },
  {
   "cell_type": "code",
   "execution_count": 6,
   "id": "20ca6f63",
   "metadata": {},
   "outputs": [
    {
     "name": "stdout",
     "output_type": "stream",
     "text": [
      "6\n"
     ]
    }
   ],
   "source": [
    "sum(1,5) #인자"
   ]
  },
  {
   "cell_type": "code",
   "execution_count": 9,
   "id": "84f80fe5",
   "metadata": {},
   "outputs": [
    {
     "name": "stdout",
     "output_type": "stream",
     "text": [
      "6\n"
     ]
    }
   ],
   "source": [
    "x=1; y=5\n",
    "sum(x,y)"
   ]
  },
  {
   "cell_type": "code",
   "execution_count": 10,
   "id": "52914c79",
   "metadata": {},
   "outputs": [
    {
     "name": "stdout",
     "output_type": "stream",
     "text": [
      "6\n",
      "res =  None\n"
     ]
    }
   ],
   "source": [
    "res = sum(x,y)\n",
    "print(\"res = \",res) #None이 뜨는이유는 return문 선언을 안해줬기때문(결과값 돌려주지 x)"
   ]
  },
  {
   "cell_type": "code",
   "execution_count": 11,
   "id": "6a7782b8",
   "metadata": {},
   "outputs": [
    {
     "data": {
      "text/plain": [
       "<function __main__.fun(a, b)>"
      ]
     },
     "execution_count": 11,
     "metadata": {},
     "output_type": "execute_result"
    }
   ],
   "source": [
    "#return 값이 있는 함수\n",
    "def fun(a,b):\n",
    "    c=a*b\n",
    "    print(\"c= \",c)\n",
    "    return c\n",
    "\n",
    "fun"
   ]
  },
  {
   "cell_type": "code",
   "execution_count": 13,
   "id": "df1aeb36",
   "metadata": {},
   "outputs": [
    {
     "name": "stdout",
     "output_type": "stream",
     "text": [
      "c=  12\n",
      "res=  12\n"
     ]
    }
   ],
   "source": [
    "x=3; y=4\n",
    "res=fun(x,y) #리턴값 있기에 결과값 저장가능\n",
    "print(\"res= \",res)"
   ]
  },
  {
   "cell_type": "code",
   "execution_count": 14,
   "id": "9b29f15d",
   "metadata": {},
   "outputs": [],
   "source": [
    "def fun1(a,b):\n",
    "    return a+b"
   ]
  },
  {
   "cell_type": "code",
   "execution_count": 15,
   "id": "a513d8b9",
   "metadata": {},
   "outputs": [
    {
     "name": "stdout",
     "output_type": "stream",
     "text": [
      "5\n"
     ]
    }
   ],
   "source": [
    "x=3; y=2\n",
    "res=fun1(x,y)\n",
    "print(res)"
   ]
  },
  {
   "cell_type": "code",
   "execution_count": 16,
   "id": "35d5c86c",
   "metadata": {},
   "outputs": [],
   "source": [
    "def fun2(a,b):\n",
    "    return a+b, a*b, a-b"
   ]
  },
  {
   "cell_type": "code",
   "execution_count": 17,
   "id": "98e1a761",
   "metadata": {},
   "outputs": [
    {
     "data": {
      "text/plain": [
       "(11, 30, -1)"
      ]
     },
     "execution_count": 17,
     "metadata": {},
     "output_type": "execute_result"
    }
   ],
   "source": [
    "res= fun2(5,6)\n",
    "res #튜플 형태임을 알 수 있다."
   ]
  },
  {
   "cell_type": "code",
   "execution_count": 18,
   "id": "e9f759fd",
   "metadata": {},
   "outputs": [
    {
     "data": {
      "text/plain": [
       "30"
      ]
     },
     "execution_count": 18,
     "metadata": {},
     "output_type": "execute_result"
    }
   ],
   "source": [
    "res[1] #튜플이기때문에 가능"
   ]
  },
  {
   "cell_type": "code",
   "execution_count": 25,
   "id": "9a04086e",
   "metadata": {},
   "outputs": [],
   "source": [
    "x,y,z=fun2(5,6) #결과값 하나씩 mapping도 가능"
   ]
  },
  {
   "cell_type": "code",
   "execution_count": 26,
   "id": "ee830c8b",
   "metadata": {},
   "outputs": [
    {
     "data": {
      "text/plain": [
       "11"
      ]
     },
     "execution_count": 26,
     "metadata": {},
     "output_type": "execute_result"
    }
   ],
   "source": [
    "x"
   ]
  },
  {
   "cell_type": "code",
   "execution_count": 27,
   "id": "3e5fd210",
   "metadata": {},
   "outputs": [
    {
     "data": {
      "text/plain": [
       "30"
      ]
     },
     "execution_count": 27,
     "metadata": {},
     "output_type": "execute_result"
    }
   ],
   "source": [
    "y"
   ]
  },
  {
   "cell_type": "code",
   "execution_count": 28,
   "id": "9cb95ebf",
   "metadata": {},
   "outputs": [
    {
     "data": {
      "text/plain": [
       "-1"
      ]
     },
     "execution_count": 28,
     "metadata": {},
     "output_type": "execute_result"
    }
   ],
   "source": [
    "z"
   ]
  },
  {
   "cell_type": "code",
   "execution_count": 24,
   "id": "7c340518",
   "metadata": {},
   "outputs": [
    {
     "name": "stdout",
     "output_type": "stream",
     "text": [
      "11\n",
      "30\n",
      "-1\n"
     ]
    }
   ],
   "source": [
    "for i in res: #이렇게도 가능\n",
    "    print(i)"
   ]
  },
  {
   "cell_type": "code",
   "execution_count": 29,
   "id": "1d5a8182",
   "metadata": {},
   "outputs": [],
   "source": [
    "#입력값이 몇개인지 모를때\n",
    "def sum_many(*args): # args가 아니라 이름다른걸로 해줘도 되지만 보통 args로 한다.(argument여러개)\n",
    "    print(\"args= \",args)\n",
    "    tot = 0\n",
    "    for i in args:\n",
    "        print(\"i= \",i)\n",
    "        tot += i\n",
    "    return tot"
   ]
  },
  {
   "cell_type": "code",
   "execution_count": 30,
   "id": "4ece9244",
   "metadata": {},
   "outputs": [
    {
     "data": {
      "text/plain": [
       "<function __main__.sum_many(*args)>"
      ]
     },
     "execution_count": 30,
     "metadata": {},
     "output_type": "execute_result"
    }
   ],
   "source": [
    "sum_many"
   ]
  },
  {
   "cell_type": "code",
   "execution_count": 31,
   "id": "de4dd16f",
   "metadata": {},
   "outputs": [
    {
     "name": "stdout",
     "output_type": "stream",
     "text": [
      "args=  (1, 2, 3, 4)\n",
      "i=  1\n",
      "i=  2\n",
      "i=  3\n",
      "i=  4\n"
     ]
    },
    {
     "data": {
      "text/plain": [
       "10"
      ]
     },
     "execution_count": 31,
     "metadata": {},
     "output_type": "execute_result"
    }
   ],
   "source": [
    "sum_many(1,2,3,4) #데이터를 튜플형태로 인식함을 확인 -> 따라서 for문으로 데이터 더하기가 가능"
   ]
  },
  {
   "cell_type": "code",
   "execution_count": 32,
   "id": "64188cfc",
   "metadata": {},
   "outputs": [
    {
     "name": "stdout",
     "output_type": "stream",
     "text": [
      "args=  (1, 2, 3, 4)\n",
      "i=  1\n",
      "i=  2\n",
      "i=  3\n",
      "i=  4\n",
      "tot=  10\n"
     ]
    }
   ],
   "source": [
    "tot = sum_many(1,2,3,4) #리턴값 저장\n",
    "print(\"tot= \",tot) "
   ]
  },
  {
   "cell_type": "code",
   "execution_count": 33,
   "id": "ba74617c",
   "metadata": {},
   "outputs": [
    {
     "data": {
      "text/plain": [
       "<function __main__.name(**kwargs)>"
      ]
     },
     "execution_count": 33,
     "metadata": {},
     "output_type": "execute_result"
    }
   ],
   "source": [
    "# 변수명과 값을 함께 파라미터로 받아서 처리\n",
    "def name(**kwargs):\n",
    "    print(\"kw= \",kwargs)\n",
    "    return\n",
    "\n",
    "name"
   ]
  },
  {
   "cell_type": "code",
   "execution_count": 34,
   "id": "32145dc9",
   "metadata": {},
   "outputs": [
    {
     "name": "stdout",
     "output_type": "stream",
     "text": [
      "kw=  {'name': 'rim'}\n"
     ]
    }
   ],
   "source": [
    "name(name=\"rim\") #딕셔너리 형태로 데이터가 넘어감을 확인"
   ]
  },
  {
   "cell_type": "code",
   "execution_count": 35,
   "id": "101c2ea6",
   "metadata": {},
   "outputs": [
    {
     "name": "stdout",
     "output_type": "stream",
     "text": [
      "kw=  {'age': '20', 'name': 'rim'}\n"
     ]
    }
   ],
   "source": [
    "name(age=\"20\",name=\"rim\")"
   ]
  },
  {
   "cell_type": "code",
   "execution_count": 38,
   "id": "75bb9b51",
   "metadata": {},
   "outputs": [],
   "source": [
    "def name1(**kwargs):\n",
    "    print(\"kw= \",kwargs)\n",
    "    for i in kwargs.items():\n",
    "        print(i)\n",
    "    return"
   ]
  },
  {
   "cell_type": "code",
   "execution_count": 39,
   "id": "2540f2c2",
   "metadata": {},
   "outputs": [
    {
     "name": "stdout",
     "output_type": "stream",
     "text": [
      "kw=  {'age': '20', 'name': 'rim'}\n",
      "('age', '20')\n",
      "('name', 'rim')\n"
     ]
    }
   ],
   "source": [
    "name1(age=\"20\",name=\"rim\")"
   ]
  },
  {
   "cell_type": "code",
   "execution_count": 40,
   "id": "4b2a1b61",
   "metadata": {},
   "outputs": [],
   "source": [
    "def std_arg(arg):\n",
    "    print(\"std_arg= \",arg)\n",
    "def pos_only_arg(arg,/):\n",
    "    print(\"pos_only_arg=\",arg)\n",
    "def kwd_only_arg(*,arg):\n",
    "    print(\"kwd_only_arg=\",arg)\n",
    "def combined_example(pos_only,/,standard,*,kwd_only):\n",
    "    print(pos_only,standard,kwd_only)"
   ]
  },
  {
   "cell_type": "code",
   "execution_count": 42,
   "id": "7708e227",
   "metadata": {},
   "outputs": [
    {
     "name": "stdout",
     "output_type": "stream",
     "text": [
      "std_arg=  2\n"
     ]
    }
   ],
   "source": [
    "std_arg(2)"
   ]
  },
  {
   "cell_type": "code",
   "execution_count": 43,
   "id": "630add01",
   "metadata": {},
   "outputs": [
    {
     "name": "stdout",
     "output_type": "stream",
     "text": [
      "std_arg=  2\n"
     ]
    }
   ],
   "source": [
    "std_arg(arg=2)"
   ]
  },
  {
   "cell_type": "code",
   "execution_count": 44,
   "id": "37c5a3f7",
   "metadata": {},
   "outputs": [
    {
     "ename": "TypeError",
     "evalue": "std_arg() takes 1 positional argument but 2 were given",
     "output_type": "error",
     "traceback": [
      "\u001b[1;31m---------------------------------------------------------------------------\u001b[0m",
      "\u001b[1;31mTypeError\u001b[0m                                 Traceback (most recent call last)",
      "\u001b[1;32m<ipython-input-44-23d1e54fe2bd>\u001b[0m in \u001b[0;36m<module>\u001b[1;34m\u001b[0m\n\u001b[1;32m----> 1\u001b[1;33m \u001b[0mstd_arg\u001b[0m\u001b[1;33m(\u001b[0m\u001b[1;36m2\u001b[0m\u001b[1;33m,\u001b[0m\u001b[1;36m2\u001b[0m\u001b[1;33m)\u001b[0m\u001b[1;33m\u001b[0m\u001b[1;33m\u001b[0m\u001b[0m\n\u001b[0m",
      "\u001b[1;31mTypeError\u001b[0m: std_arg() takes 1 positional argument but 2 were given"
     ]
    }
   ],
   "source": [
    "std_arg(2,2) #1개만 받기때문에 에러"
   ]
  },
  {
   "cell_type": "code",
   "execution_count": 45,
   "id": "cc9c8351",
   "metadata": {},
   "outputs": [
    {
     "ename": "TypeError",
     "evalue": "std_arg() got an unexpected keyword argument 'aa'",
     "output_type": "error",
     "traceback": [
      "\u001b[1;31m---------------------------------------------------------------------------\u001b[0m",
      "\u001b[1;31mTypeError\u001b[0m                                 Traceback (most recent call last)",
      "\u001b[1;32m<ipython-input-45-1e5910868295>\u001b[0m in \u001b[0;36m<module>\u001b[1;34m\u001b[0m\n\u001b[1;32m----> 1\u001b[1;33m \u001b[0mstd_arg\u001b[0m\u001b[1;33m(\u001b[0m\u001b[0maa\u001b[0m\u001b[1;33m=\u001b[0m\u001b[1;36m2\u001b[0m\u001b[1;33m)\u001b[0m\u001b[1;33m\u001b[0m\u001b[1;33m\u001b[0m\u001b[0m\n\u001b[0m",
      "\u001b[1;31mTypeError\u001b[0m: std_arg() got an unexpected keyword argument 'aa'"
     ]
    }
   ],
   "source": [
    "std_arg(aa=2) #에러"
   ]
  },
  {
   "cell_type": "code",
   "execution_count": 46,
   "id": "84c67a7f",
   "metadata": {},
   "outputs": [
    {
     "name": "stdout",
     "output_type": "stream",
     "text": [
      "pos_only_arg= 1\n"
     ]
    }
   ],
   "source": [
    "pos_only_arg(1)"
   ]
  },
  {
   "cell_type": "code",
   "execution_count": 47,
   "id": "bc183165",
   "metadata": {},
   "outputs": [
    {
     "ename": "TypeError",
     "evalue": "pos_only_arg() got some positional-only arguments passed as keyword arguments: 'arg'",
     "output_type": "error",
     "traceback": [
      "\u001b[1;31m---------------------------------------------------------------------------\u001b[0m",
      "\u001b[1;31mTypeError\u001b[0m                                 Traceback (most recent call last)",
      "\u001b[1;32m<ipython-input-47-434db44f4ff9>\u001b[0m in \u001b[0;36m<module>\u001b[1;34m\u001b[0m\n\u001b[1;32m----> 1\u001b[1;33m \u001b[0mpos_only_arg\u001b[0m\u001b[1;33m(\u001b[0m\u001b[0marg\u001b[0m\u001b[1;33m=\u001b[0m\u001b[1;36m1\u001b[0m\u001b[1;33m)\u001b[0m\u001b[1;33m\u001b[0m\u001b[1;33m\u001b[0m\u001b[0m\n\u001b[0m",
      "\u001b[1;31mTypeError\u001b[0m: pos_only_arg() got some positional-only arguments passed as keyword arguments: 'arg'"
     ]
    }
   ],
   "source": [
    "pos_only_arg(arg=1) #키워드 argument 는 처리 x"
   ]
  },
  {
   "cell_type": "code",
   "execution_count": 48,
   "id": "db196ec2",
   "metadata": {},
   "outputs": [
    {
     "name": "stdout",
     "output_type": "stream",
     "text": [
      "kwd_only_arg= 3\n"
     ]
    }
   ],
   "source": [
    "kwd_only_arg(arg=3)"
   ]
  },
  {
   "cell_type": "code",
   "execution_count": 49,
   "id": "f3a38df9",
   "metadata": {},
   "outputs": [
    {
     "ename": "TypeError",
     "evalue": "kwd_only_arg() takes 0 positional arguments but 1 was given",
     "output_type": "error",
     "traceback": [
      "\u001b[1;31m---------------------------------------------------------------------------\u001b[0m",
      "\u001b[1;31mTypeError\u001b[0m                                 Traceback (most recent call last)",
      "\u001b[1;32m<ipython-input-49-896c53ef896c>\u001b[0m in \u001b[0;36m<module>\u001b[1;34m\u001b[0m\n\u001b[1;32m----> 1\u001b[1;33m \u001b[0mkwd_only_arg\u001b[0m\u001b[1;33m(\u001b[0m\u001b[1;36m3\u001b[0m\u001b[1;33m)\u001b[0m\u001b[1;33m\u001b[0m\u001b[1;33m\u001b[0m\u001b[0m\n\u001b[0m",
      "\u001b[1;31mTypeError\u001b[0m: kwd_only_arg() takes 0 positional arguments but 1 was given"
     ]
    }
   ],
   "source": [
    "kwd_only_arg(3) #에러"
   ]
  },
  {
   "cell_type": "code",
   "execution_count": 50,
   "id": "31c4935f",
   "metadata": {},
   "outputs": [
    {
     "ename": "TypeError",
     "evalue": "combined_example() takes 2 positional arguments but 3 were given",
     "output_type": "error",
     "traceback": [
      "\u001b[1;31m---------------------------------------------------------------------------\u001b[0m",
      "\u001b[1;31mTypeError\u001b[0m                                 Traceback (most recent call last)",
      "\u001b[1;32m<ipython-input-50-266135a592b0>\u001b[0m in \u001b[0;36m<module>\u001b[1;34m\u001b[0m\n\u001b[1;32m----> 1\u001b[1;33m \u001b[0mcombined_example\u001b[0m\u001b[1;33m(\u001b[0m\u001b[1;36m1\u001b[0m\u001b[1;33m,\u001b[0m\u001b[1;36m2\u001b[0m\u001b[1;33m,\u001b[0m\u001b[1;36m3\u001b[0m\u001b[1;33m)\u001b[0m\u001b[1;33m\u001b[0m\u001b[1;33m\u001b[0m\u001b[0m\n\u001b[0m",
      "\u001b[1;31mTypeError\u001b[0m: combined_example() takes 2 positional arguments but 3 were given"
     ]
    }
   ],
   "source": [
    "combined_example(1,2,3) #2개만 가능, 에러"
   ]
  },
  {
   "cell_type": "code",
   "execution_count": 51,
   "id": "46a79829",
   "metadata": {},
   "outputs": [
    {
     "name": "stdout",
     "output_type": "stream",
     "text": [
      "1 2 3\n"
     ]
    }
   ],
   "source": [
    "combined_example(1,2,kwd_only=3) #pos_only,/  하나 standard 하나 * kwd_only 하나로 구성"
   ]
  }
 ],
 "metadata": {
  "kernelspec": {
   "display_name": "Python 3",
   "language": "python",
   "name": "python3"
  },
  "language_info": {
   "codemirror_mode": {
    "name": "ipython",
    "version": 3
   },
   "file_extension": ".py",
   "mimetype": "text/x-python",
   "name": "python",
   "nbconvert_exporter": "python",
   "pygments_lexer": "ipython3",
   "version": "3.8.8"
  }
 },
 "nbformat": 4,
 "nbformat_minor": 5
}
