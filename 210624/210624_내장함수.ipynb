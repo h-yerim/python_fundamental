{
 "cells": [
  {
   "cell_type": "code",
   "execution_count": 1,
   "id": "009dba77",
   "metadata": {},
   "outputs": [],
   "source": [
    "#https://docs.python.org/ko/3/library/functions.html\n",
    "#https://www.w3schools.com/python/python_ref_functions.asp"
   ]
  },
  {
   "cell_type": "code",
   "execution_count": 2,
   "id": "08bf2f47",
   "metadata": {},
   "outputs": [
    {
     "data": {
      "text/plain": [
       "True"
      ]
     },
     "execution_count": 2,
     "metadata": {},
     "output_type": "execute_result"
    }
   ],
   "source": [
    "mylist=[True,True,True]\n",
    "all(mylist)"
   ]
  },
  {
   "cell_type": "code",
   "execution_count": 4,
   "id": "1f97adec",
   "metadata": {},
   "outputs": [
    {
     "data": {
      "text/plain": [
       "False"
      ]
     },
     "execution_count": 4,
     "metadata": {},
     "output_type": "execute_result"
    }
   ],
   "source": [
    "mylist=[1,0,1]\n",
    "all(mylist) #()안에 iterable한 data가 와야함"
   ]
  },
  {
   "cell_type": "code",
   "execution_count": 5,
   "id": "aa8f9cb6",
   "metadata": {},
   "outputs": [
    {
     "data": {
      "text/plain": [
       "True"
      ]
     },
     "execution_count": 5,
     "metadata": {},
     "output_type": "execute_result"
    }
   ],
   "source": [
    "mylist = \"a\" #문자열은 위치정보를 가지고 있음 =>iterable\n",
    "all(mylist)"
   ]
  },
  {
   "cell_type": "code",
   "execution_count": 7,
   "id": "d4b41ce7",
   "metadata": {},
   "outputs": [
    {
     "data": {
      "text/plain": [
       "True"
      ]
     },
     "execution_count": 7,
     "metadata": {},
     "output_type": "execute_result"
    }
   ],
   "source": [
    "mylist=[False,True,False]\n",
    "any(mylist) #하나라도 True면 True"
   ]
  },
  {
   "cell_type": "code",
   "execution_count": 8,
   "id": "5231a969",
   "metadata": {},
   "outputs": [],
   "source": [
    "a = \"a\""
   ]
  },
  {
   "cell_type": "code",
   "execution_count": 9,
   "id": "ca9f0360",
   "metadata": {},
   "outputs": [
    {
     "data": {
      "text/plain": [
       "1"
      ]
     },
     "execution_count": 9,
     "metadata": {},
     "output_type": "execute_result"
    }
   ],
   "source": [
    "len(a)"
   ]
  },
  {
   "cell_type": "markdown",
   "id": "b71c5f3f",
   "metadata": {},
   "source": [
    "### enumerate"
   ]
  },
  {
   "cell_type": "code",
   "execution_count": 10,
   "id": "d27df1a6",
   "metadata": {},
   "outputs": [
    {
     "data": {
      "text/plain": [
       "['봄', '여름', '가을', '겨울']"
      ]
     },
     "execution_count": 10,
     "metadata": {},
     "output_type": "execute_result"
    }
   ],
   "source": [
    "a = [\"봄\",\"여름\",\"가을\",\"겨울\"]\n",
    "a"
   ]
  },
  {
   "cell_type": "code",
   "execution_count": 11,
   "id": "93046492",
   "metadata": {},
   "outputs": [
    {
     "data": {
      "text/plain": [
       "'봄'"
      ]
     },
     "execution_count": 11,
     "metadata": {},
     "output_type": "execute_result"
    }
   ],
   "source": [
    "a[0]"
   ]
  },
  {
   "cell_type": "code",
   "execution_count": 13,
   "id": "415bb7cf",
   "metadata": {},
   "outputs": [
    {
     "name": "stdout",
     "output_type": "stream",
     "text": [
      "0 ** 봄\n",
      "1 ** 여름\n",
      "2 ** 가을\n",
      "3 ** 겨울\n"
     ]
    }
   ],
   "source": [
    "#값과 인덱스를 같이알고싶을때\n",
    "n = 0 \n",
    "for i in a:\n",
    "    print(n,\"**\",i)\n",
    "    n+=1"
   ]
  },
  {
   "cell_type": "code",
   "execution_count": 18,
   "id": "1166d40b",
   "metadata": {},
   "outputs": [
    {
     "data": {
      "text/plain": [
       "<enumerate at 0x144ed6c2200>"
      ]
     },
     "execution_count": 18,
     "metadata": {},
     "output_type": "execute_result"
    }
   ],
   "source": [
    "enumerate(a) #object로 data 넘겨줌 ->이때 data는 iterable 한 data 라고 생각하면됨"
   ]
  },
  {
   "cell_type": "code",
   "execution_count": 19,
   "id": "40fa5c27",
   "metadata": {},
   "outputs": [
    {
     "data": {
      "text/plain": [
       "[(0, '봄'), (1, '여름'), (2, '가을'), (3, '겨울')]"
      ]
     },
     "execution_count": 19,
     "metadata": {},
     "output_type": "execute_result"
    }
   ],
   "source": [
    "list(enumerate(a))"
   ]
  },
  {
   "cell_type": "code",
   "execution_count": 20,
   "id": "87de8553",
   "metadata": {},
   "outputs": [
    {
     "data": {
      "text/plain": [
       "(0, '봄')"
      ]
     },
     "execution_count": 20,
     "metadata": {},
     "output_type": "execute_result"
    }
   ],
   "source": [
    "list(enumerate(a))[0]"
   ]
  },
  {
   "cell_type": "code",
   "execution_count": 21,
   "id": "d3e45d5b",
   "metadata": {},
   "outputs": [
    {
     "name": "stdout",
     "output_type": "stream",
     "text": [
      "(0, '봄')\n",
      "(1, '여름')\n",
      "(2, '가을')\n",
      "(3, '겨울')\n"
     ]
    }
   ],
   "source": [
    "for i in enumerate(a):\n",
    "    print(i)"
   ]
  },
  {
   "cell_type": "code",
   "execution_count": 22,
   "id": "c637a9f0",
   "metadata": {},
   "outputs": [
    {
     "name": "stdout",
     "output_type": "stream",
     "text": [
      "0 ** 봄\n",
      "1 ** 여름\n",
      "2 ** 가을\n",
      "3 ** 겨울\n"
     ]
    }
   ],
   "source": [
    "for i in enumerate(a):\n",
    "    print(i[0],\"**\",i[1])"
   ]
  },
  {
   "cell_type": "code",
   "execution_count": 23,
   "id": "3d6428da",
   "metadata": {},
   "outputs": [
    {
     "name": "stdout",
     "output_type": "stream",
     "text": [
      "0 ** 봄\n",
      "1 ** 여름\n",
      "2 ** 가을\n",
      "3 ** 겨울\n"
     ]
    }
   ],
   "source": [
    "for n,i in enumerate(a): #2개로 구성된 튜플형태기때문에 2개를 주면 알아서 각각 넘어감\n",
    "    print(n,\"**\",i)"
   ]
  },
  {
   "cell_type": "code",
   "execution_count": 24,
   "id": "7134e289",
   "metadata": {},
   "outputs": [
    {
     "data": {
      "text/plain": [
       "(1, 2)"
      ]
     },
     "execution_count": 24,
     "metadata": {},
     "output_type": "execute_result"
    }
   ],
   "source": [
    "a=(1,2); a"
   ]
  },
  {
   "cell_type": "code",
   "execution_count": 25,
   "id": "c4f98678",
   "metadata": {},
   "outputs": [
    {
     "name": "stdout",
     "output_type": "stream",
     "text": [
      "1\n",
      "2\n"
     ]
    }
   ],
   "source": [
    "a,b=(1,2)\n",
    "print(a);print(b)"
   ]
  },
  {
   "cell_type": "code",
   "execution_count": 26,
   "id": "30f096a9",
   "metadata": {},
   "outputs": [
    {
     "name": "stdout",
     "output_type": "stream",
     "text": [
      "10 ** 봄\n",
      "11 ** 여름\n",
      "12 ** 가을\n",
      "13 ** 겨울\n"
     ]
    }
   ],
   "source": [
    "a = [\"봄\",\"여름\",\"가을\",\"겨울\"]\n",
    "for n,i in enumerate(a,10): #index를 10부터 주게 부여도 가능\n",
    "    print(n,\"**\",i)"
   ]
  },
  {
   "cell_type": "markdown",
   "id": "b9636806",
   "metadata": {},
   "source": [
    "### eval"
   ]
  },
  {
   "cell_type": "code",
   "execution_count": 27,
   "id": "e6d6418d",
   "metadata": {},
   "outputs": [
    {
     "name": "stdout",
     "output_type": "stream",
     "text": [
      "55\n"
     ]
    }
   ],
   "source": [
    "print(55)"
   ]
  },
  {
   "cell_type": "code",
   "execution_count": 29,
   "id": "10f9d4d2",
   "metadata": {},
   "outputs": [
    {
     "data": {
      "text/plain": [
       "'print(55)'"
      ]
     },
     "execution_count": 29,
     "metadata": {},
     "output_type": "execute_result"
    }
   ],
   "source": [
    "x=\"print(55)\"\n",
    "x"
   ]
  },
  {
   "cell_type": "code",
   "execution_count": 30,
   "id": "bce3f08c",
   "metadata": {},
   "outputs": [
    {
     "name": "stdout",
     "output_type": "stream",
     "text": [
      "55\n"
     ]
    }
   ],
   "source": [
    "eval(x) #x안의 값을 출력"
   ]
  },
  {
   "cell_type": "code",
   "execution_count": 31,
   "id": "d1a5e4e6",
   "metadata": {},
   "outputs": [
    {
     "data": {
      "text/plain": [
       "1"
      ]
     },
     "execution_count": 31,
     "metadata": {},
     "output_type": "execute_result"
    }
   ],
   "source": [
    "x = 1; x"
   ]
  },
  {
   "cell_type": "code",
   "execution_count": 32,
   "id": "60eb72bf",
   "metadata": {},
   "outputs": [
    {
     "data": {
      "text/plain": [
       "2"
      ]
     },
     "execution_count": 32,
     "metadata": {},
     "output_type": "execute_result"
    }
   ],
   "source": [
    "eval(\"x+1\") #문자열을없애고 실행문(x+1)형태로 만들어줌 eval이"
   ]
  },
  {
   "cell_type": "markdown",
   "id": "828ee85c",
   "metadata": {},
   "source": [
    "### Filter"
   ]
  },
  {
   "cell_type": "code",
   "execution_count": 34,
   "id": "404b483b",
   "metadata": {},
   "outputs": [],
   "source": [
    "ages = [5, 12, 17, 18, 24, 32]\n",
    "\n",
    "def myFunc(x):\n",
    "  if x < 20:\n",
    "    return False\n",
    "  else:\n",
    "    return True"
   ]
  },
  {
   "cell_type": "code",
   "execution_count": 35,
   "id": "b2c48e87",
   "metadata": {},
   "outputs": [
    {
     "data": {
      "text/plain": [
       "True"
      ]
     },
     "execution_count": 35,
     "metadata": {},
     "output_type": "execute_result"
    }
   ],
   "source": [
    "myFunc(40)"
   ]
  },
  {
   "cell_type": "code",
   "execution_count": 36,
   "id": "e723dff3",
   "metadata": {},
   "outputs": [
    {
     "data": {
      "text/plain": [
       "False"
      ]
     },
     "execution_count": 36,
     "metadata": {},
     "output_type": "execute_result"
    }
   ],
   "source": [
    "myFunc(10)"
   ]
  },
  {
   "cell_type": "code",
   "execution_count": 38,
   "id": "dce69913",
   "metadata": {},
   "outputs": [
    {
     "data": {
      "text/plain": [
       "<filter at 0x144edbc2ee0>"
      ]
     },
     "execution_count": 38,
     "metadata": {},
     "output_type": "execute_result"
    }
   ],
   "source": [
    "filter(myFunc, ages) #filter(function, iterable data) -> object 형태로 data 줌 "
   ]
  },
  {
   "cell_type": "code",
   "execution_count": 39,
   "id": "c3a5691c",
   "metadata": {},
   "outputs": [
    {
     "name": "stdout",
     "output_type": "stream",
     "text": [
      "24\n",
      "32\n"
     ]
    }
   ],
   "source": [
    "adults = filter(myFunc, ages) #true에 해당하는 값만 돌려줌\n",
    "for x in adults:\n",
    "    print(x)"
   ]
  },
  {
   "cell_type": "code",
   "execution_count": 40,
   "id": "fd7733ad",
   "metadata": {},
   "outputs": [
    {
     "data": {
      "text/plain": [
       "[24, 32]"
      ]
     },
     "execution_count": 40,
     "metadata": {},
     "output_type": "execute_result"
    }
   ],
   "source": [
    "list(filter(myFunc, ages)) #list인 값을 특정조건에 해당하는 값만 뽑고싶을때 filter를 쓴다.(list는 > 같은걸사용할수없기때문)"
   ]
  },
  {
   "cell_type": "code",
   "execution_count": 41,
   "id": "bbe20246",
   "metadata": {},
   "outputs": [
    {
     "data": {
      "text/plain": [
       "<filter at 0x144edcaef40>"
      ]
     },
     "execution_count": 41,
     "metadata": {},
     "output_type": "execute_result"
    }
   ],
   "source": [
    "filter(lambda x:x>20, ages)\n",
    "#filter에 들어가는 함수는 true, false로 나눌수있어야"
   ]
  },
  {
   "cell_type": "code",
   "execution_count": 42,
   "id": "4a97558b",
   "metadata": {},
   "outputs": [
    {
     "data": {
      "text/plain": [
       "[24, 32]"
      ]
     },
     "execution_count": 42,
     "metadata": {},
     "output_type": "execute_result"
    }
   ],
   "source": [
    "list(filter(lambda x:x>20, ages)) #함수를 새로 안만들고 lambda로 사용도가능"
   ]
  },
  {
   "cell_type": "markdown",
   "id": "3ade34b1",
   "metadata": {},
   "source": [
    "### filter() 실습\n",
    "1. b = [2,18,9,22,17,24,8,12,27]\n",
    "2. b에서 3의 배수를 추출하시오"
   ]
  },
  {
   "cell_type": "code",
   "execution_count": 43,
   "id": "46aa5eda",
   "metadata": {},
   "outputs": [
    {
     "data": {
      "text/plain": [
       "[18, 9, 24, 12, 27]"
      ]
     },
     "execution_count": 43,
     "metadata": {},
     "output_type": "execute_result"
    }
   ],
   "source": [
    "b = [2,18,9,22,17,24,8,12,27]\n",
    "list(filter(lambda x:x%3==0, b))"
   ]
  },
  {
   "cell_type": "code",
   "execution_count": 44,
   "id": "7602bafa",
   "metadata": {},
   "outputs": [
    {
     "data": {
      "text/plain": [
       "[18, 9, 24, 12, 27]"
      ]
     },
     "execution_count": 44,
     "metadata": {},
     "output_type": "execute_result"
    }
   ],
   "source": [
    "b = [2,18,9,22,17,24,8,12,27]\n",
    "res = []\n",
    "for i in b:\n",
    "    if i%3==0:\n",
    "        res.append(i)\n",
    "res"
   ]
  },
  {
   "cell_type": "code",
   "execution_count": 45,
   "id": "70bcbc69",
   "metadata": {},
   "outputs": [
    {
     "data": {
      "text/plain": [
       "[18, 9, 24, 12, 27]"
      ]
     },
     "execution_count": 45,
     "metadata": {},
     "output_type": "execute_result"
    }
   ],
   "source": [
    "[i for i in b if i%3 ==0]"
   ]
  },
  {
   "cell_type": "markdown",
   "id": "ffbda8e8",
   "metadata": {},
   "source": [
    "1. 1~10으로 구성된 리스트 target\n",
    "2. 짝수를 추출하기"
   ]
  },
  {
   "cell_type": "code",
   "execution_count": 46,
   "id": "73a10804",
   "metadata": {},
   "outputs": [],
   "source": [
    "target = list(range(1,11))"
   ]
  },
  {
   "cell_type": "code",
   "execution_count": 47,
   "id": "bce7f01a",
   "metadata": {},
   "outputs": [],
   "source": [
    "def is_even(n):\n",
    "    if n%2==0:\n",
    "        return True\n",
    "    else:\n",
    "        return False"
   ]
  },
  {
   "cell_type": "code",
   "execution_count": 49,
   "id": "7917a109",
   "metadata": {},
   "outputs": [
    {
     "data": {
      "text/plain": [
       "[2, 4, 6, 8, 10]"
      ]
     },
     "execution_count": 49,
     "metadata": {},
     "output_type": "execute_result"
    }
   ],
   "source": [
    "def is_even(n):\n",
    "    return True if n%2 ==0 else False\n",
    "\n",
    "list(filter(is_even,target))"
   ]
  },
  {
   "cell_type": "code",
   "execution_count": 50,
   "id": "66334338",
   "metadata": {},
   "outputs": [
    {
     "data": {
      "text/plain": [
       "[2, 4, 6, 8, 10]"
      ]
     },
     "execution_count": 50,
     "metadata": {},
     "output_type": "execute_result"
    }
   ],
   "source": [
    "list(filter(lambda x:x%2==0, target)) #메모리에 함수 안올리고 원하는 값만 추출가능"
   ]
  },
  {
   "cell_type": "markdown",
   "id": "21b0f1d0",
   "metadata": {},
   "source": [
    "### map"
   ]
  },
  {
   "cell_type": "code",
   "execution_count": 51,
   "id": "2d22a30b",
   "metadata": {},
   "outputs": [],
   "source": [
    "#map은 filter와 구성은 같다. map(function, iterable)\n",
    "#차이는 map의 함수는 True,False가 아닌 데이터를 반환하는 함수여도 된다는것"
   ]
  },
  {
   "cell_type": "code",
   "execution_count": 55,
   "id": "11bc047f",
   "metadata": {},
   "outputs": [],
   "source": [
    "def myfunc(a,b):\n",
    "    return a+\"-\"+b"
   ]
  },
  {
   "cell_type": "code",
   "execution_count": 63,
   "id": "65aabb1a",
   "metadata": {},
   "outputs": [
    {
     "data": {
      "text/plain": [
       "<map at 0x144edbd7bb0>"
      ]
     },
     "execution_count": 63,
     "metadata": {},
     "output_type": "execute_result"
    }
   ],
   "source": [
    "a = ('apple', 'banana', 'cherry')\n",
    "b = ('orange', 'lemon', 'pineapple')\n",
    "map(myfunc, a,b)"
   ]
  },
  {
   "cell_type": "code",
   "execution_count": 64,
   "id": "cbc5e2f0",
   "metadata": {},
   "outputs": [
    {
     "data": {
      "text/plain": [
       "['apple-orange', 'banana-lemon', 'cherry-pineapple']"
      ]
     },
     "execution_count": 64,
     "metadata": {},
     "output_type": "execute_result"
    }
   ],
   "source": [
    "list(map(myfunc, a,b))"
   ]
  },
  {
   "cell_type": "code",
   "execution_count": 65,
   "id": "ab998089",
   "metadata": {},
   "outputs": [
    {
     "data": {
      "text/plain": [
       "3"
      ]
     },
     "execution_count": 65,
     "metadata": {},
     "output_type": "execute_result"
    }
   ],
   "source": [
    "len(a)"
   ]
  },
  {
   "cell_type": "code",
   "execution_count": 66,
   "id": "fe5f32dd",
   "metadata": {},
   "outputs": [
    {
     "data": {
      "text/plain": [
       "5"
      ]
     },
     "execution_count": 66,
     "metadata": {},
     "output_type": "execute_result"
    }
   ],
   "source": [
    "len(a[0])"
   ]
  },
  {
   "cell_type": "code",
   "execution_count": 67,
   "id": "36b0e622",
   "metadata": {},
   "outputs": [],
   "source": [
    "def aa(n):\n",
    "    return len(n)"
   ]
  },
  {
   "cell_type": "code",
   "execution_count": 68,
   "id": "cbaa5d6a",
   "metadata": {},
   "outputs": [
    {
     "data": {
      "text/plain": [
       "<map at 0x144ed9defd0>"
      ]
     },
     "execution_count": 68,
     "metadata": {},
     "output_type": "execute_result"
    }
   ],
   "source": [
    "map(aa,a)"
   ]
  },
  {
   "cell_type": "code",
   "execution_count": 69,
   "id": "2201125b",
   "metadata": {},
   "outputs": [
    {
     "data": {
      "text/plain": [
       "[5, 6, 6]"
      ]
     },
     "execution_count": 69,
     "metadata": {},
     "output_type": "execute_result"
    }
   ],
   "source": [
    "list(map(aa,a))"
   ]
  },
  {
   "cell_type": "markdown",
   "id": "a51f471c",
   "metadata": {},
   "source": [
    "1. 1~10으로 구성된 리스트 target\n",
    "2. 각각 3제곱을 구하세요"
   ]
  },
  {
   "cell_type": "code",
   "execution_count": 70,
   "id": "c84b2e49",
   "metadata": {},
   "outputs": [
    {
     "data": {
      "text/plain": [
       "[1, 8, 27, 64, 125, 216, 343, 512, 729, 1000]"
      ]
     },
     "execution_count": 70,
     "metadata": {},
     "output_type": "execute_result"
    }
   ],
   "source": [
    "target = list(range(1,11))\n",
    "list(map(lambda x:x**3,target))"
   ]
  },
  {
   "cell_type": "code",
   "execution_count": 71,
   "id": "3a3f2d5c",
   "metadata": {},
   "outputs": [
    {
     "data": {
      "text/plain": [
       "[1, 8, 27, 64, 125, 216, 343, 512, 729, 1000]"
      ]
     },
     "execution_count": 71,
     "metadata": {},
     "output_type": "execute_result"
    }
   ],
   "source": [
    "def func_a(n):\n",
    "    return n**3\n",
    "\n",
    "list(map(func_a,target))"
   ]
  },
  {
   "cell_type": "code",
   "execution_count": 72,
   "id": "5ed86f94",
   "metadata": {},
   "outputs": [],
   "source": [
    "#dataframe, series 도 map이나 filter 쓸수있음"
   ]
  },
  {
   "cell_type": "markdown",
   "id": "b5b750fa",
   "metadata": {},
   "source": [
    "### zip"
   ]
  },
  {
   "cell_type": "code",
   "execution_count": 73,
   "id": "a28bb52d",
   "metadata": {},
   "outputs": [],
   "source": [
    "x=[1,2,3]\n",
    "y=[4,5,6]"
   ]
  },
  {
   "cell_type": "code",
   "execution_count": 75,
   "id": "979d0614",
   "metadata": {},
   "outputs": [
    {
     "name": "stdout",
     "output_type": "stream",
     "text": [
      "1 4\n",
      "2 5\n",
      "3 6\n"
     ]
    }
   ],
   "source": [
    "for i in range(0,len(x)):\n",
    "    print(x[i],y[i])"
   ]
  },
  {
   "cell_type": "code",
   "execution_count": 76,
   "id": "60d52f05",
   "metadata": {},
   "outputs": [
    {
     "data": {
      "text/plain": [
       "<zip at 0x144ed75d9c0>"
      ]
     },
     "execution_count": 76,
     "metadata": {},
     "output_type": "execute_result"
    }
   ],
   "source": [
    "zip(x,y)"
   ]
  },
  {
   "cell_type": "code",
   "execution_count": 77,
   "id": "ee33c456",
   "metadata": {},
   "outputs": [
    {
     "data": {
      "text/plain": [
       "[(1, 4), (2, 5), (3, 6)]"
      ]
     },
     "execution_count": 77,
     "metadata": {},
     "output_type": "execute_result"
    }
   ],
   "source": [
    "list(zip(x,y))"
   ]
  },
  {
   "cell_type": "code",
   "execution_count": 81,
   "id": "749f569c",
   "metadata": {},
   "outputs": [
    {
     "data": {
      "text/plain": [
       "<zip at 0x144ed751440>"
      ]
     },
     "execution_count": 81,
     "metadata": {},
     "output_type": "execute_result"
    }
   ],
   "source": [
    "zip(*zip(x,y)) #x,y zip만들었다가 다시 푸는작업할때"
   ]
  },
  {
   "cell_type": "code",
   "execution_count": 82,
   "id": "5aeb5556",
   "metadata": {},
   "outputs": [
    {
     "data": {
      "text/plain": [
       "[(1, 2, 3), (4, 5, 6)]"
      ]
     },
     "execution_count": 82,
     "metadata": {},
     "output_type": "execute_result"
    }
   ],
   "source": [
    "list(zip(*zip(x,y))) "
   ]
  },
  {
   "cell_type": "markdown",
   "id": "d8cf0e13",
   "metadata": {},
   "source": [
    "### lambda"
   ]
  },
  {
   "cell_type": "code",
   "execution_count": 83,
   "id": "9df036e1",
   "metadata": {},
   "outputs": [
    {
     "data": {
      "text/plain": [
       "15"
      ]
     },
     "execution_count": 83,
     "metadata": {},
     "output_type": "execute_result"
    }
   ],
   "source": [
    "def x(a):\n",
    "    return a+10\n",
    "x(5)"
   ]
  },
  {
   "cell_type": "code",
   "execution_count": 85,
   "id": "73f5e04f",
   "metadata": {},
   "outputs": [
    {
     "data": {
      "text/plain": [
       "15"
      ]
     },
     "execution_count": 85,
     "metadata": {},
     "output_type": "execute_result"
    }
   ],
   "source": [
    "(lambda a:a+10)(5)"
   ]
  },
  {
   "cell_type": "code",
   "execution_count": 86,
   "id": "b92f02ad",
   "metadata": {},
   "outputs": [],
   "source": [
    "y = lambda a:a+10"
   ]
  },
  {
   "cell_type": "code",
   "execution_count": 87,
   "id": "ad727690",
   "metadata": {},
   "outputs": [
    {
     "data": {
      "text/plain": [
       "<function __main__.<lambda>(a)>"
      ]
     },
     "execution_count": 87,
     "metadata": {},
     "output_type": "execute_result"
    }
   ],
   "source": [
    "y"
   ]
  },
  {
   "cell_type": "code",
   "execution_count": 88,
   "id": "f09f9cb9",
   "metadata": {},
   "outputs": [
    {
     "data": {
      "text/plain": [
       "15"
      ]
     },
     "execution_count": 88,
     "metadata": {},
     "output_type": "execute_result"
    }
   ],
   "source": [
    "y(5)"
   ]
  },
  {
   "cell_type": "code",
   "execution_count": 89,
   "id": "e0c0421f",
   "metadata": {},
   "outputs": [
    {
     "data": {
      "text/plain": [
       "30"
      ]
     },
     "execution_count": 89,
     "metadata": {},
     "output_type": "execute_result"
    }
   ],
   "source": [
    "x = lambda a,b:a*b\n",
    "x(5,6)"
   ]
  },
  {
   "cell_type": "code",
   "execution_count": 90,
   "id": "9f86e0ec",
   "metadata": {},
   "outputs": [
    {
     "data": {
      "text/plain": [
       "30"
      ]
     },
     "execution_count": 90,
     "metadata": {},
     "output_type": "execute_result"
    }
   ],
   "source": [
    "(lambda a,b:a*b)(5,6)"
   ]
  },
  {
   "cell_type": "code",
   "execution_count": 91,
   "id": "4700a461",
   "metadata": {},
   "outputs": [],
   "source": [
    "def myfunc(n):\n",
    "    return lambda a:a*n"
   ]
  },
  {
   "cell_type": "code",
   "execution_count": 92,
   "id": "eef6b964",
   "metadata": {},
   "outputs": [
    {
     "data": {
      "text/plain": [
       "<function __main__.myfunc(n)>"
      ]
     },
     "execution_count": 92,
     "metadata": {},
     "output_type": "execute_result"
    }
   ],
   "source": [
    "myfunc"
   ]
  },
  {
   "cell_type": "code",
   "execution_count": 94,
   "id": "97174564",
   "metadata": {},
   "outputs": [
    {
     "data": {
      "text/plain": [
       "<function __main__.myfunc.<locals>.<lambda>(a)>"
      ]
     },
     "execution_count": 94,
     "metadata": {},
     "output_type": "execute_result"
    }
   ],
   "source": [
    "myfunc(3)"
   ]
  },
  {
   "cell_type": "code",
   "execution_count": 95,
   "id": "07ca8a70",
   "metadata": {},
   "outputs": [],
   "source": [
    "res= myfunc(3) # 들어오는 변수에 3을 곱하는 함수가 됨"
   ]
  },
  {
   "cell_type": "code",
   "execution_count": 96,
   "id": "cfa9542a",
   "metadata": {},
   "outputs": [
    {
     "data": {
      "text/plain": [
       "15"
      ]
     },
     "execution_count": 96,
     "metadata": {},
     "output_type": "execute_result"
    }
   ],
   "source": [
    "res(5)"
   ]
  },
  {
   "cell_type": "markdown",
   "id": "462ff133",
   "metadata": {},
   "source": [
    "### next"
   ]
  },
  {
   "cell_type": "code",
   "execution_count": 97,
   "id": "5fb3ebe1",
   "metadata": {},
   "outputs": [],
   "source": [
    "#next() 함수는 iterator에 적용됨. 즉 iterable한 data만 적용"
   ]
  },
  {
   "cell_type": "code",
   "execution_count": 101,
   "id": "a2ae3fa6",
   "metadata": {},
   "outputs": [
    {
     "data": {
      "text/plain": [
       "1"
      ]
     },
     "execution_count": 101,
     "metadata": {},
     "output_type": "execute_result"
    }
   ],
   "source": [
    "mylist = iter([1,3,5,7]) #iter 함수는 객체로 돌려주는 함수\n",
    "next(mylist)"
   ]
  },
  {
   "cell_type": "code",
   "execution_count": 102,
   "id": "c8ea8bbb",
   "metadata": {},
   "outputs": [
    {
     "data": {
      "text/plain": [
       "3"
      ]
     },
     "execution_count": 102,
     "metadata": {},
     "output_type": "execute_result"
    }
   ],
   "source": [
    "next(mylist)"
   ]
  },
  {
   "cell_type": "code",
   "execution_count": 103,
   "id": "ce16905b",
   "metadata": {},
   "outputs": [
    {
     "data": {
      "text/plain": [
       "5"
      ]
     },
     "execution_count": 103,
     "metadata": {},
     "output_type": "execute_result"
    }
   ],
   "source": [
    "next(mylist)"
   ]
  },
  {
   "cell_type": "code",
   "execution_count": 104,
   "id": "daed895e",
   "metadata": {},
   "outputs": [
    {
     "data": {
      "text/plain": [
       "7"
      ]
     },
     "execution_count": 104,
     "metadata": {},
     "output_type": "execute_result"
    }
   ],
   "source": [
    "next(mylist)"
   ]
  },
  {
   "cell_type": "code",
   "execution_count": 99,
   "id": "2a7324f8",
   "metadata": {},
   "outputs": [
    {
     "data": {
      "text/plain": [
       "[1, 3, 5, 7]"
      ]
     },
     "execution_count": 99,
     "metadata": {},
     "output_type": "execute_result"
    }
   ],
   "source": [
    "list(mylist)"
   ]
  },
  {
   "cell_type": "markdown",
   "id": "cbc10778",
   "metadata": {},
   "source": [
    "### reduce"
   ]
  },
  {
   "cell_type": "code",
   "execution_count": 107,
   "id": "08b6a3fe",
   "metadata": {},
   "outputs": [],
   "source": [
    "#내장함수는 아님\n",
    "import functools\n",
    "#from functools import reduce"
   ]
  },
  {
   "cell_type": "code",
   "execution_count": 108,
   "id": "9ff697e5",
   "metadata": {},
   "outputs": [
    {
     "name": "stdout",
     "output_type": "stream",
     "text": [
      "['RLock', 'WRAPPER_ASSIGNMENTS', 'WRAPPER_UPDATES', '_CacheInfo', '_HashedSeq', '_NOT_FOUND', '__all__', '__builtins__', '__cached__', '__doc__', '__file__', '__loader__', '__name__', '__package__', '__spec__', '_c3_merge', '_c3_mro', '_compose_mro', '_convert', '_find_impl', '_ge_from_gt', '_ge_from_le', '_ge_from_lt', '_gt_from_ge', '_gt_from_le', '_gt_from_lt', '_initial_missing', '_le_from_ge', '_le_from_gt', '_le_from_lt', '_lru_cache_wrapper', '_lt_from_ge', '_lt_from_gt', '_lt_from_le', '_make_key', '_unwrap_partial', 'cached_property', 'cmp_to_key', 'get_cache_token', 'lru_cache', 'namedtuple', 'partial', 'partialmethod', 'recursive_repr', 'reduce', 'singledispatch', 'singledispatchmethod', 'total_ordering', 'update_wrapper', 'wraps']\n"
     ]
    }
   ],
   "source": [
    "print(dir(functools))"
   ]
  },
  {
   "cell_type": "code",
   "execution_count": 109,
   "id": "6e519d0c",
   "metadata": {},
   "outputs": [
    {
     "data": {
      "text/plain": [
       "<function _functools.reduce>"
      ]
     },
     "execution_count": 109,
     "metadata": {},
     "output_type": "execute_result"
    }
   ],
   "source": [
    "functools.reduce"
   ]
  },
  {
   "cell_type": "code",
   "execution_count": 110,
   "id": "f6f706d6",
   "metadata": {},
   "outputs": [],
   "source": [
    "from functools import reduce\n",
    "#하면 reduce로 바로사용가능"
   ]
  },
  {
   "cell_type": "code",
   "execution_count": 113,
   "id": "028ecb58",
   "metadata": {},
   "outputs": [
    {
     "name": "stdout",
     "output_type": "stream",
     "text": [
      "0+1=1\n",
      "1+2=3\n",
      "3+3=6\n",
      "6+4=10\n"
     ]
    },
    {
     "data": {
      "text/plain": [
       "10"
      ]
     },
     "execution_count": 113,
     "metadata": {},
     "output_type": "execute_result"
    }
   ],
   "source": [
    "num = list(range(0,5))\n",
    "def my_add(a,b):\n",
    "    result = a+b\n",
    "    print(f\"{a}+{b}={result}\")\n",
    "    return result\n",
    "    \n",
    "reduce(my_add,num)"
   ]
  }
 ],
 "metadata": {
  "kernelspec": {
   "display_name": "Python 3",
   "language": "python",
   "name": "python3"
  },
  "language_info": {
   "codemirror_mode": {
    "name": "ipython",
    "version": 3
   },
   "file_extension": ".py",
   "mimetype": "text/x-python",
   "name": "python",
   "nbconvert_exporter": "python",
   "pygments_lexer": "ipython3",
   "version": "3.8.8"
  }
 },
 "nbformat": 4,
 "nbformat_minor": 5
}
