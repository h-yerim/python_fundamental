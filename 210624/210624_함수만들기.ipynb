{
 "cells": [
  {
   "cell_type": "markdown",
   "id": "8ea683f7",
   "metadata": {},
   "source": [
    "### 실습 년도를 입력받아 윤년인지 판별하는 함수 (leap_year) 작성\n",
    "1. 연도를 입력\n",
    "2. 윤년이면\"윤년\",아니면 \"평년\"을 출력\n",
    "3. 윤년은(2월 29일까지)\n",
    "- 4로 나눠서 떨어지면 윤년\n",
    " + 100으로 나눠서 떨어지면 평년\n",
    " + 100으로 나눠서 떨어지지 않으면 윤년\n",
    "- 4, 100, 400 으로 나눠서 떨어지면 윤년"
   ]
  },
  {
   "cell_type": "code",
   "execution_count": 15,
   "id": "bfbaad89",
   "metadata": {},
   "outputs": [
    {
     "name": "stdout",
     "output_type": "stream",
     "text": [
      "연도를 입력하세요2020\n",
      "2020 는 윤년입니다.\n"
     ]
    }
   ],
   "source": [
    "x= int(input(\"연도를 입력하세요\"))\n",
    "if (x%4)==0:\n",
    "    if(x%100)==0:\n",
    "        if(x%400)==0:\n",
    "            print(x,\"는 윤년입니다.\")\n",
    "        else:\n",
    "             print(x,\"는 평년입니다.\")\n",
    "    else:\n",
    "        print(x,\"는 윤년입니다.\")\n",
    "        \n",
    "else: print(x,\"는 평년입니다.\")        \n",
    "    "
   ]
  },
  {
   "cell_type": "code",
   "execution_count": 17,
   "id": "baec09e9",
   "metadata": {},
   "outputs": [
    {
     "name": "stdout",
     "output_type": "stream",
     "text": [
      "연도를 입력하세요2001\n",
      "2001 는 평년입니다.\n"
     ]
    }
   ],
   "source": [
    "year= int(input(\"연도를 입력하세요\"))\n",
    "if ((year%4==0)and (year%100!=0)) or (year%400==0):\n",
    "    print(year,\"는 윤년입니다.\")\n",
    "else:\n",
    "    print(year,\"는 평년입니다.\")"
   ]
  },
  {
   "cell_type": "code",
   "execution_count": 20,
   "id": "412a63fd",
   "metadata": {},
   "outputs": [],
   "source": [
    "def leap_year(year):\n",
    "\n",
    "    if ((year%4==0)and (year%100!=0)) or (year%400==0):\n",
    "        res=\"윤년\"\n",
    "    else:\n",
    "        res=\"평년\"\n",
    "    return res"
   ]
  },
  {
   "cell_type": "code",
   "execution_count": 21,
   "id": "0d728edc",
   "metadata": {},
   "outputs": [
    {
     "data": {
      "text/plain": [
       "'윤년'"
      ]
     },
     "execution_count": 21,
     "metadata": {},
     "output_type": "execute_result"
    }
   ],
   "source": [
    "leap_year(2004)"
   ]
  },
  {
   "cell_type": "code",
   "execution_count": 25,
   "id": "c02d7f0b",
   "metadata": {},
   "outputs": [
    {
     "name": "stdout",
     "output_type": "stream",
     "text": [
      "연도를 입력하세요2020\n",
      "년도 2020는 윤년입니다.\n"
     ]
    }
   ],
   "source": [
    "year= int(input(\"연도를 입력하세요\"))\n",
    "result=leap_year(year)\n",
    "print(\"연도 %s는 %s입니다.\"%(year,result))\n",
    "#print(\"연도\",year,\"는\",result,\"입니다.\")\n",
    "#print(\"연도 {} 는 {}입니다.\".format(year,result))"
   ]
  },
  {
   "cell_type": "code",
   "execution_count": 27,
   "id": "858321cf",
   "metadata": {},
   "outputs": [
    {
     "data": {
      "text/plain": [
       "['윤년', '평년', '윤년', '윤년']"
      ]
     },
     "execution_count": 27,
     "metadata": {},
     "output_type": "execute_result"
    }
   ],
   "source": [
    "years =[1980,2019,2020,2024]\n",
    "list(map(leap_year,years))"
   ]
  },
  {
   "cell_type": "code",
   "execution_count": 28,
   "id": "bbb9bce5",
   "metadata": {},
   "outputs": [
    {
     "data": {
      "text/plain": [
       "['윤년', '평년', '윤년', '윤년']"
      ]
     },
     "execution_count": 28,
     "metadata": {},
     "output_type": "execute_result"
    }
   ],
   "source": [
    "result=[]\n",
    "for i in years:\n",
    "    result.append(leap_year(i))\n",
    "result"
   ]
  },
  {
   "cell_type": "code",
   "execution_count": 35,
   "id": "7a98ec59",
   "metadata": {},
   "outputs": [
    {
     "data": {
      "text/plain": [
       "['윤년', '평년', '윤년', '윤년']"
      ]
     },
     "execution_count": 35,
     "metadata": {},
     "output_type": "execute_result"
    }
   ],
   "source": [
    "list(map(lambda year:\"윤년\" if ((year%4==0) and (year%100!=0)) or (year%400==0) \n",
    "         else \"평년\",years))\n",
    "#lambda if문의 경우 if일때 반환값을 앞에 쓰고 else 일때 반환값은 뒤에 쓰면 된다."
   ]
  },
  {
   "cell_type": "code",
   "execution_count": 36,
   "id": "ad3b9953",
   "metadata": {},
   "outputs": [
    {
     "name": "stdout",
     "output_type": "stream",
     "text": [
      "연도를 입력하세요2020\n",
      "연도 2020는 윤년입니다.\n"
     ]
    }
   ],
   "source": [
    "year= int(input(\"연도를 입력하세요\"))\n",
    "result=leap_year(year)\n",
    "print(\"연도 %s는 %s입니다.\"%(year,result))"
   ]
  },
  {
   "cell_type": "markdown",
   "id": "463c0ea8",
   "metadata": {},
   "source": [
    "### 반복입력후 판정\n",
    "1. while 문\n",
    "2. 년도가 0이면 종료"
   ]
  },
  {
   "cell_type": "code",
   "execution_count": 40,
   "id": "bbc36772",
   "metadata": {},
   "outputs": [
    {
     "name": "stdout",
     "output_type": "stream",
     "text": [
      "연도를 입력하세요(0이면 종료됩니다.): 2020\n",
      "연도 2020는 윤년입니다.\n",
      "연도를 입력하세요(0이면 종료됩니다.): 2010\n",
      "연도 2010는 평년입니다.\n",
      "연도를 입력하세요(0이면 종료됩니다.): 0\n"
     ]
    }
   ],
   "source": [
    "while True:\n",
    "    year= int(input(\"연도를 입력하세요(0이면 종료됩니다.): \"))\n",
    "    if year ==0 : break\n",
    "    result=leap_year(year)\n",
    "    print(\"연도 %s는 %s입니다.\"%(year,result))"
   ]
  },
  {
   "cell_type": "markdown",
   "id": "d3b14765",
   "metadata": {},
   "source": [
    "### 입력받은 년도와 결과를 저장하기"
   ]
  },
  {
   "cell_type": "code",
   "execution_count": 43,
   "id": "3b8b805d",
   "metadata": {},
   "outputs": [
    {
     "name": "stdout",
     "output_type": "stream",
     "text": [
      "연도를 입력하세요(0이면 종료됩니다.): 2020\n",
      "연도 2020는 윤년입니다.\n",
      "연도를 입력하세요(0이면 종료됩니다.): 2010\n",
      "연도 2010는 평년입니다.\n",
      "연도를 입력하세요(0이면 종료됩니다.): 2000\n",
      "연도 2000는 윤년입니다.\n",
      "연도를 입력하세요(0이면 종료됩니다.): 0\n",
      "[[2020, '윤년'], [2010, '평년'], [2000, '윤년']]\n"
     ]
    }
   ],
   "source": [
    "y=[]\n",
    "while True:\n",
    "    year= int(input(\"연도를 입력하세요(0이면 종료됩니다.): \"))\n",
    "    if year ==0 : break\n",
    "    result=leap_year(year)\n",
    "    print(\"연도 %s는 %s입니다.\"%(year,result))\n",
    "    y.append([year,result]) #두가지 값을 한번에 넣기위해 리스트로 입력\n",
    "print(y)"
   ]
  },
  {
   "cell_type": "markdown",
   "id": "2638159e",
   "metadata": {},
   "source": [
    "### 데이터 프레임으로 만들기"
   ]
  },
  {
   "cell_type": "code",
   "execution_count": 60,
   "id": "1aa49f35",
   "metadata": {},
   "outputs": [
    {
     "name": "stdout",
     "output_type": "stream",
     "text": [
      "연도를 입력하세요(0이면 종료됩니다.): 2020\n",
      "연도 2020는 윤년입니다.\n",
      "연도를 입력하세요(0이면 종료됩니다.): 2010\n",
      "연도 2010는 평년입니다.\n",
      "연도를 입력하세요(0이면 종료됩니다.): 2000\n",
      "연도 2000는 윤년입니다.\n",
      "연도를 입력하세요(0이면 종료됩니다.): 2021\n",
      "연도 2021는 평년입니다.\n",
      "연도를 입력하세요(0이면 종료됩니다.): 0\n"
     ]
    },
    {
     "data": {
      "text/html": [
       "<div>\n",
       "<style scoped>\n",
       "    .dataframe tbody tr th:only-of-type {\n",
       "        vertical-align: middle;\n",
       "    }\n",
       "\n",
       "    .dataframe tbody tr th {\n",
       "        vertical-align: top;\n",
       "    }\n",
       "\n",
       "    .dataframe thead th {\n",
       "        text-align: right;\n",
       "    }\n",
       "</style>\n",
       "<table border=\"1\" class=\"dataframe\">\n",
       "  <thead>\n",
       "    <tr style=\"text-align: right;\">\n",
       "      <th></th>\n",
       "      <th>연도</th>\n",
       "      <th>판정</th>\n",
       "    </tr>\n",
       "  </thead>\n",
       "  <tbody>\n",
       "    <tr>\n",
       "      <th>0</th>\n",
       "      <td>2020</td>\n",
       "      <td>윤년</td>\n",
       "    </tr>\n",
       "    <tr>\n",
       "      <th>1</th>\n",
       "      <td>2010</td>\n",
       "      <td>평년</td>\n",
       "    </tr>\n",
       "    <tr>\n",
       "      <th>2</th>\n",
       "      <td>2000</td>\n",
       "      <td>윤년</td>\n",
       "    </tr>\n",
       "    <tr>\n",
       "      <th>3</th>\n",
       "      <td>2021</td>\n",
       "      <td>평년</td>\n",
       "    </tr>\n",
       "  </tbody>\n",
       "</table>\n",
       "</div>"
      ],
      "text/plain": [
       "     연도  판정\n",
       "0  2020  윤년\n",
       "1  2010  평년\n",
       "2  2000  윤년\n",
       "3  2021  평년"
      ]
     },
     "execution_count": 60,
     "metadata": {},
     "output_type": "execute_result"
    }
   ],
   "source": [
    "import pandas as pd\n",
    "y=[]\n",
    "while True:\n",
    "    year= int(input(\"연도를 입력하세요(0이면 종료됩니다.): \"))\n",
    "    if year ==0 : break\n",
    "    result=leap_year(year)\n",
    "    print(\"연도 %s는 %s입니다.\"%(year,result))\n",
    "    y.append([year,result]) #두가지 값을 한번에 넣기위해 리스트로 입력\n",
    "\n",
    "pd.DataFrame(y,columns=[\"연도\",\"판정\"])"
   ]
  },
  {
   "cell_type": "code",
   "execution_count": 61,
   "id": "d6013b24",
   "metadata": {},
   "outputs": [
    {
     "data": {
      "text/html": [
       "<div>\n",
       "<style scoped>\n",
       "    .dataframe tbody tr th:only-of-type {\n",
       "        vertical-align: middle;\n",
       "    }\n",
       "\n",
       "    .dataframe tbody tr th {\n",
       "        vertical-align: top;\n",
       "    }\n",
       "\n",
       "    .dataframe thead th {\n",
       "        text-align: right;\n",
       "    }\n",
       "</style>\n",
       "<table border=\"1\" class=\"dataframe\">\n",
       "  <thead>\n",
       "    <tr style=\"text-align: right;\">\n",
       "      <th></th>\n",
       "      <th>연도</th>\n",
       "      <th>판정</th>\n",
       "    </tr>\n",
       "  </thead>\n",
       "  <tbody>\n",
       "    <tr>\n",
       "      <th>0</th>\n",
       "      <td>2020</td>\n",
       "      <td>윤년</td>\n",
       "    </tr>\n",
       "    <tr>\n",
       "      <th>1</th>\n",
       "      <td>2010</td>\n",
       "      <td>평년</td>\n",
       "    </tr>\n",
       "    <tr>\n",
       "      <th>2</th>\n",
       "      <td>2000</td>\n",
       "      <td>윤년</td>\n",
       "    </tr>\n",
       "    <tr>\n",
       "      <th>3</th>\n",
       "      <td>2021</td>\n",
       "      <td>평년</td>\n",
       "    </tr>\n",
       "  </tbody>\n",
       "</table>\n",
       "</div>"
      ],
      "text/plain": [
       "     연도  판정\n",
       "0  2020  윤년\n",
       "1  2010  평년\n",
       "2  2000  윤년\n",
       "3  2021  평년"
      ]
     },
     "execution_count": 61,
     "metadata": {},
     "output_type": "execute_result"
    }
   ],
   "source": [
    "y_df01 = pd.DataFrame(y,columns=[\"연도\",\"판정\"])\n",
    "#y_df01 = pd.DataFrame(y)\n",
    "#y_df01.columns=[\"년도\",\"판정\"] 이렇게도 가능.\n",
    "y_df01"
   ]
  },
  {
   "cell_type": "code",
   "execution_count": 57,
   "id": "bad3b82d",
   "metadata": {},
   "outputs": [
    {
     "name": "stdout",
     "output_type": "stream",
     "text": [
      "연도를 입력하세요(0이면 종료됩니다.): 1992\n",
      "연도 1992는 윤년입니다.\n",
      "연도를 입력하세요(0이면 종료됩니다.): 1994\n",
      "연도 1994는 평년입니다.\n",
      "연도를 입력하세요(0이면 종료됩니다.): 1996\n",
      "연도 1996는 윤년입니다.\n",
      "연도를 입력하세요(0이면 종료됩니다.): 1990\n",
      "연도 1990는 평년입니다.\n",
      "연도를 입력하세요(0이면 종료됩니다.): 0\n"
     ]
    }
   ],
   "source": [
    "import pandas as pd\n",
    "y1=[]\n",
    "while True:\n",
    "    year= int(input(\"연도를 입력하세요(0이면 종료됩니다.): \"))\n",
    "    if year ==0 : break\n",
    "    result=leap_year(year)\n",
    "    print(\"연도 %s는 %s입니다.\"%(year,result))\n",
    "    y1.append([year,result]) "
   ]
  },
  {
   "cell_type": "code",
   "execution_count": 58,
   "id": "f1f18acf",
   "metadata": {},
   "outputs": [
    {
     "data": {
      "text/html": [
       "<div>\n",
       "<style scoped>\n",
       "    .dataframe tbody tr th:only-of-type {\n",
       "        vertical-align: middle;\n",
       "    }\n",
       "\n",
       "    .dataframe tbody tr th {\n",
       "        vertical-align: top;\n",
       "    }\n",
       "\n",
       "    .dataframe thead th {\n",
       "        text-align: right;\n",
       "    }\n",
       "</style>\n",
       "<table border=\"1\" class=\"dataframe\">\n",
       "  <thead>\n",
       "    <tr style=\"text-align: right;\">\n",
       "      <th></th>\n",
       "      <th>연도</th>\n",
       "      <th>판정</th>\n",
       "    </tr>\n",
       "  </thead>\n",
       "  <tbody>\n",
       "    <tr>\n",
       "      <th>0</th>\n",
       "      <td>1992</td>\n",
       "      <td>윤년</td>\n",
       "    </tr>\n",
       "    <tr>\n",
       "      <th>1</th>\n",
       "      <td>1994</td>\n",
       "      <td>평년</td>\n",
       "    </tr>\n",
       "    <tr>\n",
       "      <th>2</th>\n",
       "      <td>1996</td>\n",
       "      <td>윤년</td>\n",
       "    </tr>\n",
       "    <tr>\n",
       "      <th>3</th>\n",
       "      <td>1990</td>\n",
       "      <td>평년</td>\n",
       "    </tr>\n",
       "  </tbody>\n",
       "</table>\n",
       "</div>"
      ],
      "text/plain": [
       "     연도  판정\n",
       "0  1992  윤년\n",
       "1  1994  평년\n",
       "2  1996  윤년\n",
       "3  1990  평년"
      ]
     },
     "execution_count": 58,
     "metadata": {},
     "output_type": "execute_result"
    }
   ],
   "source": [
    "y_df02 = pd.DataFrame(y1,columns=[\"연도\",\"판정\"])\n",
    "y_df02"
   ]
  },
  {
   "cell_type": "markdown",
   "id": "7e2352ba",
   "metadata": {},
   "source": [
    "### 데이터프레임 합치기\n",
    "1.y_df01과 y_df02를 합쳐서 y_df\n",
    "\n",
    "2.pd.concat()\n",
    "\n",
    "3.df.append()"
   ]
  },
  {
   "cell_type": "code",
   "execution_count": 71,
   "id": "d9cbacbb",
   "metadata": {},
   "outputs": [
    {
     "data": {
      "text/html": [
       "<div>\n",
       "<style scoped>\n",
       "    .dataframe tbody tr th:only-of-type {\n",
       "        vertical-align: middle;\n",
       "    }\n",
       "\n",
       "    .dataframe tbody tr th {\n",
       "        vertical-align: top;\n",
       "    }\n",
       "\n",
       "    .dataframe thead th {\n",
       "        text-align: right;\n",
       "    }\n",
       "</style>\n",
       "<table border=\"1\" class=\"dataframe\">\n",
       "  <thead>\n",
       "    <tr style=\"text-align: right;\">\n",
       "      <th></th>\n",
       "      <th>연도</th>\n",
       "      <th>판정</th>\n",
       "    </tr>\n",
       "  </thead>\n",
       "  <tbody>\n",
       "    <tr>\n",
       "      <th>0</th>\n",
       "      <td>2020</td>\n",
       "      <td>윤년</td>\n",
       "    </tr>\n",
       "    <tr>\n",
       "      <th>1</th>\n",
       "      <td>2010</td>\n",
       "      <td>평년</td>\n",
       "    </tr>\n",
       "    <tr>\n",
       "      <th>2</th>\n",
       "      <td>2000</td>\n",
       "      <td>윤년</td>\n",
       "    </tr>\n",
       "    <tr>\n",
       "      <th>3</th>\n",
       "      <td>2021</td>\n",
       "      <td>평년</td>\n",
       "    </tr>\n",
       "    <tr>\n",
       "      <th>4</th>\n",
       "      <td>1992</td>\n",
       "      <td>윤년</td>\n",
       "    </tr>\n",
       "    <tr>\n",
       "      <th>5</th>\n",
       "      <td>1994</td>\n",
       "      <td>평년</td>\n",
       "    </tr>\n",
       "    <tr>\n",
       "      <th>6</th>\n",
       "      <td>1996</td>\n",
       "      <td>윤년</td>\n",
       "    </tr>\n",
       "    <tr>\n",
       "      <th>7</th>\n",
       "      <td>1990</td>\n",
       "      <td>평년</td>\n",
       "    </tr>\n",
       "  </tbody>\n",
       "</table>\n",
       "</div>"
      ],
      "text/plain": [
       "     연도  판정\n",
       "0  2020  윤년\n",
       "1  2010  평년\n",
       "2  2000  윤년\n",
       "3  2021  평년\n",
       "4  1992  윤년\n",
       "5  1994  평년\n",
       "6  1996  윤년\n",
       "7  1990  평년"
      ]
     },
     "execution_count": 71,
     "metadata": {},
     "output_type": "execute_result"
    }
   ],
   "source": [
    "y_df = pd.concat([y_df01,y_df02],ignore_index=True)\n",
    "y_df"
   ]
  },
  {
   "cell_type": "code",
   "execution_count": 72,
   "id": "98227509",
   "metadata": {},
   "outputs": [
    {
     "data": {
      "text/html": [
       "<div>\n",
       "<style scoped>\n",
       "    .dataframe tbody tr th:only-of-type {\n",
       "        vertical-align: middle;\n",
       "    }\n",
       "\n",
       "    .dataframe tbody tr th {\n",
       "        vertical-align: top;\n",
       "    }\n",
       "\n",
       "    .dataframe thead th {\n",
       "        text-align: right;\n",
       "    }\n",
       "</style>\n",
       "<table border=\"1\" class=\"dataframe\">\n",
       "  <thead>\n",
       "    <tr style=\"text-align: right;\">\n",
       "      <th></th>\n",
       "      <th>연도</th>\n",
       "      <th>판정</th>\n",
       "    </tr>\n",
       "  </thead>\n",
       "  <tbody>\n",
       "    <tr>\n",
       "      <th>0</th>\n",
       "      <td>2020</td>\n",
       "      <td>윤년</td>\n",
       "    </tr>\n",
       "    <tr>\n",
       "      <th>1</th>\n",
       "      <td>2010</td>\n",
       "      <td>평년</td>\n",
       "    </tr>\n",
       "    <tr>\n",
       "      <th>2</th>\n",
       "      <td>2000</td>\n",
       "      <td>윤년</td>\n",
       "    </tr>\n",
       "    <tr>\n",
       "      <th>3</th>\n",
       "      <td>2021</td>\n",
       "      <td>평년</td>\n",
       "    </tr>\n",
       "    <tr>\n",
       "      <th>4</th>\n",
       "      <td>1992</td>\n",
       "      <td>윤년</td>\n",
       "    </tr>\n",
       "    <tr>\n",
       "      <th>5</th>\n",
       "      <td>1994</td>\n",
       "      <td>평년</td>\n",
       "    </tr>\n",
       "    <tr>\n",
       "      <th>6</th>\n",
       "      <td>1996</td>\n",
       "      <td>윤년</td>\n",
       "    </tr>\n",
       "    <tr>\n",
       "      <th>7</th>\n",
       "      <td>1990</td>\n",
       "      <td>평년</td>\n",
       "    </tr>\n",
       "  </tbody>\n",
       "</table>\n",
       "</div>"
      ],
      "text/plain": [
       "     연도  판정\n",
       "0  2020  윤년\n",
       "1  2010  평년\n",
       "2  2000  윤년\n",
       "3  2021  평년\n",
       "4  1992  윤년\n",
       "5  1994  평년\n",
       "6  1996  윤년\n",
       "7  1990  평년"
      ]
     },
     "execution_count": 72,
     "metadata": {},
     "output_type": "execute_result"
    }
   ],
   "source": [
    "y_df = y_df01.append(y_df02,ignore_index=True)\n",
    "y_df"
   ]
  },
  {
   "cell_type": "markdown",
   "id": "a17a7e85",
   "metadata": {},
   "source": [
    "### 데이터프레임을 csv로 저장하기\n",
    "(y_df)"
   ]
  },
  {
   "cell_type": "code",
   "execution_count": 73,
   "id": "0b478283",
   "metadata": {},
   "outputs": [],
   "source": [
    "y_df.to_csv(\"y_df.csv\")"
   ]
  },
  {
   "cell_type": "markdown",
   "id": "23742bd6",
   "metadata": {},
   "source": [
    "### csv 파일 읽기"
   ]
  },
  {
   "cell_type": "code",
   "execution_count": 75,
   "id": "2bd74f54",
   "metadata": {},
   "outputs": [
    {
     "data": {
      "text/html": [
       "<div>\n",
       "<style scoped>\n",
       "    .dataframe tbody tr th:only-of-type {\n",
       "        vertical-align: middle;\n",
       "    }\n",
       "\n",
       "    .dataframe tbody tr th {\n",
       "        vertical-align: top;\n",
       "    }\n",
       "\n",
       "    .dataframe thead th {\n",
       "        text-align: right;\n",
       "    }\n",
       "</style>\n",
       "<table border=\"1\" class=\"dataframe\">\n",
       "  <thead>\n",
       "    <tr style=\"text-align: right;\">\n",
       "      <th></th>\n",
       "      <th>Unnamed: 0</th>\n",
       "      <th>연도</th>\n",
       "      <th>판정</th>\n",
       "    </tr>\n",
       "  </thead>\n",
       "  <tbody>\n",
       "    <tr>\n",
       "      <th>0</th>\n",
       "      <td>0</td>\n",
       "      <td>2020</td>\n",
       "      <td>윤년</td>\n",
       "    </tr>\n",
       "    <tr>\n",
       "      <th>1</th>\n",
       "      <td>1</td>\n",
       "      <td>2010</td>\n",
       "      <td>평년</td>\n",
       "    </tr>\n",
       "    <tr>\n",
       "      <th>2</th>\n",
       "      <td>2</td>\n",
       "      <td>2000</td>\n",
       "      <td>윤년</td>\n",
       "    </tr>\n",
       "    <tr>\n",
       "      <th>3</th>\n",
       "      <td>3</td>\n",
       "      <td>2021</td>\n",
       "      <td>평년</td>\n",
       "    </tr>\n",
       "    <tr>\n",
       "      <th>4</th>\n",
       "      <td>4</td>\n",
       "      <td>1992</td>\n",
       "      <td>윤년</td>\n",
       "    </tr>\n",
       "    <tr>\n",
       "      <th>5</th>\n",
       "      <td>5</td>\n",
       "      <td>1994</td>\n",
       "      <td>평년</td>\n",
       "    </tr>\n",
       "    <tr>\n",
       "      <th>6</th>\n",
       "      <td>6</td>\n",
       "      <td>1996</td>\n",
       "      <td>윤년</td>\n",
       "    </tr>\n",
       "    <tr>\n",
       "      <th>7</th>\n",
       "      <td>7</td>\n",
       "      <td>1990</td>\n",
       "      <td>평년</td>\n",
       "    </tr>\n",
       "  </tbody>\n",
       "</table>\n",
       "</div>"
      ],
      "text/plain": [
       "   Unnamed: 0    연도  판정\n",
       "0           0  2020  윤년\n",
       "1           1  2010  평년\n",
       "2           2  2000  윤년\n",
       "3           3  2021  평년\n",
       "4           4  1992  윤년\n",
       "5           5  1994  평년\n",
       "6           6  1996  윤년\n",
       "7           7  1990  평년"
      ]
     },
     "execution_count": 75,
     "metadata": {},
     "output_type": "execute_result"
    }
   ],
   "source": [
    "pd.read_csv(\"y_df.csv\")"
   ]
  },
  {
   "cell_type": "code",
   "execution_count": 76,
   "id": "e6fb00f9",
   "metadata": {},
   "outputs": [
    {
     "data": {
      "text/html": [
       "<div>\n",
       "<style scoped>\n",
       "    .dataframe tbody tr th:only-of-type {\n",
       "        vertical-align: middle;\n",
       "    }\n",
       "\n",
       "    .dataframe tbody tr th {\n",
       "        vertical-align: top;\n",
       "    }\n",
       "\n",
       "    .dataframe thead th {\n",
       "        text-align: right;\n",
       "    }\n",
       "</style>\n",
       "<table border=\"1\" class=\"dataframe\">\n",
       "  <thead>\n",
       "    <tr style=\"text-align: right;\">\n",
       "      <th></th>\n",
       "      <th>연도</th>\n",
       "      <th>판정</th>\n",
       "    </tr>\n",
       "  </thead>\n",
       "  <tbody>\n",
       "    <tr>\n",
       "      <th>0</th>\n",
       "      <td>2020</td>\n",
       "      <td>윤년</td>\n",
       "    </tr>\n",
       "    <tr>\n",
       "      <th>1</th>\n",
       "      <td>2010</td>\n",
       "      <td>평년</td>\n",
       "    </tr>\n",
       "    <tr>\n",
       "      <th>2</th>\n",
       "      <td>2000</td>\n",
       "      <td>윤년</td>\n",
       "    </tr>\n",
       "    <tr>\n",
       "      <th>3</th>\n",
       "      <td>2021</td>\n",
       "      <td>평년</td>\n",
       "    </tr>\n",
       "    <tr>\n",
       "      <th>4</th>\n",
       "      <td>1992</td>\n",
       "      <td>윤년</td>\n",
       "    </tr>\n",
       "    <tr>\n",
       "      <th>5</th>\n",
       "      <td>1994</td>\n",
       "      <td>평년</td>\n",
       "    </tr>\n",
       "    <tr>\n",
       "      <th>6</th>\n",
       "      <td>1996</td>\n",
       "      <td>윤년</td>\n",
       "    </tr>\n",
       "    <tr>\n",
       "      <th>7</th>\n",
       "      <td>1990</td>\n",
       "      <td>평년</td>\n",
       "    </tr>\n",
       "  </tbody>\n",
       "</table>\n",
       "</div>"
      ],
      "text/plain": [
       "     연도  판정\n",
       "0  2020  윤년\n",
       "1  2010  평년\n",
       "2  2000  윤년\n",
       "3  2021  평년\n",
       "4  1992  윤년\n",
       "5  1994  평년\n",
       "6  1996  윤년\n",
       "7  1990  평년"
      ]
     },
     "execution_count": 76,
     "metadata": {},
     "output_type": "execute_result"
    }
   ],
   "source": [
    "y_df.to_csv(\"y_df.csv\", index=False) #index빼고 저장함\n",
    "pd.read_csv(\"y_df.csv\")"
   ]
  },
  {
   "cell_type": "code",
   "execution_count": 81,
   "id": "5b045e70",
   "metadata": {},
   "outputs": [
    {
     "data": {
      "text/html": [
       "<div>\n",
       "<style scoped>\n",
       "    .dataframe tbody tr th:only-of-type {\n",
       "        vertical-align: middle;\n",
       "    }\n",
       "\n",
       "    .dataframe tbody tr th {\n",
       "        vertical-align: top;\n",
       "    }\n",
       "\n",
       "    .dataframe thead th {\n",
       "        text-align: right;\n",
       "    }\n",
       "</style>\n",
       "<table border=\"1\" class=\"dataframe\">\n",
       "  <thead>\n",
       "    <tr style=\"text-align: right;\">\n",
       "      <th></th>\n",
       "      <th>연도</th>\n",
       "      <th>판정</th>\n",
       "    </tr>\n",
       "  </thead>\n",
       "  <tbody>\n",
       "    <tr>\n",
       "      <th>0</th>\n",
       "      <td>2020</td>\n",
       "      <td>윤년</td>\n",
       "    </tr>\n",
       "    <tr>\n",
       "      <th>1</th>\n",
       "      <td>2010</td>\n",
       "      <td>평년</td>\n",
       "    </tr>\n",
       "    <tr>\n",
       "      <th>2</th>\n",
       "      <td>2000</td>\n",
       "      <td>윤년</td>\n",
       "    </tr>\n",
       "    <tr>\n",
       "      <th>3</th>\n",
       "      <td>2021</td>\n",
       "      <td>평년</td>\n",
       "    </tr>\n",
       "    <tr>\n",
       "      <th>4</th>\n",
       "      <td>1992</td>\n",
       "      <td>윤년</td>\n",
       "    </tr>\n",
       "    <tr>\n",
       "      <th>5</th>\n",
       "      <td>1994</td>\n",
       "      <td>평년</td>\n",
       "    </tr>\n",
       "    <tr>\n",
       "      <th>6</th>\n",
       "      <td>1996</td>\n",
       "      <td>윤년</td>\n",
       "    </tr>\n",
       "    <tr>\n",
       "      <th>7</th>\n",
       "      <td>1990</td>\n",
       "      <td>평년</td>\n",
       "    </tr>\n",
       "  </tbody>\n",
       "</table>\n",
       "</div>"
      ],
      "text/plain": [
       "     연도  판정\n",
       "0  2020  윤년\n",
       "1  2010  평년\n",
       "2  2000  윤년\n",
       "3  2021  평년\n",
       "4  1992  윤년\n",
       "5  1994  평년\n",
       "6  1996  윤년\n",
       "7  1990  평년"
      ]
     },
     "execution_count": 81,
     "metadata": {},
     "output_type": "execute_result"
    }
   ],
   "source": [
    "y_df.to_csv(\"y_df.csv\")\n",
    "pd.read_csv(\"y_df.csv\").drop(\"Unnamed: 0\",axis=1) #column단위 데이터 처리: axis=1 cf)기본값 : 0 (row단위)"
   ]
  },
  {
   "cell_type": "markdown",
   "id": "9681664f",
   "metadata": {},
   "source": [
    "### 다시 데이터프레임 만들기(dict)"
   ]
  },
  {
   "cell_type": "code",
   "execution_count": 88,
   "id": "368dd119",
   "metadata": {},
   "outputs": [
    {
     "name": "stdout",
     "output_type": "stream",
     "text": [
      "연도를 입력하세요(0이면 종료됩니다.): 2020\n",
      "연도 2020는 윤년입니다.\n",
      "y2=  {2020: '윤년'}\n",
      "연도를 입력하세요(0이면 종료됩니다.): 2010\n",
      "연도 2010는 평년입니다.\n",
      "y2=  {2020: '윤년', 2010: '평년'}\n",
      "연도를 입력하세요(0이면 종료됩니다.): 2000\n",
      "연도 2000는 윤년입니다.\n",
      "y2=  {2020: '윤년', 2010: '평년', 2000: '윤년'}\n",
      "연도를 입력하세요(0이면 종료됩니다.): 1999\n",
      "연도 1999는 평년입니다.\n",
      "y2=  {2020: '윤년', 2010: '평년', 2000: '윤년', 1999: '평년'}\n",
      "연도를 입력하세요(0이면 종료됩니다.): 0\n"
     ]
    },
    {
     "data": {
      "text/plain": [
       "{2020: '윤년', 2010: '평년', 2000: '윤년', 1999: '평년'}"
      ]
     },
     "execution_count": 88,
     "metadata": {},
     "output_type": "execute_result"
    }
   ],
   "source": [
    "y2={}\n",
    "while True:\n",
    "    year= int(input(\"연도를 입력하세요(0이면 종료됩니다.): \"))\n",
    "    if year ==0 : break\n",
    "    result=leap_year(year)\n",
    "    print(\"연도 %s는 %s입니다.\"%(year,result))\n",
    "    y2[year] = result\n",
    "    print(\"y2= \",y2)\n",
    "y2"
   ]
  },
  {
   "cell_type": "code",
   "execution_count": 89,
   "id": "1e5b7622",
   "metadata": {},
   "outputs": [
    {
     "data": {
      "text/html": [
       "<div>\n",
       "<style scoped>\n",
       "    .dataframe tbody tr th:only-of-type {\n",
       "        vertical-align: middle;\n",
       "    }\n",
       "\n",
       "    .dataframe tbody tr th {\n",
       "        vertical-align: top;\n",
       "    }\n",
       "\n",
       "    .dataframe thead th {\n",
       "        text-align: right;\n",
       "    }\n",
       "</style>\n",
       "<table border=\"1\" class=\"dataframe\">\n",
       "  <thead>\n",
       "    <tr style=\"text-align: right;\">\n",
       "      <th></th>\n",
       "      <th>2020</th>\n",
       "      <th>2010</th>\n",
       "      <th>2000</th>\n",
       "      <th>1999</th>\n",
       "    </tr>\n",
       "  </thead>\n",
       "  <tbody>\n",
       "    <tr>\n",
       "      <th>0</th>\n",
       "      <td>윤년</td>\n",
       "      <td>평년</td>\n",
       "      <td>윤년</td>\n",
       "      <td>평년</td>\n",
       "    </tr>\n",
       "  </tbody>\n",
       "</table>\n",
       "</div>"
      ],
      "text/plain": [
       "  2020 2010 2000 1999\n",
       "0   윤년   평년   윤년   평년"
      ]
     },
     "execution_count": 89,
     "metadata": {},
     "output_type": "execute_result"
    }
   ],
   "source": [
    "pd.DataFrame(y2,index=[0])"
   ]
  },
  {
   "cell_type": "code",
   "execution_count": 90,
   "id": "b7d44f69",
   "metadata": {},
   "outputs": [
    {
     "name": "stdout",
     "output_type": "stream",
     "text": [
      "연도를 입력하세요(0이면 종료됩니다.): 2000\n",
      "연도 2000는 윤년입니다.\n",
      "y3=  {'윤년': 2000}\n",
      "연도를 입력하세요(0이면 종료됩니다.): 2020\n",
      "연도 2020는 윤년입니다.\n",
      "y3=  {'윤년': 2020}\n",
      "연도를 입력하세요(0이면 종료됩니다.): 2001\n",
      "연도 2001는 평년입니다.\n",
      "y3=  {'윤년': 2020, '평년': 2001}\n",
      "연도를 입력하세요(0이면 종료됩니다.): 2003\n",
      "연도 2003는 평년입니다.\n",
      "y3=  {'윤년': 2020, '평년': 2003}\n",
      "연도를 입력하세요(0이면 종료됩니다.): 0\n"
     ]
    },
    {
     "data": {
      "text/plain": [
       "{'윤년': 2020, '평년': 2003}"
      ]
     },
     "execution_count": 90,
     "metadata": {},
     "output_type": "execute_result"
    }
   ],
   "source": [
    "y3={}\n",
    "while True:\n",
    "    year= int(input(\"연도를 입력하세요(0이면 종료됩니다.): \"))\n",
    "    if year ==0 : break\n",
    "    result=leap_year(year)\n",
    "    print(\"연도 %s는 %s입니다.\"%(year,result))\n",
    "    y3[result] = year #달라진부분 -> 윤년과 평년이 마지막꺼만 담기게 되버린다.\n",
    "    print(\"y3= \",y3)\n",
    "y3"
   ]
  },
  {
   "cell_type": "code",
   "execution_count": 86,
   "id": "5f2661d8",
   "metadata": {},
   "outputs": [
    {
     "name": "stdout",
     "output_type": "stream",
     "text": [
      "연도를 입력하세요(0이면 종료됩니다.): 2020\n",
      "연도 2020는 윤년입니다.\n",
      "연도를 입력하세요(0이면 종료됩니다.): 2000\n",
      "연도 2000는 윤년입니다.\n",
      "연도를 입력하세요(0이면 종료됩니다.): 2001\n",
      "연도 2001는 평년입니다.\n",
      "연도를 입력하세요(0이면 종료됩니다.): 2003\n",
      "연도 2003는 평년입니다.\n",
      "연도를 입력하세요(0이면 종료됩니다.): 0\n"
     ]
    },
    {
     "data": {
      "text/plain": [
       "{'평년': [2001, 2003], '윤년': [2020, 2000]}"
      ]
     },
     "execution_count": 86,
     "metadata": {},
     "output_type": "execute_result"
    }
   ],
   "source": [
    "y4={}\n",
    "common=[]\n",
    "leap = []\n",
    "while True:\n",
    "    year= int(input(\"연도를 입력하세요(0이면 종료됩니다.): \"))\n",
    "    if year ==0 : break\n",
    "    result=leap_year(year)\n",
    "    print(\"연도 %s는 %s입니다.\"%(year,result))\n",
    "    if result == \"평년\":\n",
    "        common.append(year)\n",
    "    else:\n",
    "        leap.append(year)\n",
    "y4[\"평년\"]=common\n",
    "y4[\"윤년\"]=leap\n",
    "y4"
   ]
  },
  {
   "cell_type": "code",
   "execution_count": 87,
   "id": "76cc725e",
   "metadata": {},
   "outputs": [
    {
     "data": {
      "text/html": [
       "<div>\n",
       "<style scoped>\n",
       "    .dataframe tbody tr th:only-of-type {\n",
       "        vertical-align: middle;\n",
       "    }\n",
       "\n",
       "    .dataframe tbody tr th {\n",
       "        vertical-align: top;\n",
       "    }\n",
       "\n",
       "    .dataframe thead th {\n",
       "        text-align: right;\n",
       "    }\n",
       "</style>\n",
       "<table border=\"1\" class=\"dataframe\">\n",
       "  <thead>\n",
       "    <tr style=\"text-align: right;\">\n",
       "      <th></th>\n",
       "      <th>평년</th>\n",
       "      <th>윤년</th>\n",
       "    </tr>\n",
       "  </thead>\n",
       "  <tbody>\n",
       "    <tr>\n",
       "      <th>0</th>\n",
       "      <td>2001</td>\n",
       "      <td>2020</td>\n",
       "    </tr>\n",
       "    <tr>\n",
       "      <th>1</th>\n",
       "      <td>2003</td>\n",
       "      <td>2000</td>\n",
       "    </tr>\n",
       "  </tbody>\n",
       "</table>\n",
       "</div>"
      ],
      "text/plain": [
       "     평년    윤년\n",
       "0  2001  2020\n",
       "1  2003  2000"
      ]
     },
     "execution_count": 87,
     "metadata": {},
     "output_type": "execute_result"
    }
   ],
   "source": [
    "pd.DataFrame(y4)\n",
    "#column 기준으로 dataframe 만들거면 dict, row기준으로 dataframe 만들거면 list사용"
   ]
  }
 ],
 "metadata": {
  "kernelspec": {
   "display_name": "Python 3",
   "language": "python",
   "name": "python3"
  },
  "language_info": {
   "codemirror_mode": {
    "name": "ipython",
    "version": 3
   },
   "file_extension": ".py",
   "mimetype": "text/x-python",
   "name": "python",
   "nbconvert_exporter": "python",
   "pygments_lexer": "ipython3",
   "version": "3.8.8"
  }
 },
 "nbformat": 4,
 "nbformat_minor": 5
}
