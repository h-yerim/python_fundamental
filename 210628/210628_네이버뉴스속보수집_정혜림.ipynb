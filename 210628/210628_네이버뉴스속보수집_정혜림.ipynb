{
 "cells": [
  {
   "cell_type": "code",
   "execution_count": 4,
   "id": "557068be",
   "metadata": {},
   "outputs": [
    {
     "name": "stdout",
     "output_type": "stream",
     "text": [
      "img =  https://imgnews.pstatic.net/image/origin/077/2021/06/28/5242793.jpg?type=nf106_72\n",
      "-------------------------------\n",
      "img =  https://imgnews.pstatic.net/image/origin/077/2021/06/28/5242792.jpg?type=nf106_72\n",
      "-------------------------------\n",
      "img =  https://imgnews.pstatic.net/image/origin/629/2021/06/28/91641.jpg?type=nf106_72\n",
      "-------------------------------\n",
      "img =  https://imgnews.pstatic.net/image/origin/468/2021/06/28/776400.jpg?type=nf106_72\n",
      "-------------------------------\n",
      "img =  https://imgnews.pstatic.net/image/origin/123/2021/06/28/2249101.jpg?type=nf106_72\n",
      "-------------------------------\n",
      "No image\n",
      "No image\n",
      "img =  https://imgnews.pstatic.net/image/origin/009/2021/06/28/4815783.jpg?type=nf106_72\n",
      "-------------------------------\n",
      "img =  https://imgnews.pstatic.net/image/origin/417/2021/06/28/709083.jpg?type=nf106_72\n",
      "-------------------------------\n",
      "img =  https://imgnews.pstatic.net/image/origin/001/2021/06/28/12489374.jpg?type=nf106_72\n",
      "-------------------------------\n"
     ]
    }
   ],
   "source": [
    "import requests\n",
    "from bs4 import BeautifulSoup\n",
    "headers = { \"User-Agent\":\"Mozilla/5.0\"}\n",
    "url = \"https://news.naver.com/main/list.nhn?mode=LSD&mid=sec&sid1=001\"\n",
    "html = requests.get(url, headers = headers ).text\n",
    "soup = BeautifulSoup(html, \"html.parser\")\n",
    "type06 = soup.find(\"ul\", {\"class\" : \"type06_headline\"})\n",
    "dl = type06.find_all(\"dl\")\n",
    "for item2 in dl:\n",
    "     try:\n",
    "         img = item2.find(\"dt\", {\"class\" : \"photo\"}).find(\"img\")\n",
    "         print(\"img = \", img[\"src\"])\n",
    "         print (\"-------------------------------\")\n",
    "     except:\n",
    "         print(\"No image\") #에러처리"
   ]
  },
  {
   "cell_type": "code",
   "execution_count": 5,
   "id": "8fd1cb3c",
   "metadata": {},
   "outputs": [
    {
     "name": "stdout",
     "output_type": "stream",
     "text": [
      "https://news.naver.com/main/read.nhn?mode=LSD&mid=sec&sid1=001&oid=077&aid=0005242793\n",
      " France Racial Injustice\r\n",
      "https://news.naver.com/main/read.nhn?mode=LSD&mid=sec&sid1=001&oid=077&aid=0005242792\n",
      " France Racial Injustice\r\n",
      "https://news.naver.com/main/read.nhn?mode=LSD&mid=sec&sid1=001&oid=629&aid=0000091641\n",
      " 조선일보 해직기자들 \"조국 시시비비 떠나 인신공격 안 돼\"\r\n",
      "https://news.naver.com/main/read.nhn?mode=LSD&mid=sec&sid1=001&oid=468&aid=0000776400\n",
      " 전북도, 예비타당성조사 사업 통과 사활\r\n",
      "https://news.naver.com/main/read.nhn?mode=LSD&mid=sec&sid1=001&oid=123&aid=0002249101\n",
      " 文대통령 \"우리 경제 회복 시장 예상보다 훨씬 빨라\"\r\n",
      "https://news.naver.com/main/read.nhn?mode=LSD&mid=sec&sid1=001&oid=092&aid=0002226135\n",
      " 방심위, 방송언어문화 개선 프로그램 제작지원 공모\r\n",
      "https://news.naver.com/main/read.nhn?mode=LSD&mid=sec&sid1=001&oid=088&aid=0000709731\n",
      " \"대안학교 인접한 곳에 수소충전소 설치 안돼\"\r\n",
      "https://news.naver.com/main/read.nhn?mode=LSD&mid=sec&sid1=001&oid=009&aid=0004815783\n",
      " 오늘의 운세 (2021년 6월 29일 火)\r\n",
      "https://news.naver.com/main/read.nhn?mode=LSD&mid=sec&sid1=001&oid=417&aid=0000709083\n",
      " [머니S포토] 과기부·이통3사 간담회 참석한 구현모·박정호·황현식 사장\r\n",
      "https://news.naver.com/main/read.nhn?mode=LSD&mid=sec&sid1=001&oid=001&aid=0012489374\n",
      " 인천서 31명 코로나19 양성…26명 확진자 접촉 후 감염(종합)\r\n",
      "Franco Lollia, an activist from a group called the \"Anti-Negrophobia Br …AP연합뉴스1분전\n",
      "Franco Lollia, an activist from a group called the \"Anti-Negrophobia Br …AP연합뉴스1분전\n",
      "언론시민단체 기자회견서 책임자 징계 요구 조선일보 해직기자 모임 등 언론시민단체들이 조국 전 법무부 장관 부녀 일러스트를 이들과 …더팩트1분전\n",
      "전북도, 예비타당성조사 사업 통과를 위해 우범기 정무부지사와 최상대 기재부 예산실장이 대화하고 있다. 전북도는 28일 기획재정부 …스포츠서울1분전\n",
      "문재인 대통령이 확대경제장관회의에서 우리 경제의 회복 속도가 전문가들과 시장이 예상했던 것보다 훨씬 빠르다며 경제 회복에 자신감 …조세일보1분전\n",
      "방송통신심의위원회는 방송사업자들을 대상으로 7월 한 달간 방송언어문화 개선 프로그램 제작지원 공모를 진행한다고 28일 밝혔다.  …ZDNet Korea1분전\n",
      "경북 경산의 한 대안학교 교직원 및 학부모들이 학교 인근에 추진되는 수소충전소 설치에 반발하고 나섰다. 경산시에 따르면 친환경  …매일신문신문6면 1분전\n",
      "신단수·미래를 여는 창 매일경제신문A31면 1분전\n",
      "황현식(LG유플러스)·박정호(SK텔레콤)·구현모(KT) 대표이사 사장이 28일 서울 종로구 세종대로 정부서울청사에서 열린 과학기 …머니S1분전\n",
      "(인천=연합뉴스) 손현규 기자 = 인천시는 28일 31명이 신종 코로나바이러스 감염증(코로나19) 확진 판정을 받았다고 밝혔다. …연합뉴스1분전\n"
     ]
    }
   ],
   "source": [
    "dl = type06.find_all(\"dl\")\n",
    "for item2 in dl:\n",
    "     link = item2.find(\"dt\", {\"class\" : \"\"}).find(\"a\")\n",
    "     print(link[\"href\"])\n",
    "     print(link.text.replace(\"\\t\", \"\").replace(\"\\n\", \"\")[1:len(link.text)+1])\n",
    "\n",
    "dl = type06.find_all(\"dl\")\n",
    "for item2 in dl:\n",
    "     try:\n",
    "         content = item2.find(\"dd\")\n",
    "         print(content.text.replace(\"\\t\",\"\").replace(\"\\n\",\"\").split(\"...\")[0])\n",
    "     except:\n",
    "         print(\"No Content\")"
   ]
  }
 ],
 "metadata": {
  "kernelspec": {
   "display_name": "Python 3",
   "language": "python",
   "name": "python3"
  },
  "language_info": {
   "codemirror_mode": {
    "name": "ipython",
    "version": 3
   },
   "file_extension": ".py",
   "mimetype": "text/x-python",
   "name": "python",
   "nbconvert_exporter": "python",
   "pygments_lexer": "ipython3",
   "version": "3.8.8"
  }
 },
 "nbformat": 4,
 "nbformat_minor": 5
}
