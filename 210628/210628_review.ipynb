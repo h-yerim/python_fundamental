{
 "cells": [
  {
   "cell_type": "markdown",
   "id": "03df3c8f",
   "metadata": {},
   "source": [
    "### 실습 1~1000에서 각 숫자의 개수 구하기\n",
    "ex)10~15까지 숫자의 개수는\n",
    " - 10 -> 1,0\n",
    " - 11 -> 1,1\n",
    " - 12 -> 1,2\n",
    " - 13 -> 1,3\n",
    " - 14 -> 1,4\n",
    " - 15 -> 1,5\n",
    " - 0 은 1개 1은 7개 2는 1개 3은 3개 4은 1개 5는 1개"
   ]
  },
  {
   "cell_type": "code",
   "execution_count": 23,
   "id": "9e60533b",
   "metadata": {},
   "outputs": [
    {
     "name": "stdout",
     "output_type": "stream",
     "text": [
      "num =  [192, 301, 300, 300, 300, 300, 300, 300, 300, 300]\n"
     ]
    }
   ],
   "source": [
    "num = [0,0,0,0,0,0,0,0,0,0]\n",
    "# = num=[0 for i in range(10)]\n",
    "# num ={i:0 for i in range(10)}\n",
    "for i in range(1,1001):\n",
    "    for j in str(i):\n",
    "        num[int(j)]+=1\n",
    "\n",
    "print(\"num = \",num)"
   ]
  },
  {
   "cell_type": "code",
   "execution_count": null,
   "id": "ee5e8ebd",
   "metadata": {},
   "outputs": [],
   "source": []
  }
 ],
 "metadata": {
  "kernelspec": {
   "display_name": "Python 3",
   "language": "python",
   "name": "python3"
  },
  "language_info": {
   "codemirror_mode": {
    "name": "ipython",
    "version": 3
   },
   "file_extension": ".py",
   "mimetype": "text/x-python",
   "name": "python",
   "nbconvert_exporter": "python",
   "pygments_lexer": "ipython3",
   "version": "3.8.8"
  }
 },
 "nbformat": 4,
 "nbformat_minor": 5
}
