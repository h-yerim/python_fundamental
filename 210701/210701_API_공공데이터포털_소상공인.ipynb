{
 "cells": [
  {
   "cell_type": "code",
   "execution_count": 3,
   "id": "6b2f2b6e",
   "metadata": {},
   "outputs": [],
   "source": [
    "my_key=\"ae%2FCbZZ%2BKO%2FvNpxCFk2XfKdZ7H5Y76r1M0%2FZqfanqdYoNn%2Fazx9yA%2FTYFrOP9j6mymV1%2FOUTweYbtmZFnrxb8w%3D%3D\""
   ]
  },
  {
   "cell_type": "code",
   "execution_count": 10,
   "id": "2cfe89a7",
   "metadata": {},
   "outputs": [],
   "source": [
    "end_point=\"http://apis.data.go.kr/B553077/api/open/sdsc/\"\n",
    "op_url=\"storeZoneInRadius?radius=500&cx=127.004528&cy=37.567538&ServiceKey=\"\n",
    "data_type=\"&type=json\""
   ]
  },
  {
   "cell_type": "code",
   "execution_count": 11,
   "id": "0d153280",
   "metadata": {},
   "outputs": [
    {
     "name": "stdout",
     "output_type": "stream",
     "text": [
      "http://apis.data.go.kr/B553077/api/open/sdsc/storeZoneInRadius?radius=500&cx=127.004528&cy=37.567538&ServiceKey=ae%2FCbZZ%2BKO%2FvNpxCFk2XfKdZ7H5Y76r1M0%2FZqfanqdYoNn%2Fazx9yA%2FTYFrOP9j6mymV1%2FOUTweYbtmZFnrxb8w%3D%3D&type=json\n"
     ]
    }
   ],
   "source": [
    "url=end_point+op_url+my_key+data_type\n",
    "print(url)"
   ]
  },
  {
   "cell_type": "code",
   "execution_count": 12,
   "id": "ee1d2179",
   "metadata": {},
   "outputs": [],
   "source": [
    "import urllib.request"
   ]
  },
  {
   "cell_type": "code",
   "execution_count": 13,
   "id": "536c3e45",
   "metadata": {},
   "outputs": [
    {
     "data": {
      "text/plain": [
       "<http.client.HTTPResponse at 0x14aec8390d0>"
      ]
     },
     "execution_count": 13,
     "metadata": {},
     "output_type": "execute_result"
    }
   ],
   "source": [
    "urllib.request.urlopen(url)"
   ]
  },
  {
   "cell_type": "code",
   "execution_count": 14,
   "id": "205b59de",
   "metadata": {},
   "outputs": [],
   "source": [
    "res=urllib.request.urlopen(url)"
   ]
  },
  {
   "cell_type": "code",
   "execution_count": 15,
   "id": "9b79da02",
   "metadata": {},
   "outputs": [
    {
     "data": {
      "text/plain": [
       "http.client.HTTPResponse"
      ]
     },
     "execution_count": 15,
     "metadata": {},
     "output_type": "execute_result"
    }
   ],
   "source": [
    "type(res)"
   ]
  },
  {
   "cell_type": "code",
   "execution_count": 16,
   "id": "076b2167",
   "metadata": {},
   "outputs": [
    {
     "name": "stdout",
     "output_type": "stream",
     "text": [
      "['__abstractmethods__', '__class__', '__del__', '__delattr__', '__dict__', '__dir__', '__doc__', '__enter__', '__eq__', '__exit__', '__format__', '__ge__', '__getattribute__', '__gt__', '__hash__', '__init__', '__init_subclass__', '__iter__', '__le__', '__lt__', '__module__', '__ne__', '__new__', '__next__', '__reduce__', '__reduce_ex__', '__repr__', '__setattr__', '__sizeof__', '__str__', '__subclasshook__', '_abc_impl', '_checkClosed', '_checkReadable', '_checkSeekable', '_checkWritable', '_check_close', '_close_conn', '_get_chunk_left', '_method', '_peek_chunked', '_read1_chunked', '_read_and_discard_trailer', '_read_next_chunk_size', '_read_status', '_readall_chunked', '_readinto_chunked', '_safe_read', '_safe_readinto', 'begin', 'chunk_left', 'chunked', 'close', 'closed', 'code', 'debuglevel', 'detach', 'fileno', 'flush', 'fp', 'getcode', 'getheader', 'getheaders', 'geturl', 'headers', 'info', 'isatty', 'isclosed', 'length', 'msg', 'peek', 'read', 'read1', 'readable', 'readinto', 'readinto1', 'readline', 'readlines', 'reason', 'seek', 'seekable', 'status', 'tell', 'truncate', 'url', 'version', 'will_close', 'writable', 'write', 'writelines']\n"
     ]
    }
   ],
   "source": [
    "print(dir(res))"
   ]
  },
  {
   "cell_type": "code",
   "execution_count": 17,
   "id": "59e0072e",
   "metadata": {},
   "outputs": [
    {
     "data": {
      "text/plain": [
       "b'{\\n\\t\"header\" : {\\n\\t\\t\"description\" : \"\\xec\\x86\\x8c\\xec\\x83\\x81\\xea\\xb3\\xb5\\xec\\x9d\\xb8\\xec\\x8b\\x9c\\xec\\x9e\\xa5\\xec\\xa7\\x84\\xed\\x9d\\xa5\\xea\\xb3\\xb5\\xeb\\x8b\\xa8 \\xec\\xa3\\xbc\\xec\\x9a\\x94\\xec\\x83\\x81\\xea\\xb6\\x8c\"\\n\\t\\t,\"resultCode\" : \"00\"\\n\\t\\t,\"resultMsg\" : \"NORMAL SERVICE\"\\n\\t},\\n\\t\"body\" : {\\n\\t\\t\\t\"items\" : [\\n\\t\\t\\t\\t{\\n\\t\\t\\t\\t\"trarNo\" : 2214\\n\\t\\t\\t\\t,\"mainTrarNm\" : \"\\xec\\x9d\\x84\\xec\\xa7\\x80\\xeb\\xa1\\x9c4\\xea\\xb0\\x80\\xec\\x97\\xad\"\\n\\t\\t\\t\\t,\"ctprvnCd\" : \"11\"\\n\\t\\t\\t\\t,\"ctprvnNm\" : \"\\xec\\x84\\x9c\\xec\\x9a\\xb8\\xed\\x8a\\xb9\\xeb\\xb3\\x84\\xec\\x8b\\x9c\"\\n\\t\\t\\t\\t,\"signguCd\" : \"11140\"\\n\\t\\t\\t\\t,\"signguNm\" : \"\\xec\\xa4\\x91\\xea\\xb5\\xac\"\\n\\t\\t\\t\\t,\"trarArea\" : 88434.9\\n\\t\\t\\t\\t,\"coordNum\" : 8\\n\\t\\t\\t\\t,\"coords\" : \"POLYGON ((126.999081 37.566789, 127.002102 37.566937, 127.001981 37.568644, 127.001871 37.568655, 127.001873 37.569521, 126.998065 37.568812, 126.998213 37.566753, 126.999081 37.566789))\"\\n\\t\\t\\t\\t,\"stdrDt\" : \"2021-03-31\"\\n\\t\\t\\t\\t}\\n\\t\\t\\t\\t,{\\n\\t\\t\\t\\t\"trarNo\" : 2216\\n\\t\\t\\t\\t,\"mainTrarNm\" : \"\\xeb\\x8f\\x99\\xeb\\x8c\\x80\\xeb\\xac\\xb8\\xec\\x8b\\x9c\\xec\\x9e\\xa5\"\\n\\t\\t\\t\\t,\"ctprvnCd\" : \"11\"\\n\\t\\t\\t\\t,\"ctprvnNm\" : \"\\xec\\x84\\x9c\\xec\\x9a\\xb8\\xed\\x8a\\xb9\\xeb\\xb3\\x84\\xec\\x8b\\x9c\"\\n\\t\\t\\t\\t,\"signguCd\" : \"11140\"\\n\\t\\t\\t\\t,\"signguNm\" : \"\\xec\\xa4\\x91\\xea\\xb5\\xac\"\\n\\t\\t\\t\\t,\"trarArea\" : 68658\\n\\t\\t\\t\\t,\"coordNum\" : 15\\n\\t\\t\\t\\t,\"coords\" : \"POLYGON ((127.009453 37.568775, 127.009445 37.569396, 127.009558 37.569397, 127.009543 37.569686, 127.00659 37.569553, 127.006688 37.568112, 127.007709 37.567931, 127.007098 37.567124, 127.006951 37.56706, 127.006146 37.56717, 127.005929 37.566438, 127.007632 37.56611, 127.008198 37.566935, 127.008107 37.566979, 127.009453 37.568775))\"\\n\\t\\t\\t\\t,\"stdrDt\" : \"2021-03-31\"\\n\\t\\t\\t\\t}\\n\\t\\t\\t\\t,{\\n\\t\\t\\t\\t\"trarNo\" : 2207\\n\\t\\t\\t\\t,\"mainTrarNm\" : \"\\xeb\\x8f\\x99\\xeb\\x8c\\x80\\xeb\\xac\\xb8\\xec\\x97\\xad\\xec\\x82\\xac\\xeb\\xac\\xb8\\xed\\x99\\x94\\xea\\xb3\\xb5\\xec\\x9b\\x90\\xec\\x97\\xad\"\\n\\t\\t\\t\\t,\"ctprvnCd\" : \"11\"\\n\\t\\t\\t\\t,\"ctprvnNm\" : \"\\xec\\x84\\x9c\\xec\\x9a\\xb8\\xed\\x8a\\xb9\\xeb\\xb3\\x84\\xec\\x8b\\x9c\"\\n\\t\\t\\t\\t,\"signguCd\" : \"11140\"\\n\\t\\t\\t\\t,\"signguNm\" : \"\\xec\\xa4\\x91\\xea\\xb5\\xac\"\\n\\t\\t\\t\\t,\"trarArea\" : 81499.1\\n\\t\\t\\t\\t,\"coordNum\" : 8\\n\\t\\t\\t\\t,\"coords\" : \"POLYGON ((127.007565 37.565945, 127.004846 37.566394, 127.002877 37.566759, 127.002341 37.566737, 127.00252 37.5647, 127.004682 37.564852, 127.007062 37.564448, 127.007565 37.565945))\"\\n\\t\\t\\t\\t,\"stdrDt\" : \"2021-03-31\"\\n\\t\\t\\t\\t}\\n\\t\\t\\t\\t,{\\n\\t\\t\\t\\t\"trarNo\" : 2226\\n\\t\\t\\t\\t,\"mainTrarNm\" : \"\\xeb\\x8f\\x99\\xeb\\x8c\\x80\\xeb\\xac\\xb8\\xec\\x8b\\x9c\\xec\\x9e\\xa5\"\\n\\t\\t\\t\\t,\"ctprvnCd\" : \"11\"\\n\\t\\t\\t\\t,\"ctprvnNm\" : \"\\xec\\x84\\x9c\\xec\\x9a\\xb8\\xed\\x8a\\xb9\\xeb\\xb3\\x84\\xec\\x8b\\x9c\"\\n\\t\\t\\t\\t,\"signguCd\" : \"11110\"\\n\\t\\t\\t\\t,\"signguNm\" : \"\\xec\\xa2\\x85\\xeb\\xa1\\x9c\\xea\\xb5\\xac\"\\n\\t\\t\\t\\t,\"trarArea\" : 82364.6\\n\\t\\t\\t\\t,\"coordNum\" : 28\\n\\t\\t\\t\\t,\"coords\" : \"POLYGON ((127.009388 37.570565, 127.008984 37.571182, 127.008537 37.57103, 127.006426 37.570998, 127.00658 37.570351, 127.006482 37.570257, 127.006356 37.570327, 127.006198 37.57099, 127.005964 37.570986, 127.005915 37.570267, 127.005804 37.570193, 127.005691 37.570283, 127.005737 37.570983, 127.005376 37.570977, 127.005356 37.570376, 127.005244 37.570291, 127.00513 37.570373, 127.005149 37.570973, 127.003561 37.570947, 127.003571 37.570412, 127.003461 37.570336, 127.003348 37.570409, 127.003335 37.570944, 127.002014 37.570911, 127.002118 37.569718, 127.006712 37.569739, 127.009542 37.569875, 127.009388 37.570565))\"\\n\\t\\t\\t\\t,\"stdrDt\" : \"2021-03-31\"\\n\\t\\t\\t\\t}\\n\\t\\t\\t\\t,{\\n\\t\\t\\t\\t\"trarNo\" : 2225\\n\\t\\t\\t\\t,\"mainTrarNm\" : \"\\xec\\x84\\x9c\\xec\\x9a\\xb8 \\xec\\xa2\\x85\\xeb\\xa1\\x9c\\xea\\xb5\\xac \\xec\\xa2\\x85\\xeb\\xa1\\x9c5\\xea\\xb0\\x80\\xec\\x97\\xad_1\"\\n\\t\\t\\t\\t,\"ctprvnCd\" : \"11\"\\n\\t\\t\\t\\t,\"ctprvnNm\" : \"\\xec\\x84\\x9c\\xec\\x9a\\xb8\\xed\\x8a\\xb9\\xeb\\xb3\\x84\\xec\\x8b\\x9c\"\\n\\t\\t\\t\\t,\"signguCd\" : \"11110\"\\n\\t\\t\\t\\t,\"signguNm\" : \"\\xec\\xa2\\x85\\xeb\\xa1\\x9c\\xea\\xb5\\xac\"\\n\\t\\t\\t\\t,\"trarArea\" : 50246.7\\n\\t\\t\\t\\t,\"coordNum\" : 20\\n\\t\\t\\t\\t,\"coords\" : \"POLYGON ((127.001795 37.57082, 127.000088 37.570774, 127.000052 37.570281, 126.999763 37.57022, 126.99964 37.570323, 126.999836 37.570406, 126.999859 37.570757, 126.999321 37.570717, 126.999367 37.570303, 126.999265 37.570221, 126.999145 37.570287, 126.999096 37.5707, 126.999078 37.570524, 126.99887 37.570325, 126.998761 37.570381, 126.998725 37.570672, 126.997866 37.570624, 126.998052 37.568996, 127.001892 37.569705, 127.001795 37.57082))\"\\n\\t\\t\\t\\t,\"stdrDt\" : \"2021-03-31\"\\n\\t\\t\\t\\t}\\n\\t\\t\\t]\\n\\t}\\n}\\n'"
      ]
     },
     "execution_count": 17,
     "metadata": {},
     "output_type": "execute_result"
    }
   ],
   "source": [
    "res.read()"
   ]
  },
  {
   "cell_type": "code",
   "execution_count": 19,
   "id": "fecd1f37",
   "metadata": {},
   "outputs": [
    {
     "data": {
      "text/plain": [
       "'{\\n\\t\"header\" : {\\n\\t\\t\"description\" : \"소상공인시장진흥공단 주요상권\"\\n\\t\\t,\"resultCode\" : \"00\"\\n\\t\\t,\"resultMsg\" : \"NORMAL SERVICE\"\\n\\t},\\n\\t\"body\" : {\\n\\t\\t\\t\"items\" : [\\n\\t\\t\\t\\t{\\n\\t\\t\\t\\t\"trarNo\" : 2214\\n\\t\\t\\t\\t,\"mainTrarNm\" : \"을지로4가역\"\\n\\t\\t\\t\\t,\"ctprvnCd\" : \"11\"\\n\\t\\t\\t\\t,\"ctprvnNm\" : \"서울특별시\"\\n\\t\\t\\t\\t,\"signguCd\" : \"11140\"\\n\\t\\t\\t\\t,\"signguNm\" : \"중구\"\\n\\t\\t\\t\\t,\"trarArea\" : 88434.9\\n\\t\\t\\t\\t,\"coordNum\" : 8\\n\\t\\t\\t\\t,\"coords\" : \"POLYGON ((126.999081 37.566789, 127.002102 37.566937, 127.001981 37.568644, 127.001871 37.568655, 127.001873 37.569521, 126.998065 37.568812, 126.998213 37.566753, 126.999081 37.566789))\"\\n\\t\\t\\t\\t,\"stdrDt\" : \"2021-03-31\"\\n\\t\\t\\t\\t}\\n\\t\\t\\t\\t,{\\n\\t\\t\\t\\t\"trarNo\" : 2216\\n\\t\\t\\t\\t,\"mainTrarNm\" : \"동대문시장\"\\n\\t\\t\\t\\t,\"ctprvnCd\" : \"11\"\\n\\t\\t\\t\\t,\"ctprvnNm\" : \"서울특별시\"\\n\\t\\t\\t\\t,\"signguCd\" : \"11140\"\\n\\t\\t\\t\\t,\"signguNm\" : \"중구\"\\n\\t\\t\\t\\t,\"trarArea\" : 68658\\n\\t\\t\\t\\t,\"coordNum\" : 15\\n\\t\\t\\t\\t,\"coords\" : \"POLYGON ((127.009453 37.568775, 127.009445 37.569396, 127.009558 37.569397, 127.009543 37.569686, 127.00659 37.569553, 127.006688 37.568112, 127.007709 37.567931, 127.007098 37.567124, 127.006951 37.56706, 127.006146 37.56717, 127.005929 37.566438, 127.007632 37.56611, 127.008198 37.566935, 127.008107 37.566979, 127.009453 37.568775))\"\\n\\t\\t\\t\\t,\"stdrDt\" : \"2021-03-31\"\\n\\t\\t\\t\\t}\\n\\t\\t\\t\\t,{\\n\\t\\t\\t\\t\"trarNo\" : 2207\\n\\t\\t\\t\\t,\"mainTrarNm\" : \"동대문역사문화공원역\"\\n\\t\\t\\t\\t,\"ctprvnCd\" : \"11\"\\n\\t\\t\\t\\t,\"ctprvnNm\" : \"서울특별시\"\\n\\t\\t\\t\\t,\"signguCd\" : \"11140\"\\n\\t\\t\\t\\t,\"signguNm\" : \"중구\"\\n\\t\\t\\t\\t,\"trarArea\" : 81499.1\\n\\t\\t\\t\\t,\"coordNum\" : 8\\n\\t\\t\\t\\t,\"coords\" : \"POLYGON ((127.007565 37.565945, 127.004846 37.566394, 127.002877 37.566759, 127.002341 37.566737, 127.00252 37.5647, 127.004682 37.564852, 127.007062 37.564448, 127.007565 37.565945))\"\\n\\t\\t\\t\\t,\"stdrDt\" : \"2021-03-31\"\\n\\t\\t\\t\\t}\\n\\t\\t\\t\\t,{\\n\\t\\t\\t\\t\"trarNo\" : 2226\\n\\t\\t\\t\\t,\"mainTrarNm\" : \"동대문시장\"\\n\\t\\t\\t\\t,\"ctprvnCd\" : \"11\"\\n\\t\\t\\t\\t,\"ctprvnNm\" : \"서울특별시\"\\n\\t\\t\\t\\t,\"signguCd\" : \"11110\"\\n\\t\\t\\t\\t,\"signguNm\" : \"종로구\"\\n\\t\\t\\t\\t,\"trarArea\" : 82364.6\\n\\t\\t\\t\\t,\"coordNum\" : 28\\n\\t\\t\\t\\t,\"coords\" : \"POLYGON ((127.009388 37.570565, 127.008984 37.571182, 127.008537 37.57103, 127.006426 37.570998, 127.00658 37.570351, 127.006482 37.570257, 127.006356 37.570327, 127.006198 37.57099, 127.005964 37.570986, 127.005915 37.570267, 127.005804 37.570193, 127.005691 37.570283, 127.005737 37.570983, 127.005376 37.570977, 127.005356 37.570376, 127.005244 37.570291, 127.00513 37.570373, 127.005149 37.570973, 127.003561 37.570947, 127.003571 37.570412, 127.003461 37.570336, 127.003348 37.570409, 127.003335 37.570944, 127.002014 37.570911, 127.002118 37.569718, 127.006712 37.569739, 127.009542 37.569875, 127.009388 37.570565))\"\\n\\t\\t\\t\\t,\"stdrDt\" : \"2021-03-31\"\\n\\t\\t\\t\\t}\\n\\t\\t\\t\\t,{\\n\\t\\t\\t\\t\"trarNo\" : 2225\\n\\t\\t\\t\\t,\"mainTrarNm\" : \"서울 종로구 종로5가역_1\"\\n\\t\\t\\t\\t,\"ctprvnCd\" : \"11\"\\n\\t\\t\\t\\t,\"ctprvnNm\" : \"서울특별시\"\\n\\t\\t\\t\\t,\"signguCd\" : \"11110\"\\n\\t\\t\\t\\t,\"signguNm\" : \"종로구\"\\n\\t\\t\\t\\t,\"trarArea\" : 50246.7\\n\\t\\t\\t\\t,\"coordNum\" : 20\\n\\t\\t\\t\\t,\"coords\" : \"POLYGON ((127.001795 37.57082, 127.000088 37.570774, 127.000052 37.570281, 126.999763 37.57022, 126.99964 37.570323, 126.999836 37.570406, 126.999859 37.570757, 126.999321 37.570717, 126.999367 37.570303, 126.999265 37.570221, 126.999145 37.570287, 126.999096 37.5707, 126.999078 37.570524, 126.99887 37.570325, 126.998761 37.570381, 126.998725 37.570672, 126.997866 37.570624, 126.998052 37.568996, 127.001892 37.569705, 127.001795 37.57082))\"\\n\\t\\t\\t\\t,\"stdrDt\" : \"2021-03-31\"\\n\\t\\t\\t\\t}\\n\\t\\t\\t]\\n\\t}\\n}\\n'"
      ]
     },
     "execution_count": 19,
     "metadata": {},
     "output_type": "execute_result"
    }
   ],
   "source": [
    "res=urllib.request.urlopen(url) #한번읽어주고나면 비어지기때문에 다시 불러온다\n",
    "res.read().decode(\"utf-8\") #한글깨져서 decodng"
   ]
  },
  {
   "cell_type": "code",
   "execution_count": 20,
   "id": "b0cf51ae",
   "metadata": {},
   "outputs": [],
   "source": [
    "res=urllib.request.urlopen(url) \n",
    "json_str=res.read().decode(\"utf-8\") #변수에받아주기"
   ]
  },
  {
   "cell_type": "code",
   "execution_count": 21,
   "id": "6b934eb5",
   "metadata": {},
   "outputs": [
    {
     "data": {
      "text/plain": [
       "str"
      ]
     },
     "execution_count": 21,
     "metadata": {},
     "output_type": "execute_result"
    }
   ],
   "source": [
    "type(json_str)"
   ]
  },
  {
   "cell_type": "code",
   "execution_count": 22,
   "id": "034ccccd",
   "metadata": {},
   "outputs": [
    {
     "data": {
      "text/plain": [
       "'{\\n\\t\"header\" : {\\n\\t\\t\"description\" : \"소상공인시장진흥공단 주요상권\"\\n\\t\\t,\"resultCode\" : \"00\"\\n\\t\\t,\"resultMsg\" : \"NORMAL '"
      ]
     },
     "execution_count": 22,
     "metadata": {},
     "output_type": "execute_result"
    }
   ],
   "source": [
    "json_str[:100]"
   ]
  },
  {
   "cell_type": "code",
   "execution_count": 24,
   "id": "89da4a0b",
   "metadata": {},
   "outputs": [
    {
     "data": {
      "text/plain": [
       "{'header': {'description': '소상공인시장진흥공단 주요상권',\n",
       "  'resultCode': '00',\n",
       "  'resultMsg': 'NORMAL SERVICE'},\n",
       " 'body': {'items': [{'trarNo': 2214,\n",
       "    'mainTrarNm': '을지로4가역',\n",
       "    'ctprvnCd': '11',\n",
       "    'ctprvnNm': '서울특별시',\n",
       "    'signguCd': '11140',\n",
       "    'signguNm': '중구',\n",
       "    'trarArea': 88434.9,\n",
       "    'coordNum': 8,\n",
       "    'coords': 'POLYGON ((126.999081 37.566789, 127.002102 37.566937, 127.001981 37.568644, 127.001871 37.568655, 127.001873 37.569521, 126.998065 37.568812, 126.998213 37.566753, 126.999081 37.566789))',\n",
       "    'stdrDt': '2021-03-31'},\n",
       "   {'trarNo': 2216,\n",
       "    'mainTrarNm': '동대문시장',\n",
       "    'ctprvnCd': '11',\n",
       "    'ctprvnNm': '서울특별시',\n",
       "    'signguCd': '11140',\n",
       "    'signguNm': '중구',\n",
       "    'trarArea': 68658,\n",
       "    'coordNum': 15,\n",
       "    'coords': 'POLYGON ((127.009453 37.568775, 127.009445 37.569396, 127.009558 37.569397, 127.009543 37.569686, 127.00659 37.569553, 127.006688 37.568112, 127.007709 37.567931, 127.007098 37.567124, 127.006951 37.56706, 127.006146 37.56717, 127.005929 37.566438, 127.007632 37.56611, 127.008198 37.566935, 127.008107 37.566979, 127.009453 37.568775))',\n",
       "    'stdrDt': '2021-03-31'},\n",
       "   {'trarNo': 2207,\n",
       "    'mainTrarNm': '동대문역사문화공원역',\n",
       "    'ctprvnCd': '11',\n",
       "    'ctprvnNm': '서울특별시',\n",
       "    'signguCd': '11140',\n",
       "    'signguNm': '중구',\n",
       "    'trarArea': 81499.1,\n",
       "    'coordNum': 8,\n",
       "    'coords': 'POLYGON ((127.007565 37.565945, 127.004846 37.566394, 127.002877 37.566759, 127.002341 37.566737, 127.00252 37.5647, 127.004682 37.564852, 127.007062 37.564448, 127.007565 37.565945))',\n",
       "    'stdrDt': '2021-03-31'},\n",
       "   {'trarNo': 2226,\n",
       "    'mainTrarNm': '동대문시장',\n",
       "    'ctprvnCd': '11',\n",
       "    'ctprvnNm': '서울특별시',\n",
       "    'signguCd': '11110',\n",
       "    'signguNm': '종로구',\n",
       "    'trarArea': 82364.6,\n",
       "    'coordNum': 28,\n",
       "    'coords': 'POLYGON ((127.009388 37.570565, 127.008984 37.571182, 127.008537 37.57103, 127.006426 37.570998, 127.00658 37.570351, 127.006482 37.570257, 127.006356 37.570327, 127.006198 37.57099, 127.005964 37.570986, 127.005915 37.570267, 127.005804 37.570193, 127.005691 37.570283, 127.005737 37.570983, 127.005376 37.570977, 127.005356 37.570376, 127.005244 37.570291, 127.00513 37.570373, 127.005149 37.570973, 127.003561 37.570947, 127.003571 37.570412, 127.003461 37.570336, 127.003348 37.570409, 127.003335 37.570944, 127.002014 37.570911, 127.002118 37.569718, 127.006712 37.569739, 127.009542 37.569875, 127.009388 37.570565))',\n",
       "    'stdrDt': '2021-03-31'},\n",
       "   {'trarNo': 2225,\n",
       "    'mainTrarNm': '서울 종로구 종로5가역_1',\n",
       "    'ctprvnCd': '11',\n",
       "    'ctprvnNm': '서울특별시',\n",
       "    'signguCd': '11110',\n",
       "    'signguNm': '종로구',\n",
       "    'trarArea': 50246.7,\n",
       "    'coordNum': 20,\n",
       "    'coords': 'POLYGON ((127.001795 37.57082, 127.000088 37.570774, 127.000052 37.570281, 126.999763 37.57022, 126.99964 37.570323, 126.999836 37.570406, 126.999859 37.570757, 126.999321 37.570717, 126.999367 37.570303, 126.999265 37.570221, 126.999145 37.570287, 126.999096 37.5707, 126.999078 37.570524, 126.99887 37.570325, 126.998761 37.570381, 126.998725 37.570672, 126.997866 37.570624, 126.998052 37.568996, 127.001892 37.569705, 127.001795 37.57082))',\n",
       "    'stdrDt': '2021-03-31'}]}}"
      ]
     },
     "execution_count": 24,
     "metadata": {},
     "output_type": "execute_result"
    }
   ],
   "source": [
    "#문자열을 json으로 변환\n",
    "import json \n",
    "\n",
    "json.loads(json_str)"
   ]
  },
  {
   "cell_type": "code",
   "execution_count": 25,
   "id": "8c28b69e",
   "metadata": {},
   "outputs": [],
   "source": [
    "json_object=json.loads(json_str) #변수에 json저장"
   ]
  },
  {
   "cell_type": "code",
   "execution_count": 26,
   "id": "a6e60024",
   "metadata": {},
   "outputs": [
    {
     "data": {
      "text/plain": [
       "dict"
      ]
     },
     "execution_count": 26,
     "metadata": {},
     "output_type": "execute_result"
    }
   ],
   "source": [
    "type(json_object) #dictionary 타입임을 알수있다."
   ]
  },
  {
   "cell_type": "code",
   "execution_count": 28,
   "id": "db18463f",
   "metadata": {},
   "outputs": [
    {
     "data": {
      "text/plain": [
       "dict_keys(['header', 'body'])"
      ]
     },
     "execution_count": 28,
     "metadata": {},
     "output_type": "execute_result"
    }
   ],
   "source": [
    "json_object.keys()"
   ]
  },
  {
   "cell_type": "code",
   "execution_count": 29,
   "id": "4131f0a8",
   "metadata": {},
   "outputs": [
    {
     "data": {
      "text/plain": [
       "{'description': '소상공인시장진흥공단 주요상권',\n",
       " 'resultCode': '00',\n",
       " 'resultMsg': 'NORMAL SERVICE'}"
      ]
     },
     "execution_count": 29,
     "metadata": {},
     "output_type": "execute_result"
    }
   ],
   "source": [
    "json_object[\"header\"]"
   ]
  },
  {
   "cell_type": "code",
   "execution_count": 30,
   "id": "335fb92a",
   "metadata": {},
   "outputs": [
    {
     "data": {
      "text/plain": [
       "{'items': [{'trarNo': 2214,\n",
       "   'mainTrarNm': '을지로4가역',\n",
       "   'ctprvnCd': '11',\n",
       "   'ctprvnNm': '서울특별시',\n",
       "   'signguCd': '11140',\n",
       "   'signguNm': '중구',\n",
       "   'trarArea': 88434.9,\n",
       "   'coordNum': 8,\n",
       "   'coords': 'POLYGON ((126.999081 37.566789, 127.002102 37.566937, 127.001981 37.568644, 127.001871 37.568655, 127.001873 37.569521, 126.998065 37.568812, 126.998213 37.566753, 126.999081 37.566789))',\n",
       "   'stdrDt': '2021-03-31'},\n",
       "  {'trarNo': 2216,\n",
       "   'mainTrarNm': '동대문시장',\n",
       "   'ctprvnCd': '11',\n",
       "   'ctprvnNm': '서울특별시',\n",
       "   'signguCd': '11140',\n",
       "   'signguNm': '중구',\n",
       "   'trarArea': 68658,\n",
       "   'coordNum': 15,\n",
       "   'coords': 'POLYGON ((127.009453 37.568775, 127.009445 37.569396, 127.009558 37.569397, 127.009543 37.569686, 127.00659 37.569553, 127.006688 37.568112, 127.007709 37.567931, 127.007098 37.567124, 127.006951 37.56706, 127.006146 37.56717, 127.005929 37.566438, 127.007632 37.56611, 127.008198 37.566935, 127.008107 37.566979, 127.009453 37.568775))',\n",
       "   'stdrDt': '2021-03-31'},\n",
       "  {'trarNo': 2207,\n",
       "   'mainTrarNm': '동대문역사문화공원역',\n",
       "   'ctprvnCd': '11',\n",
       "   'ctprvnNm': '서울특별시',\n",
       "   'signguCd': '11140',\n",
       "   'signguNm': '중구',\n",
       "   'trarArea': 81499.1,\n",
       "   'coordNum': 8,\n",
       "   'coords': 'POLYGON ((127.007565 37.565945, 127.004846 37.566394, 127.002877 37.566759, 127.002341 37.566737, 127.00252 37.5647, 127.004682 37.564852, 127.007062 37.564448, 127.007565 37.565945))',\n",
       "   'stdrDt': '2021-03-31'},\n",
       "  {'trarNo': 2226,\n",
       "   'mainTrarNm': '동대문시장',\n",
       "   'ctprvnCd': '11',\n",
       "   'ctprvnNm': '서울특별시',\n",
       "   'signguCd': '11110',\n",
       "   'signguNm': '종로구',\n",
       "   'trarArea': 82364.6,\n",
       "   'coordNum': 28,\n",
       "   'coords': 'POLYGON ((127.009388 37.570565, 127.008984 37.571182, 127.008537 37.57103, 127.006426 37.570998, 127.00658 37.570351, 127.006482 37.570257, 127.006356 37.570327, 127.006198 37.57099, 127.005964 37.570986, 127.005915 37.570267, 127.005804 37.570193, 127.005691 37.570283, 127.005737 37.570983, 127.005376 37.570977, 127.005356 37.570376, 127.005244 37.570291, 127.00513 37.570373, 127.005149 37.570973, 127.003561 37.570947, 127.003571 37.570412, 127.003461 37.570336, 127.003348 37.570409, 127.003335 37.570944, 127.002014 37.570911, 127.002118 37.569718, 127.006712 37.569739, 127.009542 37.569875, 127.009388 37.570565))',\n",
       "   'stdrDt': '2021-03-31'},\n",
       "  {'trarNo': 2225,\n",
       "   'mainTrarNm': '서울 종로구 종로5가역_1',\n",
       "   'ctprvnCd': '11',\n",
       "   'ctprvnNm': '서울특별시',\n",
       "   'signguCd': '11110',\n",
       "   'signguNm': '종로구',\n",
       "   'trarArea': 50246.7,\n",
       "   'coordNum': 20,\n",
       "   'coords': 'POLYGON ((127.001795 37.57082, 127.000088 37.570774, 127.000052 37.570281, 126.999763 37.57022, 126.99964 37.570323, 126.999836 37.570406, 126.999859 37.570757, 126.999321 37.570717, 126.999367 37.570303, 126.999265 37.570221, 126.999145 37.570287, 126.999096 37.5707, 126.999078 37.570524, 126.99887 37.570325, 126.998761 37.570381, 126.998725 37.570672, 126.997866 37.570624, 126.998052 37.568996, 127.001892 37.569705, 127.001795 37.57082))',\n",
       "   'stdrDt': '2021-03-31'}]}"
      ]
     },
     "execution_count": 30,
     "metadata": {},
     "output_type": "execute_result"
    }
   ],
   "source": [
    "json_object[\"body\"]"
   ]
  },
  {
   "cell_type": "code",
   "execution_count": 31,
   "id": "9dd7b55e",
   "metadata": {},
   "outputs": [
    {
     "data": {
      "text/plain": [
       "dict"
      ]
     },
     "execution_count": 31,
     "metadata": {},
     "output_type": "execute_result"
    }
   ],
   "source": [
    "type(json_object[\"body\"])"
   ]
  },
  {
   "cell_type": "code",
   "execution_count": 32,
   "id": "a176acf9",
   "metadata": {},
   "outputs": [
    {
     "data": {
      "text/plain": [
       "dict_keys(['items'])"
      ]
     },
     "execution_count": 32,
     "metadata": {},
     "output_type": "execute_result"
    }
   ],
   "source": [
    "json_object[\"body\"].keys()"
   ]
  },
  {
   "cell_type": "code",
   "execution_count": 33,
   "id": "c44481e8",
   "metadata": {},
   "outputs": [
    {
     "data": {
      "text/plain": [
       "[{'trarNo': 2214,\n",
       "  'mainTrarNm': '을지로4가역',\n",
       "  'ctprvnCd': '11',\n",
       "  'ctprvnNm': '서울특별시',\n",
       "  'signguCd': '11140',\n",
       "  'signguNm': '중구',\n",
       "  'trarArea': 88434.9,\n",
       "  'coordNum': 8,\n",
       "  'coords': 'POLYGON ((126.999081 37.566789, 127.002102 37.566937, 127.001981 37.568644, 127.001871 37.568655, 127.001873 37.569521, 126.998065 37.568812, 126.998213 37.566753, 126.999081 37.566789))',\n",
       "  'stdrDt': '2021-03-31'},\n",
       " {'trarNo': 2216,\n",
       "  'mainTrarNm': '동대문시장',\n",
       "  'ctprvnCd': '11',\n",
       "  'ctprvnNm': '서울특별시',\n",
       "  'signguCd': '11140',\n",
       "  'signguNm': '중구',\n",
       "  'trarArea': 68658,\n",
       "  'coordNum': 15,\n",
       "  'coords': 'POLYGON ((127.009453 37.568775, 127.009445 37.569396, 127.009558 37.569397, 127.009543 37.569686, 127.00659 37.569553, 127.006688 37.568112, 127.007709 37.567931, 127.007098 37.567124, 127.006951 37.56706, 127.006146 37.56717, 127.005929 37.566438, 127.007632 37.56611, 127.008198 37.566935, 127.008107 37.566979, 127.009453 37.568775))',\n",
       "  'stdrDt': '2021-03-31'},\n",
       " {'trarNo': 2207,\n",
       "  'mainTrarNm': '동대문역사문화공원역',\n",
       "  'ctprvnCd': '11',\n",
       "  'ctprvnNm': '서울특별시',\n",
       "  'signguCd': '11140',\n",
       "  'signguNm': '중구',\n",
       "  'trarArea': 81499.1,\n",
       "  'coordNum': 8,\n",
       "  'coords': 'POLYGON ((127.007565 37.565945, 127.004846 37.566394, 127.002877 37.566759, 127.002341 37.566737, 127.00252 37.5647, 127.004682 37.564852, 127.007062 37.564448, 127.007565 37.565945))',\n",
       "  'stdrDt': '2021-03-31'},\n",
       " {'trarNo': 2226,\n",
       "  'mainTrarNm': '동대문시장',\n",
       "  'ctprvnCd': '11',\n",
       "  'ctprvnNm': '서울특별시',\n",
       "  'signguCd': '11110',\n",
       "  'signguNm': '종로구',\n",
       "  'trarArea': 82364.6,\n",
       "  'coordNum': 28,\n",
       "  'coords': 'POLYGON ((127.009388 37.570565, 127.008984 37.571182, 127.008537 37.57103, 127.006426 37.570998, 127.00658 37.570351, 127.006482 37.570257, 127.006356 37.570327, 127.006198 37.57099, 127.005964 37.570986, 127.005915 37.570267, 127.005804 37.570193, 127.005691 37.570283, 127.005737 37.570983, 127.005376 37.570977, 127.005356 37.570376, 127.005244 37.570291, 127.00513 37.570373, 127.005149 37.570973, 127.003561 37.570947, 127.003571 37.570412, 127.003461 37.570336, 127.003348 37.570409, 127.003335 37.570944, 127.002014 37.570911, 127.002118 37.569718, 127.006712 37.569739, 127.009542 37.569875, 127.009388 37.570565))',\n",
       "  'stdrDt': '2021-03-31'},\n",
       " {'trarNo': 2225,\n",
       "  'mainTrarNm': '서울 종로구 종로5가역_1',\n",
       "  'ctprvnCd': '11',\n",
       "  'ctprvnNm': '서울특별시',\n",
       "  'signguCd': '11110',\n",
       "  'signguNm': '종로구',\n",
       "  'trarArea': 50246.7,\n",
       "  'coordNum': 20,\n",
       "  'coords': 'POLYGON ((127.001795 37.57082, 127.000088 37.570774, 127.000052 37.570281, 126.999763 37.57022, 126.99964 37.570323, 126.999836 37.570406, 126.999859 37.570757, 126.999321 37.570717, 126.999367 37.570303, 126.999265 37.570221, 126.999145 37.570287, 126.999096 37.5707, 126.999078 37.570524, 126.99887 37.570325, 126.998761 37.570381, 126.998725 37.570672, 126.997866 37.570624, 126.998052 37.568996, 127.001892 37.569705, 127.001795 37.57082))',\n",
       "  'stdrDt': '2021-03-31'}]"
      ]
     },
     "execution_count": 33,
     "metadata": {},
     "output_type": "execute_result"
    }
   ],
   "source": [
    "json_object[\"body\"][\"items\"] #리스트안에 dicitionary가 들어있음을 확인가능"
   ]
  },
  {
   "cell_type": "code",
   "execution_count": 34,
   "id": "83e73018",
   "metadata": {},
   "outputs": [
    {
     "name": "stdout",
     "output_type": "stream",
     "text": [
      "{'trarNo': 2214, 'mainTrarNm': '을지로4가역', 'ctprvnCd': '11', 'ctprvnNm': '서울특별시', 'signguCd': '11140', 'signguNm': '중구', 'trarArea': 88434.9, 'coordNum': 8, 'coords': 'POLYGON ((126.999081 37.566789, 127.002102 37.566937, 127.001981 37.568644, 127.001871 37.568655, 127.001873 37.569521, 126.998065 37.568812, 126.998213 37.566753, 126.999081 37.566789))', 'stdrDt': '2021-03-31'}\n"
     ]
    }
   ],
   "source": [
    "for item in json_object[\"body\"][\"items\"]:\n",
    "    print(item)\n",
    "    break\n",
    "#또 딕셔너리임을 확인가능"
   ]
  },
  {
   "cell_type": "markdown",
   "id": "79ba0c3f",
   "metadata": {},
   "source": [
    "### json_object[\"body\"][\"items\"]를 DataFrame으로 만들기"
   ]
  },
  {
   "cell_type": "code",
   "execution_count": 96,
   "id": "d8fb39a9",
   "metadata": {},
   "outputs": [
    {
     "data": {
      "text/html": [
       "<div>\n",
       "<style scoped>\n",
       "    .dataframe tbody tr th:only-of-type {\n",
       "        vertical-align: middle;\n",
       "    }\n",
       "\n",
       "    .dataframe tbody tr th {\n",
       "        vertical-align: top;\n",
       "    }\n",
       "\n",
       "    .dataframe thead th {\n",
       "        text-align: right;\n",
       "    }\n",
       "</style>\n",
       "<table border=\"1\" class=\"dataframe\">\n",
       "  <thead>\n",
       "    <tr style=\"text-align: right;\">\n",
       "      <th></th>\n",
       "      <th>trarNo</th>\n",
       "      <th>mainTrarNm</th>\n",
       "      <th>ctprvnCd</th>\n",
       "      <th>ctprvnNm</th>\n",
       "      <th>signguCd</th>\n",
       "      <th>signguNm</th>\n",
       "      <th>trarArea</th>\n",
       "      <th>coordNum</th>\n",
       "      <th>coords</th>\n",
       "      <th>stdrDt</th>\n",
       "    </tr>\n",
       "  </thead>\n",
       "  <tbody>\n",
       "    <tr>\n",
       "      <th>0</th>\n",
       "      <td>2214</td>\n",
       "      <td>을지로4가역</td>\n",
       "      <td>11</td>\n",
       "      <td>서울특별시</td>\n",
       "      <td>11140</td>\n",
       "      <td>중구</td>\n",
       "      <td>88434.9</td>\n",
       "      <td>8</td>\n",
       "      <td>POLYGON ((126.999081 37.566789, 127.002102 37....</td>\n",
       "      <td>2021-03-31</td>\n",
       "    </tr>\n",
       "    <tr>\n",
       "      <th>1</th>\n",
       "      <td>2216</td>\n",
       "      <td>동대문시장</td>\n",
       "      <td>11</td>\n",
       "      <td>서울특별시</td>\n",
       "      <td>11140</td>\n",
       "      <td>중구</td>\n",
       "      <td>68658.0</td>\n",
       "      <td>15</td>\n",
       "      <td>POLYGON ((127.009453 37.568775, 127.009445 37....</td>\n",
       "      <td>2021-03-31</td>\n",
       "    </tr>\n",
       "    <tr>\n",
       "      <th>2</th>\n",
       "      <td>2207</td>\n",
       "      <td>동대문역사문화공원역</td>\n",
       "      <td>11</td>\n",
       "      <td>서울특별시</td>\n",
       "      <td>11140</td>\n",
       "      <td>중구</td>\n",
       "      <td>81499.1</td>\n",
       "      <td>8</td>\n",
       "      <td>POLYGON ((127.007565 37.565945, 127.004846 37....</td>\n",
       "      <td>2021-03-31</td>\n",
       "    </tr>\n",
       "    <tr>\n",
       "      <th>3</th>\n",
       "      <td>2226</td>\n",
       "      <td>동대문시장</td>\n",
       "      <td>11</td>\n",
       "      <td>서울특별시</td>\n",
       "      <td>11110</td>\n",
       "      <td>종로구</td>\n",
       "      <td>82364.6</td>\n",
       "      <td>28</td>\n",
       "      <td>POLYGON ((127.009388 37.570565, 127.008984 37....</td>\n",
       "      <td>2021-03-31</td>\n",
       "    </tr>\n",
       "    <tr>\n",
       "      <th>4</th>\n",
       "      <td>2225</td>\n",
       "      <td>서울 종로구 종로5가역_1</td>\n",
       "      <td>11</td>\n",
       "      <td>서울특별시</td>\n",
       "      <td>11110</td>\n",
       "      <td>종로구</td>\n",
       "      <td>50246.7</td>\n",
       "      <td>20</td>\n",
       "      <td>POLYGON ((127.001795 37.57082, 127.000088 37.5...</td>\n",
       "      <td>2021-03-31</td>\n",
       "    </tr>\n",
       "  </tbody>\n",
       "</table>\n",
       "</div>"
      ],
      "text/plain": [
       "   trarNo      mainTrarNm ctprvnCd ctprvnNm signguCd signguNm  trarArea  \\\n",
       "0    2214          을지로4가역       11    서울특별시    11140       중구   88434.9   \n",
       "1    2216           동대문시장       11    서울특별시    11140       중구   68658.0   \n",
       "2    2207      동대문역사문화공원역       11    서울특별시    11140       중구   81499.1   \n",
       "3    2226           동대문시장       11    서울특별시    11110      종로구   82364.6   \n",
       "4    2225  서울 종로구 종로5가역_1       11    서울특별시    11110      종로구   50246.7   \n",
       "\n",
       "   coordNum                                             coords      stdrDt  \n",
       "0         8  POLYGON ((126.999081 37.566789, 127.002102 37....  2021-03-31  \n",
       "1        15  POLYGON ((127.009453 37.568775, 127.009445 37....  2021-03-31  \n",
       "2         8  POLYGON ((127.007565 37.565945, 127.004846 37....  2021-03-31  \n",
       "3        28  POLYGON ((127.009388 37.570565, 127.008984 37....  2021-03-31  \n",
       "4        20  POLYGON ((127.001795 37.57082, 127.000088 37.5...  2021-03-31  "
      ]
     },
     "execution_count": 96,
     "metadata": {},
     "output_type": "execute_result"
    }
   ],
   "source": [
    "import pandas as pd\n",
    "total_items=[]\n",
    "for item in json_object[\"body\"][\"items\"]:\n",
    "    trarNo=item[\"trarNo\"]\n",
    "    mainTrarNm=item[\"mainTrarNm\"]\n",
    "    ctprvnCd=item[\"ctprvnCd\"]\n",
    "    ctprvnNm=item[\"ctprvnNm\"]\n",
    "    signguCd=item[\"signguCd\"]\n",
    "    signguNm=item[\"signguNm\"]\n",
    "    trarArea=item[\"trarArea\"]\n",
    "    coordNum=item[\"coordNum\"]\n",
    "    coords=item[\"coords\"]\n",
    "    stdrDt=item[\"stdrDt\"]\n",
    "    total_items.append([trarNo,mainTrarNm,ctprvnCd,ctprvnNm,signguCd,signguNm,trarArea,coordNum,coords,stdrDt])\n",
    "\n",
    "pd.DataFrame(total_items,columns=[\"trarNo\",\"mainTrarNm\",\"ctprvnCd\",\"ctprvnNm\",\"signguCd\",\"signguNm\",\"trarArea\",\"coordNum\",\"coords\",\"stdrDt\"])"
   ]
  },
  {
   "cell_type": "code",
   "execution_count": 99,
   "id": "7c764890",
   "metadata": {},
   "outputs": [
    {
     "data": {
      "text/html": [
       "<div>\n",
       "<style scoped>\n",
       "    .dataframe tbody tr th:only-of-type {\n",
       "        vertical-align: middle;\n",
       "    }\n",
       "\n",
       "    .dataframe tbody tr th {\n",
       "        vertical-align: top;\n",
       "    }\n",
       "\n",
       "    .dataframe thead th {\n",
       "        text-align: right;\n",
       "    }\n",
       "</style>\n",
       "<table border=\"1\" class=\"dataframe\">\n",
       "  <thead>\n",
       "    <tr style=\"text-align: right;\">\n",
       "      <th></th>\n",
       "      <th>trarNo</th>\n",
       "      <th>mainTrarNm</th>\n",
       "      <th>ctprvnCd</th>\n",
       "      <th>ctprvnNm</th>\n",
       "      <th>signguNm</th>\n",
       "      <th>signguCd</th>\n",
       "      <th>trarArea</th>\n",
       "      <th>coordNum</th>\n",
       "      <th>coords</th>\n",
       "      <th>stdrDt</th>\n",
       "    </tr>\n",
       "  </thead>\n",
       "  <tbody>\n",
       "    <tr>\n",
       "      <th>0</th>\n",
       "      <td>2214</td>\n",
       "      <td>을지로4가역</td>\n",
       "      <td>11</td>\n",
       "      <td>서울특별시</td>\n",
       "      <td>11140</td>\n",
       "      <td>중구</td>\n",
       "      <td>88434.9</td>\n",
       "      <td>8</td>\n",
       "      <td>POLYGON ((126.999081 37.566789, 127.002102 37....</td>\n",
       "      <td>2021-03-31</td>\n",
       "    </tr>\n",
       "    <tr>\n",
       "      <th>1</th>\n",
       "      <td>2216</td>\n",
       "      <td>동대문시장</td>\n",
       "      <td>11</td>\n",
       "      <td>서울특별시</td>\n",
       "      <td>11140</td>\n",
       "      <td>중구</td>\n",
       "      <td>68658.0</td>\n",
       "      <td>15</td>\n",
       "      <td>POLYGON ((127.009453 37.568775, 127.009445 37....</td>\n",
       "      <td>2021-03-31</td>\n",
       "    </tr>\n",
       "    <tr>\n",
       "      <th>2</th>\n",
       "      <td>2207</td>\n",
       "      <td>동대문역사문화공원역</td>\n",
       "      <td>11</td>\n",
       "      <td>서울특별시</td>\n",
       "      <td>11140</td>\n",
       "      <td>중구</td>\n",
       "      <td>81499.1</td>\n",
       "      <td>8</td>\n",
       "      <td>POLYGON ((127.007565 37.565945, 127.004846 37....</td>\n",
       "      <td>2021-03-31</td>\n",
       "    </tr>\n",
       "    <tr>\n",
       "      <th>3</th>\n",
       "      <td>2226</td>\n",
       "      <td>동대문시장</td>\n",
       "      <td>11</td>\n",
       "      <td>서울특별시</td>\n",
       "      <td>11110</td>\n",
       "      <td>종로구</td>\n",
       "      <td>82364.6</td>\n",
       "      <td>28</td>\n",
       "      <td>POLYGON ((127.009388 37.570565, 127.008984 37....</td>\n",
       "      <td>2021-03-31</td>\n",
       "    </tr>\n",
       "    <tr>\n",
       "      <th>4</th>\n",
       "      <td>2225</td>\n",
       "      <td>서울 종로구 종로5가역_1</td>\n",
       "      <td>11</td>\n",
       "      <td>서울특별시</td>\n",
       "      <td>11110</td>\n",
       "      <td>종로구</td>\n",
       "      <td>50246.7</td>\n",
       "      <td>20</td>\n",
       "      <td>POLYGON ((127.001795 37.57082, 127.000088 37.5...</td>\n",
       "      <td>2021-03-31</td>\n",
       "    </tr>\n",
       "  </tbody>\n",
       "</table>\n",
       "</div>"
      ],
      "text/plain": [
       "   trarNo      mainTrarNm ctprvnCd ctprvnNm signguNm signguCd  trarArea  \\\n",
       "0    2214          을지로4가역       11    서울특별시    11140       중구   88434.9   \n",
       "1    2216           동대문시장       11    서울특별시    11140       중구   68658.0   \n",
       "2    2207      동대문역사문화공원역       11    서울특별시    11140       중구   81499.1   \n",
       "3    2226           동대문시장       11    서울특별시    11110      종로구   82364.6   \n",
       "4    2225  서울 종로구 종로5가역_1       11    서울특별시    11110      종로구   50246.7   \n",
       "\n",
       "   coordNum                                             coords      stdrDt  \n",
       "0         8  POLYGON ((126.999081 37.566789, 127.002102 37....  2021-03-31  \n",
       "1        15  POLYGON ((127.009453 37.568775, 127.009445 37....  2021-03-31  \n",
       "2         8  POLYGON ((127.007565 37.565945, 127.004846 37....  2021-03-31  \n",
       "3        28  POLYGON ((127.009388 37.570565, 127.008984 37....  2021-03-31  \n",
       "4        20  POLYGON ((127.001795 37.57082, 127.000088 37.5...  2021-03-31  "
      ]
     },
     "execution_count": 99,
     "metadata": {},
     "output_type": "execute_result"
    }
   ],
   "source": [
    "#다른방법\n",
    "total_items=[]\n",
    "for item in json_object[\"body\"][\"items\"]:\n",
    "    total_items.append(item.values())\n",
    "\n",
    "new_column=[\"trarNo\",\"mainTrarNm\",\"ctprvnCd\",\"ctprvnNm\",\"signguNm\",\"signguCd\",\"trarArea\",\"coordNum\",\"coords\",\"stdrDt\"]\n",
    "pd.DataFrame(total_items,columns=new_column)"
   ]
  },
  {
   "cell_type": "code",
   "execution_count": 85,
   "id": "c1b36147",
   "metadata": {},
   "outputs": [
    {
     "data": {
      "text/html": [
       "<div>\n",
       "<style scoped>\n",
       "    .dataframe tbody tr th:only-of-type {\n",
       "        vertical-align: middle;\n",
       "    }\n",
       "\n",
       "    .dataframe tbody tr th {\n",
       "        vertical-align: top;\n",
       "    }\n",
       "\n",
       "    .dataframe thead th {\n",
       "        text-align: right;\n",
       "    }\n",
       "</style>\n",
       "<table border=\"1\" class=\"dataframe\">\n",
       "  <thead>\n",
       "    <tr style=\"text-align: right;\">\n",
       "      <th></th>\n",
       "      <th>trarNo</th>\n",
       "      <th>mainTrarNm</th>\n",
       "      <th>ctprvnCd</th>\n",
       "      <th>ctprvnNm</th>\n",
       "      <th>signguCd</th>\n",
       "      <th>signguNm</th>\n",
       "      <th>trarArea</th>\n",
       "      <th>coordNum</th>\n",
       "      <th>coords</th>\n",
       "      <th>stdrDt</th>\n",
       "    </tr>\n",
       "  </thead>\n",
       "  <tbody>\n",
       "    <tr>\n",
       "      <th>0</th>\n",
       "      <td>2214</td>\n",
       "      <td>을지로4가역</td>\n",
       "      <td>11</td>\n",
       "      <td>서울특별시</td>\n",
       "      <td>11140</td>\n",
       "      <td>중구</td>\n",
       "      <td>88434.9</td>\n",
       "      <td>8</td>\n",
       "      <td>POLYGON ((126.999081 37.566789, 127.002102 37....</td>\n",
       "      <td>2021-03-31</td>\n",
       "    </tr>\n",
       "    <tr>\n",
       "      <th>1</th>\n",
       "      <td>2216</td>\n",
       "      <td>동대문시장</td>\n",
       "      <td>11</td>\n",
       "      <td>서울특별시</td>\n",
       "      <td>11140</td>\n",
       "      <td>중구</td>\n",
       "      <td>68658.0</td>\n",
       "      <td>15</td>\n",
       "      <td>POLYGON ((127.009453 37.568775, 127.009445 37....</td>\n",
       "      <td>2021-03-31</td>\n",
       "    </tr>\n",
       "    <tr>\n",
       "      <th>2</th>\n",
       "      <td>2207</td>\n",
       "      <td>동대문역사문화공원역</td>\n",
       "      <td>11</td>\n",
       "      <td>서울특별시</td>\n",
       "      <td>11140</td>\n",
       "      <td>중구</td>\n",
       "      <td>81499.1</td>\n",
       "      <td>8</td>\n",
       "      <td>POLYGON ((127.007565 37.565945, 127.004846 37....</td>\n",
       "      <td>2021-03-31</td>\n",
       "    </tr>\n",
       "    <tr>\n",
       "      <th>3</th>\n",
       "      <td>2226</td>\n",
       "      <td>동대문시장</td>\n",
       "      <td>11</td>\n",
       "      <td>서울특별시</td>\n",
       "      <td>11110</td>\n",
       "      <td>종로구</td>\n",
       "      <td>82364.6</td>\n",
       "      <td>28</td>\n",
       "      <td>POLYGON ((127.009388 37.570565, 127.008984 37....</td>\n",
       "      <td>2021-03-31</td>\n",
       "    </tr>\n",
       "    <tr>\n",
       "      <th>4</th>\n",
       "      <td>2225</td>\n",
       "      <td>서울 종로구 종로5가역_1</td>\n",
       "      <td>11</td>\n",
       "      <td>서울특별시</td>\n",
       "      <td>11110</td>\n",
       "      <td>종로구</td>\n",
       "      <td>50246.7</td>\n",
       "      <td>20</td>\n",
       "      <td>POLYGON ((127.001795 37.57082, 127.000088 37.5...</td>\n",
       "      <td>2021-03-31</td>\n",
       "    </tr>\n",
       "  </tbody>\n",
       "</table>\n",
       "</div>"
      ],
      "text/plain": [
       "   trarNo      mainTrarNm ctprvnCd ctprvnNm signguCd signguNm  trarArea  \\\n",
       "0    2214          을지로4가역       11    서울특별시    11140       중구   88434.9   \n",
       "1    2216           동대문시장       11    서울특별시    11140       중구   68658.0   \n",
       "2    2207      동대문역사문화공원역       11    서울특별시    11140       중구   81499.1   \n",
       "3    2226           동대문시장       11    서울특별시    11110      종로구   82364.6   \n",
       "4    2225  서울 종로구 종로5가역_1       11    서울특별시    11110      종로구   50246.7   \n",
       "\n",
       "   coordNum                                             coords      stdrDt  \n",
       "0         8  POLYGON ((126.999081 37.566789, 127.002102 37....  2021-03-31  \n",
       "1        15  POLYGON ((127.009453 37.568775, 127.009445 37....  2021-03-31  \n",
       "2         8  POLYGON ((127.007565 37.565945, 127.004846 37....  2021-03-31  \n",
       "3        28  POLYGON ((127.009388 37.570565, 127.008984 37....  2021-03-31  \n",
       "4        20  POLYGON ((127.001795 37.57082, 127.000088 37.5...  2021-03-31  "
      ]
     },
     "execution_count": 85,
     "metadata": {},
     "output_type": "execute_result"
    }
   ],
   "source": [
    "#또다른방법\n",
    "pd.json_normalize(json_object[\"body\"][\"items\"])"
   ]
  },
  {
   "cell_type": "code",
   "execution_count": 93,
   "id": "4cfb473b",
   "metadata": {},
   "outputs": [
    {
     "data": {
      "text/html": [
       "<div>\n",
       "<style scoped>\n",
       "    .dataframe tbody tr th:only-of-type {\n",
       "        vertical-align: middle;\n",
       "    }\n",
       "\n",
       "    .dataframe tbody tr th {\n",
       "        vertical-align: top;\n",
       "    }\n",
       "\n",
       "    .dataframe thead th {\n",
       "        text-align: right;\n",
       "    }\n",
       "</style>\n",
       "<table border=\"1\" class=\"dataframe\">\n",
       "  <thead>\n",
       "    <tr style=\"text-align: right;\">\n",
       "      <th></th>\n",
       "      <th>trarNo</th>\n",
       "      <th>mainTrarNm</th>\n",
       "      <th>ctprvnCd</th>\n",
       "      <th>ctprvnNm</th>\n",
       "      <th>signguCd</th>\n",
       "      <th>signguNm</th>\n",
       "      <th>trarArea</th>\n",
       "      <th>coordNum</th>\n",
       "      <th>coords</th>\n",
       "      <th>stdrDt</th>\n",
       "    </tr>\n",
       "  </thead>\n",
       "  <tbody>\n",
       "    <tr>\n",
       "      <th>0</th>\n",
       "      <td>2214</td>\n",
       "      <td>을지로4가역</td>\n",
       "      <td>11</td>\n",
       "      <td>서울특별시</td>\n",
       "      <td>11140</td>\n",
       "      <td>중구</td>\n",
       "      <td>88434.9</td>\n",
       "      <td>8</td>\n",
       "      <td>POLYGON ((126.999081 37.566789, 127.002102 37....</td>\n",
       "      <td>2021-03-31</td>\n",
       "    </tr>\n",
       "    <tr>\n",
       "      <th>1</th>\n",
       "      <td>2216</td>\n",
       "      <td>동대문시장</td>\n",
       "      <td>11</td>\n",
       "      <td>서울특별시</td>\n",
       "      <td>11140</td>\n",
       "      <td>중구</td>\n",
       "      <td>68658.0</td>\n",
       "      <td>15</td>\n",
       "      <td>POLYGON ((127.009453 37.568775, 127.009445 37....</td>\n",
       "      <td>2021-03-31</td>\n",
       "    </tr>\n",
       "    <tr>\n",
       "      <th>2</th>\n",
       "      <td>2207</td>\n",
       "      <td>동대문역사문화공원역</td>\n",
       "      <td>11</td>\n",
       "      <td>서울특별시</td>\n",
       "      <td>11140</td>\n",
       "      <td>중구</td>\n",
       "      <td>81499.1</td>\n",
       "      <td>8</td>\n",
       "      <td>POLYGON ((127.007565 37.565945, 127.004846 37....</td>\n",
       "      <td>2021-03-31</td>\n",
       "    </tr>\n",
       "    <tr>\n",
       "      <th>3</th>\n",
       "      <td>2226</td>\n",
       "      <td>동대문시장</td>\n",
       "      <td>11</td>\n",
       "      <td>서울특별시</td>\n",
       "      <td>11110</td>\n",
       "      <td>종로구</td>\n",
       "      <td>82364.6</td>\n",
       "      <td>28</td>\n",
       "      <td>POLYGON ((127.009388 37.570565, 127.008984 37....</td>\n",
       "      <td>2021-03-31</td>\n",
       "    </tr>\n",
       "    <tr>\n",
       "      <th>4</th>\n",
       "      <td>2225</td>\n",
       "      <td>서울 종로구 종로5가역_1</td>\n",
       "      <td>11</td>\n",
       "      <td>서울특별시</td>\n",
       "      <td>11110</td>\n",
       "      <td>종로구</td>\n",
       "      <td>50246.7</td>\n",
       "      <td>20</td>\n",
       "      <td>POLYGON ((127.001795 37.57082, 127.000088 37.5...</td>\n",
       "      <td>2021-03-31</td>\n",
       "    </tr>\n",
       "  </tbody>\n",
       "</table>\n",
       "</div>"
      ],
      "text/plain": [
       "   trarNo      mainTrarNm ctprvnCd ctprvnNm signguCd signguNm  trarArea  \\\n",
       "0    2214          을지로4가역       11    서울특별시    11140       중구   88434.9   \n",
       "1    2216           동대문시장       11    서울특별시    11140       중구   68658.0   \n",
       "2    2207      동대문역사문화공원역       11    서울특별시    11140       중구   81499.1   \n",
       "3    2226           동대문시장       11    서울특별시    11110      종로구   82364.6   \n",
       "4    2225  서울 종로구 종로5가역_1       11    서울특별시    11110      종로구   50246.7   \n",
       "\n",
       "   coordNum                                             coords      stdrDt  \n",
       "0         8  POLYGON ((126.999081 37.566789, 127.002102 37....  2021-03-31  \n",
       "1        15  POLYGON ((127.009453 37.568775, 127.009445 37....  2021-03-31  \n",
       "2         8  POLYGON ((127.007565 37.565945, 127.004846 37....  2021-03-31  \n",
       "3        28  POLYGON ((127.009388 37.570565, 127.008984 37....  2021-03-31  \n",
       "4        20  POLYGON ((127.001795 37.57082, 127.000088 37.5...  2021-03-31  "
      ]
     },
     "execution_count": 93,
     "metadata": {},
     "output_type": "execute_result"
    }
   ],
   "source": [
    "pd.DataFrame(json_object[\"body\"][\"items\"])"
   ]
  },
  {
   "cell_type": "code",
   "execution_count": 94,
   "id": "24e939ba",
   "metadata": {},
   "outputs": [
    {
     "data": {
      "text/html": [
       "<div>\n",
       "<style scoped>\n",
       "    .dataframe tbody tr th:only-of-type {\n",
       "        vertical-align: middle;\n",
       "    }\n",
       "\n",
       "    .dataframe tbody tr th {\n",
       "        vertical-align: top;\n",
       "    }\n",
       "\n",
       "    .dataframe thead th {\n",
       "        text-align: right;\n",
       "    }\n",
       "</style>\n",
       "<table border=\"1\" class=\"dataframe\">\n",
       "  <thead>\n",
       "    <tr style=\"text-align: right;\">\n",
       "      <th></th>\n",
       "      <th>trarNo</th>\n",
       "      <th>mainTrarNm</th>\n",
       "      <th>ctprvnCd</th>\n",
       "      <th>ctprvnNm</th>\n",
       "      <th>signguCd</th>\n",
       "      <th>signguNm</th>\n",
       "      <th>trarArea</th>\n",
       "      <th>coordNum</th>\n",
       "      <th>coords</th>\n",
       "      <th>stdrDt</th>\n",
       "    </tr>\n",
       "  </thead>\n",
       "  <tbody>\n",
       "    <tr>\n",
       "      <th>0</th>\n",
       "      <td>2214</td>\n",
       "      <td>을지로4가역</td>\n",
       "      <td>11</td>\n",
       "      <td>서울특별시</td>\n",
       "      <td>11140</td>\n",
       "      <td>중구</td>\n",
       "      <td>88434.9</td>\n",
       "      <td>8</td>\n",
       "      <td>POLYGON ((126.999081 37.566789, 127.002102 37....</td>\n",
       "      <td>2021-03-31</td>\n",
       "    </tr>\n",
       "    <tr>\n",
       "      <th>1</th>\n",
       "      <td>2216</td>\n",
       "      <td>동대문시장</td>\n",
       "      <td>11</td>\n",
       "      <td>서울특별시</td>\n",
       "      <td>11140</td>\n",
       "      <td>중구</td>\n",
       "      <td>68658.0</td>\n",
       "      <td>15</td>\n",
       "      <td>POLYGON ((127.009453 37.568775, 127.009445 37....</td>\n",
       "      <td>2021-03-31</td>\n",
       "    </tr>\n",
       "    <tr>\n",
       "      <th>2</th>\n",
       "      <td>2207</td>\n",
       "      <td>동대문역사문화공원역</td>\n",
       "      <td>11</td>\n",
       "      <td>서울특별시</td>\n",
       "      <td>11140</td>\n",
       "      <td>중구</td>\n",
       "      <td>81499.1</td>\n",
       "      <td>8</td>\n",
       "      <td>POLYGON ((127.007565 37.565945, 127.004846 37....</td>\n",
       "      <td>2021-03-31</td>\n",
       "    </tr>\n",
       "    <tr>\n",
       "      <th>3</th>\n",
       "      <td>2226</td>\n",
       "      <td>동대문시장</td>\n",
       "      <td>11</td>\n",
       "      <td>서울특별시</td>\n",
       "      <td>11110</td>\n",
       "      <td>종로구</td>\n",
       "      <td>82364.6</td>\n",
       "      <td>28</td>\n",
       "      <td>POLYGON ((127.009388 37.570565, 127.008984 37....</td>\n",
       "      <td>2021-03-31</td>\n",
       "    </tr>\n",
       "    <tr>\n",
       "      <th>4</th>\n",
       "      <td>2225</td>\n",
       "      <td>서울 종로구 종로5가역_1</td>\n",
       "      <td>11</td>\n",
       "      <td>서울특별시</td>\n",
       "      <td>11110</td>\n",
       "      <td>종로구</td>\n",
       "      <td>50246.7</td>\n",
       "      <td>20</td>\n",
       "      <td>POLYGON ((127.001795 37.57082, 127.000088 37.5...</td>\n",
       "      <td>2021-03-31</td>\n",
       "    </tr>\n",
       "  </tbody>\n",
       "</table>\n",
       "</div>"
      ],
      "text/plain": [
       "   trarNo      mainTrarNm ctprvnCd ctprvnNm signguCd signguNm  trarArea  \\\n",
       "0    2214          을지로4가역       11    서울특별시    11140       중구   88434.9   \n",
       "1    2216           동대문시장       11    서울특별시    11140       중구   68658.0   \n",
       "2    2207      동대문역사문화공원역       11    서울특별시    11140       중구   81499.1   \n",
       "3    2226           동대문시장       11    서울특별시    11110      종로구   82364.6   \n",
       "4    2225  서울 종로구 종로5가역_1       11    서울특별시    11110      종로구   50246.7   \n",
       "\n",
       "   coordNum                                             coords      stdrDt  \n",
       "0         8  POLYGON ((126.999081 37.566789, 127.002102 37....  2021-03-31  \n",
       "1        15  POLYGON ((127.009453 37.568775, 127.009445 37....  2021-03-31  \n",
       "2         8  POLYGON ((127.007565 37.565945, 127.004846 37....  2021-03-31  \n",
       "3        28  POLYGON ((127.009388 37.570565, 127.008984 37....  2021-03-31  \n",
       "4        20  POLYGON ((127.001795 37.57082, 127.000088 37.5...  2021-03-31  "
      ]
     },
     "execution_count": 94,
     "metadata": {},
     "output_type": "execute_result"
    }
   ],
   "source": [
    "#합친거\n",
    "url=end_point+op_url+my_key+data_type\n",
    "res=urllib.request.urlopen(url) \n",
    "json_str=res.read().decode(\"utf-8\") \n",
    "json_object=json.loads(json_str)\n",
    "df=pd.DataFrame(json_object[\"body\"][\"items\"])\n",
    "df"
   ]
  },
  {
   "cell_type": "markdown",
   "id": "b4e60dae",
   "metadata": {},
   "source": [
    "### 실습\n",
    "1. 컬럼명바꾸기\n",
    "- 상권번호,상권명,시도코드,시도명,시군구코드,시군구명,면적,좌표개수,좌표값,데이터기준일자\n",
    "2. 아래 컬럼으로 구성된 새로운 df1 만들기\n",
    "- 상권명,시도명,시군구명,좌표값"
   ]
  },
  {
   "cell_type": "code",
   "execution_count": 101,
   "id": "a3448e42",
   "metadata": {},
   "outputs": [
    {
     "data": {
      "text/html": [
       "<div>\n",
       "<style scoped>\n",
       "    .dataframe tbody tr th:only-of-type {\n",
       "        vertical-align: middle;\n",
       "    }\n",
       "\n",
       "    .dataframe tbody tr th {\n",
       "        vertical-align: top;\n",
       "    }\n",
       "\n",
       "    .dataframe thead th {\n",
       "        text-align: right;\n",
       "    }\n",
       "</style>\n",
       "<table border=\"1\" class=\"dataframe\">\n",
       "  <thead>\n",
       "    <tr style=\"text-align: right;\">\n",
       "      <th></th>\n",
       "      <th>상권번호</th>\n",
       "      <th>상권명</th>\n",
       "      <th>시도코드</th>\n",
       "      <th>시도명</th>\n",
       "      <th>시군구코드</th>\n",
       "      <th>시군구명</th>\n",
       "      <th>면적</th>\n",
       "      <th>좌표개수</th>\n",
       "      <th>좌표값</th>\n",
       "      <th>데이터기준일자</th>\n",
       "    </tr>\n",
       "  </thead>\n",
       "  <tbody>\n",
       "    <tr>\n",
       "      <th>0</th>\n",
       "      <td>2214</td>\n",
       "      <td>을지로4가역</td>\n",
       "      <td>11</td>\n",
       "      <td>서울특별시</td>\n",
       "      <td>11140</td>\n",
       "      <td>중구</td>\n",
       "      <td>88434.9</td>\n",
       "      <td>8</td>\n",
       "      <td>POLYGON ((126.999081 37.566789, 127.002102 37....</td>\n",
       "      <td>2021-03-31</td>\n",
       "    </tr>\n",
       "    <tr>\n",
       "      <th>1</th>\n",
       "      <td>2216</td>\n",
       "      <td>동대문시장</td>\n",
       "      <td>11</td>\n",
       "      <td>서울특별시</td>\n",
       "      <td>11140</td>\n",
       "      <td>중구</td>\n",
       "      <td>68658.0</td>\n",
       "      <td>15</td>\n",
       "      <td>POLYGON ((127.009453 37.568775, 127.009445 37....</td>\n",
       "      <td>2021-03-31</td>\n",
       "    </tr>\n",
       "    <tr>\n",
       "      <th>2</th>\n",
       "      <td>2207</td>\n",
       "      <td>동대문역사문화공원역</td>\n",
       "      <td>11</td>\n",
       "      <td>서울특별시</td>\n",
       "      <td>11140</td>\n",
       "      <td>중구</td>\n",
       "      <td>81499.1</td>\n",
       "      <td>8</td>\n",
       "      <td>POLYGON ((127.007565 37.565945, 127.004846 37....</td>\n",
       "      <td>2021-03-31</td>\n",
       "    </tr>\n",
       "    <tr>\n",
       "      <th>3</th>\n",
       "      <td>2226</td>\n",
       "      <td>동대문시장</td>\n",
       "      <td>11</td>\n",
       "      <td>서울특별시</td>\n",
       "      <td>11110</td>\n",
       "      <td>종로구</td>\n",
       "      <td>82364.6</td>\n",
       "      <td>28</td>\n",
       "      <td>POLYGON ((127.009388 37.570565, 127.008984 37....</td>\n",
       "      <td>2021-03-31</td>\n",
       "    </tr>\n",
       "    <tr>\n",
       "      <th>4</th>\n",
       "      <td>2225</td>\n",
       "      <td>서울 종로구 종로5가역_1</td>\n",
       "      <td>11</td>\n",
       "      <td>서울특별시</td>\n",
       "      <td>11110</td>\n",
       "      <td>종로구</td>\n",
       "      <td>50246.7</td>\n",
       "      <td>20</td>\n",
       "      <td>POLYGON ((127.001795 37.57082, 127.000088 37.5...</td>\n",
       "      <td>2021-03-31</td>\n",
       "    </tr>\n",
       "  </tbody>\n",
       "</table>\n",
       "</div>"
      ],
      "text/plain": [
       "   상권번호             상권명 시도코드    시도명  시군구코드 시군구명       면적  좌표개수  \\\n",
       "0  2214          을지로4가역   11  서울특별시  11140   중구  88434.9     8   \n",
       "1  2216           동대문시장   11  서울특별시  11140   중구  68658.0    15   \n",
       "2  2207      동대문역사문화공원역   11  서울특별시  11140   중구  81499.1     8   \n",
       "3  2226           동대문시장   11  서울특별시  11110  종로구  82364.6    28   \n",
       "4  2225  서울 종로구 종로5가역_1   11  서울특별시  11110  종로구  50246.7    20   \n",
       "\n",
       "                                                 좌표값     데이터기준일자  \n",
       "0  POLYGON ((126.999081 37.566789, 127.002102 37....  2021-03-31  \n",
       "1  POLYGON ((127.009453 37.568775, 127.009445 37....  2021-03-31  \n",
       "2  POLYGON ((127.007565 37.565945, 127.004846 37....  2021-03-31  \n",
       "3  POLYGON ((127.009388 37.570565, 127.008984 37....  2021-03-31  \n",
       "4  POLYGON ((127.001795 37.57082, 127.000088 37.5...  2021-03-31  "
      ]
     },
     "execution_count": 101,
     "metadata": {},
     "output_type": "execute_result"
    }
   ],
   "source": [
    "df.columns=[\"상권번호\",\"상권명\",\"시도코드\",\"시도명\",\"시군구코드\",\"시군구명\",\"면적\",\"좌표개수\",\"좌표값\",\"데이터기준일자\"]\n",
    "df"
   ]
  },
  {
   "cell_type": "code",
   "execution_count": 102,
   "id": "1e5511bf",
   "metadata": {},
   "outputs": [
    {
     "data": {
      "text/html": [
       "<div>\n",
       "<style scoped>\n",
       "    .dataframe tbody tr th:only-of-type {\n",
       "        vertical-align: middle;\n",
       "    }\n",
       "\n",
       "    .dataframe tbody tr th {\n",
       "        vertical-align: top;\n",
       "    }\n",
       "\n",
       "    .dataframe thead th {\n",
       "        text-align: right;\n",
       "    }\n",
       "</style>\n",
       "<table border=\"1\" class=\"dataframe\">\n",
       "  <thead>\n",
       "    <tr style=\"text-align: right;\">\n",
       "      <th></th>\n",
       "      <th>상권명</th>\n",
       "      <th>시도명</th>\n",
       "      <th>시군구명</th>\n",
       "      <th>좌표값</th>\n",
       "    </tr>\n",
       "  </thead>\n",
       "  <tbody>\n",
       "    <tr>\n",
       "      <th>0</th>\n",
       "      <td>을지로4가역</td>\n",
       "      <td>서울특별시</td>\n",
       "      <td>중구</td>\n",
       "      <td>POLYGON ((126.999081 37.566789, 127.002102 37....</td>\n",
       "    </tr>\n",
       "    <tr>\n",
       "      <th>1</th>\n",
       "      <td>동대문시장</td>\n",
       "      <td>서울특별시</td>\n",
       "      <td>중구</td>\n",
       "      <td>POLYGON ((127.009453 37.568775, 127.009445 37....</td>\n",
       "    </tr>\n",
       "    <tr>\n",
       "      <th>2</th>\n",
       "      <td>동대문역사문화공원역</td>\n",
       "      <td>서울특별시</td>\n",
       "      <td>중구</td>\n",
       "      <td>POLYGON ((127.007565 37.565945, 127.004846 37....</td>\n",
       "    </tr>\n",
       "    <tr>\n",
       "      <th>3</th>\n",
       "      <td>동대문시장</td>\n",
       "      <td>서울특별시</td>\n",
       "      <td>종로구</td>\n",
       "      <td>POLYGON ((127.009388 37.570565, 127.008984 37....</td>\n",
       "    </tr>\n",
       "    <tr>\n",
       "      <th>4</th>\n",
       "      <td>서울 종로구 종로5가역_1</td>\n",
       "      <td>서울특별시</td>\n",
       "      <td>종로구</td>\n",
       "      <td>POLYGON ((127.001795 37.57082, 127.000088 37.5...</td>\n",
       "    </tr>\n",
       "  </tbody>\n",
       "</table>\n",
       "</div>"
      ],
      "text/plain": [
       "              상권명    시도명 시군구명  \\\n",
       "0          을지로4가역  서울특별시   중구   \n",
       "1           동대문시장  서울특별시   중구   \n",
       "2      동대문역사문화공원역  서울특별시   중구   \n",
       "3           동대문시장  서울특별시  종로구   \n",
       "4  서울 종로구 종로5가역_1  서울특별시  종로구   \n",
       "\n",
       "                                                 좌표값  \n",
       "0  POLYGON ((126.999081 37.566789, 127.002102 37....  \n",
       "1  POLYGON ((127.009453 37.568775, 127.009445 37....  \n",
       "2  POLYGON ((127.007565 37.565945, 127.004846 37....  \n",
       "3  POLYGON ((127.009388 37.570565, 127.008984 37....  \n",
       "4  POLYGON ((127.001795 37.57082, 127.000088 37.5...  "
      ]
     },
     "execution_count": 102,
     "metadata": {},
     "output_type": "execute_result"
    }
   ],
   "source": [
    "df1=df[[\"상권명\",\"시도명\",\"시군구명\",\"좌표값\"]]\n",
    "df1"
   ]
  },
  {
   "cell_type": "code",
   "execution_count": null,
   "id": "bb814854",
   "metadata": {},
   "outputs": [],
   "source": []
  }
 ],
 "metadata": {
  "kernelspec": {
   "display_name": "Python 3",
   "language": "python",
   "name": "python3"
  },
  "language_info": {
   "codemirror_mode": {
    "name": "ipython",
    "version": 3
   },
   "file_extension": ".py",
   "mimetype": "text/x-python",
   "name": "python",
   "nbconvert_exporter": "python",
   "pygments_lexer": "ipython3",
   "version": "3.7.7"
  }
 },
 "nbformat": 4,
 "nbformat_minor": 5
}
