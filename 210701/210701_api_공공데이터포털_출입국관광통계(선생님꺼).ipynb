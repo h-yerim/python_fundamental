{
 "cells": [
  {
   "cell_type": "code",
   "execution_count": 2,
   "id": "6aeadfe0",
   "metadata": {},
   "outputs": [],
   "source": [
    "my_key = \"0C6iX2Ww%2BnB9GVY6k9Et5H9zqv%2FxjEsldVq1Wa9Co3lvcuaRi%2BI3gcoFoi3AckHg6B8AAf1cH0tKH4MXhYf57A%3D%3D\""
   ]
  },
  {
   "cell_type": "code",
   "execution_count": 10,
   "id": "fb400cb7",
   "metadata": {},
   "outputs": [],
   "source": [
    "end_point = \"http://openapi.tour.go.kr/openapi/service/\"\n",
    "op_url = \"EdrcntTourismStatsService/getEdrcntTourismStatsList?\"\n",
    "param_key = \"&serviceKey=\" + my_key "
   ]
  },
  {
   "cell_type": "code",
   "execution_count": 11,
   "id": "766d3d63",
   "metadata": {},
   "outputs": [],
   "source": [
    "op_url = \"EdrcntTourismStatsService/getEdrcntTourismStatsList?\""
   ]
  },
  {
   "cell_type": "code",
   "execution_count": 21,
   "id": "cf54b4df",
   "metadata": {},
   "outputs": [],
   "source": [
    "ym = \"202002\" ; nat_cd = \"112\" ; ed_cd = \"E\"\n",
    "param_ym = \"&YM=\" + ym\n",
    "param_nat_cd = \"&NAT_CD=\" + nat_cd\n",
    "param_ed_cd = \"&ED_CD=\" + ed_cd\n",
    "param_key = \"&serviceKey=\" + my_key "
   ]
  },
  {
   "cell_type": "code",
   "execution_count": 33,
   "id": "c907104e",
   "metadata": {},
   "outputs": [
    {
     "name": "stdout",
     "output_type": "stream",
     "text": [
      "http://openapi.tour.go.kr/openapi/service/EdrcntTourismStatsService/getEdrcntTourismStatsList?_type=json&serviceKey=0C6iX2Ww%2BnB9GVY6k9Et5H9zqv%2FxjEsldVq1Wa9Co3lvcuaRi%2BI3gcoFoi3AckHg6B8AAf1cH0tKH4MXhYf57A%3D%3D&YM=202002&NAT_CD=112&ED_CD=E\n"
     ]
    }
   ],
   "source": [
    "url = end_point + op_url + param_key + param_ym + param_nat_cd + param_ed_cd\n",
    "print(url)"
   ]
  },
  {
   "cell_type": "code",
   "execution_count": null,
   "id": "636587f4",
   "metadata": {},
   "outputs": [],
   "source": []
  },
  {
   "cell_type": "code",
   "execution_count": null,
   "id": "a9d52616",
   "metadata": {},
   "outputs": [],
   "source": []
  },
  {
   "cell_type": "markdown",
   "id": "8a1f87f4",
   "metadata": {},
   "source": [
    "## (실습. DataFrame 만들기 )"
   ]
  },
  {
   "cell_type": "code",
   "execution_count": 46,
   "id": "b53f416a",
   "metadata": {},
   "outputs": [
    {
     "data": {
      "text/html": [
       "<div>\n",
       "<style scoped>\n",
       "    .dataframe tbody tr th:only-of-type {\n",
       "        vertical-align: middle;\n",
       "    }\n",
       "\n",
       "    .dataframe tbody tr th {\n",
       "        vertical-align: top;\n",
       "    }\n",
       "\n",
       "    .dataframe thead th {\n",
       "        text-align: right;\n",
       "    }\n",
       "</style>\n",
       "<table border=\"1\" class=\"dataframe\">\n",
       "  <thead>\n",
       "    <tr style=\"text-align: right;\">\n",
       "      <th></th>\n",
       "      <th>item.ed</th>\n",
       "      <th>item.edCd</th>\n",
       "      <th>item.natCd</th>\n",
       "      <th>item.natKorNm</th>\n",
       "      <th>item.num</th>\n",
       "      <th>item.rnum</th>\n",
       "      <th>item.ym</th>\n",
       "    </tr>\n",
       "  </thead>\n",
       "  <tbody>\n",
       "    <tr>\n",
       "      <th>0</th>\n",
       "      <td>방한외래관광객</td>\n",
       "      <td>E</td>\n",
       "      <td>112</td>\n",
       "      <td>중  국</td>\n",
       "      <td>104086</td>\n",
       "      <td>1</td>\n",
       "      <td>202002</td>\n",
       "    </tr>\n",
       "  </tbody>\n",
       "</table>\n",
       "</div>"
      ],
      "text/plain": [
       "   item.ed item.edCd  item.natCd item.natKorNm  item.num  item.rnum  item.ym\n",
       "0  방한외래관광객         E         112          중  국    104086          1   202002"
      ]
     },
     "execution_count": 46,
     "metadata": {},
     "output_type": "execute_result"
    }
   ],
   "source": [
    "import urllib.request\n",
    "res = urllib.request.urlopen(url)\n",
    "json_str = res.read().decode(\"utf-8\")\n",
    "import json\n",
    "json_object = json.loads(json_str) \n",
    "import pandas as pd\n",
    "pd.json_normalize(json_object[\"response\"][\"body\"][\"items\"])"
   ]
  },
  {
   "cell_type": "code",
   "execution_count": null,
   "id": "f1594bc9",
   "metadata": {},
   "outputs": [],
   "source": []
  },
  {
   "cell_type": "markdown",
   "id": "69b6dfb2",
   "metadata": {},
   "source": [
    "### (실습.. 출입국 데이터 만들기 ) \n",
    "1. 국가 3개 -> 112(중국), 130(일본), 275(미국)\n",
    "2. 기간 -> 2019, 2020 년도\n",
    "   - 년도별 01월 ~ 12월 \n",
    "3. 국가별, 년월별 방문객수 구하기 \n",
    "   - 72개.. "
   ]
  },
  {
   "cell_type": "code",
   "execution_count": 48,
   "id": "4fdd709d",
   "metadata": {},
   "outputs": [],
   "source": [
    "# 4. 작업방법\n",
    "#    - url을 받아서 item을 Return 해주는 함수 만들고 \n",
    "#    - for 국가별\n",
    "#    -    for 년도 \n",
    "#    -       for 월 \n",
    "#    -          url 조합 후 함수 실행 \n",
    "#    -          return받은 데이터 -> DataFrame에 합치기 "
   ]
  },
  {
   "cell_type": "code",
   "execution_count": 1,
   "id": "4ef6ace1",
   "metadata": {},
   "outputs": [],
   "source": [
    "import requests \n",
    "def get_visit(url, params):\n",
    "    req = requests.get(url, params)\n",
    "    item = req.json()[\"response\"][\"body\"][\"items\"]\n",
    "    return item"
   ]
  },
  {
   "cell_type": "code",
   "execution_count": 2,
   "id": "f7d645d9",
   "metadata": {},
   "outputs": [
    {
     "ename": "NameError",
     "evalue": "name 'my_key' is not defined",
     "output_type": "error",
     "traceback": [
      "\u001b[1;31m---------------------------------------------------------------------------\u001b[0m",
      "\u001b[1;31mNameError\u001b[0m                                 Traceback (most recent call last)",
      "\u001b[1;32m<ipython-input-2-ec667f3ac6b8>\u001b[0m in \u001b[0;36m<module>\u001b[1;34m\u001b[0m\n\u001b[0;32m      1\u001b[0m \u001b[0mend_point\u001b[0m \u001b[1;33m=\u001b[0m \u001b[1;34m\"http://openapi.tour.go.kr/openapi/service/\"\u001b[0m\u001b[1;33m\u001b[0m\u001b[1;33m\u001b[0m\u001b[0m\n\u001b[0;32m      2\u001b[0m \u001b[0mop_url\u001b[0m \u001b[1;33m=\u001b[0m \u001b[1;34m\"EdrcntTourismStatsService/getEdrcntTourismStatsList?\"\u001b[0m\u001b[1;33m\u001b[0m\u001b[1;33m\u001b[0m\u001b[0m\n\u001b[1;32m----> 3\u001b[1;33m \u001b[0mparam_key\u001b[0m \u001b[1;33m=\u001b[0m \u001b[1;34m\"&serviceKey=\"\u001b[0m \u001b[1;33m+\u001b[0m \u001b[0mmy_key\u001b[0m\u001b[1;33m\u001b[0m\u001b[1;33m\u001b[0m\u001b[0m\n\u001b[0m\u001b[0;32m      4\u001b[0m \u001b[1;33m\u001b[0m\u001b[0m\n\u001b[0;32m      5\u001b[0m \u001b[0mcountry_code\u001b[0m \u001b[1;33m=\u001b[0m \u001b[1;33m[\u001b[0m\u001b[1;34m\"112\"\u001b[0m\u001b[1;33m,\u001b[0m\u001b[1;34m\"130\"\u001b[0m\u001b[1;33m,\u001b[0m\u001b[1;34m\"275\"\u001b[0m\u001b[1;33m]\u001b[0m\u001b[1;33m\u001b[0m\u001b[1;33m\u001b[0m\u001b[0m\n",
      "\u001b[1;31mNameError\u001b[0m: name 'my_key' is not defined"
     ]
    }
   ],
   "source": [
    "end_point = \"http://openapi.tour.go.kr/openapi/service/\"\n",
    "op_url = \"EdrcntTourismStatsService/getEdrcntTourismStatsList?\"\n",
    "param_key = \"&serviceKey=\" + my_key \n",
    "\n",
    "country_code = [\"112\",\"130\",\"275\"]\n",
    "visit_year = [2019,2020]\n",
    "\n",
    "init = 0\n",
    "for country in country_code:\n",
    "    for year in visit_year:\n",
    "        for month in range(1,13):\n",
    "            params = {\"YM\": str(year) + \"%02d\"%month,  # \"201901\", \"201902\"\n",
    "                      \"NAT_CD\":country,\n",
    "                      \"ED_CD\":\"E\"}\n",
    "            url = end_point + op_url + param_key\n",
    "            print(url)\n",
    "            result = get_visit(url, params)\n",
    "            df = pd.json_normalize(result)\n",
    "            if init == 0:\n",
    "                df_total = df.copy() ; init = 1\n",
    "            else:\n",
    "                df_total = pd.concat([df_total, df])\n",
    "df_total.head(3)"
   ]
  },
  {
   "cell_type": "code",
   "execution_count": null,
   "id": "b776540a",
   "metadata": {},
   "outputs": [],
   "source": []
  }
 ],
 "metadata": {
  "kernelspec": {
   "display_name": "Python 3",
   "language": "python",
   "name": "python3"
  },
  "language_info": {
   "codemirror_mode": {
    "name": "ipython",
    "version": 3
   },
   "file_extension": ".py",
   "mimetype": "text/x-python",
   "name": "python",
   "nbconvert_exporter": "python",
   "pygments_lexer": "ipython3",
   "version": "3.8.8"
  }
 },
 "nbformat": 4,
 "nbformat_minor": 5
}
