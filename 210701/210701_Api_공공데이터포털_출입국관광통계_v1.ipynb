{
 "cells": [
  {
   "cell_type": "code",
   "execution_count": 22,
   "id": "9a70b024",
   "metadata": {},
   "outputs": [],
   "source": [
    "# my_key=\"ae%2FCbZZ%2BKO%2FvNpxCFk2XfKdZ7H5Y76r1M0%2FZqfanqdYoNn%2Fazx9yA%2FTYFrOP9j6mymV1%2FOUTweYbtmZFnrxb8w%3D%3D\""
   ]
  },
  {
   "cell_type": "code",
   "execution_count": 29,
   "id": "6875febf",
   "metadata": {},
   "outputs": [],
   "source": [
    "my_key =\"0C6iX2Ww%2BnB9GVY6k9Et5H9zqv%2FxjEsldVq1Wa9Co3lvcuaRi%2BI3gcoFoi3AckHg6B8AAf1cH0tKH4MXhYf57A%3D%3D\""
   ]
  },
  {
   "cell_type": "code",
   "execution_count": 30,
   "id": "8493a56b",
   "metadata": {},
   "outputs": [],
   "source": [
    "end_point=\"http://openapi.tour.go.kr/openapi/service/\""
   ]
  },
  {
   "cell_type": "code",
   "execution_count": 31,
   "id": "d184ae71",
   "metadata": {},
   "outputs": [],
   "source": [
    "op_url=\"EdrcntTourismStatsService/getEdrcntTourismStatsList?\""
   ]
  },
  {
   "cell_type": "code",
   "execution_count": 101,
   "id": "d44032d4",
   "metadata": {},
   "outputs": [],
   "source": [
    "ym=\"202002\"\n",
    "nat_cd=\"112\"\n",
    "ed_cd=\"E\"\n",
    "param_ym=\"&YM=\" +ym\n",
    "param_nat_cd=\"&NAT_CD=\"+nat_cd\n",
    "param_ed_cd=\"&ED_CD=\"+ed_cd\n",
    "param_key=\"&serviceKey=\"+my_key\n",
    "data_type=\"_type=json\""
   ]
  },
  {
   "cell_type": "code",
   "execution_count": 102,
   "id": "ba7af5dc",
   "metadata": {},
   "outputs": [
    {
     "name": "stdout",
     "output_type": "stream",
     "text": [
      "http://openapi.tour.go.kr/openapi/service/EdrcntTourismStatsService/getEdrcntTourismStatsList?_type=json&serviceKey=0C6iX2Ww%2BnB9GVY6k9Et5H9zqv%2FxjEsldVq1Wa9Co3lvcuaRi%2BI3gcoFoi3AckHg6B8AAf1cH0tKH4MXhYf57A%3D%3D&YM=202002&NAT_CD=112&ED_CD=E\n"
     ]
    }
   ],
   "source": [
    "url=end_point+op_url+data_type+param_key+param_ym+param_nat_cd+param_ed_cd\n",
    "print(url)"
   ]
  },
  {
   "cell_type": "markdown",
   "id": "99762044",
   "metadata": {},
   "source": [
    "### 실습.DataFrame 만들기"
   ]
  },
  {
   "cell_type": "code",
   "execution_count": 103,
   "id": "50e8d87d",
   "metadata": {},
   "outputs": [
    {
     "data": {
      "text/plain": [
       "<http.client.HTTPResponse at 0x24e80221190>"
      ]
     },
     "execution_count": 103,
     "metadata": {},
     "output_type": "execute_result"
    }
   ],
   "source": [
    "import urllib.request\n",
    "urllib.request.urlopen(url)\n",
    "res=urllib.request.urlopen(url);res"
   ]
  },
  {
   "cell_type": "code",
   "execution_count": 104,
   "id": "98da93bf",
   "metadata": {},
   "outputs": [
    {
     "data": {
      "text/plain": [
       "'{\"response\":{\"header\":{\"resultCode\":\"0000\",\"resultMsg\":\"OK\"},\"body\":{\"items\":{\"item\":{\"ed\":\"방한외래관광객\",\"edCd\":\"E\",\"natCd\":112,\"natKorNm\":\"중  국\",\"num\":104086,\"rnum\":1,\"ym\":202002}},\"numOfRows\":10,\"pageNo\":1,\"totalCount\":1}}}'"
      ]
     },
     "execution_count": 104,
     "metadata": {},
     "output_type": "execute_result"
    }
   ],
   "source": [
    "res.read().decode(\"utf-8\")"
   ]
  },
  {
   "cell_type": "code",
   "execution_count": 106,
   "id": "a5474858",
   "metadata": {},
   "outputs": [
    {
     "data": {
      "text/plain": [
       "'{\"response\":{\"header\":{\"resultCode\":\"0000\",\"resultMsg\":\"OK\"},\"body\":{\"items\":{\"item\":{\"ed\":\"방한외래관광객\",\"edCd\":\"E\",\"natCd\":112,\"natKorNm\":\"중  국\",\"num\":104086,\"rnum\":1,\"ym\":202002}},\"numOfRows\":10,\"pageNo\":1,\"totalCount\":1}}}'"
      ]
     },
     "execution_count": 106,
     "metadata": {},
     "output_type": "execute_result"
    }
   ],
   "source": [
    "res=urllib.request.urlopen(url)\n",
    "json_str=res.read().decode(\"utf-8\");\n",
    "json_str"
   ]
  },
  {
   "cell_type": "code",
   "execution_count": 109,
   "id": "d63f954a",
   "metadata": {},
   "outputs": [
    {
     "data": {
      "text/plain": [
       "dict"
      ]
     },
     "execution_count": 109,
     "metadata": {},
     "output_type": "execute_result"
    }
   ],
   "source": [
    "import json\n",
    "json_object=json.loads(json_str)\n",
    "type(json_object)"
   ]
  },
  {
   "cell_type": "code",
   "execution_count": 110,
   "id": "34020b84",
   "metadata": {},
   "outputs": [
    {
     "data": {
      "text/plain": [
       "dict_keys(['response'])"
      ]
     },
     "execution_count": 110,
     "metadata": {},
     "output_type": "execute_result"
    }
   ],
   "source": [
    "json_object.keys()"
   ]
  },
  {
   "cell_type": "code",
   "execution_count": 111,
   "id": "f16eb4e0",
   "metadata": {},
   "outputs": [
    {
     "data": {
      "text/plain": [
       "{'header': {'resultCode': '0000', 'resultMsg': 'OK'},\n",
       " 'body': {'items': {'item': {'ed': '방한외래관광객',\n",
       "    'edCd': 'E',\n",
       "    'natCd': 112,\n",
       "    'natKorNm': '중  국',\n",
       "    'num': 104086,\n",
       "    'rnum': 1,\n",
       "    'ym': 202002}},\n",
       "  'numOfRows': 10,\n",
       "  'pageNo': 1,\n",
       "  'totalCount': 1}}"
      ]
     },
     "execution_count": 111,
     "metadata": {},
     "output_type": "execute_result"
    }
   ],
   "source": [
    "json_object['response']"
   ]
  },
  {
   "cell_type": "code",
   "execution_count": 113,
   "id": "315a35bc",
   "metadata": {},
   "outputs": [
    {
     "data": {
      "text/plain": [
       "dict_keys(['header', 'body'])"
      ]
     },
     "execution_count": 113,
     "metadata": {},
     "output_type": "execute_result"
    }
   ],
   "source": [
    "json_object['response'].keys()"
   ]
  },
  {
   "cell_type": "code",
   "execution_count": 117,
   "id": "c0c39488",
   "metadata": {},
   "outputs": [
    {
     "data": {
      "text/plain": [
       "{'item': {'ed': '방한외래관광객',\n",
       "  'edCd': 'E',\n",
       "  'natCd': 112,\n",
       "  'natKorNm': '중  국',\n",
       "  'num': 104086,\n",
       "  'rnum': 1,\n",
       "  'ym': 202002}}"
      ]
     },
     "execution_count": 117,
     "metadata": {},
     "output_type": "execute_result"
    }
   ],
   "source": [
    "json_object['response']['body']['items']"
   ]
  },
  {
   "cell_type": "code",
   "execution_count": 118,
   "id": "8b87d470",
   "metadata": {},
   "outputs": [
    {
     "data": {
      "text/html": [
       "<div>\n",
       "<style scoped>\n",
       "    .dataframe tbody tr th:only-of-type {\n",
       "        vertical-align: middle;\n",
       "    }\n",
       "\n",
       "    .dataframe tbody tr th {\n",
       "        vertical-align: top;\n",
       "    }\n",
       "\n",
       "    .dataframe thead th {\n",
       "        text-align: right;\n",
       "    }\n",
       "</style>\n",
       "<table border=\"1\" class=\"dataframe\">\n",
       "  <thead>\n",
       "    <tr style=\"text-align: right;\">\n",
       "      <th></th>\n",
       "      <th>item</th>\n",
       "    </tr>\n",
       "  </thead>\n",
       "  <tbody>\n",
       "    <tr>\n",
       "      <th>ed</th>\n",
       "      <td>방한외래관광객</td>\n",
       "    </tr>\n",
       "    <tr>\n",
       "      <th>edCd</th>\n",
       "      <td>E</td>\n",
       "    </tr>\n",
       "    <tr>\n",
       "      <th>natCd</th>\n",
       "      <td>112</td>\n",
       "    </tr>\n",
       "    <tr>\n",
       "      <th>natKorNm</th>\n",
       "      <td>중  국</td>\n",
       "    </tr>\n",
       "    <tr>\n",
       "      <th>num</th>\n",
       "      <td>104086</td>\n",
       "    </tr>\n",
       "    <tr>\n",
       "      <th>rnum</th>\n",
       "      <td>1</td>\n",
       "    </tr>\n",
       "    <tr>\n",
       "      <th>ym</th>\n",
       "      <td>202002</td>\n",
       "    </tr>\n",
       "  </tbody>\n",
       "</table>\n",
       "</div>"
      ],
      "text/plain": [
       "             item\n",
       "ed        방한외래관광객\n",
       "edCd            E\n",
       "natCd         112\n",
       "natKorNm     중  국\n",
       "num        104086\n",
       "rnum            1\n",
       "ym         202002"
      ]
     },
     "execution_count": 118,
     "metadata": {},
     "output_type": "execute_result"
    }
   ],
   "source": [
    "import pandas as pd\n",
    "pd.DataFrame(json_object['response']['body']['items'])"
   ]
  },
  {
   "cell_type": "code",
   "execution_count": 119,
   "id": "5a11950b",
   "metadata": {},
   "outputs": [
    {
     "data": {
      "text/html": [
       "<div>\n",
       "<style scoped>\n",
       "    .dataframe tbody tr th:only-of-type {\n",
       "        vertical-align: middle;\n",
       "    }\n",
       "\n",
       "    .dataframe tbody tr th {\n",
       "        vertical-align: top;\n",
       "    }\n",
       "\n",
       "    .dataframe thead th {\n",
       "        text-align: right;\n",
       "    }\n",
       "</style>\n",
       "<table border=\"1\" class=\"dataframe\">\n",
       "  <thead>\n",
       "    <tr style=\"text-align: right;\">\n",
       "      <th></th>\n",
       "      <th>item.ed</th>\n",
       "      <th>item.edCd</th>\n",
       "      <th>item.natCd</th>\n",
       "      <th>item.natKorNm</th>\n",
       "      <th>item.num</th>\n",
       "      <th>item.rnum</th>\n",
       "      <th>item.ym</th>\n",
       "    </tr>\n",
       "  </thead>\n",
       "  <tbody>\n",
       "    <tr>\n",
       "      <th>0</th>\n",
       "      <td>방한외래관광객</td>\n",
       "      <td>E</td>\n",
       "      <td>112</td>\n",
       "      <td>중  국</td>\n",
       "      <td>104086</td>\n",
       "      <td>1</td>\n",
       "      <td>202002</td>\n",
       "    </tr>\n",
       "  </tbody>\n",
       "</table>\n",
       "</div>"
      ],
      "text/plain": [
       "   item.ed item.edCd  item.natCd item.natKorNm  item.num  item.rnum  item.ym\n",
       "0  방한외래관광객         E         112          중  국    104086          1   202002"
      ]
     },
     "execution_count": 119,
     "metadata": {},
     "output_type": "execute_result"
    }
   ],
   "source": [
    "pd.json_normalize(json_object['response']['body']['items'])"
   ]
  },
  {
   "cell_type": "code",
   "execution_count": 121,
   "id": "3615b26a",
   "metadata": {},
   "outputs": [
    {
     "data": {
      "text/html": [
       "<div>\n",
       "<style scoped>\n",
       "    .dataframe tbody tr th:only-of-type {\n",
       "        vertical-align: middle;\n",
       "    }\n",
       "\n",
       "    .dataframe tbody tr th {\n",
       "        vertical-align: top;\n",
       "    }\n",
       "\n",
       "    .dataframe thead th {\n",
       "        text-align: right;\n",
       "    }\n",
       "</style>\n",
       "<table border=\"1\" class=\"dataframe\">\n",
       "  <thead>\n",
       "    <tr style=\"text-align: right;\">\n",
       "      <th></th>\n",
       "      <th>item.ed</th>\n",
       "      <th>item.edCd</th>\n",
       "      <th>item.natCd</th>\n",
       "      <th>item.natKorNm</th>\n",
       "      <th>item.num</th>\n",
       "      <th>item.rnum</th>\n",
       "      <th>item.ym</th>\n",
       "    </tr>\n",
       "  </thead>\n",
       "  <tbody>\n",
       "    <tr>\n",
       "      <th>0</th>\n",
       "      <td>방한외래관광객</td>\n",
       "      <td>E</td>\n",
       "      <td>112</td>\n",
       "      <td>중  국</td>\n",
       "      <td>104086</td>\n",
       "      <td>1</td>\n",
       "      <td>202002</td>\n",
       "    </tr>\n",
       "  </tbody>\n",
       "</table>\n",
       "</div>"
      ],
      "text/plain": [
       "   item.ed item.edCd  item.natCd item.natKorNm  item.num  item.rnum  item.ym\n",
       "0  방한외래관광객         E         112          중  국    104086          1   202002"
      ]
     },
     "execution_count": 121,
     "metadata": {},
     "output_type": "execute_result"
    }
   ],
   "source": [
    "#합치기\n",
    "import urllib.request\n",
    "import json\n",
    "import pandas as pd\n",
    "url=end_point+op_url+data_type+param_key+param_ym+param_nat_cd+param_ed_cd\n",
    "urllib.request.urlopen(url)\n",
    "res=urllib.request.urlopen(url)\n",
    "json_object=json.loads(json_str)\n",
    "#pd.DataFrame(json_object['response']['body']['items']) 얘보단 밑에 꺼가 나음\n",
    "pd.json_normalize(json_object['response']['body']['items'])"
   ]
  },
  {
   "cell_type": "markdown",
   "id": "f65883ff",
   "metadata": {},
   "source": [
    "### 실습. 출입국데이터만들기\n",
    "1. 국가 3개 => 112(중국),130(일본),275(미국)\n",
    "2. 기간 => 2019,2020 년도\n",
    " - 년도별 01~12월\n",
    "3. 국가별, 년월별 방문객수 구하기\n",
    " - 국가이름, 년월, 방문객수\n",
    "4. 작업방법\n",
    " - url 받아서 item return 해주는 함수만들고\n",
    "  + for 국가별\n",
    "     +for 년도\n",
    "          +for 월\n",
    "              +url 조합후 함수 실행\n",
    "                   +return 받은데이터 -> DataFrame에 합치기"
   ]
  },
  {
   "cell_type": "code",
   "execution_count": 134,
   "id": "6bcebf01",
   "metadata": {},
   "outputs": [
    {
     "name": "stdout",
     "output_type": "stream",
     "text": [
      "http://openapi.tour.go.kr/openapi/service/EdrcntTourismStatsService/getEdrcntTourismStatsList?_type=json&serviceKey=0C6iX2Ww%2BnB9GVY6k9Et5H9zqv%2FxjEsldVq1Wa9Co3lvcuaRi%2BI3gcoFoi3AckHg6B8AAf1cH0tKH4MXhYf57A%3D%3D&YM=201901&NAT_CD=112&ED_CD=E\n",
      "http://openapi.tour.go.kr/openapi/service/EdrcntTourismStatsService/getEdrcntTourismStatsList?_type=json&serviceKey=0C6iX2Ww%2BnB9GVY6k9Et5H9zqv%2FxjEsldVq1Wa9Co3lvcuaRi%2BI3gcoFoi3AckHg6B8AAf1cH0tKH4MXhYf57A%3D%3D&YM=201902&NAT_CD=112&ED_CD=E\n",
      "http://openapi.tour.go.kr/openapi/service/EdrcntTourismStatsService/getEdrcntTourismStatsList?_type=json&serviceKey=0C6iX2Ww%2BnB9GVY6k9Et5H9zqv%2FxjEsldVq1Wa9Co3lvcuaRi%2BI3gcoFoi3AckHg6B8AAf1cH0tKH4MXhYf57A%3D%3D&YM=201903&NAT_CD=112&ED_CD=E\n",
      "http://openapi.tour.go.kr/openapi/service/EdrcntTourismStatsService/getEdrcntTourismStatsList?_type=json&serviceKey=0C6iX2Ww%2BnB9GVY6k9Et5H9zqv%2FxjEsldVq1Wa9Co3lvcuaRi%2BI3gcoFoi3AckHg6B8AAf1cH0tKH4MXhYf57A%3D%3D&YM=201904&NAT_CD=112&ED_CD=E\n",
      "http://openapi.tour.go.kr/openapi/service/EdrcntTourismStatsService/getEdrcntTourismStatsList?_type=json&serviceKey=0C6iX2Ww%2BnB9GVY6k9Et5H9zqv%2FxjEsldVq1Wa9Co3lvcuaRi%2BI3gcoFoi3AckHg6B8AAf1cH0tKH4MXhYf57A%3D%3D&YM=201905&NAT_CD=112&ED_CD=E\n",
      "http://openapi.tour.go.kr/openapi/service/EdrcntTourismStatsService/getEdrcntTourismStatsList?_type=json&serviceKey=0C6iX2Ww%2BnB9GVY6k9Et5H9zqv%2FxjEsldVq1Wa9Co3lvcuaRi%2BI3gcoFoi3AckHg6B8AAf1cH0tKH4MXhYf57A%3D%3D&YM=201906&NAT_CD=112&ED_CD=E\n",
      "http://openapi.tour.go.kr/openapi/service/EdrcntTourismStatsService/getEdrcntTourismStatsList?_type=json&serviceKey=0C6iX2Ww%2BnB9GVY6k9Et5H9zqv%2FxjEsldVq1Wa9Co3lvcuaRi%2BI3gcoFoi3AckHg6B8AAf1cH0tKH4MXhYf57A%3D%3D&YM=201907&NAT_CD=112&ED_CD=E\n",
      "http://openapi.tour.go.kr/openapi/service/EdrcntTourismStatsService/getEdrcntTourismStatsList?_type=json&serviceKey=0C6iX2Ww%2BnB9GVY6k9Et5H9zqv%2FxjEsldVq1Wa9Co3lvcuaRi%2BI3gcoFoi3AckHg6B8AAf1cH0tKH4MXhYf57A%3D%3D&YM=201908&NAT_CD=112&ED_CD=E\n",
      "http://openapi.tour.go.kr/openapi/service/EdrcntTourismStatsService/getEdrcntTourismStatsList?_type=json&serviceKey=0C6iX2Ww%2BnB9GVY6k9Et5H9zqv%2FxjEsldVq1Wa9Co3lvcuaRi%2BI3gcoFoi3AckHg6B8AAf1cH0tKH4MXhYf57A%3D%3D&YM=201909&NAT_CD=112&ED_CD=E\n",
      "http://openapi.tour.go.kr/openapi/service/EdrcntTourismStatsService/getEdrcntTourismStatsList?_type=json&serviceKey=0C6iX2Ww%2BnB9GVY6k9Et5H9zqv%2FxjEsldVq1Wa9Co3lvcuaRi%2BI3gcoFoi3AckHg6B8AAf1cH0tKH4MXhYf57A%3D%3D&YM=201910&NAT_CD=112&ED_CD=E\n",
      "http://openapi.tour.go.kr/openapi/service/EdrcntTourismStatsService/getEdrcntTourismStatsList?_type=json&serviceKey=0C6iX2Ww%2BnB9GVY6k9Et5H9zqv%2FxjEsldVq1Wa9Co3lvcuaRi%2BI3gcoFoi3AckHg6B8AAf1cH0tKH4MXhYf57A%3D%3D&YM=201911&NAT_CD=112&ED_CD=E\n",
      "http://openapi.tour.go.kr/openapi/service/EdrcntTourismStatsService/getEdrcntTourismStatsList?_type=json&serviceKey=0C6iX2Ww%2BnB9GVY6k9Et5H9zqv%2FxjEsldVq1Wa9Co3lvcuaRi%2BI3gcoFoi3AckHg6B8AAf1cH0tKH4MXhYf57A%3D%3D&YM=201912&NAT_CD=112&ED_CD=E\n",
      "http://openapi.tour.go.kr/openapi/service/EdrcntTourismStatsService/getEdrcntTourismStatsList?_type=json&serviceKey=0C6iX2Ww%2BnB9GVY6k9Et5H9zqv%2FxjEsldVq1Wa9Co3lvcuaRi%2BI3gcoFoi3AckHg6B8AAf1cH0tKH4MXhYf57A%3D%3D&YM=202001&NAT_CD=112&ED_CD=E\n",
      "http://openapi.tour.go.kr/openapi/service/EdrcntTourismStatsService/getEdrcntTourismStatsList?_type=json&serviceKey=0C6iX2Ww%2BnB9GVY6k9Et5H9zqv%2FxjEsldVq1Wa9Co3lvcuaRi%2BI3gcoFoi3AckHg6B8AAf1cH0tKH4MXhYf57A%3D%3D&YM=202002&NAT_CD=112&ED_CD=E\n",
      "http://openapi.tour.go.kr/openapi/service/EdrcntTourismStatsService/getEdrcntTourismStatsList?_type=json&serviceKey=0C6iX2Ww%2BnB9GVY6k9Et5H9zqv%2FxjEsldVq1Wa9Co3lvcuaRi%2BI3gcoFoi3AckHg6B8AAf1cH0tKH4MXhYf57A%3D%3D&YM=202003&NAT_CD=112&ED_CD=E\n",
      "http://openapi.tour.go.kr/openapi/service/EdrcntTourismStatsService/getEdrcntTourismStatsList?_type=json&serviceKey=0C6iX2Ww%2BnB9GVY6k9Et5H9zqv%2FxjEsldVq1Wa9Co3lvcuaRi%2BI3gcoFoi3AckHg6B8AAf1cH0tKH4MXhYf57A%3D%3D&YM=202004&NAT_CD=112&ED_CD=E\n",
      "http://openapi.tour.go.kr/openapi/service/EdrcntTourismStatsService/getEdrcntTourismStatsList?_type=json&serviceKey=0C6iX2Ww%2BnB9GVY6k9Et5H9zqv%2FxjEsldVq1Wa9Co3lvcuaRi%2BI3gcoFoi3AckHg6B8AAf1cH0tKH4MXhYf57A%3D%3D&YM=202005&NAT_CD=112&ED_CD=E\n",
      "http://openapi.tour.go.kr/openapi/service/EdrcntTourismStatsService/getEdrcntTourismStatsList?_type=json&serviceKey=0C6iX2Ww%2BnB9GVY6k9Et5H9zqv%2FxjEsldVq1Wa9Co3lvcuaRi%2BI3gcoFoi3AckHg6B8AAf1cH0tKH4MXhYf57A%3D%3D&YM=202006&NAT_CD=112&ED_CD=E\n",
      "http://openapi.tour.go.kr/openapi/service/EdrcntTourismStatsService/getEdrcntTourismStatsList?_type=json&serviceKey=0C6iX2Ww%2BnB9GVY6k9Et5H9zqv%2FxjEsldVq1Wa9Co3lvcuaRi%2BI3gcoFoi3AckHg6B8AAf1cH0tKH4MXhYf57A%3D%3D&YM=202007&NAT_CD=112&ED_CD=E\n",
      "http://openapi.tour.go.kr/openapi/service/EdrcntTourismStatsService/getEdrcntTourismStatsList?_type=json&serviceKey=0C6iX2Ww%2BnB9GVY6k9Et5H9zqv%2FxjEsldVq1Wa9Co3lvcuaRi%2BI3gcoFoi3AckHg6B8AAf1cH0tKH4MXhYf57A%3D%3D&YM=202008&NAT_CD=112&ED_CD=E\n",
      "http://openapi.tour.go.kr/openapi/service/EdrcntTourismStatsService/getEdrcntTourismStatsList?_type=json&serviceKey=0C6iX2Ww%2BnB9GVY6k9Et5H9zqv%2FxjEsldVq1Wa9Co3lvcuaRi%2BI3gcoFoi3AckHg6B8AAf1cH0tKH4MXhYf57A%3D%3D&YM=202009&NAT_CD=112&ED_CD=E\n",
      "http://openapi.tour.go.kr/openapi/service/EdrcntTourismStatsService/getEdrcntTourismStatsList?_type=json&serviceKey=0C6iX2Ww%2BnB9GVY6k9Et5H9zqv%2FxjEsldVq1Wa9Co3lvcuaRi%2BI3gcoFoi3AckHg6B8AAf1cH0tKH4MXhYf57A%3D%3D&YM=202010&NAT_CD=112&ED_CD=E\n",
      "http://openapi.tour.go.kr/openapi/service/EdrcntTourismStatsService/getEdrcntTourismStatsList?_type=json&serviceKey=0C6iX2Ww%2BnB9GVY6k9Et5H9zqv%2FxjEsldVq1Wa9Co3lvcuaRi%2BI3gcoFoi3AckHg6B8AAf1cH0tKH4MXhYf57A%3D%3D&YM=202011&NAT_CD=112&ED_CD=E\n",
      "http://openapi.tour.go.kr/openapi/service/EdrcntTourismStatsService/getEdrcntTourismStatsList?_type=json&serviceKey=0C6iX2Ww%2BnB9GVY6k9Et5H9zqv%2FxjEsldVq1Wa9Co3lvcuaRi%2BI3gcoFoi3AckHg6B8AAf1cH0tKH4MXhYf57A%3D%3D&YM=202012&NAT_CD=112&ED_CD=E\n",
      "http://openapi.tour.go.kr/openapi/service/EdrcntTourismStatsService/getEdrcntTourismStatsList?_type=json&serviceKey=0C6iX2Ww%2BnB9GVY6k9Et5H9zqv%2FxjEsldVq1Wa9Co3lvcuaRi%2BI3gcoFoi3AckHg6B8AAf1cH0tKH4MXhYf57A%3D%3D&YM=201901&NAT_CD=130&ED_CD=E\n",
      "http://openapi.tour.go.kr/openapi/service/EdrcntTourismStatsService/getEdrcntTourismStatsList?_type=json&serviceKey=0C6iX2Ww%2BnB9GVY6k9Et5H9zqv%2FxjEsldVq1Wa9Co3lvcuaRi%2BI3gcoFoi3AckHg6B8AAf1cH0tKH4MXhYf57A%3D%3D&YM=201902&NAT_CD=130&ED_CD=E\n",
      "http://openapi.tour.go.kr/openapi/service/EdrcntTourismStatsService/getEdrcntTourismStatsList?_type=json&serviceKey=0C6iX2Ww%2BnB9GVY6k9Et5H9zqv%2FxjEsldVq1Wa9Co3lvcuaRi%2BI3gcoFoi3AckHg6B8AAf1cH0tKH4MXhYf57A%3D%3D&YM=201903&NAT_CD=130&ED_CD=E\n",
      "http://openapi.tour.go.kr/openapi/service/EdrcntTourismStatsService/getEdrcntTourismStatsList?_type=json&serviceKey=0C6iX2Ww%2BnB9GVY6k9Et5H9zqv%2FxjEsldVq1Wa9Co3lvcuaRi%2BI3gcoFoi3AckHg6B8AAf1cH0tKH4MXhYf57A%3D%3D&YM=201904&NAT_CD=130&ED_CD=E\n",
      "http://openapi.tour.go.kr/openapi/service/EdrcntTourismStatsService/getEdrcntTourismStatsList?_type=json&serviceKey=0C6iX2Ww%2BnB9GVY6k9Et5H9zqv%2FxjEsldVq1Wa9Co3lvcuaRi%2BI3gcoFoi3AckHg6B8AAf1cH0tKH4MXhYf57A%3D%3D&YM=201905&NAT_CD=130&ED_CD=E\n",
      "http://openapi.tour.go.kr/openapi/service/EdrcntTourismStatsService/getEdrcntTourismStatsList?_type=json&serviceKey=0C6iX2Ww%2BnB9GVY6k9Et5H9zqv%2FxjEsldVq1Wa9Co3lvcuaRi%2BI3gcoFoi3AckHg6B8AAf1cH0tKH4MXhYf57A%3D%3D&YM=201906&NAT_CD=130&ED_CD=E\n",
      "http://openapi.tour.go.kr/openapi/service/EdrcntTourismStatsService/getEdrcntTourismStatsList?_type=json&serviceKey=0C6iX2Ww%2BnB9GVY6k9Et5H9zqv%2FxjEsldVq1Wa9Co3lvcuaRi%2BI3gcoFoi3AckHg6B8AAf1cH0tKH4MXhYf57A%3D%3D&YM=201907&NAT_CD=130&ED_CD=E\n",
      "http://openapi.tour.go.kr/openapi/service/EdrcntTourismStatsService/getEdrcntTourismStatsList?_type=json&serviceKey=0C6iX2Ww%2BnB9GVY6k9Et5H9zqv%2FxjEsldVq1Wa9Co3lvcuaRi%2BI3gcoFoi3AckHg6B8AAf1cH0tKH4MXhYf57A%3D%3D&YM=201908&NAT_CD=130&ED_CD=E\n",
      "http://openapi.tour.go.kr/openapi/service/EdrcntTourismStatsService/getEdrcntTourismStatsList?_type=json&serviceKey=0C6iX2Ww%2BnB9GVY6k9Et5H9zqv%2FxjEsldVq1Wa9Co3lvcuaRi%2BI3gcoFoi3AckHg6B8AAf1cH0tKH4MXhYf57A%3D%3D&YM=201909&NAT_CD=130&ED_CD=E\n",
      "http://openapi.tour.go.kr/openapi/service/EdrcntTourismStatsService/getEdrcntTourismStatsList?_type=json&serviceKey=0C6iX2Ww%2BnB9GVY6k9Et5H9zqv%2FxjEsldVq1Wa9Co3lvcuaRi%2BI3gcoFoi3AckHg6B8AAf1cH0tKH4MXhYf57A%3D%3D&YM=201910&NAT_CD=130&ED_CD=E\n",
      "http://openapi.tour.go.kr/openapi/service/EdrcntTourismStatsService/getEdrcntTourismStatsList?_type=json&serviceKey=0C6iX2Ww%2BnB9GVY6k9Et5H9zqv%2FxjEsldVq1Wa9Co3lvcuaRi%2BI3gcoFoi3AckHg6B8AAf1cH0tKH4MXhYf57A%3D%3D&YM=201911&NAT_CD=130&ED_CD=E\n",
      "http://openapi.tour.go.kr/openapi/service/EdrcntTourismStatsService/getEdrcntTourismStatsList?_type=json&serviceKey=0C6iX2Ww%2BnB9GVY6k9Et5H9zqv%2FxjEsldVq1Wa9Co3lvcuaRi%2BI3gcoFoi3AckHg6B8AAf1cH0tKH4MXhYf57A%3D%3D&YM=201912&NAT_CD=130&ED_CD=E\n"
     ]
    },
    {
     "name": "stdout",
     "output_type": "stream",
     "text": [
      "http://openapi.tour.go.kr/openapi/service/EdrcntTourismStatsService/getEdrcntTourismStatsList?_type=json&serviceKey=0C6iX2Ww%2BnB9GVY6k9Et5H9zqv%2FxjEsldVq1Wa9Co3lvcuaRi%2BI3gcoFoi3AckHg6B8AAf1cH0tKH4MXhYf57A%3D%3D&YM=202001&NAT_CD=130&ED_CD=E\n",
      "http://openapi.tour.go.kr/openapi/service/EdrcntTourismStatsService/getEdrcntTourismStatsList?_type=json&serviceKey=0C6iX2Ww%2BnB9GVY6k9Et5H9zqv%2FxjEsldVq1Wa9Co3lvcuaRi%2BI3gcoFoi3AckHg6B8AAf1cH0tKH4MXhYf57A%3D%3D&YM=202002&NAT_CD=130&ED_CD=E\n",
      "http://openapi.tour.go.kr/openapi/service/EdrcntTourismStatsService/getEdrcntTourismStatsList?_type=json&serviceKey=0C6iX2Ww%2BnB9GVY6k9Et5H9zqv%2FxjEsldVq1Wa9Co3lvcuaRi%2BI3gcoFoi3AckHg6B8AAf1cH0tKH4MXhYf57A%3D%3D&YM=202003&NAT_CD=130&ED_CD=E\n",
      "http://openapi.tour.go.kr/openapi/service/EdrcntTourismStatsService/getEdrcntTourismStatsList?_type=json&serviceKey=0C6iX2Ww%2BnB9GVY6k9Et5H9zqv%2FxjEsldVq1Wa9Co3lvcuaRi%2BI3gcoFoi3AckHg6B8AAf1cH0tKH4MXhYf57A%3D%3D&YM=202004&NAT_CD=130&ED_CD=E\n",
      "http://openapi.tour.go.kr/openapi/service/EdrcntTourismStatsService/getEdrcntTourismStatsList?_type=json&serviceKey=0C6iX2Ww%2BnB9GVY6k9Et5H9zqv%2FxjEsldVq1Wa9Co3lvcuaRi%2BI3gcoFoi3AckHg6B8AAf1cH0tKH4MXhYf57A%3D%3D&YM=202005&NAT_CD=130&ED_CD=E\n",
      "http://openapi.tour.go.kr/openapi/service/EdrcntTourismStatsService/getEdrcntTourismStatsList?_type=json&serviceKey=0C6iX2Ww%2BnB9GVY6k9Et5H9zqv%2FxjEsldVq1Wa9Co3lvcuaRi%2BI3gcoFoi3AckHg6B8AAf1cH0tKH4MXhYf57A%3D%3D&YM=202006&NAT_CD=130&ED_CD=E\n",
      "http://openapi.tour.go.kr/openapi/service/EdrcntTourismStatsService/getEdrcntTourismStatsList?_type=json&serviceKey=0C6iX2Ww%2BnB9GVY6k9Et5H9zqv%2FxjEsldVq1Wa9Co3lvcuaRi%2BI3gcoFoi3AckHg6B8AAf1cH0tKH4MXhYf57A%3D%3D&YM=202007&NAT_CD=130&ED_CD=E\n",
      "http://openapi.tour.go.kr/openapi/service/EdrcntTourismStatsService/getEdrcntTourismStatsList?_type=json&serviceKey=0C6iX2Ww%2BnB9GVY6k9Et5H9zqv%2FxjEsldVq1Wa9Co3lvcuaRi%2BI3gcoFoi3AckHg6B8AAf1cH0tKH4MXhYf57A%3D%3D&YM=202008&NAT_CD=130&ED_CD=E\n",
      "http://openapi.tour.go.kr/openapi/service/EdrcntTourismStatsService/getEdrcntTourismStatsList?_type=json&serviceKey=0C6iX2Ww%2BnB9GVY6k9Et5H9zqv%2FxjEsldVq1Wa9Co3lvcuaRi%2BI3gcoFoi3AckHg6B8AAf1cH0tKH4MXhYf57A%3D%3D&YM=202009&NAT_CD=130&ED_CD=E\n",
      "http://openapi.tour.go.kr/openapi/service/EdrcntTourismStatsService/getEdrcntTourismStatsList?_type=json&serviceKey=0C6iX2Ww%2BnB9GVY6k9Et5H9zqv%2FxjEsldVq1Wa9Co3lvcuaRi%2BI3gcoFoi3AckHg6B8AAf1cH0tKH4MXhYf57A%3D%3D&YM=202010&NAT_CD=130&ED_CD=E\n",
      "http://openapi.tour.go.kr/openapi/service/EdrcntTourismStatsService/getEdrcntTourismStatsList?_type=json&serviceKey=0C6iX2Ww%2BnB9GVY6k9Et5H9zqv%2FxjEsldVq1Wa9Co3lvcuaRi%2BI3gcoFoi3AckHg6B8AAf1cH0tKH4MXhYf57A%3D%3D&YM=202011&NAT_CD=130&ED_CD=E\n",
      "http://openapi.tour.go.kr/openapi/service/EdrcntTourismStatsService/getEdrcntTourismStatsList?_type=json&serviceKey=0C6iX2Ww%2BnB9GVY6k9Et5H9zqv%2FxjEsldVq1Wa9Co3lvcuaRi%2BI3gcoFoi3AckHg6B8AAf1cH0tKH4MXhYf57A%3D%3D&YM=202012&NAT_CD=130&ED_CD=E\n",
      "http://openapi.tour.go.kr/openapi/service/EdrcntTourismStatsService/getEdrcntTourismStatsList?_type=json&serviceKey=0C6iX2Ww%2BnB9GVY6k9Et5H9zqv%2FxjEsldVq1Wa9Co3lvcuaRi%2BI3gcoFoi3AckHg6B8AAf1cH0tKH4MXhYf57A%3D%3D&YM=201901&NAT_CD=275&ED_CD=E\n",
      "http://openapi.tour.go.kr/openapi/service/EdrcntTourismStatsService/getEdrcntTourismStatsList?_type=json&serviceKey=0C6iX2Ww%2BnB9GVY6k9Et5H9zqv%2FxjEsldVq1Wa9Co3lvcuaRi%2BI3gcoFoi3AckHg6B8AAf1cH0tKH4MXhYf57A%3D%3D&YM=201902&NAT_CD=275&ED_CD=E\n",
      "http://openapi.tour.go.kr/openapi/service/EdrcntTourismStatsService/getEdrcntTourismStatsList?_type=json&serviceKey=0C6iX2Ww%2BnB9GVY6k9Et5H9zqv%2FxjEsldVq1Wa9Co3lvcuaRi%2BI3gcoFoi3AckHg6B8AAf1cH0tKH4MXhYf57A%3D%3D&YM=201903&NAT_CD=275&ED_CD=E\n",
      "http://openapi.tour.go.kr/openapi/service/EdrcntTourismStatsService/getEdrcntTourismStatsList?_type=json&serviceKey=0C6iX2Ww%2BnB9GVY6k9Et5H9zqv%2FxjEsldVq1Wa9Co3lvcuaRi%2BI3gcoFoi3AckHg6B8AAf1cH0tKH4MXhYf57A%3D%3D&YM=201904&NAT_CD=275&ED_CD=E\n",
      "http://openapi.tour.go.kr/openapi/service/EdrcntTourismStatsService/getEdrcntTourismStatsList?_type=json&serviceKey=0C6iX2Ww%2BnB9GVY6k9Et5H9zqv%2FxjEsldVq1Wa9Co3lvcuaRi%2BI3gcoFoi3AckHg6B8AAf1cH0tKH4MXhYf57A%3D%3D&YM=201905&NAT_CD=275&ED_CD=E\n",
      "http://openapi.tour.go.kr/openapi/service/EdrcntTourismStatsService/getEdrcntTourismStatsList?_type=json&serviceKey=0C6iX2Ww%2BnB9GVY6k9Et5H9zqv%2FxjEsldVq1Wa9Co3lvcuaRi%2BI3gcoFoi3AckHg6B8AAf1cH0tKH4MXhYf57A%3D%3D&YM=201906&NAT_CD=275&ED_CD=E\n",
      "http://openapi.tour.go.kr/openapi/service/EdrcntTourismStatsService/getEdrcntTourismStatsList?_type=json&serviceKey=0C6iX2Ww%2BnB9GVY6k9Et5H9zqv%2FxjEsldVq1Wa9Co3lvcuaRi%2BI3gcoFoi3AckHg6B8AAf1cH0tKH4MXhYf57A%3D%3D&YM=201907&NAT_CD=275&ED_CD=E\n",
      "http://openapi.tour.go.kr/openapi/service/EdrcntTourismStatsService/getEdrcntTourismStatsList?_type=json&serviceKey=0C6iX2Ww%2BnB9GVY6k9Et5H9zqv%2FxjEsldVq1Wa9Co3lvcuaRi%2BI3gcoFoi3AckHg6B8AAf1cH0tKH4MXhYf57A%3D%3D&YM=201908&NAT_CD=275&ED_CD=E\n",
      "http://openapi.tour.go.kr/openapi/service/EdrcntTourismStatsService/getEdrcntTourismStatsList?_type=json&serviceKey=0C6iX2Ww%2BnB9GVY6k9Et5H9zqv%2FxjEsldVq1Wa9Co3lvcuaRi%2BI3gcoFoi3AckHg6B8AAf1cH0tKH4MXhYf57A%3D%3D&YM=201909&NAT_CD=275&ED_CD=E\n",
      "http://openapi.tour.go.kr/openapi/service/EdrcntTourismStatsService/getEdrcntTourismStatsList?_type=json&serviceKey=0C6iX2Ww%2BnB9GVY6k9Et5H9zqv%2FxjEsldVq1Wa9Co3lvcuaRi%2BI3gcoFoi3AckHg6B8AAf1cH0tKH4MXhYf57A%3D%3D&YM=201910&NAT_CD=275&ED_CD=E\n",
      "http://openapi.tour.go.kr/openapi/service/EdrcntTourismStatsService/getEdrcntTourismStatsList?_type=json&serviceKey=0C6iX2Ww%2BnB9GVY6k9Et5H9zqv%2FxjEsldVq1Wa9Co3lvcuaRi%2BI3gcoFoi3AckHg6B8AAf1cH0tKH4MXhYf57A%3D%3D&YM=201911&NAT_CD=275&ED_CD=E\n",
      "http://openapi.tour.go.kr/openapi/service/EdrcntTourismStatsService/getEdrcntTourismStatsList?_type=json&serviceKey=0C6iX2Ww%2BnB9GVY6k9Et5H9zqv%2FxjEsldVq1Wa9Co3lvcuaRi%2BI3gcoFoi3AckHg6B8AAf1cH0tKH4MXhYf57A%3D%3D&YM=201912&NAT_CD=275&ED_CD=E\n",
      "http://openapi.tour.go.kr/openapi/service/EdrcntTourismStatsService/getEdrcntTourismStatsList?_type=json&serviceKey=0C6iX2Ww%2BnB9GVY6k9Et5H9zqv%2FxjEsldVq1Wa9Co3lvcuaRi%2BI3gcoFoi3AckHg6B8AAf1cH0tKH4MXhYf57A%3D%3D&YM=202001&NAT_CD=275&ED_CD=E\n",
      "http://openapi.tour.go.kr/openapi/service/EdrcntTourismStatsService/getEdrcntTourismStatsList?_type=json&serviceKey=0C6iX2Ww%2BnB9GVY6k9Et5H9zqv%2FxjEsldVq1Wa9Co3lvcuaRi%2BI3gcoFoi3AckHg6B8AAf1cH0tKH4MXhYf57A%3D%3D&YM=202002&NAT_CD=275&ED_CD=E\n",
      "http://openapi.tour.go.kr/openapi/service/EdrcntTourismStatsService/getEdrcntTourismStatsList?_type=json&serviceKey=0C6iX2Ww%2BnB9GVY6k9Et5H9zqv%2FxjEsldVq1Wa9Co3lvcuaRi%2BI3gcoFoi3AckHg6B8AAf1cH0tKH4MXhYf57A%3D%3D&YM=202003&NAT_CD=275&ED_CD=E\n",
      "http://openapi.tour.go.kr/openapi/service/EdrcntTourismStatsService/getEdrcntTourismStatsList?_type=json&serviceKey=0C6iX2Ww%2BnB9GVY6k9Et5H9zqv%2FxjEsldVq1Wa9Co3lvcuaRi%2BI3gcoFoi3AckHg6B8AAf1cH0tKH4MXhYf57A%3D%3D&YM=202004&NAT_CD=275&ED_CD=E\n",
      "http://openapi.tour.go.kr/openapi/service/EdrcntTourismStatsService/getEdrcntTourismStatsList?_type=json&serviceKey=0C6iX2Ww%2BnB9GVY6k9Et5H9zqv%2FxjEsldVq1Wa9Co3lvcuaRi%2BI3gcoFoi3AckHg6B8AAf1cH0tKH4MXhYf57A%3D%3D&YM=202005&NAT_CD=275&ED_CD=E\n",
      "http://openapi.tour.go.kr/openapi/service/EdrcntTourismStatsService/getEdrcntTourismStatsList?_type=json&serviceKey=0C6iX2Ww%2BnB9GVY6k9Et5H9zqv%2FxjEsldVq1Wa9Co3lvcuaRi%2BI3gcoFoi3AckHg6B8AAf1cH0tKH4MXhYf57A%3D%3D&YM=202006&NAT_CD=275&ED_CD=E\n",
      "http://openapi.tour.go.kr/openapi/service/EdrcntTourismStatsService/getEdrcntTourismStatsList?_type=json&serviceKey=0C6iX2Ww%2BnB9GVY6k9Et5H9zqv%2FxjEsldVq1Wa9Co3lvcuaRi%2BI3gcoFoi3AckHg6B8AAf1cH0tKH4MXhYf57A%3D%3D&YM=202007&NAT_CD=275&ED_CD=E\n",
      "http://openapi.tour.go.kr/openapi/service/EdrcntTourismStatsService/getEdrcntTourismStatsList?_type=json&serviceKey=0C6iX2Ww%2BnB9GVY6k9Et5H9zqv%2FxjEsldVq1Wa9Co3lvcuaRi%2BI3gcoFoi3AckHg6B8AAf1cH0tKH4MXhYf57A%3D%3D&YM=202008&NAT_CD=275&ED_CD=E\n",
      "http://openapi.tour.go.kr/openapi/service/EdrcntTourismStatsService/getEdrcntTourismStatsList?_type=json&serviceKey=0C6iX2Ww%2BnB9GVY6k9Et5H9zqv%2FxjEsldVq1Wa9Co3lvcuaRi%2BI3gcoFoi3AckHg6B8AAf1cH0tKH4MXhYf57A%3D%3D&YM=202009&NAT_CD=275&ED_CD=E\n",
      "http://openapi.tour.go.kr/openapi/service/EdrcntTourismStatsService/getEdrcntTourismStatsList?_type=json&serviceKey=0C6iX2Ww%2BnB9GVY6k9Et5H9zqv%2FxjEsldVq1Wa9Co3lvcuaRi%2BI3gcoFoi3AckHg6B8AAf1cH0tKH4MXhYf57A%3D%3D&YM=202010&NAT_CD=275&ED_CD=E\n",
      "http://openapi.tour.go.kr/openapi/service/EdrcntTourismStatsService/getEdrcntTourismStatsList?_type=json&serviceKey=0C6iX2Ww%2BnB9GVY6k9Et5H9zqv%2FxjEsldVq1Wa9Co3lvcuaRi%2BI3gcoFoi3AckHg6B8AAf1cH0tKH4MXhYf57A%3D%3D&YM=202011&NAT_CD=275&ED_CD=E\n",
      "http://openapi.tour.go.kr/openapi/service/EdrcntTourismStatsService/getEdrcntTourismStatsList?_type=json&serviceKey=0C6iX2Ww%2BnB9GVY6k9Et5H9zqv%2FxjEsldVq1Wa9Co3lvcuaRi%2BI3gcoFoi3AckHg6B8AAf1cH0tKH4MXhYf57A%3D%3D&YM=202012&NAT_CD=275&ED_CD=E\n"
     ]
    },
    {
     "data": {
      "text/html": [
       "<div>\n",
       "<style scoped>\n",
       "    .dataframe tbody tr th:only-of-type {\n",
       "        vertical-align: middle;\n",
       "    }\n",
       "\n",
       "    .dataframe tbody tr th {\n",
       "        vertical-align: top;\n",
       "    }\n",
       "\n",
       "    .dataframe thead th {\n",
       "        text-align: right;\n",
       "    }\n",
       "</style>\n",
       "<table border=\"1\" class=\"dataframe\">\n",
       "  <thead>\n",
       "    <tr style=\"text-align: right;\">\n",
       "      <th></th>\n",
       "      <th>item.ed</th>\n",
       "      <th>item.edCd</th>\n",
       "      <th>item.natCd</th>\n",
       "      <th>item.num</th>\n",
       "      <th>item.rnum</th>\n",
       "      <th>item.ym</th>\n",
       "    </tr>\n",
       "  </thead>\n",
       "  <tbody>\n",
       "  </tbody>\n",
       "</table>\n",
       "</div>"
      ],
      "text/plain": [
       "Empty DataFrame\n",
       "Columns: [item.ed, item.edCd, item.natCd, item.num, item.rnum, item.ym]\n",
       "Index: []"
      ]
     },
     "execution_count": 134,
     "metadata": {},
     "output_type": "execute_result"
    }
   ],
   "source": [
    "y=[\"2019\",\"2020\"]\n",
    "m=[\"01\",\"02\",\"03\",\"04\",\"05\",\"06\",\"07\",\"08\",\"09\",\"10\",\"11\",\"12\"]\n",
    "nat_cd=[\"112\",\"130\",\"275\"]\n",
    "total_df=pd.DataFrame(columns=[\"item.ed\",\"item.edCd\",\"item.natCd\",\"item.num\",\"item.rnum\",\"item.ym\"])\n",
    "def a(url):\n",
    "    urllib.request.urlopen(url)\n",
    "    res=urllib.request.urlopen(url)\n",
    "    json_object=json.loads(json_str)\n",
    "    \n",
    "    return json_object['response']['body']['items']\n",
    "    \n",
    "for nat in nat_cd:\n",
    "    for year in y:\n",
    "        for month in m:\n",
    "            \n",
    "            ed_cd=\"E\"\n",
    "            param_ym=\"&YM=\" +year+month\n",
    "            param_nat_cd=\"&NAT_CD=\"+nat\n",
    "            param_ed_cd=\"&ED_CD=\"+ed_cd\n",
    "            param_key=\"&serviceKey=\"+my_key\n",
    "            data_type=\"_type=json\"\n",
    "            url=end_point+op_url+data_type+param_key+param_ym+param_nat_cd+param_ed_cd\n",
    "            print(url)\n",
    "            x=pd.DataFrame(a(url))\n",
    "            total_df.append(x)\n",
    "total_df"
   ]
  },
  {
   "cell_type": "code",
   "execution_count": 141,
   "id": "5fe0ad37",
   "metadata": {},
   "outputs": [],
   "source": [
    "#선생님 방법\n",
    "import requests\n",
    "def get_visit(url,params):\n",
    "    req=requests.get(url,params)\n",
    "    item=req.json()[\"response\"][\"body\"][\"items\"]\n",
    "    return item"
   ]
  },
  {
   "cell_type": "code",
   "execution_count": 142,
   "id": "f7e5a4a7",
   "metadata": {},
   "outputs": [
    {
     "name": "stdout",
     "output_type": "stream",
     "text": [
      "http://openapi.tour.go.kr/openapi/service/EdrcntTourismStatsService/getEdrcntTourismStatsList?&serviceKey=0C6iX2Ww%2BnB9GVY6k9Et5H9zqv%2FxjEsldVq1Wa9Co3lvcuaRi%2BI3gcoFoi3AckHg6B8AAf1cH0tKH4MXhYf57A%3D%3D\n"
     ]
    },
    {
     "ename": "JSONDecodeError",
     "evalue": "Expecting value: line 1 column 1 (char 0)",
     "output_type": "error",
     "traceback": [
      "\u001b[1;31m---------------------------------------------------------------------------\u001b[0m",
      "\u001b[1;31mJSONDecodeError\u001b[0m                           Traceback (most recent call last)",
      "\u001b[1;32m<ipython-input-142-5d1a3726641e>\u001b[0m in \u001b[0;36m<module>\u001b[1;34m\u001b[0m\n\u001b[0;32m     15\u001b[0m             \u001b[0murl\u001b[0m\u001b[1;33m=\u001b[0m\u001b[0mend_point\u001b[0m\u001b[1;33m+\u001b[0m\u001b[0mop_url\u001b[0m\u001b[1;33m+\u001b[0m\u001b[0mparam_key\u001b[0m\u001b[1;33m\u001b[0m\u001b[1;33m\u001b[0m\u001b[0m\n\u001b[0;32m     16\u001b[0m             \u001b[0mprint\u001b[0m\u001b[1;33m(\u001b[0m\u001b[0murl\u001b[0m\u001b[1;33m)\u001b[0m\u001b[1;33m\u001b[0m\u001b[1;33m\u001b[0m\u001b[0m\n\u001b[1;32m---> 17\u001b[1;33m             \u001b[0mresult\u001b[0m \u001b[1;33m=\u001b[0m \u001b[0mget_visit\u001b[0m\u001b[1;33m(\u001b[0m\u001b[0murl\u001b[0m\u001b[1;33m,\u001b[0m\u001b[0mparams\u001b[0m\u001b[1;33m)\u001b[0m\u001b[1;33m\u001b[0m\u001b[1;33m\u001b[0m\u001b[0m\n\u001b[0m\u001b[0;32m     18\u001b[0m             \u001b[0mdf\u001b[0m \u001b[1;33m=\u001b[0m \u001b[0mpd\u001b[0m\u001b[1;33m.\u001b[0m\u001b[0mjson_normalize\u001b[0m\u001b[1;33m(\u001b[0m\u001b[0mresult\u001b[0m\u001b[1;33m)\u001b[0m\u001b[1;33m\u001b[0m\u001b[1;33m\u001b[0m\u001b[0m\n\u001b[0;32m     19\u001b[0m             \u001b[1;32mif\u001b[0m \u001b[0minit\u001b[0m \u001b[1;33m==\u001b[0m \u001b[1;36m0\u001b[0m\u001b[1;33m:\u001b[0m\u001b[1;33m\u001b[0m\u001b[1;33m\u001b[0m\u001b[0m\n",
      "\u001b[1;32m<ipython-input-141-b837ebd5531a>\u001b[0m in \u001b[0;36mget_visit\u001b[1;34m(url, params)\u001b[0m\n\u001b[0;32m      3\u001b[0m \u001b[1;32mdef\u001b[0m \u001b[0mget_visit\u001b[0m\u001b[1;33m(\u001b[0m\u001b[0murl\u001b[0m\u001b[1;33m,\u001b[0m\u001b[0mparams\u001b[0m\u001b[1;33m)\u001b[0m\u001b[1;33m:\u001b[0m\u001b[1;33m\u001b[0m\u001b[1;33m\u001b[0m\u001b[0m\n\u001b[0;32m      4\u001b[0m     \u001b[0mreq\u001b[0m\u001b[1;33m=\u001b[0m\u001b[0mrequests\u001b[0m\u001b[1;33m.\u001b[0m\u001b[0mget\u001b[0m\u001b[1;33m(\u001b[0m\u001b[0murl\u001b[0m\u001b[1;33m,\u001b[0m\u001b[0mparams\u001b[0m\u001b[1;33m)\u001b[0m\u001b[1;33m\u001b[0m\u001b[1;33m\u001b[0m\u001b[0m\n\u001b[1;32m----> 5\u001b[1;33m     \u001b[0mitem\u001b[0m\u001b[1;33m=\u001b[0m\u001b[0mreq\u001b[0m\u001b[1;33m.\u001b[0m\u001b[0mjson\u001b[0m\u001b[1;33m(\u001b[0m\u001b[1;33m)\u001b[0m\u001b[1;33m[\u001b[0m\u001b[1;34m\"response\"\u001b[0m\u001b[1;33m]\u001b[0m\u001b[1;33m[\u001b[0m\u001b[1;34m\"body\"\u001b[0m\u001b[1;33m]\u001b[0m\u001b[1;33m[\u001b[0m\u001b[1;34m\"items\"\u001b[0m\u001b[1;33m]\u001b[0m\u001b[1;33m\u001b[0m\u001b[1;33m\u001b[0m\u001b[0m\n\u001b[0m\u001b[0;32m      6\u001b[0m     \u001b[1;32mreturn\u001b[0m \u001b[0mitem\u001b[0m\u001b[1;33m\u001b[0m\u001b[1;33m\u001b[0m\u001b[0m\n",
      "\u001b[1;32mC:\\Anaconda3\\lib\\site-packages\\requests\\models.py\u001b[0m in \u001b[0;36mjson\u001b[1;34m(self, **kwargs)\u001b[0m\n\u001b[0;32m    889\u001b[0m             \u001b[1;32mif\u001b[0m \u001b[0mencoding\u001b[0m \u001b[1;32mis\u001b[0m \u001b[1;32mnot\u001b[0m \u001b[1;32mNone\u001b[0m\u001b[1;33m:\u001b[0m\u001b[1;33m\u001b[0m\u001b[1;33m\u001b[0m\u001b[0m\n\u001b[0;32m    890\u001b[0m                 \u001b[1;32mtry\u001b[0m\u001b[1;33m:\u001b[0m\u001b[1;33m\u001b[0m\u001b[1;33m\u001b[0m\u001b[0m\n\u001b[1;32m--> 891\u001b[1;33m                     return complexjson.loads(\n\u001b[0m\u001b[0;32m    892\u001b[0m                         \u001b[0mself\u001b[0m\u001b[1;33m.\u001b[0m\u001b[0mcontent\u001b[0m\u001b[1;33m.\u001b[0m\u001b[0mdecode\u001b[0m\u001b[1;33m(\u001b[0m\u001b[0mencoding\u001b[0m\u001b[1;33m)\u001b[0m\u001b[1;33m,\u001b[0m \u001b[1;33m**\u001b[0m\u001b[0mkwargs\u001b[0m\u001b[1;33m\u001b[0m\u001b[1;33m\u001b[0m\u001b[0m\n\u001b[0;32m    893\u001b[0m                     )\n",
      "\u001b[1;32mC:\\Anaconda3\\lib\\json\\__init__.py\u001b[0m in \u001b[0;36mloads\u001b[1;34m(s, cls, object_hook, parse_float, parse_int, parse_constant, object_pairs_hook, **kw)\u001b[0m\n\u001b[0;32m    355\u001b[0m             \u001b[0mparse_int\u001b[0m \u001b[1;32mis\u001b[0m \u001b[1;32mNone\u001b[0m \u001b[1;32mand\u001b[0m \u001b[0mparse_float\u001b[0m \u001b[1;32mis\u001b[0m \u001b[1;32mNone\u001b[0m \u001b[1;32mand\u001b[0m\u001b[1;33m\u001b[0m\u001b[1;33m\u001b[0m\u001b[0m\n\u001b[0;32m    356\u001b[0m             parse_constant is None and object_pairs_hook is None and not kw):\n\u001b[1;32m--> 357\u001b[1;33m         \u001b[1;32mreturn\u001b[0m \u001b[0m_default_decoder\u001b[0m\u001b[1;33m.\u001b[0m\u001b[0mdecode\u001b[0m\u001b[1;33m(\u001b[0m\u001b[0ms\u001b[0m\u001b[1;33m)\u001b[0m\u001b[1;33m\u001b[0m\u001b[1;33m\u001b[0m\u001b[0m\n\u001b[0m\u001b[0;32m    358\u001b[0m     \u001b[1;32mif\u001b[0m \u001b[0mcls\u001b[0m \u001b[1;32mis\u001b[0m \u001b[1;32mNone\u001b[0m\u001b[1;33m:\u001b[0m\u001b[1;33m\u001b[0m\u001b[1;33m\u001b[0m\u001b[0m\n\u001b[0;32m    359\u001b[0m         \u001b[0mcls\u001b[0m \u001b[1;33m=\u001b[0m \u001b[0mJSONDecoder\u001b[0m\u001b[1;33m\u001b[0m\u001b[1;33m\u001b[0m\u001b[0m\n",
      "\u001b[1;32mC:\\Anaconda3\\lib\\json\\decoder.py\u001b[0m in \u001b[0;36mdecode\u001b[1;34m(self, s, _w)\u001b[0m\n\u001b[0;32m    335\u001b[0m \u001b[1;33m\u001b[0m\u001b[0m\n\u001b[0;32m    336\u001b[0m         \"\"\"\n\u001b[1;32m--> 337\u001b[1;33m         \u001b[0mobj\u001b[0m\u001b[1;33m,\u001b[0m \u001b[0mend\u001b[0m \u001b[1;33m=\u001b[0m \u001b[0mself\u001b[0m\u001b[1;33m.\u001b[0m\u001b[0mraw_decode\u001b[0m\u001b[1;33m(\u001b[0m\u001b[0ms\u001b[0m\u001b[1;33m,\u001b[0m \u001b[0midx\u001b[0m\u001b[1;33m=\u001b[0m\u001b[0m_w\u001b[0m\u001b[1;33m(\u001b[0m\u001b[0ms\u001b[0m\u001b[1;33m,\u001b[0m \u001b[1;36m0\u001b[0m\u001b[1;33m)\u001b[0m\u001b[1;33m.\u001b[0m\u001b[0mend\u001b[0m\u001b[1;33m(\u001b[0m\u001b[1;33m)\u001b[0m\u001b[1;33m)\u001b[0m\u001b[1;33m\u001b[0m\u001b[1;33m\u001b[0m\u001b[0m\n\u001b[0m\u001b[0;32m    338\u001b[0m         \u001b[0mend\u001b[0m \u001b[1;33m=\u001b[0m \u001b[0m_w\u001b[0m\u001b[1;33m(\u001b[0m\u001b[0ms\u001b[0m\u001b[1;33m,\u001b[0m \u001b[0mend\u001b[0m\u001b[1;33m)\u001b[0m\u001b[1;33m.\u001b[0m\u001b[0mend\u001b[0m\u001b[1;33m(\u001b[0m\u001b[1;33m)\u001b[0m\u001b[1;33m\u001b[0m\u001b[1;33m\u001b[0m\u001b[0m\n\u001b[0;32m    339\u001b[0m         \u001b[1;32mif\u001b[0m \u001b[0mend\u001b[0m \u001b[1;33m!=\u001b[0m \u001b[0mlen\u001b[0m\u001b[1;33m(\u001b[0m\u001b[0ms\u001b[0m\u001b[1;33m)\u001b[0m\u001b[1;33m:\u001b[0m\u001b[1;33m\u001b[0m\u001b[1;33m\u001b[0m\u001b[0m\n",
      "\u001b[1;32mC:\\Anaconda3\\lib\\json\\decoder.py\u001b[0m in \u001b[0;36mraw_decode\u001b[1;34m(self, s, idx)\u001b[0m\n\u001b[0;32m    353\u001b[0m             \u001b[0mobj\u001b[0m\u001b[1;33m,\u001b[0m \u001b[0mend\u001b[0m \u001b[1;33m=\u001b[0m \u001b[0mself\u001b[0m\u001b[1;33m.\u001b[0m\u001b[0mscan_once\u001b[0m\u001b[1;33m(\u001b[0m\u001b[0ms\u001b[0m\u001b[1;33m,\u001b[0m \u001b[0midx\u001b[0m\u001b[1;33m)\u001b[0m\u001b[1;33m\u001b[0m\u001b[1;33m\u001b[0m\u001b[0m\n\u001b[0;32m    354\u001b[0m         \u001b[1;32mexcept\u001b[0m \u001b[0mStopIteration\u001b[0m \u001b[1;32mas\u001b[0m \u001b[0merr\u001b[0m\u001b[1;33m:\u001b[0m\u001b[1;33m\u001b[0m\u001b[1;33m\u001b[0m\u001b[0m\n\u001b[1;32m--> 355\u001b[1;33m             \u001b[1;32mraise\u001b[0m \u001b[0mJSONDecodeError\u001b[0m\u001b[1;33m(\u001b[0m\u001b[1;34m\"Expecting value\"\u001b[0m\u001b[1;33m,\u001b[0m \u001b[0ms\u001b[0m\u001b[1;33m,\u001b[0m \u001b[0merr\u001b[0m\u001b[1;33m.\u001b[0m\u001b[0mvalue\u001b[0m\u001b[1;33m)\u001b[0m \u001b[1;32mfrom\u001b[0m \u001b[1;32mNone\u001b[0m\u001b[1;33m\u001b[0m\u001b[1;33m\u001b[0m\u001b[0m\n\u001b[0m\u001b[0;32m    356\u001b[0m         \u001b[1;32mreturn\u001b[0m \u001b[0mobj\u001b[0m\u001b[1;33m,\u001b[0m \u001b[0mend\u001b[0m\u001b[1;33m\u001b[0m\u001b[1;33m\u001b[0m\u001b[0m\n",
      "\u001b[1;31mJSONDecodeError\u001b[0m: Expecting value: line 1 column 1 (char 0)"
     ]
    }
   ],
   "source": [
    "end_point=\"http://openapi.tour.go.kr/openapi/service/\"\n",
    "op_url=\"EdrcntTourismStatsService/getEdrcntTourismStatsList?\"\n",
    "param_key=\"&serviceKey=\"+my_key\n",
    "\n",
    "country_code=[\"112\",\"130\",\"275\"]\n",
    "visit_year=[2019,2020]\n",
    "\n",
    "init=0\n",
    "for country in country_code:\n",
    "    for year in visit_year:\n",
    "        for month in range(1,13):\n",
    "            params={\"YM\":str(year)+\"%02d\"%month,\n",
    "                    \"NAT_CD\":country,\n",
    "                    \"ED_CD\":\"E\"}\n",
    "            url=end_point+op_url+param_key\n",
    "            print(url)\n",
    "            result = get_visit(url,params)\n",
    "            df = pd.json_normalize(result)\n",
    "            if init == 0:\n",
    "                dt_total = df.copy(); init=1\n",
    "            else: \n",
    "                df_total=pd.concat([df_total,df])\n",
    "                \n",
    "df_total"
   ]
  },
  {
   "cell_type": "code",
   "execution_count": null,
   "id": "a006d8bb",
   "metadata": {},
   "outputs": [],
   "source": []
  }
 ],
 "metadata": {
  "kernelspec": {
   "display_name": "Python 3",
   "language": "python",
   "name": "python3"
  },
  "language_info": {
   "codemirror_mode": {
    "name": "ipython",
    "version": 3
   },
   "file_extension": ".py",
   "mimetype": "text/x-python",
   "name": "python",
   "nbconvert_exporter": "python",
   "pygments_lexer": "ipython3",
   "version": "3.8.8"
  }
 },
 "nbformat": 4,
 "nbformat_minor": 5
}
