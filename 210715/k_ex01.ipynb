{
 "cells": [
  {
   "cell_type": "code",
   "execution_count": 21,
   "id": "451c0fd9",
   "metadata": {},
   "outputs": [
    {
     "name": "stdout",
     "output_type": "stream",
     "text": [
      "Targets: [5 7 9]\n",
      "Predictions: [4.97426  6.955634 8.937009]\n"
     ]
    }
   ],
   "source": [
    "import numpy\n",
    "from tensorflow import keras\n",
    "import tensorflow\n",
    "\n",
    "#학습데이터\n",
    "x=numpy.array([0,1,2,3,4])\n",
    "y=x*2+1\n",
    "\n",
    "#Keras 모델 시작\n",
    "#학습가능한 모델 만들어짐(뇌가없는상태)\n",
    "model = keras.models.Sequential()\n",
    "\n",
    "#인공지능 계층 하나 추가(입력노드하나,가증치하나)\n",
    "#출력(신경)개수, input_shape(는 입력갯수), \n",
    "model.add(tensorflow.keras.layers.Dense(1,input_shape=(1,))) \n",
    "\n",
    "#SGD-확률적 경사하강법, mse-평균제곱오차 cost function\n",
    "#경사하강법 쓰는거고, 평가방법이 mse(평균제곱오차)\n",
    "model.compile('SGD','mse')\n",
    "\n",
    "#지도학습, 1000 에포크(학습함수), verbose는 학습진행사항 표시여부, 0은 표시하지않음\n",
    "model.fit(x[:2],y[:2],epochs=1000,verbose=0)\n",
    "\n",
    "print('Targets:',y[2:]) #실제결과\n",
    "print('Predictions:',model.predict(x[2:]).flatten()) #예측결과(x[2:]는 3,4로 안해본 것)"
   ]
  },
  {
   "cell_type": "code",
   "execution_count": 15,
   "id": "9d4d9d34",
   "metadata": {},
   "outputs": [
    {
     "data": {
      "text/plain": [
       "'2.5.0'"
      ]
     },
     "execution_count": 15,
     "metadata": {},
     "output_type": "execute_result"
    }
   ],
   "source": [
    "from tensorflow import keras\n",
    "keras.__version__"
   ]
  },
  {
   "cell_type": "code",
   "execution_count": 12,
   "id": "739e9402",
   "metadata": {},
   "outputs": [
    {
     "data": {
      "text/plain": [
       "'2.5.0'"
      ]
     },
     "execution_count": 12,
     "metadata": {},
     "output_type": "execute_result"
    }
   ],
   "source": [
    "import tensorflow\n",
    "tensorflow.__version__"
   ]
  },
  {
   "cell_type": "code",
   "execution_count": null,
   "id": "0f4b21df",
   "metadata": {},
   "outputs": [],
   "source": []
  }
 ],
 "metadata": {
  "kernelspec": {
   "display_name": "Python 3",
   "language": "python",
   "name": "python3"
  },
  "language_info": {
   "codemirror_mode": {
    "name": "ipython",
    "version": 3
   },
   "file_extension": ".py",
   "mimetype": "text/x-python",
   "name": "python",
   "nbconvert_exporter": "python",
   "pygments_lexer": "ipython3",
   "version": "3.7.7"
  }
 },
 "nbformat": 4,
 "nbformat_minor": 5
}
