{
 "cells": [
  {
   "cell_type": "code",
   "execution_count": 2,
   "id": "b8e27b02",
   "metadata": {},
   "outputs": [],
   "source": [
    "# point는 jpype1-1.1.2-cp37m-win_amd64.whl 을 깔아야함 (1.3아니고)"
   ]
  },
  {
   "cell_type": "code",
   "execution_count": 1,
   "id": "58ec575b",
   "metadata": {},
   "outputs": [
    {
     "name": "stdout",
     "output_type": "stream",
     "text": [
      "['명사', '추출', '형태소', '분석']\n"
     ]
    }
   ],
   "source": [
    "from konlpy.tag import Kkma\n",
    "a=Kkma()\n",
    "\n",
    "nouns=a.nouns(\"명사만을 추출합니다. 형태소 분석입니다.\")\n",
    "print(nouns)"
   ]
  },
  {
   "cell_type": "code",
   "execution_count": 3,
   "id": "3203dc02",
   "metadata": {},
   "outputs": [
    {
     "name": "stdout",
     "output_type": "stream",
     "text": [
      "['내가', '명사', '누', '니', '에이', '에이아이', '아이']\n"
     ]
    }
   ],
   "source": [
    "nouns=a.nouns(\"내가 명사일까 누가 명사일까 명사를 아니 니가 에이아이야\")\n",
    "print(nouns)"
   ]
  },
  {
   "cell_type": "code",
   "execution_count": 4,
   "id": "fa429a4e",
   "metadata": {},
   "outputs": [
    {
     "name": "stdout",
     "output_type": "stream",
     "text": [
      "['9', '9회말', '회', '말', '2', '2아웃', '아웃', '손', '배트']\n"
     ]
    }
   ],
   "source": [
    "nouns=a.nouns\n",
    "print(nouns)"
   ]
  },
  {
   "cell_type": "code",
   "execution_count": 5,
   "id": "05cc2ea6",
   "metadata": {},
   "outputs": [
    {
     "name": "stdout",
     "output_type": "stream",
     "text": [
      "['여행', '우리', '사랑']\n"
     ]
    }
   ],
   "source": [
    "nouns=a.nouns(\"여행 나 너 우리 사랑 그래 좋아\")\n",
    "print(nouns)"
   ]
  },
  {
   "cell_type": "code",
   "execution_count": null,
   "id": "45297bbc",
   "metadata": {},
   "outputs": [],
   "source": []
  }
 ],
 "metadata": {
  "kernelspec": {
   "display_name": "Python 3",
   "language": "python",
   "name": "python3"
  },
  "language_info": {
   "codemirror_mode": {
    "name": "ipython",
    "version": 3
   },
   "file_extension": ".py",
   "mimetype": "text/x-python",
   "name": "python",
   "nbconvert_exporter": "python",
   "pygments_lexer": "ipython3",
   "version": "3.7.7"
  }
 },
 "nbformat": 4,
 "nbformat_minor": 5
}
