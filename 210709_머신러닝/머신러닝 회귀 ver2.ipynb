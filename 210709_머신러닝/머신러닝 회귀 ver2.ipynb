{
 "cells": [
  {
   "cell_type": "markdown",
   "id": "6d8ef756",
   "metadata": {},
   "source": [
    "#### 핵심함수\n",
    "- model = LinearRegression() #학습모델 선택\n",
    "- model = model.fit(x,y) #학습\n",
    "- result = model.predict([[7]]) #예측"
   ]
  },
  {
   "cell_type": "code",
   "execution_count": 1,
   "id": "71348616",
   "metadata": {},
   "outputs": [
    {
     "name": "stdout",
     "output_type": "stream",
     "text": [
      "[[65.]]\n"
     ]
    }
   ],
   "source": [
    "from sklearn.linear_model import LinearRegression\n",
    "\n",
    "x=[[10,3],[5,2],[9,3],[7,3]] #공부시간, 학년 (학습값 2개면 예측값도 2개씩넣어야함)\n",
    "y=[[100],[50],[90],[77]] #시험점수\n",
    "\n",
    "model=LinearRegression()\n",
    "\n",
    "model = model.fit(x,y)\n",
    "result = model.predict([[7,2]]) #예측값 2개\n",
    "print(result)"
   ]
  },
  {
   "cell_type": "code",
   "execution_count": null,
   "id": "9427edb2",
   "metadata": {},
   "outputs": [],
   "source": []
  }
 ],
 "metadata": {
  "kernelspec": {
   "display_name": "Python 3",
   "language": "python",
   "name": "python3"
  },
  "language_info": {
   "codemirror_mode": {
    "name": "ipython",
    "version": 3
   },
   "file_extension": ".py",
   "mimetype": "text/x-python",
   "name": "python",
   "nbconvert_exporter": "python",
   "pygments_lexer": "ipython3",
   "version": "3.7.7"
  }
 },
 "nbformat": 4,
 "nbformat_minor": 5
}
