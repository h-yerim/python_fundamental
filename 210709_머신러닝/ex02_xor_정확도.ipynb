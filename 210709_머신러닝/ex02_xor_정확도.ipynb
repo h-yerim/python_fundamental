{
 "cells": [
  {
   "cell_type": "code",
   "execution_count": 1,
   "metadata": {
    "id": "TK0VcaCSl0A5"
   },
   "outputs": [],
   "source": [
    "import pandas  as  pd\n",
    "from sklearn import svm, metrics"
   ]
  },
  {
   "cell_type": "code",
   "execution_count": 6,
   "metadata": {
    "id": "QL_ccZd7l0A6"
   },
   "outputs": [],
   "source": [
    "xor_input = [ \n",
    "    [0,0,0] ,\n",
    "    [0,1,1] ,\n",
    "    [1,0,1] ,\n",
    "    [1,1,0]  \n",
    "]\n",
    "\n",
    "xor_df = pd.DataFrame(xor_input)  \n",
    "xor_data = xor_df.loc[ : , 0:1]\n",
    "xor_label = xor_df.loc[ : , 2] "
   ]
  },
  {
   "cell_type": "code",
   "execution_count": 7,
   "metadata": {
    "id": "OrjUys0Ol0A7",
    "outputId": "9a4880bd-b637-4f9f-ad79-14674fa0fc6b"
   },
   "outputs": [
    {
     "data": {
      "text/plain": [
       "SVC()"
      ]
     },
     "execution_count": 7,
     "metadata": {},
     "output_type": "execute_result"
    }
   ],
   "source": [
    "clf =  svm.SVC()\n",
    "clf.fit(xor_data,xor_label)"
   ]
  },
  {
   "cell_type": "code",
   "execution_count": 8,
   "metadata": {
    "id": "6OwSzMZdl0A8"
   },
   "outputs": [],
   "source": [
    "pre = clf.predict(xor_data)"
   ]
  },
  {
   "cell_type": "code",
   "execution_count": 10,
   "metadata": {
    "id": "nzmCOM1nl0A9",
    "outputId": "1770d856-0a05-402f-cf5e-f970701f7535"
   },
   "outputs": [
    {
     "name": "stdout",
     "output_type": "stream",
     "text": [
      "정답률 =  1.0\n"
     ]
    }
   ],
   "source": [
    "ac_score = metrics.accuracy_score(xor_label,pre)\n",
    "print(\"정답률 = \" , ac_score)"
   ]
  },
  {
   "cell_type": "code",
   "execution_count": null,
   "metadata": {
    "id": "QAm_Vcb0l0A9"
   },
   "outputs": [],
   "source": []
  }
 ],
 "metadata": {
  "colab": {
   "collapsed_sections": [],
   "name": "ex02_xor_정확도.ipynb",
   "provenance": []
  },
  "kernelspec": {
   "display_name": "Python 3",
   "language": "python",
   "name": "python3"
  },
  "language_info": {
   "codemirror_mode": {
    "name": "ipython",
    "version": 3
   },
   "file_extension": ".py",
   "mimetype": "text/x-python",
   "name": "python",
   "nbconvert_exporter": "python",
   "pygments_lexer": "ipython3",
   "version": "3.7.7"
  }
 },
 "nbformat": 4,
 "nbformat_minor": 1
}
