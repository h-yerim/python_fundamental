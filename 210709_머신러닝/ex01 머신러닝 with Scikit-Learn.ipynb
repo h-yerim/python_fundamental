{
 "cells": [
  {
   "cell_type": "code",
   "execution_count": 2,
   "id": "93d689e1",
   "metadata": {},
   "outputs": [
    {
     "name": "stdout",
     "output_type": "stream",
     "text": [
      "Collecting sklearn\n",
      "  Using cached sklearn-0.0.tar.gz (1.1 kB)\n",
      "Requirement already satisfied: scikit-learn in c:\\users\\hrim1\\anaconda3\\lib\\site-packages (from sklearn) (0.24.2)\n",
      "Requirement already satisfied: threadpoolctl>=2.0.0 in c:\\users\\hrim1\\anaconda3\\lib\\site-packages (from scikit-learn->sklearn) (2.1.0)\n",
      "Requirement already satisfied: scipy>=0.19.1 in c:\\users\\hrim1\\anaconda3\\lib\\site-packages (from scikit-learn->sklearn) (1.6.2)\n",
      "Requirement already satisfied: joblib>=0.11 in c:\\users\\hrim1\\anaconda3\\lib\\site-packages (from scikit-learn->sklearn) (1.0.1)\n",
      "Requirement already satisfied: numpy>=1.13.3 in c:\\users\\hrim1\\anaconda3\\lib\\site-packages (from scikit-learn->sklearn) (1.20.2)\n",
      "Building wheels for collected packages: sklearn\n",
      "  Building wheel for sklearn (setup.py): started\n",
      "  Building wheel for sklearn (setup.py): finished with status 'done'\n",
      "  Created wheel for sklearn: filename=sklearn-0.0-py2.py3-none-any.whl size=1316 sha256=369d0d3ea58a0b6a061cbd58d1357b166b49f93ae8490e3ca95c010c11fe6c4c\n",
      "  Stored in directory: c:\\users\\hrim1\\appdata\\local\\pip\\cache\\wheels\\46\\ef\\c3\\157e41f5ee1372d1be90b09f74f82b10e391eaacca8f22d33e\n",
      "Successfully built sklearn\n",
      "Installing collected packages: sklearn\n",
      "Successfully installed sklearn-0.0\n",
      "Note: you may need to restart the kernel to use updated packages.\n"
     ]
    }
   ],
   "source": [
    "#pip install sklearn"
   ]
  },
  {
   "cell_type": "markdown",
   "id": "6856b007",
   "metadata": {},
   "source": [
    "#### 핵심함수\n",
    "- clf=svm.SVC() #SVC 알고리즘 \n",
    "- clf.fit(data,label) #학습\n",
    "- pre=clf.predict(data) #예측"
   ]
  },
  {
   "cell_type": "code",
   "execution_count": 1,
   "id": "8f3130fb",
   "metadata": {},
   "outputs": [
    {
     "name": "stdout",
     "output_type": "stream",
     "text": [
      "[0 1]\n"
     ]
    }
   ],
   "source": [
    "from sklearn import svm\n",
    "clf=svm.SVC()\n",
    "clf.fit([[0,0],[1,0],[0,1],[1,1]],[0,1,1,0])\n",
    "results=clf.predict([[0,0],[1,0]]) #여러개를 예측가능(=>2차원제시)\n",
    "print(results)"
   ]
  },
  {
   "cell_type": "markdown",
   "id": "8693b771",
   "metadata": {},
   "source": [
    "#### 핵심함수\n",
    "ac_score=metrics.accuracy_score(xor_label,pre) #정답을 구하는 함수"
   ]
  },
  {
   "cell_type": "code",
   "execution_count": 7,
   "id": "3c289501",
   "metadata": {},
   "outputs": [
    {
     "name": "stdout",
     "output_type": "stream",
     "text": [
      "정답률= 1.0\n"
     ]
    }
   ],
   "source": [
    "import pandas as pd \n",
    "from sklearn import svm, metrics\n",
    "\n",
    "#xor 연산\n",
    "xor_input=[[0,0,0],[0,1,1],[1,0,1],[1,1,0]] #2차원 배열\n",
    "\n",
    "#입력을 학습전용 데이터와 테스트 전용 데이터로 분류\n",
    "xor_df=pd.DataFrame(xor_input) #데이터프레임\n",
    "xor_data=xor_df.loc[:,0:1] #데이터 (0,0 / 0,1/ 1,0/ 1,1 행제한, 열제한 즉 문제가져온것)\n",
    "xor_label=xor_df.loc[:,2] #레이블 (뒤에 0,1,1,0 답만가져옴)\n",
    "\n",
    "#데이터 학습과 예측\n",
    "clf = svm.SVC()\n",
    "clf.fit(xor_data,xor_label)\n",
    "pre=clf.predict(xor_data)\n",
    "\n",
    "#정답률 구하기\n",
    "ac_score = metrics.accuracy_score(xor_label,pre)\n",
    "print(\"정답률=\",ac_score)"
   ]
  },
  {
   "cell_type": "code",
   "execution_count": null,
   "id": "ca38c37b",
   "metadata": {},
   "outputs": [],
   "source": []
  }
 ],
 "metadata": {
  "kernelspec": {
   "display_name": "Python 3",
   "language": "python",
   "name": "python3"
  },
  "language_info": {
   "codemirror_mode": {
    "name": "ipython",
    "version": 3
   },
   "file_extension": ".py",
   "mimetype": "text/x-python",
   "name": "python",
   "nbconvert_exporter": "python",
   "pygments_lexer": "ipython3",
   "version": "3.7.7"
  }
 },
 "nbformat": 4,
 "nbformat_minor": 5
}
