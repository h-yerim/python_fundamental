{
 "cells": [
  {
   "cell_type": "markdown",
   "id": "1a2bd06d",
   "metadata": {},
   "source": [
    "#### 핵심함수\n",
    "- model = LinearRegression() #학습모델 선택\n",
    "- model = model.fit(x,y) #학습\n",
    "- result = model.predict([[7]]) #예측"
   ]
  },
  {
   "cell_type": "code",
   "execution_count": 1,
   "id": "ff802995",
   "metadata": {},
   "outputs": [
    {
     "name": "stdout",
     "output_type": "stream",
     "text": [
      "[[72.01694915]]\n"
     ]
    }
   ],
   "source": [
    "from sklearn.linear_model import LinearRegression\n",
    "\n",
    "x=[[10],[5],[9],[7]] #공부시간\n",
    "y=[[100],[50],[90],[77]] #시험점수\n",
    "\n",
    "model=LinearRegression()\n",
    "\n",
    "model = model.fit(x,y)\n",
    "result = model.predict([[7]])\n",
    "print(result)"
   ]
  },
  {
   "cell_type": "code",
   "execution_count": null,
   "id": "586a5ca2",
   "metadata": {},
   "outputs": [],
   "source": []
  }
 ],
 "metadata": {
  "kernelspec": {
   "display_name": "Python 3",
   "language": "python",
   "name": "python3"
  },
  "language_info": {
   "codemirror_mode": {
    "name": "ipython",
    "version": 3
   },
   "file_extension": ".py",
   "mimetype": "text/x-python",
   "name": "python",
   "nbconvert_exporter": "python",
   "pygments_lexer": "ipython3",
   "version": "3.7.7"
  }
 },
 "nbformat": 4,
 "nbformat_minor": 5
}
